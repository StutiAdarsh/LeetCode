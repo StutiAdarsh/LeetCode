{
 "cells": [
  {
   "cell_type": "code",
   "execution_count": 1,
   "id": "c5050bbf",
   "metadata": {},
   "outputs": [],
   "source": [
    "class Solution(object):\n",
    "    def maxDepth(self, s):\n",
    "        \"\"\"\n",
    "        :type s: str\n",
    "        :rtype: int\n",
    "        \"\"\"\n",
    "        stack, maxdepth = [], 0\n",
    "        for i in s:\n",
    "            if stack and i == ')':\n",
    "                stack.pop()\n",
    "            elif i == '(':\n",
    "                stack.append(i)\n",
    "            maxdepth = max(maxdepth, len(stack))\n",
    "        return maxdepth\n",
    "    \n",
    "#Time: O(N) - to iterate over N elements in s\n",
    "#Space: O(N) - to store N elements in worts case in stack"
   ]
  },
  {
   "cell_type": "code",
   "execution_count": 2,
   "id": "0e5b2c8c",
   "metadata": {},
   "outputs": [
    {
     "name": "stdout",
     "output_type": "stream",
     "text": [
      "Max depth of nesting:  3\n"
     ]
    }
   ],
   "source": [
    "sol = Solution()\n",
    "print(\"Max depth of nesting: \", sol.maxDepth(\"(1+(2*3)+((8)/4))+1\"))"
   ]
  },
  {
   "cell_type": "code",
   "execution_count": null,
   "id": "49130db7",
   "metadata": {},
   "outputs": [],
   "source": []
  }
 ],
 "metadata": {
  "kernelspec": {
   "display_name": "Python 3",
   "language": "python",
   "name": "python3"
  },
  "language_info": {
   "codemirror_mode": {
    "name": "ipython",
    "version": 3
   },
   "file_extension": ".py",
   "mimetype": "text/x-python",
   "name": "python",
   "nbconvert_exporter": "python",
   "pygments_lexer": "ipython3",
   "version": "3.8.8"
  }
 },
 "nbformat": 4,
 "nbformat_minor": 5
}
