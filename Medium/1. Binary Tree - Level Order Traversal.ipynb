{
 "cells": [
  {
   "cell_type": "code",
   "execution_count": 1,
   "id": "3a9d2b3f",
   "metadata": {},
   "outputs": [],
   "source": [
    "class TreeNode(object):\n",
    "    def __init__(self, val=0, left=None, right=None):\n",
    "        self.val = val\n",
    "        self.left = left\n",
    "        self.right = right\n",
    "        \n",
    "class Solution(object):\n",
    "    # Iterative\n",
    "    def levelordertraversal(self, root):\n",
    "        if not root:\n",
    "            return []\n",
    "        \n",
    "        queue, next_queue, level, res = [root], [], [], []\n",
    "        \n",
    "        while queue:\n",
    "            for node in queue:\n",
    "                if node:\n",
    "                    level.append(node.val)\n",
    "                    if node.left:\n",
    "                        next_queue.append(node.left)\n",
    "                    if node.right:\n",
    "                        next_queue.append(node.right)\n",
    "            res.append(level)\n",
    "            queue = next_queue\n",
    "            next_queue = []\n",
    "            level = []\n",
    "            \n",
    "        return res\n",
    "    \n",
    "#Time Complexity: O(n) - as each node is visited once during the traversal\n",
    "#Space Complexity: O(n) - worst case the number of nodes at any level which results in N nodes"
   ]
  },
  {
   "cell_type": "code",
   "execution_count": 3,
   "id": "06a5755f",
   "metadata": {},
   "outputs": [
    {
     "name": "stdout",
     "output_type": "stream",
     "text": [
      "Iterative:  [[1], [2, 3], [4, 5, 6]]\n"
     ]
    }
   ],
   "source": [
    "# Create the binary tree\n",
    "root = TreeNode(1)\n",
    "root.left = TreeNode(2)\n",
    "root.right = TreeNode(3)\n",
    "root.left.left = TreeNode(4)\n",
    "root.left.right = TreeNode(5)\n",
    "root.right.right = TreeNode(6)\n",
    "\n",
    "# Create an instance of the Solution class\n",
    "solution = Solution()\n",
    "\n",
    "# Perform level order traversal\n",
    "result = solution.levelordertraversal(root)\n",
    "\n",
    "# Print the result\n",
    "print(\"Iterative: \", result)"
   ]
  },
  {
   "cell_type": "code",
   "execution_count": 5,
   "id": "2ff6ec83",
   "metadata": {},
   "outputs": [
    {
     "name": "stdout",
     "output_type": "stream",
     "text": [
      "Iterative #2:  [[1], [2, 3], [4, 5, 6]]\n"
     ]
    }
   ],
   "source": [
    "# Approach 2 : Using deque\n",
    "from collections import deque\n",
    "class TreeNode(object):\n",
    "    def __init__(self, val=0, left=None, right=None):\n",
    "        self.val = val\n",
    "        self.left = left\n",
    "        self.right = right\n",
    "        \n",
    "class Solution(object):\n",
    "    # Iterative\n",
    "    def levelordertraversal(self, root):\n",
    "        #edge case\n",
    "        if not root:\n",
    "            return []\n",
    "        \n",
    "        queue, level = deque([root,]), 0\n",
    "        res = []\n",
    "        while queue:\n",
    "            #current lenght of the queue for the current level\n",
    "            level_length = len(queue)\n",
    "            #assigning empty list to store nodes of current level\n",
    "            res.append([])\n",
    "            for i in range(level_length):\n",
    "                #poping out nodes in current level one by one based on the current size of the level for nodes\n",
    "                node = queue.popleft()\n",
    "                if node:\n",
    "                    #appending the node value for current level at specfic index and later incrementing index after for is done\n",
    "                    res[level].append(node.val)\n",
    "                    if node.left:\n",
    "                        queue.append(node.left)\n",
    "                    if node.right:\n",
    "                        queue.append(node.right)\n",
    "            level += 1\n",
    "        return res\n",
    "    \n",
    "#Time Complexity: O(n) - as each node is visited once during the traversal\n",
    "#Space Complexity: O(n) - worst case the number of nodes at any level which results in N nodes\n",
    "\n",
    "# Create the binary tree\n",
    "root = TreeNode(1)\n",
    "root.left = TreeNode(2)\n",
    "root.right = TreeNode(3)\n",
    "root.left.left = TreeNode(4)\n",
    "root.left.right = TreeNode(5)\n",
    "root.right.right = TreeNode(6)\n",
    "\n",
    "# Create an instance of the Solution class\n",
    "solution = Solution()\n",
    "\n",
    "# Perform level order traversal\n",
    "result = solution.levelordertraversal(root)\n",
    "\n",
    "# Print the result\n",
    "print(\"Iterative #2: \", result)"
   ]
  },
  {
   "cell_type": "code",
   "execution_count": 8,
   "id": "f7bb8ac2",
   "metadata": {},
   "outputs": [],
   "source": [
    "#Recursive\n",
    "# Definition for a binary tree node.\n",
    "class TreeNode(object):\n",
    "    def __init__(self, val=0, left=None, right=None):\n",
    "        self.val = val\n",
    "        self.left = left\n",
    "        self.right = right\n",
    "\n",
    "class Solution(object):\n",
    "    def levelOrderRecursive(self, root):\n",
    "        result = []\n",
    "        self._levelOrderRecursive(root, 0, result)\n",
    "        return result\n",
    "\n",
    "    def _levelOrderRecursive(self, node, level, result):\n",
    "        if not node:\n",
    "            return\n",
    "        \n",
    "        # If the current level list does not exist, create it\n",
    "        if len(result) <= level:\n",
    "            result.append([])\n",
    "        \n",
    "        # Append the value to the current level list\n",
    "        result[level].append(node.val)\n",
    "\n",
    "        # Recursive calls for the next level\n",
    "        self._levelOrderRecursive(node.left, level + 1, result)\n",
    "        self._levelOrderRecursive(node.right, level + 1, result)\n",
    "        \n",
    "#Time Complexity: O(n) - as each node is visited once during the traversal\n",
    "#Space Complexity: O(n) - worst case the number of nodes at any level which results in N nodes"
   ]
  },
  {
   "cell_type": "code",
   "execution_count": 10,
   "id": "0cfd5c61",
   "metadata": {},
   "outputs": [
    {
     "name": "stdout",
     "output_type": "stream",
     "text": [
      "[[1], [2, 3], [4, 5, 6]]\n"
     ]
    }
   ],
   "source": [
    "# Create the binary tree\n",
    "root = TreeNode(1)\n",
    "root.left = TreeNode(2)\n",
    "root.right = TreeNode(3)\n",
    "root.left.left = TreeNode(4)\n",
    "root.left.right = TreeNode(5)\n",
    "root.right.right = TreeNode(6)\n",
    "\n",
    "# Create an instance of the Solution class\n",
    "solution = Solution()\n",
    "\n",
    "# Perform level order traversal using the recursive method\n",
    "result_recursive = solution.levelOrderRecursive(root)\n",
    "\n",
    "# Print the result\n",
    "print(result_recursive)"
   ]
  },
  {
   "cell_type": "code",
   "execution_count": null,
   "id": "a51c2ecb",
   "metadata": {},
   "outputs": [],
   "source": []
  }
 ],
 "metadata": {
  "kernelspec": {
   "display_name": "Python 3",
   "language": "python",
   "name": "python3"
  },
  "language_info": {
   "codemirror_mode": {
    "name": "ipython",
    "version": 3
   },
   "file_extension": ".py",
   "mimetype": "text/x-python",
   "name": "python",
   "nbconvert_exporter": "python",
   "pygments_lexer": "ipython3",
   "version": "3.8.8"
  }
 },
 "nbformat": 4,
 "nbformat_minor": 5
}
