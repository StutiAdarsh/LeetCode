{
 "cells": [
  {
   "cell_type": "code",
   "execution_count": 1,
   "id": "f44e41e1",
   "metadata": {},
   "outputs": [],
   "source": [
    "class Solution(object):\n",
    "    def maxCount(self, m, n, ops):\n",
    "        \"\"\"\n",
    "        :type m: int\n",
    "        :type n: int\n",
    "        :type ops: List[List[int]]\n",
    "        :rtype: int\n",
    "        \"\"\"\n",
    "        for i, j in ops:\n",
    "            m = min(m, i)\n",
    "            n = min(n, j)\n",
    "        return m * n\n",
    "    \n",
    "#TIME: O(X) - time for performing X operations\n",
    "#SPACE: O(1) - constant space"
   ]
  },
  {
   "cell_type": "code",
   "execution_count": 2,
   "id": "438c238a",
   "metadata": {},
   "outputs": [
    {
     "name": "stdout",
     "output_type": "stream",
     "text": [
      "4\n"
     ]
    }
   ],
   "source": [
    "# Example usage:\n",
    "sol = Solution()\n",
    "m = 3\n",
    "n = 3\n",
    "ops = [[2,2],[3,3]]\n",
    "print(sol.maxCount(m, n, ops))  # Output: 4"
   ]
  },
  {
   "cell_type": "code",
   "execution_count": null,
   "id": "b1532d68",
   "metadata": {},
   "outputs": [],
   "source": []
  }
 ],
 "metadata": {
  "kernelspec": {
   "display_name": "Python 3",
   "language": "python",
   "name": "python3"
  },
  "language_info": {
   "codemirror_mode": {
    "name": "ipython",
    "version": 3
   },
   "file_extension": ".py",
   "mimetype": "text/x-python",
   "name": "python",
   "nbconvert_exporter": "python",
   "pygments_lexer": "ipython3",
   "version": "3.8.8"
  }
 },
 "nbformat": 4,
 "nbformat_minor": 5
}
