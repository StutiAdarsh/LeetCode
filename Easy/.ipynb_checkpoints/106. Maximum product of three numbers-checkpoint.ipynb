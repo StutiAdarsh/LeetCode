{
 "cells": [
  {
   "cell_type": "code",
   "execution_count": 1,
   "id": "24a0626e",
   "metadata": {},
   "outputs": [],
   "source": [
    "class Solution(object):\n",
    "    def maximumProduct(self, nums):\n",
    "        \"\"\"\n",
    "        :type nums: List[int]\n",
    "        :rtype: int\n",
    "        \"\"\"\n",
    "        nums.sort()\n",
    "        return max(nums[-1]*nums[-2]*nums[-3], nums[0]*nums[1]*nums[-1])\n",
    "    \n",
    "#Time: O(NlogN) - time to sort N array nums\n",
    "#Space: O(N) - space to store the N sorted elements of nums"
   ]
  },
  {
   "cell_type": "code",
   "execution_count": 3,
   "id": "536960d2",
   "metadata": {},
   "outputs": [
    {
     "name": "stdout",
     "output_type": "stream",
     "text": [
      "Maximum product of 3 numbers:  24\n",
      "Maximum product of 3 numbers:  -6\n"
     ]
    }
   ],
   "source": [
    "sol = Solution()\n",
    "print(\"Maximum product of 3 numbers: \", sol.maximumProduct([1,2,3, 4]))\n",
    "print(\"Maximum product of 3 numbers: \", sol.maximumProduct([-1,-2,-3]))"
   ]
  },
  {
   "cell_type": "code",
   "execution_count": null,
   "id": "4d3ba548",
   "metadata": {},
   "outputs": [],
   "source": []
  }
 ],
 "metadata": {
  "kernelspec": {
   "display_name": "Python 3",
   "language": "python",
   "name": "python3"
  },
  "language_info": {
   "codemirror_mode": {
    "name": "ipython",
    "version": 3
   },
   "file_extension": ".py",
   "mimetype": "text/x-python",
   "name": "python",
   "nbconvert_exporter": "python",
   "pygments_lexer": "ipython3",
   "version": "3.8.8"
  }
 },
 "nbformat": 4,
 "nbformat_minor": 5
}
