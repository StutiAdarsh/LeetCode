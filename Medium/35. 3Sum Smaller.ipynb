{
 "cells": [
  {
   "cell_type": "code",
   "execution_count": 2,
   "id": "0b96dd76-c879-4886-9994-ba33b194fb76",
   "metadata": {},
   "outputs": [],
   "source": [
    "class Solution(object):\n",
    "    def threeSumSmaller(self, nums, target):\n",
    "        \"\"\"\n",
    "        :type nums: List[int]\n",
    "        :type target: int\n",
    "        :rtype: int\n",
    "        \"\"\"\n",
    "        res = 0\n",
    "        nums.sort()\n",
    "\n",
    "        for i in range(len(nums)-2):\n",
    "            j, k = i + 1, len(nums)-1\n",
    "            while j < k:\n",
    "                threeSum = nums[i] + nums[k] + nums[j]\n",
    "                if threeSum < target:\n",
    "                    res += (k-j)\n",
    "                    j += 1\n",
    "                else:\n",
    "                    k -= 1\n",
    "        return res\n",
    "\n",
    "#Time: O(n^2) - for nested iteration\n",
    "#Space: O(n) : store sorted array elements"
   ]
  },
  {
   "cell_type": "code",
   "execution_count": 8,
   "id": "ec680aec-3fcd-4514-9f4e-45c45aeca253",
   "metadata": {},
   "outputs": [
    {
     "name": "stdout",
     "output_type": "stream",
     "text": [
      "3 Sum smaller:  2\n"
     ]
    },
    {
     "data": {
      "text/plain": [
       "'\\nExplanation: Because there are two triplets which sums are less than 2:\\n[-2,0,1]\\n[-2,0,3]\\n'"
      ]
     },
     "execution_count": 8,
     "metadata": {},
     "output_type": "execute_result"
    }
   ],
   "source": [
    "ob = Solution()\n",
    "print(\"3 Sum smaller: \", ob.threeSumSmaller(nums = [-2,0,1,3], target = 2))\n",
    "\n",
    "\n",
    "'''\n",
    "Explanation: Because there are two triplets which sums are less than 2:\n",
    "[-2,0,1]\n",
    "[-2,0,3]\n",
    "'''"
   ]
  },
  {
   "cell_type": "code",
   "execution_count": null,
   "id": "1dfe51c9-5834-4cc8-bb10-006bdc12fbc8",
   "metadata": {},
   "outputs": [],
   "source": []
  }
 ],
 "metadata": {
  "kernelspec": {
   "display_name": "Python 3 (ipykernel)",
   "language": "python",
   "name": "python3"
  },
  "language_info": {
   "codemirror_mode": {
    "name": "ipython",
    "version": 3
   },
   "file_extension": ".py",
   "mimetype": "text/x-python",
   "name": "python",
   "nbconvert_exporter": "python",
   "pygments_lexer": "ipython3",
   "version": "3.12.4"
  }
 },
 "nbformat": 4,
 "nbformat_minor": 5
}
