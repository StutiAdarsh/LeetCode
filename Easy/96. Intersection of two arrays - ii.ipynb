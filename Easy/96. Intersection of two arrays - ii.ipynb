{
 "cells": [
  {
   "cell_type": "code",
   "execution_count": 3,
   "id": "f884dac2",
   "metadata": {},
   "outputs": [],
   "source": [
    "class Solution(object):\n",
    "    def intersect(self, nums1, nums2):\n",
    "        \"\"\"\n",
    "        :type nums1: List[int]\n",
    "        :type nums2: List[int]\n",
    "        :rtype: List[int]\n",
    "        \"\"\"       \n",
    "        nums1.sort()\n",
    "        nums2.sort()\n",
    "        \n",
    "        i = j = 0\n",
    "        ans = []\n",
    "        while i < len(nums1) and j < len(nums2):\n",
    "            if nums1[i] < nums2[j]:\n",
    "                i += 1\n",
    "            elif nums1[i] > nums2[j]:\n",
    "                j += 1\n",
    "            else:\n",
    "                ans.append(nums1[i])\n",
    "                i += 1\n",
    "                j += 1\n",
    "        return ans\n",
    "    \n",
    "#Time Complexity: O(nlog⁡n+mlog⁡m) where n and m are the lengths of the arrays. \n",
    "#We sort two arrays independently, and then do a linear scan.\n",
    "\n",
    "#Space Complexity: from O(log⁡n+log⁡m) \n",
    "#depending on the implementation of the sorting algorithm. \n",
    "#For the complexity analysis purposes, we ignore the memory required by inputs and outputs."
   ]
  },
  {
   "cell_type": "code",
   "execution_count": 4,
   "id": "a1af8424",
   "metadata": {},
   "outputs": [
    {
     "name": "stdout",
     "output_type": "stream",
     "text": [
      "[2, 2]\n"
     ]
    }
   ],
   "source": [
    "# Example usage:\n",
    "sol = Solution()\n",
    "nums1 = [1, 2, 2, 1]\n",
    "nums2 = [2, 2]\n",
    "print(sol.intersect(nums1, nums2))  # Output: [2, 2]"
   ]
  },
  {
   "cell_type": "code",
   "execution_count": null,
   "id": "8bacbe4f",
   "metadata": {},
   "outputs": [],
   "source": []
  }
 ],
 "metadata": {
  "kernelspec": {
   "display_name": "Python 3",
   "language": "python",
   "name": "python3"
  },
  "language_info": {
   "codemirror_mode": {
    "name": "ipython",
    "version": 3
   },
   "file_extension": ".py",
   "mimetype": "text/x-python",
   "name": "python",
   "nbconvert_exporter": "python",
   "pygments_lexer": "ipython3",
   "version": "3.8.8"
  }
 },
 "nbformat": 4,
 "nbformat_minor": 5
}
