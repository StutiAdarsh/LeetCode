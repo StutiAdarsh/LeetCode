{
 "cells": [
  {
   "cell_type": "code",
   "execution_count": 2,
   "id": "5d9a3c05",
   "metadata": {},
   "outputs": [],
   "source": [
    "class Solution(object):\n",
    "    def thirdMaximum(self, nums):\n",
    "        nums = sorted(list(set(nums)))\n",
    "        if len(nums) > 2:\n",
    "            return nums[-3]\n",
    "        return nums[-1]\n",
    "    \n",
    "#Time Complexity: O(n * log(n))\n",
    "# -> creating set takes O(N) time and creating list takes O(n) time where N is length of nums\n",
    "#therefore its dominated by the sorting time and hence result is O(n log n)\n",
    "#Space Complexity: O(n)\n",
    "#-> creating set and list takes additional O(n) space."
   ]
  },
  {
   "cell_type": "code",
   "execution_count": 3,
   "id": "484f2c34",
   "metadata": {},
   "outputs": [
    {
     "name": "stdout",
     "output_type": "stream",
     "text": [
      "Case 1:  1\n",
      "Case 2:  2\n",
      "Case 3:  1\n"
     ]
    }
   ],
   "source": [
    "ob = Solution()\n",
    "\n",
    "print(\"Case 1: \", ob.thirdMaximum([3,2,1]))\n",
    "print(\"Case 2: \", ob.thirdMaximum([1,2]))\n",
    "print(\"Case 3: \", ob.thirdMaximum([2,2,3,1]))"
   ]
  },
  {
   "cell_type": "code",
   "execution_count": null,
   "id": "172863c4",
   "metadata": {},
   "outputs": [],
   "source": []
  }
 ],
 "metadata": {
  "kernelspec": {
   "display_name": "Python 3",
   "language": "python",
   "name": "python3"
  },
  "language_info": {
   "codemirror_mode": {
    "name": "ipython",
    "version": 3
   },
   "file_extension": ".py",
   "mimetype": "text/x-python",
   "name": "python",
   "nbconvert_exporter": "python",
   "pygments_lexer": "ipython3",
   "version": "3.8.8"
  }
 },
 "nbformat": 4,
 "nbformat_minor": 5
}
