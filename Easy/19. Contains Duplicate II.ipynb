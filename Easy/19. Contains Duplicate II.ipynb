{
 "cells": [
  {
   "cell_type": "code",
   "execution_count": 1,
   "id": "a68e86ee",
   "metadata": {},
   "outputs": [
    {
     "name": "stdout",
     "output_type": "stream",
     "text": [
      "Case 1:  True\n",
      "Case 2:  False\n"
     ]
    }
   ],
   "source": [
    "class Solution(object):\n",
    "    def containsNearbyDuplicate(self, nums, k):\n",
    "        \"\"\"\n",
    "        :type nums: List[int]\n",
    "        :type k: int\n",
    "        :rtype: bool\n",
    "        \"\"\"\n",
    "\n",
    "        dic = {}\n",
    "        for id, val in enumerate(nums):\n",
    "            if val in dic and abs(dic[val]-id) <= k:\n",
    "                return True\n",
    "            dic[val] = id\n",
    "        return False\n",
    "    \n",
    "print(\"Case 1: \", Solution().containsNearbyDuplicate(nums = [1,2,3,1], k = 3))\n",
    "print(\"Case 2: \", Solution().containsNearbyDuplicate(nums = [1,2,3,1,2,3], k = 2))\n",
    "\n",
    "#Time: O(n), for iteratinf over n elements\n",
    "#Space: O(n), storing all n elements in dictionary in worst case"
   ]
  },
  {
   "cell_type": "code",
   "execution_count": null,
   "id": "8a53843b",
   "metadata": {},
   "outputs": [],
   "source": []
  }
 ],
 "metadata": {
  "kernelspec": {
   "display_name": "Python 3",
   "language": "python",
   "name": "python3"
  },
  "language_info": {
   "codemirror_mode": {
    "name": "ipython",
    "version": 3
   },
   "file_extension": ".py",
   "mimetype": "text/x-python",
   "name": "python",
   "nbconvert_exporter": "python",
   "pygments_lexer": "ipython3",
   "version": "3.8.8"
  }
 },
 "nbformat": 4,
 "nbformat_minor": 5
}
