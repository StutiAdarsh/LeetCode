{
 "cells": [
  {
   "cell_type": "code",
   "execution_count": 1,
   "id": "c12cdae8",
   "metadata": {},
   "outputs": [],
   "source": [
    "class Solution(object):\n",
    "    def countStudents(self, students, sandwiches):\n",
    "        \"\"\"\n",
    "        :type students: List[int]\n",
    "        :type sandwiches: List[int]\n",
    "        :rtype: int\n",
    "        \"\"\"\n",
    "        circle, square = 0, 0\n",
    "        for student in students:\n",
    "            if student == 0:\n",
    "                circle += 1\n",
    "            else:\n",
    "                square +=  1\n",
    "\n",
    "        for sandwich in sandwiches:\n",
    "            if circle == 0 and sandwich == 0:\n",
    "                return square\n",
    "            \n",
    "            if sandwich == 1 and square == 0:\n",
    "                return circle\n",
    "\n",
    "            if sandwich == 0:\n",
    "                circle -= 1\n",
    "\n",
    "            else:\n",
    "                square -= 1\n",
    "        return 0\n",
    "\n",
    "#Time: O(N+M) - iterate over N lenght student array and M length sandwish array\n",
    "#Space: O(1) - no extra space used"
   ]
  },
  {
   "cell_type": "code",
   "execution_count": 2,
   "id": "a4a089ec",
   "metadata": {},
   "outputs": [
    {
     "name": "stdout",
     "output_type": "stream",
     "text": [
      "Number of students unable to eat lunch:  0\n"
     ]
    }
   ],
   "source": [
    "sol = Solution()\n",
    "print(\"Number of students unable to eat lunch: \", sol.countStudents(students = [1,1,0,0], sandwiches = [0,1,0,1]))"
   ]
  },
  {
   "cell_type": "code",
   "execution_count": null,
   "id": "cafcb9dd",
   "metadata": {},
   "outputs": [],
   "source": []
  }
 ],
 "metadata": {
  "kernelspec": {
   "display_name": "Python 3",
   "language": "python",
   "name": "python3"
  },
  "language_info": {
   "codemirror_mode": {
    "name": "ipython",
    "version": 3
   },
   "file_extension": ".py",
   "mimetype": "text/x-python",
   "name": "python",
   "nbconvert_exporter": "python",
   "pygments_lexer": "ipython3",
   "version": "3.8.8"
  }
 },
 "nbformat": 4,
 "nbformat_minor": 5
}
