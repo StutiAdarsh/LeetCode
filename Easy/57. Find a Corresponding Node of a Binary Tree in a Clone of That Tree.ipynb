{
 "cells": [
  {
   "cell_type": "code",
   "execution_count": 1,
   "id": "f150c9de",
   "metadata": {},
   "outputs": [],
   "source": [
    "# Definition for a binary tree node.\n",
    "class TreeNode(object):\n",
    "    def __init__(self, x):\n",
    "        self.val = x\n",
    "        self.left = None\n",
    "        self.right = None\n",
    "\n",
    "class Solution(object):\n",
    "    def getTargetCopy(self, original, cloned, target):\n",
    "        \"\"\"\n",
    "        :type original: TreeNode\n",
    "        :type cloned: TreeNode\n",
    "        :type target: TreeNode\n",
    "        :rtype: TreeNode\n",
    "        \"\"\"\n",
    "        if not original:\n",
    "            return\n",
    "\n",
    "        if target is original:\n",
    "            return cloned\n",
    "\n",
    "        return self.getTargetCopy(original.left, cloned.left, target) or self.getTargetCopy(original.right, cloned.right, target)\n",
    "    \n",
    "#Time: O(N) - worst case traverse each node to find target top down DFS traversal\n",
    "#Space: O(N) - worst case store all N nodes of tree which is height of tree in recursive stack"
   ]
  },
  {
   "cell_type": "code",
   "execution_count": 4,
   "id": "cca60760",
   "metadata": {},
   "outputs": [
    {
     "name": "stdout",
     "output_type": "stream",
     "text": [
      "Node from cloned tree corresponding to the target node: <__main__.TreeNode object at 0x000002F2BACBB100>\n"
     ]
    }
   ],
   "source": [
    "# Create a binary tree\n",
    "original = TreeNode(1)\n",
    "original.left = TreeNode(2)\n",
    "original.right = TreeNode(3)\n",
    "original.left.left = TreeNode(4)\n",
    "original.left.right = TreeNode(5)\n",
    "original.right.left = TreeNode(6)\n",
    "original.right.right = TreeNode(7)\n",
    "\n",
    "# Create a cloned binary tree\n",
    "cloned = TreeNode(1)\n",
    "cloned.left = TreeNode(2)\n",
    "cloned.right = TreeNode(3)\n",
    "cloned.left.left = TreeNode(4)\n",
    "cloned.left.right = TreeNode(5)\n",
    "cloned.right.left = TreeNode(6)\n",
    "cloned.right.right = TreeNode(7)\n",
    "\n",
    "# Set the target node\n",
    "target = original.left.right\n",
    "\n",
    "# Create an instance of the Solution class\n",
    "sol = Solution()\n",
    "\n",
    "# Call the getTargetCopy method and print the output\n",
    "output = sol.getTargetCopy(original, cloned, target)\n",
    "print(\"Node from cloned tree corresponding to the target node:\", output)"
   ]
  },
  {
   "cell_type": "code",
   "execution_count": null,
   "id": "0ad155ef",
   "metadata": {},
   "outputs": [],
   "source": []
  }
 ],
 "metadata": {
  "kernelspec": {
   "display_name": "Python 3",
   "language": "python",
   "name": "python3"
  },
  "language_info": {
   "codemirror_mode": {
    "name": "ipython",
    "version": 3
   },
   "file_extension": ".py",
   "mimetype": "text/x-python",
   "name": "python",
   "nbconvert_exporter": "python",
   "pygments_lexer": "ipython3",
   "version": "3.8.8"
  }
 },
 "nbformat": 4,
 "nbformat_minor": 5
}
