{
 "cells": [
  {
   "cell_type": "code",
   "execution_count": 1,
   "id": "58195645",
   "metadata": {},
   "outputs": [],
   "source": [
    "# Definition for a binary tree node.\n",
    "class TreeNode(object):\n",
    "    def __init__(self, x):\n",
    "        self.val = x\n",
    "        self.left = None\n",
    "        self.right = None\n",
    "\n",
    "class Solution(object):\n",
    "    def lowestCommonAncestor(self, root, p, q):\n",
    "        \"\"\"\n",
    "        :type root: TreeNode\n",
    "        :type p: TreeNode\n",
    "        :type q: TreeNode\n",
    "        :rtype: TreeNode\n",
    "        \"\"\"\n",
    "        if p.val > root.val and q.val > root.val:\n",
    "            return self.lowestCommonAncestor(root.right, p, q)\n",
    "        elif p.val < root.val and q.val < root.val:\n",
    "            return self.lowestCommonAncestor(root.left, p, q)\n",
    "        else:\n",
    "            return root\n",
    "        \n",
    "#Time: O(N), to traverse each node of tree once in worst case\n",
    "#Space: O(N), for recursive stack to store all N nodes in traversal"
   ]
  },
  {
   "cell_type": "code",
   "execution_count": 2,
   "id": "a3ea5b39",
   "metadata": {},
   "outputs": [
    {
     "name": "stdout",
     "output_type": "stream",
     "text": [
      "Lowest Common Ancestor of 2 and 8 : 6\n"
     ]
    }
   ],
   "source": [
    "\n",
    "# Define the binary search tree\n",
    "# Assuming a balanced BST for simplicity\n",
    "root = TreeNode(6)\n",
    "root.left = TreeNode(2)\n",
    "root.right = TreeNode(8)\n",
    "root.left.left = TreeNode(0)\n",
    "root.left.right = TreeNode(4)\n",
    "root.right.left = TreeNode(7)\n",
    "root.right.right = TreeNode(9)\n",
    "root.left.right.left = TreeNode(3)\n",
    "root.left.right.right = TreeNode(5)\n",
    "\n",
    "# Define the nodes p and q\n",
    "p = root.left\n",
    "q = root.right\n",
    "\n",
    "# Create an instance of the Solution class\n",
    "sol = Solution()\n",
    "\n",
    "# Call the lowestCommonAncestor method\n",
    "ancestor = sol.lowestCommonAncestor(root, p, q)\n",
    "\n",
    "# Print and check the result\n",
    "print(\"Lowest Common Ancestor of\", p.val, \"and\", q.val, \":\", ancestor.val)"
   ]
  },
  {
   "cell_type": "code",
   "execution_count": null,
   "id": "1e11e9ea",
   "metadata": {},
   "outputs": [],
   "source": []
  }
 ],
 "metadata": {
  "kernelspec": {
   "display_name": "Python 3",
   "language": "python",
   "name": "python3"
  },
  "language_info": {
   "codemirror_mode": {
    "name": "ipython",
    "version": 3
   },
   "file_extension": ".py",
   "mimetype": "text/x-python",
   "name": "python",
   "nbconvert_exporter": "python",
   "pygments_lexer": "ipython3",
   "version": "3.8.8"
  }
 },
 "nbformat": 4,
 "nbformat_minor": 5
}
