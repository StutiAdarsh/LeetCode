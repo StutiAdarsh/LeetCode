{
 "cells": [
  {
   "cell_type": "code",
   "execution_count": 3,
   "id": "f22c4afd",
   "metadata": {},
   "outputs": [],
   "source": [
    "class Solution(object):\n",
    "    def wordPattern(self, pattern, s):\n",
    "        if len(pattern) != len(s.split()):\n",
    "            return False\n",
    "\n",
    "        pattern_to_word = {}\n",
    "        used_words = set()\n",
    "\n",
    "        words = s.split()\n",
    "        for char, word in zip(pattern, words):\n",
    "            if char in pattern_to_word:\n",
    "                if pattern_to_word[char] != word:\n",
    "                    return False\n",
    "            else:\n",
    "                if word in used_words:\n",
    "                    return False\n",
    "                pattern_to_word[char] = word\n",
    "                used_words.add(word)\n",
    "\n",
    "        return True\n",
    "    \n",
    "#Time: O(N + M) - where n is the length of the input string s and m for pattern\n",
    "#Space: O(W) - to store unique mappings in dictionary"
   ]
  },
  {
   "cell_type": "code",
   "execution_count": 4,
   "id": "7d1b1e69",
   "metadata": {},
   "outputs": [
    {
     "name": "stdout",
     "output_type": "stream",
     "text": [
      "True\n",
      "False\n"
     ]
    }
   ],
   "source": [
    "# Create an instance of the Solution class\n",
    "sol = Solution()\n",
    "\n",
    "# Example usage\n",
    "pattern = \"abba\"\n",
    "s = \"dog cat cat dog\"\n",
    "result = sol.wordPattern(pattern, s)\n",
    "print(result)  # This should print True\n",
    "\n",
    "pattern = \"abba\"\n",
    "s = \"dog cat cat fish\"\n",
    "result = sol.wordPattern(pattern, s)\n",
    "print(result)  # This should print False\n"
   ]
  },
  {
   "cell_type": "code",
   "execution_count": null,
   "id": "5626200a",
   "metadata": {},
   "outputs": [],
   "source": []
  }
 ],
 "metadata": {
  "kernelspec": {
   "display_name": "Python 3",
   "language": "python",
   "name": "python3"
  },
  "language_info": {
   "codemirror_mode": {
    "name": "ipython",
    "version": 3
   },
   "file_extension": ".py",
   "mimetype": "text/x-python",
   "name": "python",
   "nbconvert_exporter": "python",
   "pygments_lexer": "ipython3",
   "version": "3.8.8"
  }
 },
 "nbformat": 4,
 "nbformat_minor": 5
}
