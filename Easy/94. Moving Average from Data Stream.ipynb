{
 "cells": [
  {
   "cell_type": "code",
   "execution_count": 1,
   "id": "e592fb23",
   "metadata": {},
   "outputs": [
    {
     "name": "stdout",
     "output_type": "stream",
     "text": [
      "1.0\n",
      "5.5\n",
      "4.666666666666667\n",
      "6.0\n"
     ]
    }
   ],
   "source": [
    "class MovingAverage(object):\n",
    "    def __init__(self, size):\n",
    "        self.queue = deque(maxlen = size)\n",
    "    \n",
    "    def next(self, val):\n",
    "        self.queue.append(val)\n",
    "        return float(sum(self.queue))/len(self.queue)\n",
    "\n",
    "# Your MovingAverage object will be instantiated and called as such:\n",
    "# obj = MovingAverage(size)\n",
    "# param_1 = obj.next(val)\n",
    "\n",
    "\n",
    "\n",
    "#Time: O(1) - the constant time complexity O(1) to add or remove an element from both its ends\n",
    "#Space: O(N) - where N is the size of the moving window.\n",
    "\n",
    "# Example usage:\n",
    "from collections import deque\n",
    "\n",
    "# Create a MovingAverage object with a window size of 3\n",
    "obj = MovingAverage(3)\n",
    "\n",
    "# Call the next method with some values\n",
    "print(obj.next(1))  # Output: 1.0\n",
    "print(obj.next(10)) # Output: 5.5 (average of 1 and 10)\n",
    "print(obj.next(3))  # Output: 4.666666666666667 (average of 1, 10, and 3)\n",
    "print(obj.next(5))  # Output: 6.0 (average of 10, 3, and 5)"
   ]
  },
  {
   "cell_type": "code",
   "execution_count": null,
   "id": "d258dcbd",
   "metadata": {},
   "outputs": [],
   "source": []
  }
 ],
 "metadata": {
  "kernelspec": {
   "display_name": "Python 3",
   "language": "python",
   "name": "python3"
  },
  "language_info": {
   "codemirror_mode": {
    "name": "ipython",
    "version": 3
   },
   "file_extension": ".py",
   "mimetype": "text/x-python",
   "name": "python",
   "nbconvert_exporter": "python",
   "pygments_lexer": "ipython3",
   "version": "3.8.8"
  }
 },
 "nbformat": 4,
 "nbformat_minor": 5
}
