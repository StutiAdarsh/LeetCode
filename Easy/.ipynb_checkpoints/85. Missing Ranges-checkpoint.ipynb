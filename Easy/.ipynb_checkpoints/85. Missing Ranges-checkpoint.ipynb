{
 "cells": [
  {
   "cell_type": "code",
   "execution_count": 1,
   "id": "68550677",
   "metadata": {},
   "outputs": [],
   "source": [
    "class Solution(object):\n",
    "    def findMissingRanges(self, nums, lower, upper):\n",
    "        \"\"\"\n",
    "        :type nums: List[int]\n",
    "        :type lower: int\n",
    "        :type upper: int\n",
    "        :rtype: List[List[int]]\n",
    "        \"\"\"\n",
    "        res = []\n",
    "        if len(nums) == 0:\n",
    "            return [[lower,upper]]\n",
    "\n",
    "        if nums[0] != lower:\n",
    "            res.append([lower,nums[0]-1])\n",
    "\n",
    "        for i in range(1, len(nums)):\n",
    "            diff = nums[i] - nums[i-1]\n",
    "            if diff >= 2:\n",
    "                res.append([nums[i-1]+1, nums[i]-1])\n",
    "\n",
    "        if nums[-1] != upper:\n",
    "            res.append([nums[-1]+1, upper])\n",
    "\n",
    "        return res\n",
    "\n",
    "#Time: O(N) - to iterate over N elements of nums list once\n",
    "#Space: O(1) because the space used does not grow with the size of the input. \n",
    "#The res list contains at most a constant number of elements (typically a few missing ranges), \n",
    "#regardless of the size of the input list."
   ]
  },
  {
   "cell_type": "code",
   "execution_count": 2,
   "id": "31ef7f57",
   "metadata": {},
   "outputs": [
    {
     "name": "stdout",
     "output_type": "stream",
     "text": [
      "[[2, 2], [4, 49], [51, 74], [76, 99]]\n"
     ]
    }
   ],
   "source": [
    "# Example usage:\n",
    "nums = [0, 1, 3, 50, 75]\n",
    "lower = 0\n",
    "upper = 99\n",
    "\n",
    "sol = Solution()\n",
    "result = sol.findMissingRanges(nums, lower, upper)\n",
    "print(result)  # Output: [[2, 2], [4, 49], [51, 74], [76, 99]]"
   ]
  },
  {
   "cell_type": "code",
   "execution_count": null,
   "id": "0e401bfa",
   "metadata": {},
   "outputs": [],
   "source": []
  }
 ],
 "metadata": {
  "kernelspec": {
   "display_name": "Python 3",
   "language": "python",
   "name": "python3"
  },
  "language_info": {
   "codemirror_mode": {
    "name": "ipython",
    "version": 3
   },
   "file_extension": ".py",
   "mimetype": "text/x-python",
   "name": "python",
   "nbconvert_exporter": "python",
   "pygments_lexer": "ipython3",
   "version": "3.8.8"
  }
 },
 "nbformat": 4,
 "nbformat_minor": 5
}
