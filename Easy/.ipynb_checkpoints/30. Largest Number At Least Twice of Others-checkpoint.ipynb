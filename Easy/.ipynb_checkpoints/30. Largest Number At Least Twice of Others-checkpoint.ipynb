{
 "cells": [
  {
   "cell_type": "code",
   "execution_count": 1,
   "id": "f0708c53",
   "metadata": {},
   "outputs": [],
   "source": [
    "class Solution(object):\n",
    "    def dominantIndex(self, nums):\n",
    "        \"\"\"\n",
    "        :type nums: List[int]\n",
    "        :rtype: int\n",
    "        \"\"\"\n",
    "        max_num = max(nums)\n",
    "        for id, val in enumerate(nums):\n",
    "            if val != max_num and max_num < 2*val:\n",
    "                return -1\n",
    "        return nums.index(max_num)\n",
    "\n",
    "#Time: O(N), where N is the length of nums\n",
    "#Space: O(1), constant space- no extra space"
   ]
  },
  {
   "cell_type": "code",
   "execution_count": 2,
   "id": "0aa64d6e",
   "metadata": {},
   "outputs": [
    {
     "name": "stdout",
     "output_type": "stream",
     "text": [
      "Case 1:  1\n",
      "Case 2:  -1\n"
     ]
    }
   ],
   "source": [
    "ob = Solution()\n",
    "\n",
    "print(\"Case 1: \", ob.dominantIndex([3,6,1,0]))\n",
    "print(\"Case 2: \", ob.dominantIndex([1,2,3,4]))"
   ]
  }
 ],
 "metadata": {
  "kernelspec": {
   "display_name": "Python 3",
   "language": "python",
   "name": "python3"
  },
  "language_info": {
   "codemirror_mode": {
    "name": "ipython",
    "version": 3
   },
   "file_extension": ".py",
   "mimetype": "text/x-python",
   "name": "python",
   "nbconvert_exporter": "python",
   "pygments_lexer": "ipython3",
   "version": "3.8.8"
  }
 },
 "nbformat": 4,
 "nbformat_minor": 5
}
