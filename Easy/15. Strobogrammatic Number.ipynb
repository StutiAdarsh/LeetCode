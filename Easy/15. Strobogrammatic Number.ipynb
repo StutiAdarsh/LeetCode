{
 "cells": [
  {
   "cell_type": "code",
   "execution_count": 2,
   "id": "dcf024cd",
   "metadata": {},
   "outputs": [
    {
     "name": "stdout",
     "output_type": "stream",
     "text": [
      "Case 1:  True\n",
      "Case 2:  True\n",
      "Case 3:  False\n"
     ]
    }
   ],
   "source": [
    "class Solution(object):\n",
    "    def isStrobogrammatic(num):\n",
    "        \"\"\"\n",
    "        :type num: str\n",
    "        :rtype: bool\n",
    "        \"\"\"\n",
    "        rotated = {\"0\":\"0\", \"1\":\"1\", \"6\":\"9\", \"9\":\"6\", \"8\":\"8\"}\n",
    "        left, right = 0, len(num)-1\n",
    "\n",
    "        while left <= right:\n",
    "            if num[left] not in rotated or rotated[num[left]] != num[right]:\n",
    "                return False\n",
    "            left += 1\n",
    "            right -= 1\n",
    "        return True\n",
    "    \n",
    "#Time: O(n), For each of the NNN digits in the string, we're doing a single lookup and comparison.\n",
    "#Space: O(1), no extra space used. Done in-place\n",
    "\n",
    "print(\"Case 1: \", Solution.isStrobogrammatic(\"69\"))\n",
    "print(\"Case 2: \", Solution.isStrobogrammatic(\"88\"))\n",
    "print(\"Case 3: \", Solution.isStrobogrammatic(\"962\"))"
   ]
  },
  {
   "cell_type": "code",
   "execution_count": null,
   "id": "8b95c3ef",
   "metadata": {},
   "outputs": [],
   "source": []
  }
 ],
 "metadata": {
  "kernelspec": {
   "display_name": "Python 3",
   "language": "python",
   "name": "python3"
  },
  "language_info": {
   "codemirror_mode": {
    "name": "ipython",
    "version": 3
   },
   "file_extension": ".py",
   "mimetype": "text/x-python",
   "name": "python",
   "nbconvert_exporter": "python",
   "pygments_lexer": "ipython3",
   "version": "3.8.8"
  }
 },
 "nbformat": 4,
 "nbformat_minor": 5
}
