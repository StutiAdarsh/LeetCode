{
 "cells": [
  {
   "cell_type": "code",
   "execution_count": 4,
   "id": "404df63a",
   "metadata": {},
   "outputs": [
    {
     "name": "stdout",
     "output_type": "stream",
     "text": [
      "True\n",
      "True\n",
      "False\n"
     ]
    }
   ],
   "source": [
    "def isPaliandrome(num):\n",
    "    if num < 0: return False\n",
    "    \n",
    "    return str(num) == str(num)[::-1]\n",
    "\n",
    "print(isPaliandrome(454))\n",
    "print(isPaliandrome(44))\n",
    "print(isPaliandrome(54))\n",
    "\n",
    "#Time: O(log(N)), where N is time taken to convert number to string using str\n",
    "#Space: O(log(N)), where N is the space required to store extra log N string numbers "
   ]
  },
  {
   "cell_type": "code",
   "execution_count": null,
   "id": "c3cd0e4c",
   "metadata": {},
   "outputs": [],
   "source": []
  }
 ],
 "metadata": {
  "kernelspec": {
   "display_name": "Python 3",
   "language": "python",
   "name": "python3"
  },
  "language_info": {
   "codemirror_mode": {
    "name": "ipython",
    "version": 3
   },
   "file_extension": ".py",
   "mimetype": "text/x-python",
   "name": "python",
   "nbconvert_exporter": "python",
   "pygments_lexer": "ipython3",
   "version": "3.8.8"
  }
 },
 "nbformat": 4,
 "nbformat_minor": 5
}
