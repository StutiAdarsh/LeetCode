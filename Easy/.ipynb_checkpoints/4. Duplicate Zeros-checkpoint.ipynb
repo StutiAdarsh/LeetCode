{
 "cells": [
  {
   "cell_type": "code",
   "execution_count": 9,
   "id": "a55ae7b6",
   "metadata": {},
   "outputs": [
    {
     "name": "stdout",
     "output_type": "stream",
     "text": [
      "Case 1: [1, 0, 0, 2, 3, 0, 0, 4]\n",
      "Case 1: [1, 2, 3]\n"
     ]
    },
    {
     "data": {
      "text/plain": [
       "\"\\nHere are some more verbose thoughts, since you are so inquisitive :)\\n\\nThis algorithm goes backwards and applies correct shifting distance to every element.\\n\\n1. Why backwards?\\nIf we would start shifting from left to right, \\nthen we would be overwriting elements before we have had the chance to shift them,\\nthat is why we go backwards instead.\\nWe make sure we have shifted out an element before we shift another one into its original position.\\n\\n2. What is the correct shift distance?\\nThe duplication of a zero pushes all elements to the right of it by one.\\nThis means also that every element is shifted to the right as many times as there are zeroes to the left of it.\\nE.g. in the array [1,0,2,0,3] , 1 will not move, 2 will shift one position and 3 will shift two positions.\\nAs we go backwards, every time we bypass a zero (and duplicate it), \\nthe shift distance decreases for the elements we haven't shifted yet, \\nbecause there is one less zero in front of them.\\n\\n3. Why the < n checks?\\nShifts push some of the elements out of the array. \\nWe do the < n checks to make sure we write down only elements that are shifted \\nto a valid position inside the array and we ignore the ones falling off the end.\\n\""
      ]
     },
     "execution_count": 9,
     "metadata": {},
     "output_type": "execute_result"
    }
   ],
   "source": [
    "class Solution(object):\n",
    "    def duplicateZeros(self, arr):\n",
    "        \"\"\"\n",
    "        :type arr: List[int]\n",
    "        :rtype: None Do not return anything, modify arr in-place instead.\n",
    "        \"\"\"\n",
    "        \n",
    "        zeroCount, lenght = arr.count(0), len(arr)\n",
    "        for i in range(lenght-1, -1, -1):\n",
    "            if i + zeroCount < lenght:\n",
    "                arr[i + zeroCount] = arr[i]\n",
    "            if arr[i] == 0:\n",
    "                zeroCount -= 1\n",
    "                if i + zeroCount < lenght:\n",
    "                    arr[i + zeroCount] = arr[i]\n",
    "        #return arr #no return to be added as per question, to check o/p, uncomment this one. \n",
    "        #The original is done in-placce\n",
    "                \n",
    "\n",
    "#Input\n",
    "ob = Solution()\n",
    "print(\"Case 1:\" , ob.duplicateZeros([1,0,2,3,0,4,5,0]))\n",
    "print(\"Case 1:\" , ob.duplicateZeros([1,2,3]))\n",
    "\n",
    "\n",
    "#Explanation of logic:\n",
    "'''\n",
    "Here are some more verbose thoughts, since you are so inquisitive :)\n",
    "\n",
    "This algorithm goes backwards and applies correct shifting distance to every element.\n",
    "\n",
    "1. Why backwards?\n",
    "If we would start shifting from left to right, \n",
    "then we would be overwriting elements before we have had the chance to shift them,\n",
    "that is why we go backwards instead.\n",
    "We make sure we have shifted out an element before we shift another one into its original position.\n",
    "\n",
    "2. What is the correct shift distance?\n",
    "The duplication of a zero pushes all elements to the right of it by one.\n",
    "This means also that every element is shifted to the right as many times as there are zeroes to the left of it.\n",
    "E.g. in the array [1,0,2,0,3] , 1 will not move, 2 will shift one position and 3 will shift two positions.\n",
    "As we go backwards, every time we bypass a zero (and duplicate it), \n",
    "the shift distance decreases for the elements we haven't shifted yet, \n",
    "because there is one less zero in front of them.\n",
    "\n",
    "3. Why the < n checks?\n",
    "Shifts push some of the elements out of the array. \n",
    "We do the < n checks to make sure we write down only elements that are shifted \n",
    "to a valid position inside the array and we ignore the ones falling off the end.\n",
    "'''\n",
    "\n",
    "\n",
    "\n",
    "#Time Complexity: O(N), for the N element iteration and count\n",
    "#Space Complexity: O(1), no extra space being used\n"
   ]
  },
  {
   "cell_type": "code",
   "execution_count": null,
   "id": "6b7309f6",
   "metadata": {},
   "outputs": [],
   "source": []
  },
  {
   "cell_type": "markdown",
   "id": "dee5cde0",
   "metadata": {},
   "source": [
    "Solution 2"
   ]
  },
  {
   "cell_type": "code",
   "execution_count": 13,
   "id": "9657a4b3",
   "metadata": {},
   "outputs": [
    {
     "name": "stdout",
     "output_type": "stream",
     "text": [
      "Case 1: None\n",
      "Case 1: None\n"
     ]
    }
   ],
   "source": [
    "class Solution(object):\n",
    "    def duplicateZeros(self, arr):\n",
    "        \"\"\"\n",
    "        :type arr: List[int]\n",
    "        :rtype: None Do not return anything, modify arr in-place instead.\n",
    "        \"\"\"\n",
    "        i = 0\n",
    "        while i < len(arr):\n",
    "            if arr[i] == 0:\n",
    "                arr.insert(i+1, 0)\n",
    "                arr.pop()\n",
    "                i += 1\n",
    "            i += 1\n",
    "        #return arr\n",
    "        #No return to be added as per question, to check o/p, uncomment this one. \n",
    "        #The original is done in-place\n",
    "\n",
    "#Input\n",
    "ob = Solution()\n",
    "print(\"Case 1:\" , ob.duplicateZeros([1,0,2,3,0,4,5,0]))\n",
    "print(\"Case 1:\" , ob.duplicateZeros([1,2,3]))\n",
    "\n",
    "\n",
    "#Time: O(N^2)\n",
    "#Inside the loop, there is a conditional check for arr[i] == 0. \n",
    "#If this condition is true, it performs a pop and insert operation on the list. \n",
    "#Both the pop and insert operations are O(n) \n",
    "#in the worst case because they require shifting elements in the list.\n",
    "#The worst-case time complexity occurs when all elements in the list are 0, \n",
    "#and each 0 needs to be duplicated. \n",
    "#In this case, the while loop iterates through all elements, and for each 0, \n",
    "#it performs a pop and insert operation, which takes O(n) time. \n",
    "#So, the overall time complexity is O(n^2).\n",
    "\n",
    "\n",
    "#Space: O(1), no extra space used"
   ]
  },
  {
   "cell_type": "code",
   "execution_count": null,
   "id": "e796f8ed",
   "metadata": {},
   "outputs": [],
   "source": []
  }
 ],
 "metadata": {
  "kernelspec": {
   "display_name": "Python 3",
   "language": "python",
   "name": "python3"
  },
  "language_info": {
   "codemirror_mode": {
    "name": "ipython",
    "version": 3
   },
   "file_extension": ".py",
   "mimetype": "text/x-python",
   "name": "python",
   "nbconvert_exporter": "python",
   "pygments_lexer": "ipython3",
   "version": "3.8.8"
  }
 },
 "nbformat": 4,
 "nbformat_minor": 5
}
