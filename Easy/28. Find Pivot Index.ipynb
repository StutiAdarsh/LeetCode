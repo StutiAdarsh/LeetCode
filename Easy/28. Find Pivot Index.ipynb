{
 "cells": [
  {
   "cell_type": "code",
   "execution_count": 1,
   "id": "235fd3da",
   "metadata": {},
   "outputs": [],
   "source": [
    "class Solution(object):\n",
    "    def pivotIndex(self, nums):\n",
    "        S = sum(nums)\n",
    "        leftsum = 0\n",
    "        \n",
    "        for id, val in enumerate(nums):\n",
    "            if leftsum == S-val-leftsum:\n",
    "                return id\n",
    "            leftsum += val\n",
    "        return -1\n",
    "    \n",
    "#Time: O(N), where N is length of nums\n",
    "#Space: O(1), space used by leftsum and S"
   ]
  },
  {
   "cell_type": "code",
   "execution_count": 2,
   "id": "1ecbbc24",
   "metadata": {},
   "outputs": [
    {
     "name": "stdout",
     "output_type": "stream",
     "text": [
      "Case 1:  3\n",
      "Case 2:  -1\n",
      "Case 3:  0\n"
     ]
    }
   ],
   "source": [
    "ob = Solution()\n",
    "print(\"Case 1: \", ob.pivotIndex([1,7,3,6,5,6]))\n",
    "print(\"Case 2: \", ob.pivotIndex([1,2,3]))\n",
    "print(\"Case 3: \", ob.pivotIndex([2,1,-1]))"
   ]
  },
  {
   "cell_type": "code",
   "execution_count": null,
   "id": "00928e68",
   "metadata": {},
   "outputs": [],
   "source": []
  }
 ],
 "metadata": {
  "kernelspec": {
   "display_name": "Python 3",
   "language": "python",
   "name": "python3"
  },
  "language_info": {
   "codemirror_mode": {
    "name": "ipython",
    "version": 3
   },
   "file_extension": ".py",
   "mimetype": "text/x-python",
   "name": "python",
   "nbconvert_exporter": "python",
   "pygments_lexer": "ipython3",
   "version": "3.8.8"
  }
 },
 "nbformat": 4,
 "nbformat_minor": 5
}
