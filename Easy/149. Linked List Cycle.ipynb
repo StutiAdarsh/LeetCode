{
 "cells": [
  {
   "cell_type": "code",
   "execution_count": 3,
   "id": "e2a1c5f3",
   "metadata": {},
   "outputs": [],
   "source": [
    "# Definition for singly-linked list.\n",
    "class ListNode(object):\n",
    "    def __init__(self, x):\n",
    "        self.val = x\n",
    "        self.next = None\n",
    "\n",
    "class Solution(object):\n",
    "    def hasCycle(self, head):\n",
    "        \"\"\"\n",
    "        :type head: ListNode\n",
    "        :rtype: bool\n",
    "        \"\"\"\n",
    "        if head is None:\n",
    "            return False\n",
    "        \n",
    "        slow = head\n",
    "        fast = head.next\n",
    "        \n",
    "        while slow != fast:\n",
    "            if fast is None or fast.next is None:\n",
    "                return False\n",
    "            slow = slow.next\n",
    "            fast = fast.next.next\n",
    "        return True\n",
    "    \n",
    "#Time: O(N) - n as the total number of nodes in the linked list -\n",
    "#in the worst case, we need to traverse all the nodes to determine whether there is a cycle.\n",
    "#Space: O(1) - constant space"
   ]
  },
  {
   "cell_type": "code",
   "execution_count": 4,
   "id": "5610c01e",
   "metadata": {},
   "outputs": [
    {
     "name": "stdout",
     "output_type": "stream",
     "text": [
      "True\n",
      "False\n"
     ]
    }
   ],
   "source": [
    "# Creating a linked list with a cycle for testing:\n",
    "# 3 -> 2 -> 0 -> -4\n",
    "#      ^          |\n",
    "#      |          |\n",
    "#      +----------+\n",
    "\n",
    "# Nodes\n",
    "node1 = ListNode(3)\n",
    "node2 = ListNode(2)\n",
    "node3 = ListNode(0)\n",
    "node4 = ListNode(-4)\n",
    "\n",
    "# Creating the cycle\n",
    "node1.next = node2\n",
    "node2.next = node3\n",
    "node3.next = node4\n",
    "node4.next = node2  # Cycle here\n",
    "\n",
    "# Create an instance of the Solution class\n",
    "solution = Solution()\n",
    "\n",
    "# Check if the linked list has a cycle\n",
    "print(solution.hasCycle(node1))  # Output: True\n",
    "\n",
    "# Creating a linked list without a cycle for testing:\n",
    "# 1 -> 2\n",
    "# No cycle\n",
    "\n",
    "# Nodes\n",
    "node1 = ListNode(1)\n",
    "node2 = ListNode(2)\n",
    "\n",
    "# Connecting nodes\n",
    "node1.next = node2\n",
    "\n",
    "# Check if the linked list has a cycle\n",
    "print(solution.hasCycle(node1))  # Output: False"
   ]
  },
  {
   "cell_type": "code",
   "execution_count": null,
   "id": "95f3b340",
   "metadata": {},
   "outputs": [],
   "source": []
  }
 ],
 "metadata": {
  "kernelspec": {
   "display_name": "Python 3",
   "language": "python",
   "name": "python3"
  },
  "language_info": {
   "codemirror_mode": {
    "name": "ipython",
    "version": 3
   },
   "file_extension": ".py",
   "mimetype": "text/x-python",
   "name": "python",
   "nbconvert_exporter": "python",
   "pygments_lexer": "ipython3",
   "version": "3.8.8"
  }
 },
 "nbformat": 4,
 "nbformat_minor": 5
}
