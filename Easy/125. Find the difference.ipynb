{
 "cells": [
  {
   "cell_type": "code",
   "execution_count": 9,
   "id": "237e720f",
   "metadata": {},
   "outputs": [],
   "source": [
    "from collections import Counter\n",
    "class Solution(object):\n",
    "    def findTheDifference(self, s, t):\n",
    "        \"\"\"\n",
    "        :type s: str\n",
    "        :type t: str\n",
    "        :rtype: str\n",
    "        \"\"\"\n",
    "        count_s,count_t = Counter(s), Counter(t)\n",
    "        \n",
    "        for c in count_t:\n",
    "            if c not in count_s:\n",
    "                return c\n",
    "            if count_s[c] != count_t[c]:\n",
    "                return c\n",
    "\n",
    "            \n",
    "#Time: O(N) - iterate for N elements\n",
    "#Space: O(n), where n is the total number of unique characters in both strings s and t."
   ]
  },
  {
   "cell_type": "code",
   "execution_count": 8,
   "id": "7dbd9840",
   "metadata": {},
   "outputs": [
    {
     "name": "stdout",
     "output_type": "stream",
     "text": [
      "e\n",
      "a\n"
     ]
    }
   ],
   "source": [
    "# Create an instance of the Solution class\n",
    "sol = Solution()\n",
    "\n",
    "# Example usage\n",
    "s = \"abcd\"\n",
    "t = \"abcde\"\n",
    "result = sol.findTheDifference(s, t)\n",
    "print(result)  # This should print 'e'\n",
    "\n",
    "# Example usage\n",
    "s = \"a\"\n",
    "t = \"aa\"\n",
    "result = sol.findTheDifference(s, t)\n",
    "print(result)  # This should print 'e'"
   ]
  },
  {
   "cell_type": "code",
   "execution_count": null,
   "id": "7bcb8040",
   "metadata": {},
   "outputs": [],
   "source": []
  }
 ],
 "metadata": {
  "kernelspec": {
   "display_name": "Python 3",
   "language": "python",
   "name": "python3"
  },
  "language_info": {
   "codemirror_mode": {
    "name": "ipython",
    "version": 3
   },
   "file_extension": ".py",
   "mimetype": "text/x-python",
   "name": "python",
   "nbconvert_exporter": "python",
   "pygments_lexer": "ipython3",
   "version": "3.8.8"
  }
 },
 "nbformat": 4,
 "nbformat_minor": 5
}
