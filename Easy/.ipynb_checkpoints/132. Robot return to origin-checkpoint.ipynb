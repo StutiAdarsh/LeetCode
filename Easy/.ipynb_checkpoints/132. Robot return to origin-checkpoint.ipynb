{
 "cells": [
  {
   "cell_type": "code",
   "execution_count": 5,
   "id": "f7c8c1a5",
   "metadata": {},
   "outputs": [],
   "source": [
    "class Solution(object):\n",
    "    def judgeCircle(self, moves):\n",
    "        \"\"\"\n",
    "        :type moves: str\n",
    "        :rtype: bool\n",
    "        \"\"\"\n",
    "        x=y=0\n",
    "        \n",
    "        for i in moves:\n",
    "            if i == 'U': y += 1\n",
    "            elif i == 'D': y -= 1\n",
    "            elif i == 'R': x += 1\n",
    "            elif i == 'L': x -= 1\n",
    "        return x == y == 0\n",
    "    \n",
    "#Time: O(N) for n elements in moves\n",
    "#Space: O(1) constant space"
   ]
  },
  {
   "cell_type": "code",
   "execution_count": 6,
   "id": "6c7e0d95",
   "metadata": {},
   "outputs": [
    {
     "name": "stdout",
     "output_type": "stream",
     "text": [
      "True\n",
      "False\n"
     ]
    }
   ],
   "source": [
    "# Create an instance of the Solution class\n",
    "sol = Solution()\n",
    "result1 = sol.judgeCircle(\"UD\")\n",
    "result2 = sol.judgeCircle(\"LL\")\n",
    "print(result1)  # This should print True\n",
    "print(result2)  # This should print False"
   ]
  },
  {
   "cell_type": "code",
   "execution_count": null,
   "id": "c9e31239",
   "metadata": {},
   "outputs": [],
   "source": []
  }
 ],
 "metadata": {
  "kernelspec": {
   "display_name": "Python 3",
   "language": "python",
   "name": "python3"
  },
  "language_info": {
   "codemirror_mode": {
    "name": "ipython",
    "version": 3
   },
   "file_extension": ".py",
   "mimetype": "text/x-python",
   "name": "python",
   "nbconvert_exporter": "python",
   "pygments_lexer": "ipython3",
   "version": "3.8.8"
  }
 },
 "nbformat": 4,
 "nbformat_minor": 5
}
