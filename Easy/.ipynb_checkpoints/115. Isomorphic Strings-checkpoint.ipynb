{
 "cells": [
  {
   "cell_type": "code",
   "execution_count": 1,
   "id": "08541687",
   "metadata": {},
   "outputs": [],
   "source": [
    "class Solution(object):\n",
    "    def isIsomorphic(self, s, t):\n",
    "        \"\"\"\n",
    "        :type s: str\n",
    "        :type t: str\n",
    "        :rtype: bool\n",
    "        \"\"\"        \n",
    "        #one-liner\n",
    "        return len(set(s)) == len(set(t)) == len(set(zip(s,t)))\n",
    "    \n",
    "#Time: O(N) - create set and zip tuple of N elements\n",
    "#Space: O(N) - store N worst case unique elements in set and zip tuple"
   ]
  },
  {
   "cell_type": "code",
   "execution_count": 2,
   "id": "a81d8677",
   "metadata": {},
   "outputs": [
    {
     "name": "stdout",
     "output_type": "stream",
     "text": [
      "True\n",
      "False\n",
      "True\n"
     ]
    }
   ],
   "source": [
    "sol = Solution()\n",
    "s1 = \"egg\"\n",
    "t1 = \"add\"\n",
    "print(sol.isIsomorphic(s1, t1))  # Output: True\n",
    "\n",
    "s2 = \"foo\"\n",
    "t2 = \"bar\"\n",
    "print(sol.isIsomorphic(s2, t2))  # Output: False\n",
    "\n",
    "s3 = \"paper\"\n",
    "t3 = \"title\"\n",
    "print(sol.isIsomorphic(s3, t3))  # Output: True"
   ]
  },
  {
   "cell_type": "code",
   "execution_count": null,
   "id": "8d145b98",
   "metadata": {},
   "outputs": [],
   "source": []
  }
 ],
 "metadata": {
  "kernelspec": {
   "display_name": "Python 3",
   "language": "python",
   "name": "python3"
  },
  "language_info": {
   "codemirror_mode": {
    "name": "ipython",
    "version": 3
   },
   "file_extension": ".py",
   "mimetype": "text/x-python",
   "name": "python",
   "nbconvert_exporter": "python",
   "pygments_lexer": "ipython3",
   "version": "3.8.8"
  }
 },
 "nbformat": 4,
 "nbformat_minor": 5
}
