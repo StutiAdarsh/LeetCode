{
 "cells": [
  {
   "cell_type": "code",
   "execution_count": 4,
   "id": "2b25c94d",
   "metadata": {},
   "outputs": [],
   "source": [
    "class Solution(object):\n",
    "    def isSubsequence(self, s, t):\n",
    "        \"\"\"\n",
    "        :type s: str\n",
    "        :type t: str\n",
    "        :rtype: bool\n",
    "        \"\"\"\n",
    "        if len(s) > len(t):\n",
    "            return False\n",
    "        if not s:\n",
    "            return True\n",
    "\n",
    "        i = 0\n",
    "        for j in t:\n",
    "            if s[i] == j:\n",
    "                i += 1\n",
    "            \n",
    "            if i == len(s):\n",
    "                return True\n",
    "        return False\n",
    "        \n",
    "#Time - O(n), where n is the length of the string t.\n",
    "#Space - O(1) - constant space"
   ]
  },
  {
   "cell_type": "code",
   "execution_count": 5,
   "id": "e3877ae1",
   "metadata": {},
   "outputs": [
    {
     "name": "stdout",
     "output_type": "stream",
     "text": [
      "Is Subsequence?:  True\n",
      "Is Subsequence?:  False\n"
     ]
    }
   ],
   "source": [
    "sol = Solution()\n",
    "print(\"Is Subsequence?: \", sol.isSubsequence(s = \"abc\", t = \"ahbgdc\"))\n",
    "print(\"Is Subsequence?: \", sol.isSubsequence(s = \"axc\", t = \"ahbgdc\"))"
   ]
  },
  {
   "cell_type": "code",
   "execution_count": null,
   "id": "80001dc1",
   "metadata": {},
   "outputs": [],
   "source": []
  }
 ],
 "metadata": {
  "kernelspec": {
   "display_name": "Python 3",
   "language": "python",
   "name": "python3"
  },
  "language_info": {
   "codemirror_mode": {
    "name": "ipython",
    "version": 3
   },
   "file_extension": ".py",
   "mimetype": "text/x-python",
   "name": "python",
   "nbconvert_exporter": "python",
   "pygments_lexer": "ipython3",
   "version": "3.8.8"
  }
 },
 "nbformat": 4,
 "nbformat_minor": 5
}
