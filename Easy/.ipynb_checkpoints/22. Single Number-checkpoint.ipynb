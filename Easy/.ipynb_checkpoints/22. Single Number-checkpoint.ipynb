{
 "cells": [
  {
   "cell_type": "code",
   "execution_count": 2,
   "id": "2242642d",
   "metadata": {},
   "outputs": [
    {
     "name": "stdout",
     "output_type": "stream",
     "text": [
      "2\n",
      "0\n",
      "1\n",
      "Case 1:  1\n",
      "4\n",
      "5\n",
      "7\n",
      "6\n",
      "4\n",
      "Case 2:  4\n",
      "4\n",
      "5\n",
      "7\n",
      "6\n",
      "4\n",
      "0\n",
      "Case 2:  0\n"
     ]
    }
   ],
   "source": [
    "class Solution(object):\n",
    "    def singleNumber(self, nums):\n",
    "        \"\"\"\n",
    "        :type nums: List[int]\n",
    "        :rtype: int\n",
    "        \"\"\"\n",
    "        res = 0\n",
    "        for i in nums:\n",
    "            res ^= i\n",
    "            print(res)\n",
    "        return res\n",
    "    \n",
    "#XOR Opeeration implementation:\n",
    "'''\n",
    "Concept\n",
    "\n",
    "If we take XOR of zero and some bit, it will return that bit\n",
    "a⊕0=a\n",
    "\n",
    "If we take XOR of two same bits, it will return 0\n",
    "a⊕a=0\n",
    "\n",
    "a⊕b⊕a= (a⊕a)⊕b=0⊕b=b\n",
    "\n",
    "So we can XOR all bits together to find the unique number.\n",
    "'''\n",
    "\n",
    "#Time: O(N), N is number elements in the list for traversal\n",
    "#Space: O(1), constant space as no extra space used.\n",
    "\n",
    "print(\"Case 1: \", Solution().singleNumber([2,2,1]))\n",
    "print(\"Case 2: \", Solution().singleNumber([4,1,2,1,2]))\n",
    "print(\"Case 2: \", Solution().singleNumber([4,1,2,1,2,4]))"
   ]
  },
  {
   "cell_type": "code",
   "execution_count": null,
   "id": "b94af52c",
   "metadata": {},
   "outputs": [],
   "source": []
  }
 ],
 "metadata": {
  "kernelspec": {
   "display_name": "Python 3",
   "language": "python",
   "name": "python3"
  },
  "language_info": {
   "codemirror_mode": {
    "name": "ipython",
    "version": 3
   },
   "file_extension": ".py",
   "mimetype": "text/x-python",
   "name": "python",
   "nbconvert_exporter": "python",
   "pygments_lexer": "ipython3",
   "version": "3.8.8"
  }
 },
 "nbformat": 4,
 "nbformat_minor": 5
}
