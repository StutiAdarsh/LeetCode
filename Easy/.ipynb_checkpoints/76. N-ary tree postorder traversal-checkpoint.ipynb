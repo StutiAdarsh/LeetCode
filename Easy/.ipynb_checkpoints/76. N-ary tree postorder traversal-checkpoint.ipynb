{
 "cells": [
  {
   "cell_type": "code",
   "execution_count": 11,
   "id": "22c2f7d8",
   "metadata": {},
   "outputs": [],
   "source": [
    "# Definition for a Node.\n",
    "class Node(object):\n",
    "    def __init__(self, val=None, children=None):\n",
    "        self.val = val\n",
    "        self.children = children\n",
    "\n",
    "class Solution(object):\n",
    "    def postorder(self, root):\n",
    "        \"\"\"\n",
    "        :type root: Node\n",
    "        :rtype: List[int]\n",
    "        \"\"\"\n",
    "        res = []\n",
    "        self.dfs(root, res)\n",
    "        return res\n",
    "    \n",
    "    def dfs(self, root, res):\n",
    "        if not root:\n",
    "            return None\n",
    "        \n",
    "        if root.children:\n",
    "            for child in root.children:\n",
    "                self.dfs(child, res)\n",
    "        res.append(root.val)\n",
    "\n",
    "#Time: O(N) - dfs traversal to visit each node once\n",
    "#Space: O(N) - recursive call stack to store N nodes of DFS traversal worst height of tree"
   ]
  },
  {
   "cell_type": "code",
   "execution_count": 12,
   "id": "eecd0e08",
   "metadata": {},
   "outputs": [
    {
     "name": "stdout",
     "output_type": "stream",
     "text": [
      "[5, 6, 3, 2, 4, 1]\n"
     ]
    }
   ],
   "source": [
    "# Example usage:\n",
    "# Create a tree: [1, 3, 2, 4, 5, 6]\n",
    "root = Node(1, [Node(3, [Node(5), Node(6)]), Node(2), Node(4)])\n",
    "solution = Solution()\n",
    "print(solution.postorder(root))  # Output: [5, 6, 3, 2, 4, 1]"
   ]
  },
  {
   "cell_type": "code",
   "execution_count": null,
   "id": "3163fde9",
   "metadata": {},
   "outputs": [],
   "source": []
  }
 ],
 "metadata": {
  "kernelspec": {
   "display_name": "Python 3",
   "language": "python",
   "name": "python3"
  },
  "language_info": {
   "codemirror_mode": {
    "name": "ipython",
    "version": 3
   },
   "file_extension": ".py",
   "mimetype": "text/x-python",
   "name": "python",
   "nbconvert_exporter": "python",
   "pygments_lexer": "ipython3",
   "version": "3.8.8"
  }
 },
 "nbformat": 4,
 "nbformat_minor": 5
}
