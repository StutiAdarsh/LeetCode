{
 "cells": [
  {
   "cell_type": "code",
   "execution_count": 1,
   "id": "11f741a5",
   "metadata": {},
   "outputs": [],
   "source": [
    "class Solution(object):\n",
    "    def islandPerimeter(self, grid):\n",
    "        \"\"\"\n",
    "        :type grid: List[List[int]]\n",
    "        :rtype: int\n",
    "        \"\"\"\n",
    "        h, w = len(grid), len(grid[0])\n",
    "        res = 0\n",
    "        \n",
    "        for r in range(h):\n",
    "            for c in range(w):\n",
    "                if grid[r][c] == 1:\n",
    "                    res += 4\n",
    "                \n",
    "                    if r>0 and grid[r-1][c]==1:\n",
    "                        res -= 2\n",
    "                    \n",
    "                    if c>0 and grid[r][c-1]==1:\n",
    "                        res -= 2\n",
    "        return res\n",
    "                \n",
    "        \n",
    "#Time : O(mn) where m is the number of rows of the grid and n is\n",
    "#the number of columns of the grid. Since two for loops go through all\n",
    "#the cells on the grid, for a two-dimensional grid of size m×n the algorithm\n",
    "#would have to check mn cells.\n",
    "\n",
    "#Space : O(1). Only the result variable is updated and there is\n",
    "#no other space requirement."
   ]
  },
  {
   "cell_type": "code",
   "execution_count": 2,
   "id": "2f73719e",
   "metadata": {},
   "outputs": [
    {
     "name": "stdout",
     "output_type": "stream",
     "text": [
      "Island perimeter:  16\n"
     ]
    }
   ],
   "source": [
    "sol = Solution()\n",
    "print(\"Island perimeter: \",sol.islandPerimeter([[0,1,0,0],[1,1,1,0],[0,1,0,0],[1,1,0,0]]))"
   ]
  },
  {
   "cell_type": "code",
   "execution_count": 4,
   "id": "dcd9dce0",
   "metadata": {},
   "outputs": [
    {
     "name": "stdout",
     "output_type": "stream",
     "text": [
      "Island perimeter:  4\n"
     ]
    }
   ],
   "source": [
    "print(\"Island perimeter: \", sol.islandPerimeter([[1,0]]))"
   ]
  },
  {
   "cell_type": "code",
   "execution_count": null,
   "id": "2fd7aa62",
   "metadata": {},
   "outputs": [],
   "source": []
  }
 ],
 "metadata": {
  "kernelspec": {
   "display_name": "Python 3",
   "language": "python",
   "name": "python3"
  },
  "language_info": {
   "codemirror_mode": {
    "name": "ipython",
    "version": 3
   },
   "file_extension": ".py",
   "mimetype": "text/x-python",
   "name": "python",
   "nbconvert_exporter": "python",
   "pygments_lexer": "ipython3",
   "version": "3.8.8"
  }
 },
 "nbformat": 4,
 "nbformat_minor": 5
}
