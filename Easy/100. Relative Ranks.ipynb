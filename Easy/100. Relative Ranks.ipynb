{
 "cells": [
  {
   "cell_type": "code",
   "execution_count": 3,
   "id": "2d374d04",
   "metadata": {},
   "outputs": [],
   "source": [
    "class Solution(object):\n",
    "    def findRelativeRanks(self, score):\n",
    "        \"\"\"\n",
    "        :type score: List[int]\n",
    "        :rtype: List[str]\n",
    "        \"\"\"\n",
    "        rank = [\"Gold Medal\", \"Silver Medal\", \"Bronze Medal\"] + list(map(str, range(4, len(score)+1)))\n",
    "        place = sorted(score)[::-1]\n",
    "        d = dict(zip(place, rank))\n",
    "\n",
    "        return [d.get(s) for s in score]\n",
    "    \n",
    "#Time: O(NlogN) - time to sort the score lost which domainates the time O(N)to create and store dictionary output\n",
    "#Space: O(N) - space to store sorted elements and dicctionary to store final output"
   ]
  },
  {
   "cell_type": "code",
   "execution_count": 4,
   "id": "3d6d8dcf",
   "metadata": {},
   "outputs": [
    {
     "name": "stdout",
     "output_type": "stream",
     "text": [
      "Relative rank:  ['Gold Medal', 'Silver Medal', 'Bronze Medal', '4', '5']\n",
      "Relative rank:  ['Gold Medal', '5', 'Bronze Medal', 'Silver Medal', '4']\n"
     ]
    }
   ],
   "source": [
    "sol = Solution()\n",
    "print(\"Relative rank: \", sol.findRelativeRanks(score = [5,4,3,2,1]))\n",
    "print(\"Relative rank: \", sol.findRelativeRanks(score = [10,3,8,9,4]))"
   ]
  },
  {
   "cell_type": "code",
   "execution_count": null,
   "id": "f57b201a",
   "metadata": {},
   "outputs": [],
   "source": []
  }
 ],
 "metadata": {
  "kernelspec": {
   "display_name": "Python 3",
   "language": "python",
   "name": "python3"
  },
  "language_info": {
   "codemirror_mode": {
    "name": "ipython",
    "version": 3
   },
   "file_extension": ".py",
   "mimetype": "text/x-python",
   "name": "python",
   "nbconvert_exporter": "python",
   "pygments_lexer": "ipython3",
   "version": "3.8.8"
  }
 },
 "nbformat": 4,
 "nbformat_minor": 5
}
