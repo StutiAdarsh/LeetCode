{
 "cells": [
  {
   "cell_type": "code",
   "execution_count": 3,
   "id": "8ac40f62",
   "metadata": {},
   "outputs": [
    {
     "name": "stdout",
     "output_type": "stream",
     "text": [
      "Case 1:  True\n",
      "Case 2:  False\n"
     ]
    },
    {
     "data": {
      "text/plain": [
       "'\\nTime complexity : O(n) \\nbecause we simply traverse the given string one character at a time \\nand push and pop operations on a stack take O(1) time.\\n\\nSpace complexity : O(n)\\nas we push all opening brackets onto the stack and \\nin the worst case, we will end up pushing all the brackets onto the stack. e.g. ((((((((((.\\n'"
      ]
     },
     "execution_count": 3,
     "metadata": {},
     "output_type": "execute_result"
    }
   ],
   "source": [
    "class Solution(object):\n",
    "    def isValid(self, s):\n",
    "        \"\"\"\n",
    "        :type s: str\n",
    "        :rtype: bool\n",
    "        \"\"\"\n",
    "        mapping = { ')' : '(', '}' : '{', ']' : '[', }\n",
    "        stack = []\n",
    "\n",
    "        for char in s:\n",
    "            if char in mapping:\n",
    "                top = stack.pop() if stack else '#'\n",
    "                if top != mapping[char]:\n",
    "                    return False\n",
    "            else:\n",
    "                stack.append(char)\n",
    "\n",
    "        return not stack\n",
    "    \n",
    "\n",
    "print(\"Case 1: \", Solution().isValid('()'))\n",
    "print(\"Case 2: \", Solution().isValid('(]'))\n",
    "\n",
    "'''\n",
    "Time complexity : O(n) \n",
    "because we simply traverse the given string one character at a time \n",
    "and push and pop operations on a stack take O(1) time.\n",
    "\n",
    "Space complexity : O(n)\n",
    "as we push all opening brackets onto the stack and \n",
    "in the worst case, we will end up pushing all the brackets onto the stack. e.g. ((((((((((.\n",
    "'''"
   ]
  },
  {
   "cell_type": "markdown",
   "id": "12b57758",
   "metadata": {},
   "source": [
    "Algorithm\n",
    "\n",
    "Initialize a stack S.\n",
    "\n",
    "\n",
    "\n",
    "Process each bracket of the expression one at a time.\n",
    "\n",
    "\n",
    "\n",
    "If we encounter an opening bracket, we simply push it onto the stack. This means we will process it later, let us simply move onto the sub-expression ahead.\n",
    "\n",
    "\n",
    "\n",
    "If we encounter a closing bracket, then we check the element on top of the stack. If the element at the top of the stack is an opening bracket of the same type, then we pop it off the stack and continue processing. Else, this implies an invalid expression.\n",
    "\n",
    "\n",
    "\n",
    "In the end, if we are left with a stack still having elements, then this implies an invalid expression."
   ]
  },
  {
   "cell_type": "code",
   "execution_count": null,
   "id": "f3fa14cd",
   "metadata": {},
   "outputs": [],
   "source": []
  }
 ],
 "metadata": {
  "kernelspec": {
   "display_name": "Python 3 (ipykernel)",
   "language": "python",
   "name": "python3"
  },
  "language_info": {
   "codemirror_mode": {
    "name": "ipython",
    "version": 3
   },
   "file_extension": ".py",
   "mimetype": "text/x-python",
   "name": "python",
   "nbconvert_exporter": "python",
   "pygments_lexer": "ipython3",
   "version": "3.12.4"
  }
 },
 "nbformat": 4,
 "nbformat_minor": 5
}
