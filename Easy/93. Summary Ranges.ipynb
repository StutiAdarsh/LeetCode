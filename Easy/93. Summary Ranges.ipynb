{
 "cells": [
  {
   "cell_type": "code",
   "execution_count": 1,
   "id": "42a9bb61",
   "metadata": {},
   "outputs": [],
   "source": [
    "class Solution(object):\n",
    "    def summaryRanges(self, nums):\n",
    "        \"\"\"\n",
    "        :type nums: List[int]\n",
    "        :rtype: List[str]\n",
    "        \"\"\"\n",
    "        if not nums: return []\n",
    "\n",
    "        res = []\n",
    "        for num in nums:\n",
    "            if not res or num != res[-1][-1]+1:\n",
    "                if res and len(res[-1]) >= 2:\n",
    "                    res[-1] = [res[-1][0]] + [res[-1][-1]]\n",
    "                res.append([num])\n",
    "            else:\n",
    "                res[-1].append(num) \n",
    "\n",
    "        if res and len(res[-1]) >= 2:\n",
    "            res[-1] = [res[-1][0]] + [res[-1][-1]]\n",
    "            \n",
    "        return ([\"->\".join(map(str, x)) for x in res]) \n",
    "    \n",
    "#Time: O(N) - Iterating through the nums list: where n is the number of elements in nums\n",
    "#Space: O(N) - The space complexity for the res list, worst case store each unique value as its own"
   ]
  },
  {
   "cell_type": "code",
   "execution_count": 2,
   "id": "a5115b5c",
   "metadata": {},
   "outputs": [
    {
     "name": "stdout",
     "output_type": "stream",
     "text": [
      "['0->2', '4->5', '7']\n"
     ]
    }
   ],
   "source": [
    "# Example usage:\n",
    "sol = Solution()\n",
    "nums = [0, 1, 2, 4, 5, 7]\n",
    "print(sol.summaryRanges(nums))  # Output: [\"0->2\", \"4->5\", \"7\"]"
   ]
  },
  {
   "cell_type": "code",
   "execution_count": null,
   "id": "e413099b",
   "metadata": {},
   "outputs": [],
   "source": []
  }
 ],
 "metadata": {
  "kernelspec": {
   "display_name": "Python 3",
   "language": "python",
   "name": "python3"
  },
  "language_info": {
   "codemirror_mode": {
    "name": "ipython",
    "version": 3
   },
   "file_extension": ".py",
   "mimetype": "text/x-python",
   "name": "python",
   "nbconvert_exporter": "python",
   "pygments_lexer": "ipython3",
   "version": "3.8.8"
  }
 },
 "nbformat": 4,
 "nbformat_minor": 5
}
