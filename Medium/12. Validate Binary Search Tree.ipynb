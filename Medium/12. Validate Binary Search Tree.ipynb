{
 "cells": [
  {
   "cell_type": "code",
   "execution_count": 1,
   "id": "fad22a59",
   "metadata": {},
   "outputs": [],
   "source": [
    "# Definition for a binary tree node.\n",
    "class TreeNode(object):\n",
    "    def __init__(self, val=0, left=None, right=None):\n",
    "        self.val = val\n",
    "        self.left = left\n",
    "        self.right = right\n",
    "\n",
    "class Solution(object):\n",
    "    def isValidBST(self, root):\n",
    "        \"\"\"\n",
    "        :type root: TreeNode\n",
    "        :rtype: bool\n",
    "        \"\"\"\n",
    "        def dfs(root, left, right):\n",
    "            #If no root, means tree is BST\n",
    "            if not root:\n",
    "                return True\n",
    "            \n",
    "            if not (root.val > left and root.val < right):\n",
    "                return False\n",
    "            return dfs(root.left, left, root.val) and dfs(root.right, root.val, right)\n",
    "        \n",
    "        return dfs(root, float(\"-inf\"), float(\"inf\"))\n",
    "    \n",
    "#Time: O(N) - to traverse each node DFS Top Down exactly once\n",
    "#Space: O(N) - since we keep up to the entire tree."
   ]
  },
  {
   "cell_type": "code",
   "execution_count": 2,
   "id": "2440a305",
   "metadata": {},
   "outputs": [
    {
     "name": "stdout",
     "output_type": "stream",
     "text": [
      "Is the given binary tree a valid BST? True\n"
     ]
    }
   ],
   "source": [
    "# Example usage:\n",
    "# Create a binary tree\n",
    "root = TreeNode(2)\n",
    "root.left = TreeNode(1)\n",
    "root.right = TreeNode(3)\n",
    "\n",
    "# Create an instance of the Solution class\n",
    "sol = Solution()\n",
    "\n",
    "# Call the isValidBST method and print the output\n",
    "output = sol.isValidBST(root)\n",
    "print(\"Is the given binary tree a valid BST?\", output)"
   ]
  },
  {
   "cell_type": "code",
   "execution_count": null,
   "id": "b1eaca22",
   "metadata": {},
   "outputs": [],
   "source": []
  }
 ],
 "metadata": {
  "kernelspec": {
   "display_name": "Python 3 (ipykernel)",
   "language": "python",
   "name": "python3"
  },
  "language_info": {
   "codemirror_mode": {
    "name": "ipython",
    "version": 3
   },
   "file_extension": ".py",
   "mimetype": "text/x-python",
   "name": "python",
   "nbconvert_exporter": "python",
   "pygments_lexer": "ipython3",
   "version": "3.12.4"
  }
 },
 "nbformat": 4,
 "nbformat_minor": 5
}
