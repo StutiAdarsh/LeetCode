{
 "cells": [
  {
   "cell_type": "code",
   "execution_count": 1,
   "id": "ea9b5785",
   "metadata": {},
   "outputs": [
    {
     "name": "stdout",
     "output_type": "stream",
     "text": [
      "2\n"
     ]
    }
   ],
   "source": [
    "class Solution(object):\n",
    "    def removeDuplicates(self, nums):\n",
    "        \"\"\"\n",
    "        :type nums: List[int]\n",
    "        :rtype: int\n",
    "        \"\"\"\n",
    "        \n",
    "        i, arr = 0, []\n",
    "        for j in nums:\n",
    "            if j not in arr:\n",
    "                nums[i] = j\n",
    "                arr.append(j)\n",
    "                i += 1\n",
    "        return i\n",
    "    \n",
    "    \n",
    "#Time Complexity: O(n^2), where \"n\" is the number of elements in the nums list.\n",
    "'''\n",
    "Inside the loop, it checks if j is not already in the arr list \n",
    "using the condition if j not in arr. This membership test, in the worst case,\n",
    "may require scanning through the entire arr list, \n",
    "which has a time complexity of O(n), \n",
    "where \"n\" is the number of unique elements encountered so far.\n",
    "Therefore, for each element j, the worst-case time complexity for membership testing is O(n).\n",
    "Since the code performs these operations for all elements, \n",
    "the overall time complexity is O(n^2) in the worst case.\n",
    "'''\n",
    "#Space Complexity: O(n), where \"n\" is the number of elements in the nums list.  \n",
    "\n",
    "ob = Solution()\n",
    "print(ob.removeDuplicates(nums = [1,1,2]))"
   ]
  },
  {
   "cell_type": "markdown",
   "id": "b8c6be59",
   "metadata": {},
   "source": [
    "Solution 2: NO BUILT - IN"
   ]
  },
  {
   "cell_type": "code",
   "execution_count": 4,
   "id": "7b47f3d7",
   "metadata": {},
   "outputs": [
    {
     "name": "stdout",
     "output_type": "stream",
     "text": [
      "2\n"
     ]
    }
   ],
   "source": [
    "class Solution(object):\n",
    "    def removeDuplicates(self, nums):\n",
    "        \"\"\"\n",
    "        :type nums: List[int]\n",
    "        :rtype: int\n",
    "        \"\"\"\n",
    "        \n",
    "        i = 1\n",
    "        for j in range(1, len(nums)):\n",
    "            if nums[j-1] != nums[j]:\n",
    "                nums[i] = nums[j]\n",
    "                i += 1\n",
    "        return i\n",
    "\n",
    "#Time Complexity: O(n), where \"n\" is the number of elements in the nums list.\n",
    "#Space Complexity: O(1), no extra space used. Constant space  \n",
    "\n",
    "ob = Solution()\n",
    "print(ob.removeDuplicates(nums = [1,1,2]))\n"
   ]
  },
  {
   "cell_type": "code",
   "execution_count": null,
   "id": "bbf7e825",
   "metadata": {},
   "outputs": [],
   "source": []
  }
 ],
 "metadata": {
  "kernelspec": {
   "display_name": "Python 3",
   "language": "python",
   "name": "python3"
  },
  "language_info": {
   "codemirror_mode": {
    "name": "ipython",
    "version": 3
   },
   "file_extension": ".py",
   "mimetype": "text/x-python",
   "name": "python",
   "nbconvert_exporter": "python",
   "pygments_lexer": "ipython3",
   "version": "3.8.8"
  }
 },
 "nbformat": 4,
 "nbformat_minor": 5
}
