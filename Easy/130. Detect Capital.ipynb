{
 "cells": [
  {
   "cell_type": "code",
   "execution_count": 1,
   "id": "7ac20078",
   "metadata": {},
   "outputs": [],
   "source": [
    "class Solution(object):\n",
    "    def detectCapitalUse(self, word):\n",
    "        \"\"\"\n",
    "        :type word: str\n",
    "        :rtype: bool\n",
    "        \"\"\"\n",
    "        return word.isupper() or word.islower() or (word[0].isupper() and word[1:].islower())\n",
    "    \n",
    "#Time: O(N) for N length of string\n",
    "#Space: O(1) constant space"
   ]
  },
  {
   "cell_type": "code",
   "execution_count": 2,
   "id": "2fefba1a",
   "metadata": {},
   "outputs": [
    {
     "name": "stdout",
     "output_type": "stream",
     "text": [
      "Capital?:  True\n",
      "Capital?:  False\n"
     ]
    }
   ],
   "source": [
    "sol = Solution()\n",
    "print(\"Capital?: \", sol.detectCapitalUse(\"USA\"))\n",
    "print(\"Capital?: \", sol.detectCapitalUse(\"FlaG\"))"
   ]
  },
  {
   "cell_type": "code",
   "execution_count": null,
   "id": "28f14237",
   "metadata": {},
   "outputs": [],
   "source": []
  }
 ],
 "metadata": {
  "kernelspec": {
   "display_name": "Python 3",
   "language": "python",
   "name": "python3"
  },
  "language_info": {
   "codemirror_mode": {
    "name": "ipython",
    "version": 3
   },
   "file_extension": ".py",
   "mimetype": "text/x-python",
   "name": "python",
   "nbconvert_exporter": "python",
   "pygments_lexer": "ipython3",
   "version": "3.8.8"
  }
 },
 "nbformat": 4,
 "nbformat_minor": 5
}
