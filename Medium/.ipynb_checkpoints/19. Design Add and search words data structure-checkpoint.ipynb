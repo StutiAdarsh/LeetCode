{
 "cells": [
  {
   "cell_type": "code",
   "execution_count": 1,
   "id": "b0685c38",
   "metadata": {},
   "outputs": [],
   "source": [
    "class TrieNode(object):\n",
    "    def __init__(self):\n",
    "        self.children = {}\n",
    "        self.endOfWord = False\n",
    "\n",
    "class WordDictionary(object):\n",
    "    def __init__(self):\n",
    "        self.root = TrieNode()\n",
    "\n",
    "    def addWord(self, word):\n",
    "        \"\"\"\n",
    "        :type word: str\n",
    "        :rtype: None\n",
    "        \"\"\"\n",
    "        cur = self.root\n",
    "        for c in word:\n",
    "            if c not in cur.children:\n",
    "                cur.children[c] = TrieNode()\n",
    "            cur = cur.children[c]\n",
    "        cur.endOfWord = True\n",
    "\n",
    "    def search(self, word):\n",
    "        \"\"\"\n",
    "        :type word: str\n",
    "        :rtype: bool\n",
    "        \"\"\"\n",
    "        def dfs(j, root):\n",
    "            cur = root\n",
    "            for i in range(j, len(word)):\n",
    "                c = word[i]\n",
    "                if c == '.':\n",
    "                    for child in cur.children.values():\n",
    "                        if dfs(i+1, child):\n",
    "                            return True\n",
    "                    return False\n",
    "                else:\n",
    "                    if c not in cur.children:\n",
    "                        return False\n",
    "                    cur = cur.children[c]\n",
    "            return cur.endOfWord\n",
    "\n",
    "        return dfs(0, self.root)\n",
    "        \n",
    "\n",
    "\n",
    "# Your WordDictionary object will be instantiated and called as such:\n",
    "# obj = WordDictionary()\n",
    "# obj.addWord(word)\n",
    "# param_2 = obj.search(word)"
   ]
  },
  {
   "cell_type": "code",
   "execution_count": 3,
   "id": "88142d12",
   "metadata": {},
   "outputs": [
    {
     "name": "stdout",
     "output_type": "stream",
     "text": [
      "False\n",
      "True\n",
      "True\n",
      "True\n",
      "True\n",
      "False\n"
     ]
    }
   ],
   "source": [
    "# Create a WordDictionary object\n",
    "obj = WordDictionary()\n",
    "\n",
    "# Add words to the WordDictionary\n",
    "obj.addWord(\"bad\")\n",
    "obj.addWord(\"dad\")\n",
    "obj.addWord(\"mad\")\n",
    "\n",
    "#[\"bad\"],[\"dad\"],[\"mad\"],[\"pad\"],[\"bad\"],[\".ad\"],[\"b..\"]]\n",
    "# Search for words or patterns in the WordDictionary\n",
    "print(obj.search(\"pad\"))       \n",
    "print(obj.search(\"bad\"))      \n",
    "print(obj.search(\".ad\"))         \n",
    "print(obj.search(\"b..\"))        \n",
    "print(obj.search(\"b.d\"))  \n",
    "print(obj.search(\"b...d\"))  "
   ]
  },
  {
   "cell_type": "markdown",
   "id": "5ca39374",
   "metadata": {},
   "source": [
    "addWord:\n",
    "\n",
    "Time Complexity: O(N), where N is the length of the word being added. Similar to the insertion operation in a Trie, we iterate through each character of the word to add it to the Trie.\n",
    "\n",
    "\n",
    "Space Complexity: O(N), where N is the total number of characters in all the added words. Each character in each word occupies space in the Trie nodes.\n",
    "\n",
    "\n",
    "\n",
    "search:\n",
    "\n",
    "Time Complexity: O(M), where M is the number of nodes in the Trie that match the given word or pattern. In the worst case, where the word/pattern has only '.', we need to explore all possible branches in the Trie.\n",
    "\n",
    "\n",
    "Space Complexity: O(1), as it doesn't require additional space proportional to the input size. for the search of \"well-defined\" words without dots, and up to O(M) for the \"undefined\" words, to keep the recursion stack."
   ]
  },
  {
   "cell_type": "code",
   "execution_count": null,
   "id": "8e613296",
   "metadata": {},
   "outputs": [],
   "source": []
  }
 ],
 "metadata": {
  "kernelspec": {
   "display_name": "Python 3",
   "language": "python",
   "name": "python3"
  },
  "language_info": {
   "codemirror_mode": {
    "name": "ipython",
    "version": 3
   },
   "file_extension": ".py",
   "mimetype": "text/x-python",
   "name": "python",
   "nbconvert_exporter": "python",
   "pygments_lexer": "ipython3",
   "version": "3.8.8"
  }
 },
 "nbformat": 4,
 "nbformat_minor": 5
}
