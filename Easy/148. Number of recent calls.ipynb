{
 "cells": [
  {
   "cell_type": "code",
   "execution_count": 3,
   "id": "cf72127d",
   "metadata": {},
   "outputs": [],
   "source": [
    "from collections import deque\n",
    "class RecentCounter(object):\n",
    "    def __init__(self):\n",
    "        self.slide_window = deque()\n",
    "\n",
    "    def ping(self, t):\n",
    "        \"\"\"\n",
    "        :type t: int\n",
    "        :rtype: int\n",
    "        \"\"\"\n",
    "        self.slide_window.append(t)\n",
    "\n",
    "        while self.slide_window[0] < t - 3000:\n",
    "            self.slide_window.popleft()\n",
    "\n",
    "        return len(self.slide_window)\n",
    "             \n",
    "\n",
    "# Your RecentCounter object will be instantiated and called as such:\n",
    "# obj = RecentCounter()\n",
    "# param_1 = obj.ping(t)\n",
    "\n",
    "\n",
    "#Time: O(1) -  for a single invocation of ping() function, its time complexity is O(3000)=O(1).\n",
    "#If we assume that there is a ping call at each timestamp, then the cost of ping() is further amortized, \n",
    "#where at each invocation, we would only need to pop out a single element, \n",
    "#once the sliding window reaches its upper bound.\n",
    "\n",
    "#Space: O(1) - the maximal size of our sliding window is 3000, which is a constant."
   ]
  },
  {
   "cell_type": "code",
   "execution_count": 4,
   "id": "b90f557d",
   "metadata": {},
   "outputs": [
    {
     "name": "stdout",
     "output_type": "stream",
     "text": [
      "1\n",
      "2\n",
      "3\n",
      "3\n"
     ]
    }
   ],
   "source": [
    "# Create an instance of the RecentCounter class\n",
    "obj = RecentCounter()\n",
    "\n",
    "# Example usage\n",
    "print(obj.ping(1))  # Returns 1\n",
    "print(obj.ping(100))  # Returns 2\n",
    "print(obj.ping(3001))  # Returns 3\n",
    "print(obj.ping(3002))  # Returns 3"
   ]
  },
  {
   "cell_type": "code",
   "execution_count": null,
   "id": "c4b5b220",
   "metadata": {},
   "outputs": [],
   "source": []
  }
 ],
 "metadata": {
  "kernelspec": {
   "display_name": "Python 3",
   "language": "python",
   "name": "python3"
  },
  "language_info": {
   "codemirror_mode": {
    "name": "ipython",
    "version": 3
   },
   "file_extension": ".py",
   "mimetype": "text/x-python",
   "name": "python",
   "nbconvert_exporter": "python",
   "pygments_lexer": "ipython3",
   "version": "3.8.8"
  }
 },
 "nbformat": 4,
 "nbformat_minor": 5
}
