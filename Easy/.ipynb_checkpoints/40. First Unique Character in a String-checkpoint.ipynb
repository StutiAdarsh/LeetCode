{
 "cells": [
  {
   "cell_type": "code",
   "execution_count": 1,
   "id": "b7de98b1",
   "metadata": {},
   "outputs": [],
   "source": [
    "import collections\n",
    "\n",
    "class Solution(object):\n",
    "    def firstUniqueCharcter(self, s):\n",
    "        count = collections.Counter(s)\n",
    "        \n",
    "        for id, val in enumerate(s):\n",
    "            if count[val] == 1:\n",
    "                return id\n",
    "            \n",
    "        return -1\n",
    "    \n",
    "#Time: O(N), n for iterating over n length of array\n",
    "#Space: O(1), no extra space used that depends on input"
   ]
  },
  {
   "cell_type": "code",
   "execution_count": 2,
   "id": "683d56d4",
   "metadata": {},
   "outputs": [
    {
     "name": "stdout",
     "output_type": "stream",
     "text": [
      "Case 1:  0\n",
      "Case 2:  2\n",
      "Case 3:  -1\n"
     ]
    }
   ],
   "source": [
    "ob = Solution()\n",
    "\n",
    "print(\"Case 1: \", ob.firstUniqueCharcter(\"leetcode\"))\n",
    "print(\"Case 2: \", ob.firstUniqueCharcter(\"loveleetcode\"))\n",
    "print(\"Case 3: \", ob.firstUniqueCharcter(\"aabb\"))"
   ]
  },
  {
   "cell_type": "code",
   "execution_count": null,
   "id": "4b372873",
   "metadata": {},
   "outputs": [],
   "source": []
  }
 ],
 "metadata": {
  "kernelspec": {
   "display_name": "Python 3",
   "language": "python",
   "name": "python3"
  },
  "language_info": {
   "codemirror_mode": {
    "name": "ipython",
    "version": 3
   },
   "file_extension": ".py",
   "mimetype": "text/x-python",
   "name": "python",
   "nbconvert_exporter": "python",
   "pygments_lexer": "ipython3",
   "version": "3.8.8"
  }
 },
 "nbformat": 4,
 "nbformat_minor": 5
}
