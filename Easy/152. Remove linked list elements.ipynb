{
 "cells": [
  {
   "cell_type": "code",
   "execution_count": 1,
   "id": "76e35e08",
   "metadata": {},
   "outputs": [],
   "source": [
    "# Definition for singly-linked list.\n",
    "class ListNode(object):\n",
    "    def __init__(self, val=0, next=None):\n",
    "        self.val = val\n",
    "        self.next = next\n",
    "\n",
    "class Solution(object):\n",
    "    def removeElements(self, head, val):\n",
    "        \"\"\"\n",
    "        :type head: ListNode\n",
    "        :type val: int\n",
    "        :rtype: ListNode\n",
    "        \"\"\"\n",
    "        sentinel = ListNode(0)\n",
    "        sentinel.next = head\n",
    "        \n",
    "        cur, prev = head, sentinel\n",
    "        while cur:\n",
    "            if cur.val == val:\n",
    "                prev.next = cur.next\n",
    "            else:\n",
    "                prev = cur\n",
    "            cur = cur.next\n",
    "        return sentinel.next\n",
    "        \n",
    "        \n",
    "#Time: O(N) - for one pass of n elements\n",
    "#Space: O(1) - constant space"
   ]
  },
  {
   "cell_type": "code",
   "execution_count": 2,
   "id": "d00d6caf",
   "metadata": {},
   "outputs": [
    {
     "name": "stdout",
     "output_type": "stream",
     "text": [
      "[1, 2, 3, 4, 5]\n",
      "[]\n"
     ]
    }
   ],
   "source": [
    "def create_linked_list(lst):\n",
    "    if not lst:\n",
    "        return None\n",
    "    head = ListNode(lst[0])\n",
    "    current = head\n",
    "    for val in lst[1:]:\n",
    "        current.next = ListNode(val)\n",
    "        current = current.next\n",
    "    return head\n",
    "\n",
    "# Helper function to convert linked list to list\n",
    "def linked_list_to_list(head):\n",
    "    result = []\n",
    "    while head:\n",
    "        result.append(head.val)\n",
    "        head = head.next\n",
    "    return result\n",
    "\n",
    "# Example 1\n",
    "# Input: 1->2->6->3->4->5->6, val = 6\n",
    "# Output: 1->2->3->4->5\n",
    "\n",
    "# Create linked list\n",
    "head = create_linked_list([1, 2, 6, 3, 4, 5, 6])\n",
    "# Create Solution object\n",
    "solution = Solution()\n",
    "# Remove elements\n",
    "new_head = solution.removeElements(head, 6)\n",
    "# Convert linked list to list for easy viewing\n",
    "print(linked_list_to_list(new_head))  # Output: [1, 2, 3, 4, 5]\n",
    "\n",
    "# Example 2\n",
    "# Input: 7->7->7->7, val = 7\n",
    "# Output: []\n",
    "\n",
    "# Create linked list\n",
    "head2 = create_linked_list([7, 7, 7, 7])\n",
    "# Remove elements\n",
    "new_head2 = solution.removeElements(head2, 7)\n",
    "# Convert linked list to list for easy viewing\n",
    "print(linked_list_to_list(new_head2))  # Output: []"
   ]
  },
  {
   "cell_type": "code",
   "execution_count": null,
   "id": "cda55d57",
   "metadata": {},
   "outputs": [],
   "source": []
  }
 ],
 "metadata": {
  "kernelspec": {
   "display_name": "Python 3 (ipykernel)",
   "language": "python",
   "name": "python3"
  },
  "language_info": {
   "codemirror_mode": {
    "name": "ipython",
    "version": 3
   },
   "file_extension": ".py",
   "mimetype": "text/x-python",
   "name": "python",
   "nbconvert_exporter": "python",
   "pygments_lexer": "ipython3",
   "version": "3.12.4"
  }
 },
 "nbformat": 4,
 "nbformat_minor": 5
}
