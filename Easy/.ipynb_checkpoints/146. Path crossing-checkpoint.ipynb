{
 "cells": [
  {
   "cell_type": "code",
   "execution_count": 1,
   "id": "acead66c",
   "metadata": {},
   "outputs": [],
   "source": [
    "class Solution(object):\n",
    "    def isPathCrossing(self, path):\n",
    "        \"\"\"\n",
    "        :type path: str\n",
    "        :rtype: bool\n",
    "        \"\"\"\n",
    "        moves = {\n",
    "            \"N\": (0, 1),\n",
    "            \"S\": (0, -1),\n",
    "            \"W\": (-1, 0),\n",
    "            \"E\": (1, 0)\n",
    "        }\n",
    "        \n",
    "        visited = {(0, 0)}\n",
    "        x = 0\n",
    "        y = 0\n",
    "\n",
    "        for c in path:\n",
    "            dx, dy = moves[c]\n",
    "            x += dx\n",
    "            y += dy\n",
    "            \n",
    "            if (x, y) in visited:\n",
    "                return True\n",
    "\n",
    "            visited.add((x, y))\n",
    "        \n",
    "        return False\n",
    "        \n",
    "#Time: O(N) - for n character in path.\n",
    "#Space: O(N) - When there are no crossings, visited will grow to a length of n."
   ]
  },
  {
   "cell_type": "code",
   "execution_count": 3,
   "id": "4a13bd99",
   "metadata": {},
   "outputs": [
    {
     "name": "stdout",
     "output_type": "stream",
     "text": [
      "path crossing?:  True\n",
      "path crossing?:  False\n"
     ]
    }
   ],
   "source": [
    "sol = Solution()\n",
    "print(\"path crossing?: \", sol.isPathCrossing(\"NESWW\"))\n",
    "print(\"path crossing?: \", sol.isPathCrossing(\"NES\"))"
   ]
  },
  {
   "cell_type": "code",
   "execution_count": null,
   "id": "e9e631d3",
   "metadata": {},
   "outputs": [],
   "source": []
  }
 ],
 "metadata": {
  "kernelspec": {
   "display_name": "Python 3",
   "language": "python",
   "name": "python3"
  },
  "language_info": {
   "codemirror_mode": {
    "name": "ipython",
    "version": 3
   },
   "file_extension": ".py",
   "mimetype": "text/x-python",
   "name": "python",
   "nbconvert_exporter": "python",
   "pygments_lexer": "ipython3",
   "version": "3.8.8"
  }
 },
 "nbformat": 4,
 "nbformat_minor": 5
}
