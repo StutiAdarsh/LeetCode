{
 "cells": [
  {
   "cell_type": "code",
   "execution_count": 1,
   "id": "69b82241",
   "metadata": {},
   "outputs": [],
   "source": [
    "# Definition for a binary tree node.\n",
    "class TreeNode(object):\n",
    "    def __init__(self, val=0, left=None, right=None):\n",
    "        self.val = val\n",
    "        self.left = left\n",
    "        self.right = right\n",
    "\n",
    "class Solution(object):\n",
    "    def leafSimilar(self, root1, root2):\n",
    "        \"\"\"\n",
    "        :type root1: TreeNode\n",
    "        :type root2: TreeNode\n",
    "        :rtype: bool\n",
    "        \"\"\"\n",
    "        def dfs(root, sequence):\n",
    "            if not root:\n",
    "                return \n",
    "\n",
    "            if not root.left and not root.right:\n",
    "                sequence.append(root.val)\n",
    "\n",
    "            if root.left: dfs(root.left,sequence)\n",
    "            if root.right: dfs(root.right, sequence)\n",
    "            return sequence\n",
    "\n",
    "        seq1 = dfs(root1, [])\n",
    "        seq2 = dfs(root2, [])\n",
    "        return seq1==seq2\n",
    "    \n",
    "#time: O(N) - time complexity is O(N), where N is the total number of nodes in the larger tree.\n",
    "#space: O(N) -  space complexity is O(N), where N is the total number of nodes in the larger tree."
   ]
  },
  {
   "cell_type": "code",
   "execution_count": 2,
   "id": "28e1dd00",
   "metadata": {},
   "outputs": [
    {
     "name": "stdout",
     "output_type": "stream",
     "text": [
      "Are the leaf sequences similar? True\n"
     ]
    }
   ],
   "source": [
    "# Create binary trees\n",
    "# Tree 1\n",
    "root1 = TreeNode(3)\n",
    "root1.left = TreeNode(5)\n",
    "root1.right = TreeNode(1)\n",
    "root1.left.left = TreeNode(6)\n",
    "root1.left.right = TreeNode(2)\n",
    "root1.left.right.left = TreeNode(7)\n",
    "root1.left.right.right = TreeNode(4)\n",
    "root1.right.left = TreeNode(9)\n",
    "root1.right.right = TreeNode(8)\n",
    "\n",
    "# Tree 2\n",
    "root2 = TreeNode(3)\n",
    "root2.left = TreeNode(5)\n",
    "root2.right = TreeNode(1)\n",
    "root2.left.left = TreeNode(6)\n",
    "root2.left.right = TreeNode(7)\n",
    "root2.right.left = TreeNode(4)\n",
    "root2.right.right = TreeNode(2)\n",
    "root2.right.right.left = TreeNode(9)\n",
    "root2.right.right.right = TreeNode(8)\n",
    "\n",
    "# Create an instance of the Solution class\n",
    "sol = Solution()\n",
    "\n",
    "# Call the leafSimilar method and print the output\n",
    "output = sol.leafSimilar(root1, root2)\n",
    "print(\"Are the leaf sequences similar?\", output)"
   ]
  },
  {
   "cell_type": "code",
   "execution_count": null,
   "id": "2ff99519",
   "metadata": {},
   "outputs": [],
   "source": []
  }
 ],
 "metadata": {
  "kernelspec": {
   "display_name": "Python 3",
   "language": "python",
   "name": "python3"
  },
  "language_info": {
   "codemirror_mode": {
    "name": "ipython",
    "version": 3
   },
   "file_extension": ".py",
   "mimetype": "text/x-python",
   "name": "python",
   "nbconvert_exporter": "python",
   "pygments_lexer": "ipython3",
   "version": "3.8.8"
  }
 },
 "nbformat": 4,
 "nbformat_minor": 5
}
