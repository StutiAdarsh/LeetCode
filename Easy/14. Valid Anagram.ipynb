{
 "cells": [
  {
   "cell_type": "code",
   "execution_count": 5,
   "id": "d94dfc4a",
   "metadata": {},
   "outputs": [
    {
     "name": "stdout",
     "output_type": "stream",
     "text": [
      "Case 1:  True\n",
      "Case 2:  False\n"
     ]
    }
   ],
   "source": [
    "class Solution(object):\n",
    "    def isAnagram(s, t):\n",
    "        \"\"\"\n",
    "        :type s: str\n",
    "        :type t: str\n",
    "        :rtype: bool\n",
    "        \"\"\"\n",
    "        return sorted(s) == sorted(t)\n",
    "    \n",
    "print(\"Case 1: \", Solution.isAnagram(s = \"anagram\", t = \"nagaram\"))\n",
    "print(\"Case 2: \", Solution.isAnagram(s = \"rat\", t = \"car\"))\n",
    "\n",
    "#Time: 0(nlogn), for sorting the n elements\n",
    "#Space: O(n), storing the sorted elements"
   ]
  },
  {
   "cell_type": "code",
   "execution_count": 2,
   "id": "01e05601",
   "metadata": {},
   "outputs": [
    {
     "name": "stdout",
     "output_type": "stream",
     "text": [
      "0\n",
      "{'a': 1}\n",
      "0\n",
      "{'a': 1, 'n': 1}\n",
      "1\n",
      "{'a': 2, 'n': 1}\n",
      "0\n",
      "{'a': 2, 'n': 1, 'g': 1}\n",
      "0\n",
      "{'a': 2, 'n': 1, 'g': 1, 'r': 1}\n",
      "2\n",
      "{'a': 3, 'n': 1, 'g': 1, 'r': 1}\n",
      "0\n",
      "{'a': 3, 'n': 1, 'g': 1, 'r': 1, 'm': 1}\n",
      "{'n': 1}\n",
      "{'n': 1, 'a': 1}\n",
      "{'n': 1, 'a': 1, 'g': 1}\n",
      "{'n': 1, 'a': 2, 'g': 1}\n",
      "{'n': 1, 'a': 2, 'g': 1, 'r': 1}\n",
      "{'n': 1, 'a': 3, 'g': 1, 'r': 1}\n",
      "{'n': 1, 'a': 3, 'g': 1, 'r': 1, 'm': 1}\n",
      "Case 1:  True\n",
      "0\n",
      "{'r': 1}\n",
      "0\n",
      "{'r': 1, 'a': 1}\n",
      "0\n",
      "{'r': 1, 'a': 1, 't': 1}\n",
      "{'c': 1}\n",
      "{'c': 1, 'a': 1}\n",
      "{'c': 1, 'a': 1, 'r': 1}\n",
      "Case 2:  False\n"
     ]
    }
   ],
   "source": [
    "class Solution(object):\n",
    "    def isAnagram(s, t):\n",
    "        \"\"\"\n",
    "        :type s: str\n",
    "        :type t: str\n",
    "        :rtype: bool\n",
    "        \"\"\"\n",
    "        if len(s) != len(t):\n",
    "            return False\n",
    "        \n",
    "        dict_s, dict_t = {}, {}\n",
    "        for i in s:\n",
    "            print(dict_s.get(i, 0))\n",
    "            dict_s[i] = dict_s.get(i, 0) + 1\n",
    "            print(dict_s)\n",
    "        for j in t:\n",
    "            dict_t[j] = dict_t.get(j, 0) + 1\n",
    "            print(dict_t)\n",
    "        return dict_s == dict_t\n",
    "\n",
    "print(\"Case 1: \", Solution.isAnagram(s = \"anagram\", t = \"nagaram\"))\n",
    "print(\"Case 2: \", Solution.isAnagram(s = \"rat\", t = \"car\"))\n",
    "\n",
    "#Time: 0(n), for iterating the n elements\n",
    "#Space: O(n), storing the elements in dictionary for the unique characters in s and t, whch in worst case would be n"
   ]
  },
  {
   "cell_type": "code",
   "execution_count": null,
   "id": "742a0cb2",
   "metadata": {},
   "outputs": [],
   "source": []
  }
 ],
 "metadata": {
  "kernelspec": {
   "display_name": "Python 3",
   "language": "python",
   "name": "python3"
  },
  "language_info": {
   "codemirror_mode": {
    "name": "ipython",
    "version": 3
   },
   "file_extension": ".py",
   "mimetype": "text/x-python",
   "name": "python",
   "nbconvert_exporter": "python",
   "pygments_lexer": "ipython3",
   "version": "3.8.8"
  }
 },
 "nbformat": 4,
 "nbformat_minor": 5
}
