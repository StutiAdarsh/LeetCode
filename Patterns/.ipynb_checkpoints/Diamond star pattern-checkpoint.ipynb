{
 "cells": [
  {
   "cell_type": "code",
   "execution_count": 2,
   "id": "aa9de426",
   "metadata": {},
   "outputs": [
    {
     "name": "stdout",
     "output_type": "stream",
     "text": [
      "Enter rows: 5\n",
      "    *\n",
      "   ***\n",
      "  *****\n",
      " *******\n",
      "*********\n",
      " *******\n",
      "  *****\n",
      "   ***\n",
      "    *\n"
     ]
    }
   ],
   "source": [
    "# Approch 1\n",
    "\n",
    "n = int(input(\"Enter rows: \"))\n",
    "# Upward pyramid\n",
    "for i in range(n):\n",
    "    # space:  n - i -1 formula\n",
    "    for j in range(n-i-1):\n",
    "        print(\" \", end=\"\")\n",
    "    # star: 2 * i + 1 formula\n",
    "    for j in range(2*i+1):\n",
    "        print(\"*\", end=\"\")\n",
    "    print()\n",
    "    \n",
    "# Downward pyramid\n",
    "for i in range(n-1):\n",
    "    # space: i + 1 for downward\n",
    "    for j in range(i+1):\n",
    "        print(\" \", end=\"\")\n",
    "    # star: 2* (n-i-1)-1 for downward\n",
    "    for j in range(2*(n-i-1)-1):\n",
    "        print(\"*\", end=\"\")\n",
    "    print()"
   ]
  },
  {
   "cell_type": "code",
   "execution_count": 11,
   "id": "29a12aa6",
   "metadata": {},
   "outputs": [
    {
     "name": "stdout",
     "output_type": "stream",
     "text": [
      "Enter rows: 5\n",
      "    *\n",
      "   ***\n",
      "  *****\n",
      " *******\n",
      "*********\n",
      " *******\n",
      "  *****\n",
      "   ***\n",
      "    *\n"
     ]
    }
   ],
   "source": [
    "#Approach 2\n",
    "\n",
    "n = int(input(\"Enter rows: \"))\n",
    "# Upward pyramid\n",
    "for i in range(n):\n",
    "    print(\" \"*(n-i-1) + \"*\"* (2*i+1))\n",
    "# Downward pyramid\n",
    "for i in range(n-1):\n",
    "    print(\" \"*(i+1) + \"*\"* (2*(n-i-1)-1))"
   ]
  },
  {
   "cell_type": "code",
   "execution_count": null,
   "id": "3f09d558",
   "metadata": {},
   "outputs": [],
   "source": []
  }
 ],
 "metadata": {
  "kernelspec": {
   "display_name": "Python 3",
   "language": "python",
   "name": "python3"
  },
  "language_info": {
   "codemirror_mode": {
    "name": "ipython",
    "version": 3
   },
   "file_extension": ".py",
   "mimetype": "text/x-python",
   "name": "python",
   "nbconvert_exporter": "python",
   "pygments_lexer": "ipython3",
   "version": "3.8.8"
  }
 },
 "nbformat": 4,
 "nbformat_minor": 5
}
