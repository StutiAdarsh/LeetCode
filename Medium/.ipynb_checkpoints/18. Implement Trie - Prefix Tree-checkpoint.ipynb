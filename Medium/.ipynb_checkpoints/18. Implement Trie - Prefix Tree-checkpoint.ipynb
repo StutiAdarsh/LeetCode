{
 "cells": [
  {
   "cell_type": "code",
   "execution_count": 1,
   "id": "0e1a5d8b",
   "metadata": {},
   "outputs": [],
   "source": [
    "class TrieNode(object):\n",
    "    def __init__(self):\n",
    "        self.children = {}\n",
    "        self.endOfWord = False\n",
    "\n",
    "class Trie(object):\n",
    "    def __init__(self):\n",
    "        self.root = TrieNode()\n",
    "\n",
    "    def insert(self, word):\n",
    "        \"\"\"\n",
    "        :type word: str\n",
    "        :rtype: None\n",
    "        \"\"\"\n",
    "        cur = self.root\n",
    "        for c in word:\n",
    "            if c not in cur.children:\n",
    "                cur.children[c] = TrieNode()\n",
    "            cur = cur.children[c]\n",
    "        cur.endOfWord = True      \n",
    "        \n",
    "    def search(self, word):\n",
    "        \"\"\"\n",
    "        :type word: str\n",
    "        :rtype: bool\n",
    "        \"\"\"\n",
    "        cur = self.root\n",
    "        for c in word:\n",
    "            if c not in cur.children:\n",
    "                return False\n",
    "            cur = cur.children[c]\n",
    "        return cur.endOfWord\n",
    "        \n",
    "\n",
    "    def startsWith(self, prefix):\n",
    "        \"\"\"\n",
    "        :type prefix: str\n",
    "        :rtype: bool\n",
    "        \"\"\"\n",
    "        cur = self.root\n",
    "        for c in prefix:\n",
    "            if c not in cur.children:\n",
    "                return False\n",
    "            cur = cur.children[c]\n",
    "        return True    \n",
    "\n",
    "\n",
    "# Your Trie object will be instantiated and called as such:\n",
    "# obj = Trie()\n",
    "# obj.insert(word)\n",
    "# param_2 = obj.search(word)\n",
    "# param_3 = obj.startsWith(prefix)"
   ]
  },
  {
   "cell_type": "code",
   "execution_count": 3,
   "id": "28dc0dc9",
   "metadata": {},
   "outputs": [
    {
     "name": "stdout",
     "output_type": "stream",
     "text": [
      "True\n",
      "True\n",
      "True\n",
      "False\n",
      "True\n",
      "False\n",
      "False\n"
     ]
    }
   ],
   "source": [
    "# Create a Trie object\n",
    "obj = Trie()\n",
    "\n",
    "# Insert words into the Trie\n",
    "obj.insert(\"apple\")\n",
    "obj.insert(\"app\")\n",
    "obj.insert(\"banana\")\n",
    "\n",
    "# Search for words in the Trie\n",
    "print(obj.search(\"apple\"))  # Output: True\n",
    "print(obj.search(\"app\"))    # Output: True\n",
    "print(obj.search(\"banana\")) # Output: True\n",
    "print(obj.search(\"orange\")) # Output: False\n",
    "\n",
    "# Check if prefixes exist in the Trie\n",
    "print(obj.startsWith(\"app\"))    # Output: True\n",
    "print(obj.startsWith(\"ape\"))    # Output: False\n",
    "print(obj.startsWith(\"orange\")) # Output: False"
   ]
  },
  {
   "cell_type": "markdown",
   "id": "aef32f89",
   "metadata": {},
   "source": [
    "Insertion (insert):\n",
    "\n",
    "Time Complexity: O(N), where N is the length of the word being inserted. This is because we iterate through each character of the word to insert it into the Trie.\n",
    "Space Complexity: O(N), where N is the total number of characters in all the inserted words. Each character in each word occupies space in the Trie nodes.\n",
    "\n",
    "Search (search):\n",
    "SEARCH:\n",
    "\n",
    "Time Complexity: O(N), where N is the length of the word being searched. Similar to insertion, we iterate through each character of the word to search for it in the Trie.\n",
    "Space Complexity: O(1), as it doesn't require additional space proportional to the input size.\n",
    "\n",
    "\n",
    "Prefix Search (startsWith):\n",
    "\n",
    "Time Complexity: O(N), where N is the length of the prefix being searched. Similar to search, we iterate through each character of the prefix to check if it's a valid prefix in the Trie.\n",
    "Space Complexity: O(1), as it doesn't require additional space proportional to the input size."
   ]
  },
  {
   "cell_type": "code",
   "execution_count": null,
   "id": "d3fd06db",
   "metadata": {},
   "outputs": [],
   "source": []
  }
 ],
 "metadata": {
  "kernelspec": {
   "display_name": "Python 3",
   "language": "python",
   "name": "python3"
  },
  "language_info": {
   "codemirror_mode": {
    "name": "ipython",
    "version": 3
   },
   "file_extension": ".py",
   "mimetype": "text/x-python",
   "name": "python",
   "nbconvert_exporter": "python",
   "pygments_lexer": "ipython3",
   "version": "3.8.8"
  }
 },
 "nbformat": 4,
 "nbformat_minor": 5
}
