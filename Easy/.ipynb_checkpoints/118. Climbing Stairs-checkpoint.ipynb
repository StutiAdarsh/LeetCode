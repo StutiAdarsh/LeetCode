{
 "cells": [
  {
   "cell_type": "code",
   "execution_count": 1,
   "id": "0451ec7b",
   "metadata": {},
   "outputs": [],
   "source": [
    "class Solution(object):\n",
    "    def climbStairs(self, n):\n",
    "        \"\"\"\n",
    "        :type n: int\n",
    "        :rtype: int\n",
    "        \"\"\"\n",
    "        # 1-2-3-4-5-6 - 6 stairs to climb\n",
    "        # 1-2-(2+1=3)-(3+2=5)-(5+3=8)-(8+5=13) - ways to climb each of above steps\n",
    "\n",
    "        if n <= 2: \n",
    "            return n\n",
    "\n",
    "        prev1 = 1\n",
    "        prev2 = 2\n",
    "        current = 0\n",
    "        for i in range(2,n):\n",
    "            current = prev1 + prev2\n",
    "            prev1 = prev2\n",
    "            prev2 = current\n",
    "        return current\n",
    "    \n",
    "#Time: O(N)-The function iterates through a loop n times, each time performing constant time operations.\n",
    "#Space: O(1) - constant space"
   ]
  },
  {
   "cell_type": "code",
   "execution_count": 2,
   "id": "afc73d74",
   "metadata": {},
   "outputs": [
    {
     "name": "stdout",
     "output_type": "stream",
     "text": [
      "2\n",
      "3\n",
      "13\n"
     ]
    }
   ],
   "source": [
    "sol = Solution()\n",
    "n1 = 2\n",
    "print(sol.climbStairs(n1))  # Output: 2\n",
    "\n",
    "n2 = 3\n",
    "print(sol.climbStairs(n2))  # Output: 3\n",
    "\n",
    "n3 = 6\n",
    "print(sol.climbStairs(n3))  # Output: 13"
   ]
  },
  {
   "cell_type": "code",
   "execution_count": null,
   "id": "2f75e335",
   "metadata": {},
   "outputs": [],
   "source": []
  }
 ],
 "metadata": {
  "kernelspec": {
   "display_name": "Python 3",
   "language": "python",
   "name": "python3"
  },
  "language_info": {
   "codemirror_mode": {
    "name": "ipython",
    "version": 3
   },
   "file_extension": ".py",
   "mimetype": "text/x-python",
   "name": "python",
   "nbconvert_exporter": "python",
   "pygments_lexer": "ipython3",
   "version": "3.8.8"
  }
 },
 "nbformat": 4,
 "nbformat_minor": 5
}
