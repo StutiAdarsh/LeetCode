{
 "cells": [
  {
   "cell_type": "code",
   "execution_count": 1,
   "id": "025a7b16",
   "metadata": {},
   "outputs": [],
   "source": [
    "# Definition for a binary tree node.\n",
    "class TreeNode(object):\n",
    "    def __init__(self, val=0, left=None, right=None):\n",
    "        self.val = val\n",
    "        self.left = left\n",
    "        self.right = right\n",
    "\n",
    "class Solution(object):\n",
    "    def closestValue(self, root, target):\n",
    "        \"\"\"\n",
    "        :type root: TreeNode\n",
    "        :type target: float\n",
    "        :rtype: int\n",
    "        \"\"\"\n",
    "        def inorder(node):\n",
    "            return inorder(node.left) + [node.val] + inorder(node.right) if node else []\n",
    "        \n",
    "        return min(inorder(root), key = lambda x: abs(target-x))\n",
    "    \n",
    "#Time: O(N) - because to build inorder traversal and then to perform linear search takes linear time.\n",
    "#Space: O(N) - to keep inorder traversal recursive call stack"
   ]
  },
  {
   "cell_type": "code",
   "execution_count": 2,
   "id": "9dda71fb",
   "metadata": {},
   "outputs": [
    {
     "name": "stdout",
     "output_type": "stream",
     "text": [
      "4\n"
     ]
    }
   ],
   "source": [
    "# Example usage\n",
    "if __name__ == \"__main__\":\n",
    "    # Create a binary search tree\n",
    "    root = TreeNode(4)\n",
    "    root.left = TreeNode(2)\n",
    "    root.right = TreeNode(5)\n",
    "    root.left.left = TreeNode(1)\n",
    "    root.left.right = TreeNode(3)\n",
    "\n",
    "    # Create an instance of the Solution class\n",
    "    sol = Solution()\n",
    "\n",
    "    # Find the closest value to the target\n",
    "    target = 3.714286\n",
    "    print(sol.closestValue(root, target))  # Output: 4"
   ]
  },
  {
   "cell_type": "code",
   "execution_count": null,
   "id": "fc4c6824",
   "metadata": {},
   "outputs": [],
   "source": []
  }
 ],
 "metadata": {
  "kernelspec": {
   "display_name": "Python 3",
   "language": "python",
   "name": "python3"
  },
  "language_info": {
   "codemirror_mode": {
    "name": "ipython",
    "version": 3
   },
   "file_extension": ".py",
   "mimetype": "text/x-python",
   "name": "python",
   "nbconvert_exporter": "python",
   "pygments_lexer": "ipython3",
   "version": "3.8.8"
  }
 },
 "nbformat": 4,
 "nbformat_minor": 5
}
