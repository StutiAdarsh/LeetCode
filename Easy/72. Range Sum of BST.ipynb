{
 "cells": [
  {
   "cell_type": "code",
   "execution_count": 1,
   "id": "ecd96360",
   "metadata": {},
   "outputs": [],
   "source": [
    "# Definition for a binary tree node.\n",
    "class TreeNode(object):\n",
    "    def __init__(self, val=0, left=None, right=None):\n",
    "        self.val = val\n",
    "        self.left = left\n",
    "        self.right = right\n",
    "        \n",
    "class Solution(object):\n",
    "    def rangeSumBST(self, root, low, high):\n",
    "        \"\"\"\n",
    "        :type root: TreeNode\n",
    "        :type low: int\n",
    "        :type high: int\n",
    "        :rtype: int\n",
    "        \"\"\"\n",
    "        if not root:\n",
    "            return 0\n",
    "            \n",
    "        if root.val > high:\n",
    "            return self.rangeSumBST(root.left, low, high)\n",
    "\n",
    "        elif root.val < low:\n",
    "            return self.rangeSumBST(root.right, low, high)\n",
    "\n",
    "        else:\n",
    "            return root.val + self.rangeSumBST(root.left, low, high) + self.rangeSumBST(root.right, low, high)\n",
    "\n",
    "#Time: O(N) - traverse worst case height of tree which is N nodes each once to calculate the sum\n",
    "#Space: O(N) - recursive call stack to store N nodes worst case height of tree"
   ]
  },
  {
   "cell_type": "code",
   "execution_count": 2,
   "id": "4e914198",
   "metadata": {},
   "outputs": [
    {
     "name": "stdout",
     "output_type": "stream",
     "text": [
      "32\n"
     ]
    }
   ],
   "source": [
    "# Example usage\n",
    "if __name__ == \"__main__\":\n",
    "    # Create a binary search tree\n",
    "    root = TreeNode(10)\n",
    "    root.left = TreeNode(5)\n",
    "    root.right = TreeNode(15)\n",
    "    root.left.left = TreeNode(3)\n",
    "    root.left.right = TreeNode(7)\n",
    "    root.right.right = TreeNode(18)\n",
    "\n",
    "    # Create an instance of the Solution class\n",
    "    sol = Solution()\n",
    "\n",
    "    # Compute the range sum within the given range [low, high]\n",
    "    low, high = 7, 15\n",
    "    print(sol.rangeSumBST(root, low, high))  # Output: 32 (7 + 10 + 15)"
   ]
  },
  {
   "cell_type": "code",
   "execution_count": null,
   "id": "a9f2b102",
   "metadata": {},
   "outputs": [],
   "source": []
  }
 ],
 "metadata": {
  "kernelspec": {
   "display_name": "Python 3",
   "language": "python",
   "name": "python3"
  },
  "language_info": {
   "codemirror_mode": {
    "name": "ipython",
    "version": 3
   },
   "file_extension": ".py",
   "mimetype": "text/x-python",
   "name": "python",
   "nbconvert_exporter": "python",
   "pygments_lexer": "ipython3",
   "version": "3.8.8"
  }
 },
 "nbformat": 4,
 "nbformat_minor": 5
}
