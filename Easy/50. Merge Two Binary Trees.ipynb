{
 "cells": [
  {
   "cell_type": "code",
   "execution_count": 4,
   "id": "a64893c7",
   "metadata": {},
   "outputs": [],
   "source": [
    "# Definition for a binary tree node.\n",
    "class TreeNode(object):\n",
    "    def __init__(self, val=0, left=None, right=None):\n",
    "        self.val = val\n",
    "        self.left = left\n",
    "        self.right = right\n",
    "\n",
    "class Solution(object):\n",
    "    def mergeTrees(self, root1, root2):\n",
    "        \"\"\"\n",
    "        :type root1: TreeNode\n",
    "        :type root2: TreeNode\n",
    "        :rtype: TreeNode\n",
    "        \"\"\"\n",
    "        if not root1:\n",
    "            return root2\n",
    "        \n",
    "        elif not root2:\n",
    "            return root1\n",
    "        \n",
    "        else:\n",
    "            res = TreeNode(root1.val + root2.val)\n",
    "            res.left = self.mergeTrees(root1.left, root2.left)\n",
    "            res.right = self.mergeTrees(root1.right, root2.right)\n",
    "        return res\n",
    "    \n",
    "#Time: O(N) to traverse nodes of each tree and concluding to one with higher time complexity\n",
    "#Space: O(N) to store large merged tree of depth N"
   ]
  },
  {
   "cell_type": "code",
   "execution_count": 13,
   "id": "30587509",
   "metadata": {},
   "outputs": [
    {
     "name": "stdout",
     "output_type": "stream",
     "text": [
      "Merged Tree:\n",
      "\\-- 3\n",
      "    |-- 4\n",
      "    |   |-- 5\n",
      "    |   \\-- 4\n",
      "    \\-- 5\n",
      "        \\-- 7\n"
     ]
    }
   ],
   "source": [
    "# Create binary trees\n",
    "# Tree 1\n",
    "root1 = TreeNode(1)\n",
    "root1.left = TreeNode(3)\n",
    "root1.right = TreeNode(2)\n",
    "root1.left.left = TreeNode(5)\n",
    "\n",
    "# Tree 2\n",
    "root2 = TreeNode(2)\n",
    "root2.left = TreeNode(1)\n",
    "root2.right = TreeNode(3)\n",
    "root2.left.right = TreeNode(4)\n",
    "root2.right.right = TreeNode(7)\n",
    "\n",
    "# Create an instance of the Solution class\n",
    "sol = Solution()\n",
    "\n",
    "# Call the mergeTrees method and print the output\n",
    "merged_tree = sol.mergeTrees(root1, root2)\n",
    "\n",
    "# Function to print the binary tree with root and children\n",
    "def print_tree(node, prefix=\"\", is_left=True):\n",
    "    if node:\n",
    "        print(prefix + (\"|-- \" if is_left else \"\\\\-- \") + str(node.val))\n",
    "        print_tree(node.left, prefix + (\"|   \" if is_left else \"    \"), True)\n",
    "        print_tree(node.right, prefix + (\"|   \" if is_left else \"    \"), False)\n",
    "\n",
    "print(\"Merged Tree:\")\n",
    "print_tree(merged_tree, \"\", False)"
   ]
  },
  {
   "cell_type": "code",
   "execution_count": null,
   "id": "126e5dbe",
   "metadata": {},
   "outputs": [],
   "source": []
  }
 ],
 "metadata": {
  "kernelspec": {
   "display_name": "Python 3",
   "language": "python",
   "name": "python3"
  },
  "language_info": {
   "codemirror_mode": {
    "name": "ipython",
    "version": 3
   },
   "file_extension": ".py",
   "mimetype": "text/x-python",
   "name": "python",
   "nbconvert_exporter": "python",
   "pygments_lexer": "ipython3",
   "version": "3.8.8"
  }
 },
 "nbformat": 4,
 "nbformat_minor": 5
}
