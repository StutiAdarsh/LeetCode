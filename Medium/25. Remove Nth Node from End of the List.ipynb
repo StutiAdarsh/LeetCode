{
 "cells": [
  {
   "cell_type": "code",
   "execution_count": 3,
   "id": "72771ae8",
   "metadata": {},
   "outputs": [],
   "source": [
    "# Definition for singly-linked list.\n",
    "class ListNode(object):\n",
    "    def __init__(self, val=0, next=None):\n",
    "        self.val = val\n",
    "        self.next = next\n",
    "        \n",
    "class Solution(object):\n",
    "    def removeNthFromEnd(self, head, n):\n",
    "        \"\"\"\n",
    "        :type head: ListNode\n",
    "        :type n: int\n",
    "        :rtype: ListNode\n",
    "        \"\"\"\n",
    "        prev, length = head, 0\n",
    "        while prev:\n",
    "            prev = prev.next\n",
    "            length += 1\n",
    "        \n",
    "        if length == n:\n",
    "            return head.next\n",
    "        prev = head\n",
    "        for i in range(1, length-n):\n",
    "            prev = prev.next            \n",
    "            \n",
    "        prev.next = prev.next.next\n",
    "        return head\n",
    "        \n",
    "        \n",
    "#Time: O(L)\n",
    "# The first pass through the linked list to determine its length takes where 𝐿\n",
    "# is the length of the linked list.\n",
    "# The second pass to locate the (L-n)th node also takes O(L).\n",
    "# Overall, the time complexity is O(L).\n",
    "\n",
    "#Space: O(1) - constant space"
   ]
  },
  {
   "cell_type": "code",
   "execution_count": 5,
   "id": "c3df4479",
   "metadata": {},
   "outputs": [
    {
     "name": "stdout",
     "output_type": "stream",
     "text": [
      "<__main__.ListNode object at 0x000001ADE3A046A0>\n"
     ]
    }
   ],
   "source": [
    "# Example 1\n",
    "# Input: 1->2->3->4->5, n = 2\n",
    "# Output: 1->2->3->5\n",
    "\n",
    "# Create linked list\n",
    "node1 = ListNode(1)\n",
    "node2 = ListNode(2)\n",
    "node3 = ListNode(3)\n",
    "node4 = ListNode(4)\n",
    "node5 = ListNode(5)\n",
    "\n",
    "node1.next = node2\n",
    "node2.next = node3\n",
    "node3.next = node4\n",
    "node4.next = node5\n",
    "\n",
    "# Create Solution object\n",
    "solution = Solution()\n",
    "# Remove the nth node from the end\n",
    "new_head = solution.removeNthFromEnd(node1, 2)\n",
    "# Convert linked list to list for easy viewing\n",
    "print(new_head)  # Output: [1, 2, 3, 5]"
   ]
  },
  {
   "cell_type": "code",
   "execution_count": null,
   "id": "03b0a617",
   "metadata": {},
   "outputs": [],
   "source": []
  }
 ],
 "metadata": {
  "kernelspec": {
   "display_name": "Python 3",
   "language": "python",
   "name": "python3"
  },
  "language_info": {
   "codemirror_mode": {
    "name": "ipython",
    "version": 3
   },
   "file_extension": ".py",
   "mimetype": "text/x-python",
   "name": "python",
   "nbconvert_exporter": "python",
   "pygments_lexer": "ipython3",
   "version": "3.8.8"
  }
 },
 "nbformat": 4,
 "nbformat_minor": 5
}
