{
 "cells": [
  {
   "cell_type": "code",
   "execution_count": 3,
   "id": "e7afde1b-e1d2-42bc-89c5-a65c363b18bc",
   "metadata": {},
   "outputs": [],
   "source": [
    "class Solution(object):\n",
    "    def twoSumLessThanK(self, nums, k):\n",
    "        \"\"\"\n",
    "        :type nums: List[int]\n",
    "        :type k: int\n",
    "        :rtype: int\n",
    "        \"\"\"\n",
    "        l, r = 0, len(nums)-1\n",
    "        ans = -1\n",
    "        nums.sort()\n",
    "        while l<r:\n",
    "            sum = nums[l]+nums[r]\n",
    "            if sum < k:\n",
    "                ans = max(ans, sum)\n",
    "                l += 1\n",
    "            else:\n",
    "                r -= 1\n",
    "        return ans\n",
    "\n",
    "#Time: O(NlogN) - to sort the input array and iterate over N elements\n",
    "#Space: O(N) - to store the sorted array elements"
   ]
  },
  {
   "cell_type": "code",
   "execution_count": 5,
   "id": "e0fd75a9-5d9f-48e9-9efb-a2d59a9039da",
   "metadata": {},
   "outputs": [
    {
     "name": "stdout",
     "output_type": "stream",
     "text": [
      "Two sum less than k:  58\n"
     ]
    }
   ],
   "source": [
    "ob = Solution()\n",
    "\n",
    "print(\"Two sum less than k: \", ob.twoSumLessThanK(nums = [34,23,1,24,75,33,54,8], k = 60))"
   ]
  },
  {
   "cell_type": "code",
   "execution_count": null,
   "id": "a799701e-2225-4721-bf28-03b7b0df41a4",
   "metadata": {},
   "outputs": [],
   "source": []
  }
 ],
 "metadata": {
  "kernelspec": {
   "display_name": "Python 3 (ipykernel)",
   "language": "python",
   "name": "python3"
  },
  "language_info": {
   "codemirror_mode": {
    "name": "ipython",
    "version": 3
   },
   "file_extension": ".py",
   "mimetype": "text/x-python",
   "name": "python",
   "nbconvert_exporter": "python",
   "pygments_lexer": "ipython3",
   "version": "3.12.4"
  }
 },
 "nbformat": 4,
 "nbformat_minor": 5
}
