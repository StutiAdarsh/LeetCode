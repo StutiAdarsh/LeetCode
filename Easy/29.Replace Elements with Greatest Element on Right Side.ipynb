{
 "cells": [
  {
   "cell_type": "code",
   "execution_count": 2,
   "id": "77c48f0d",
   "metadata": {},
   "outputs": [],
   "source": [
    "class Solution(object):\n",
    "    def replaceelements(self, arr):\n",
    "        max_right = -1\n",
    "        for i in range(len(arr)-1, -1,-1):\n",
    "            arr[i], max_right = max_right, max(max_right, arr[i])\n",
    "        return arr\n",
    "    \n",
    "#Time: O(N), N is length of array\n",
    "#Space: O(1), in-place operation done"
   ]
  },
  {
   "cell_type": "code",
   "execution_count": 3,
   "id": "bb3948a2",
   "metadata": {},
   "outputs": [
    {
     "name": "stdout",
     "output_type": "stream",
     "text": [
      "Case 1:  [18, 6, 6, 6, 1, -1]\n",
      "Case 2:  [-1]\n"
     ]
    }
   ],
   "source": [
    "ob = Solution()\n",
    "\n",
    "print(\"Case 1: \", ob.replaceelements([17,18,5,4,6,1]))\n",
    "print(\"Case 2: \", ob.replaceelements([400]))"
   ]
  },
  {
   "cell_type": "code",
   "execution_count": null,
   "id": "40a01971",
   "metadata": {},
   "outputs": [],
   "source": []
  }
 ],
 "metadata": {
  "kernelspec": {
   "display_name": "Python 3",
   "language": "python",
   "name": "python3"
  },
  "language_info": {
   "codemirror_mode": {
    "name": "ipython",
    "version": 3
   },
   "file_extension": ".py",
   "mimetype": "text/x-python",
   "name": "python",
   "nbconvert_exporter": "python",
   "pygments_lexer": "ipython3",
   "version": "3.8.8"
  }
 },
 "nbformat": 4,
 "nbformat_minor": 5
}
