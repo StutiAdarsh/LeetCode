{
 "cells": [
  {
   "cell_type": "code",
   "execution_count": 5,
   "id": "21ddc8b4",
   "metadata": {},
   "outputs": [
    {
     "name": "stdout",
     "output_type": "stream",
     "text": [
      "Case 1:  [0, 1, 9, 16, 100]\n",
      "Case 2:  [4, 9, 9, 49, 121]\n"
     ]
    }
   ],
   "source": [
    "class Solution(object):\n",
    "    def sortedSquares(self, nums):\n",
    "        \"\"\"\n",
    "        :type nums: List[int]\n",
    "        :rtype: List[int]\n",
    "        \"\"\"\n",
    "        return sorted([x**2 for x in nums])\n",
    "    \n",
    "\n",
    "\n",
    "#In\n",
    "ob = Solution()\n",
    "print(\"Case 1: \", ob.sortedSquares([-4,-1,0,3,10]))\n",
    "print(\"Case 2: \", ob.sortedSquares([-7,-3,2,3,11]))\n",
    "\n",
    "#Complexity\n",
    "#Time Complexity: O(N log N), where N is the length of the array N log N time for the sorting\n",
    "#Space: O(N), space for sort algoithm is O(N)"
   ]
  },
  {
   "cell_type": "code",
   "execution_count": null,
   "id": "e7f2b318",
   "metadata": {},
   "outputs": [],
   "source": []
  }
 ],
 "metadata": {
  "kernelspec": {
   "display_name": "Python 3",
   "language": "python",
   "name": "python3"
  },
  "language_info": {
   "codemirror_mode": {
    "name": "ipython",
    "version": 3
   },
   "file_extension": ".py",
   "mimetype": "text/x-python",
   "name": "python",
   "nbconvert_exporter": "python",
   "pygments_lexer": "ipython3",
   "version": "3.8.8"
  }
 },
 "nbformat": 4,
 "nbformat_minor": 5
}
