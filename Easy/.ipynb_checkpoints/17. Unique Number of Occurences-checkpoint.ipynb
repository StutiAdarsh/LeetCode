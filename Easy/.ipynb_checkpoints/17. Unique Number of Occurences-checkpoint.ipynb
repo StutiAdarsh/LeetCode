{
 "cells": [
  {
   "cell_type": "code",
   "execution_count": 3,
   "id": "be8842c1",
   "metadata": {},
   "outputs": [
    {
     "name": "stdout",
     "output_type": "stream",
     "text": [
      "Case 1:  True\n",
      "Case 2:  False\n"
     ]
    }
   ],
   "source": [
    "class Solution(object):\n",
    "    def uniqueOccurrences(self, arr):\n",
    "        \"\"\"\n",
    "        :type arr: List[int]\n",
    "        :rtype: bool\n",
    "        \"\"\"\n",
    "        hashmap = {}\n",
    "        for i in arr:\n",
    "            if i in hashmap:\n",
    "                hashmap[i] += 1\n",
    "            else:\n",
    "                hashmap[i] = 1\n",
    "\n",
    "        return len(set(hashmap.values())) == len(set(arr))\n",
    "\n",
    "#Time: O(N), for N number of elements\n",
    "#Space: O(N), where hashmap stores N elements\n",
    "\n",
    "print(\"Case 1: \", Solution().uniqueOccurrences(arr = [1,2,2,1,1,3]))\n",
    "print(\"Case 2: \", Solution().uniqueOccurrences(arr = [1,2]))"
   ]
  },
  {
   "cell_type": "code",
   "execution_count": null,
   "id": "39251395",
   "metadata": {},
   "outputs": [],
   "source": []
  }
 ],
 "metadata": {
  "kernelspec": {
   "display_name": "Python 3",
   "language": "python",
   "name": "python3"
  },
  "language_info": {
   "codemirror_mode": {
    "name": "ipython",
    "version": 3
   },
   "file_extension": ".py",
   "mimetype": "text/x-python",
   "name": "python",
   "nbconvert_exporter": "python",
   "pygments_lexer": "ipython3",
   "version": "3.8.8"
  }
 },
 "nbformat": 4,
 "nbformat_minor": 5
}
