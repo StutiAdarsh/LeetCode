{
 "cells": [
  {
   "cell_type": "code",
   "execution_count": 1,
   "id": "a34501f0",
   "metadata": {},
   "outputs": [],
   "source": [
    "class Solution(object):\n",
    "    def longestCommonPrefix(self, strs):\n",
    "        \"\"\"\n",
    "        :type strs: List[str]\n",
    "        :rtype: str\n",
    "        \"\"\"\n",
    "        \n",
    "        if not strs:\n",
    "            return \"\"\n",
    "        #since list of string will be sorted and retrieved min max by alphebetic order\n",
    "        s1 = min(strs)\n",
    "        s2 = max(strs)\n",
    "        for i,char in enumerate(s1): #stop until hit the split index\n",
    "            if char != s2[i]:\n",
    "                return s1[:i]\n",
    "        return s1\n",
    "    \n",
    "#Time: O(n * m), where n is the number of strings and m is the length of the shortest string.\n",
    "#Space: O(1): because we only use a constant amount of extra space regardless of the input size."
   ]
  },
  {
   "cell_type": "code",
   "execution_count": 2,
   "id": "2ec15c2c",
   "metadata": {},
   "outputs": [
    {
     "name": "stdout",
     "output_type": "stream",
     "text": [
      "Longest common prefix: fl\n"
     ]
    }
   ],
   "source": [
    "solution = Solution()\n",
    "input_strs = [\"flower\", \"flow\", \"flight\"]\n",
    "output = solution.longestCommonPrefix(input_strs)\n",
    "print(\"Longest common prefix:\", output)  # Output: \"fl\""
   ]
  },
  {
   "cell_type": "code",
   "execution_count": null,
   "id": "3644212e",
   "metadata": {},
   "outputs": [],
   "source": []
  }
 ],
 "metadata": {
  "kernelspec": {
   "display_name": "Python 3",
   "language": "python",
   "name": "python3"
  },
  "language_info": {
   "codemirror_mode": {
    "name": "ipython",
    "version": 3
   },
   "file_extension": ".py",
   "mimetype": "text/x-python",
   "name": "python",
   "nbconvert_exporter": "python",
   "pygments_lexer": "ipython3",
   "version": "3.8.8"
  }
 },
 "nbformat": 4,
 "nbformat_minor": 5
}
