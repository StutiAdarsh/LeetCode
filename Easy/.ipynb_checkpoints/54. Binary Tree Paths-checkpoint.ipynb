{
 "cells": [
  {
   "cell_type": "code",
   "execution_count": 5,
   "id": "736ce27e",
   "metadata": {},
   "outputs": [],
   "source": [
    "# Definition for a binary tree node.\n",
    "class TreeNode(object):\n",
    "    def __init__(self, val=0, left=None, right=None):\n",
    "        self.val = val\n",
    "        self.left = left\n",
    "        self.right = right\n",
    "\n",
    "class Solution(object):\n",
    "    def binaryTreePaths(self, root):\n",
    "        \"\"\"\n",
    "        :type root: TreeNode\n",
    "        :rtype: List[str]\n",
    "        \"\"\"\n",
    "        \n",
    "        def dfs(root, path):\n",
    "            if root:\n",
    "                path += str(root.val)\n",
    "                if not root.left and not root.right:\n",
    "                    paths.append(path)\n",
    "                else:\n",
    "                    path += '->'\n",
    "                    dfs(root.left, path)\n",
    "                    dfs(root.right, path)\n",
    "        paths = []\n",
    "        dfs(root,'')\n",
    "        return paths\n",
    "    \n",
    "#Time: O(N)- to traverse each node top down DFS\n",
    "#Space: O(N) -  recursive stack that stores all N nodes in traversal"
   ]
  },
  {
   "cell_type": "code",
   "execution_count": 6,
   "id": "2d6e5da2",
   "metadata": {},
   "outputs": [
    {
     "name": "stdout",
     "output_type": "stream",
     "text": [
      "Binary Tree Paths:  ['1->2->5', '1->3']\n"
     ]
    }
   ],
   "source": [
    "root = TreeNode(1)\n",
    "root.left = TreeNode(2)\n",
    "root.right = TreeNode(3)\n",
    "root.left.right = TreeNode(5)\n",
    "\n",
    "sol = Solution()\n",
    "\n",
    "print(\"Binary Tree Paths: \", sol.binaryTreePaths(root))"
   ]
  },
  {
   "cell_type": "code",
   "execution_count": null,
   "id": "557ba9e2",
   "metadata": {},
   "outputs": [],
   "source": []
  }
 ],
 "metadata": {
  "kernelspec": {
   "display_name": "Python 3",
   "language": "python",
   "name": "python3"
  },
  "language_info": {
   "codemirror_mode": {
    "name": "ipython",
    "version": 3
   },
   "file_extension": ".py",
   "mimetype": "text/x-python",
   "name": "python",
   "nbconvert_exporter": "python",
   "pygments_lexer": "ipython3",
   "version": "3.8.8"
  }
 },
 "nbformat": 4,
 "nbformat_minor": 5
}
