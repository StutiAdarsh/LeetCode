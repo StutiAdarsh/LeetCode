{
 "cells": [
  {
   "cell_type": "code",
   "execution_count": 1,
   "id": "d45affe8",
   "metadata": {},
   "outputs": [],
   "source": [
    "class Solution(object):\n",
    "    def generatePossibleNextMoves(self, currentState):\n",
    "        \"\"\"\n",
    "        :type currentState: str\n",
    "        :rtype: List[str]\n",
    "        \"\"\"\n",
    "        ans = []\n",
    "        for i in range(len(currentState)-1):\n",
    "            if currentState[i] == '+' and currentState[i+1] == '+':\n",
    "                k = list(currentState)\n",
    "                k[i], k [i+1] = '-', '-'\n",
    "                ans.append(\"\".join(k))\n",
    "        return ans\n",
    "\n",
    "#Time: O(N)- where n is the length of string\n",
    "#Space: O(1) - constant input w.r.t input size"
   ]
  },
  {
   "cell_type": "code",
   "execution_count": 2,
   "id": "8a0eb547",
   "metadata": {},
   "outputs": [
    {
     "name": "stdout",
     "output_type": "stream",
     "text": [
      "Flip game:  ['--++', '+--+', '++--']\n",
      "Flip game:  []\n"
     ]
    }
   ],
   "source": [
    "sol = Solution()\n",
    "print(\"Flip game: \", sol.generatePossibleNextMoves(currentState = \"++++\"))\n",
    "print(\"Flip game: \", sol.generatePossibleNextMoves(currentState = \"+\"))"
   ]
  },
  {
   "cell_type": "code",
   "execution_count": null,
   "id": "82525dea",
   "metadata": {},
   "outputs": [],
   "source": []
  }
 ],
 "metadata": {
  "kernelspec": {
   "display_name": "Python 3",
   "language": "python",
   "name": "python3"
  },
  "language_info": {
   "codemirror_mode": {
    "name": "ipython",
    "version": 3
   },
   "file_extension": ".py",
   "mimetype": "text/x-python",
   "name": "python",
   "nbconvert_exporter": "python",
   "pygments_lexer": "ipython3",
   "version": "3.8.8"
  }
 },
 "nbformat": 4,
 "nbformat_minor": 5
}
