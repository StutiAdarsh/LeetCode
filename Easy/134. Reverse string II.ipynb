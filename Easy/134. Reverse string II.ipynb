{
 "cells": [
  {
   "cell_type": "code",
   "execution_count": 1,
   "id": "1b325216",
   "metadata": {},
   "outputs": [],
   "source": [
    "class Solution(object):\n",
    "    def reverseStr(self, s, k):\n",
    "        \"\"\"\n",
    "        :type s: str\n",
    "        :type k: int\n",
    "        :rtype: str\n",
    "        \"\"\"\n",
    "        s=list(s)\n",
    "        for i in range(0,len(s),2*k):\n",
    "            s[i:i+k]=(s[i:i+k])[::-1]\n",
    "        return ''.join(s)\n",
    "\n",
    "#Time: O(N) - where n is the length of the input string s.\n",
    "#Space: O(N) - converts the input string s into a list of characters, which requires additional space of size n."
   ]
  },
  {
   "cell_type": "code",
   "execution_count": 2,
   "id": "eb4ddb1a",
   "metadata": {},
   "outputs": [
    {
     "name": "stdout",
     "output_type": "stream",
     "text": [
      "Reverse string:  bacdfeg\n",
      "Reverse string:  bacd\n"
     ]
    }
   ],
   "source": [
    "sol = Solution()\n",
    "print(\"Reverse string: \", sol.reverseStr(s = \"abcdefg\", k = 2))\n",
    "print(\"Reverse string: \", sol.reverseStr(s = \"abcd\", k = 2))"
   ]
  },
  {
   "cell_type": "code",
   "execution_count": null,
   "id": "c1b62354",
   "metadata": {},
   "outputs": [],
   "source": []
  }
 ],
 "metadata": {
  "kernelspec": {
   "display_name": "Python 3",
   "language": "python",
   "name": "python3"
  },
  "language_info": {
   "codemirror_mode": {
    "name": "ipython",
    "version": 3
   },
   "file_extension": ".py",
   "mimetype": "text/x-python",
   "name": "python",
   "nbconvert_exporter": "python",
   "pygments_lexer": "ipython3",
   "version": "3.8.8"
  }
 },
 "nbformat": 4,
 "nbformat_minor": 5
}
