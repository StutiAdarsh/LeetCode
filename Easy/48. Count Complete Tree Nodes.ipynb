{
 "cells": [
  {
   "cell_type": "code",
   "execution_count": 5,
   "id": "1b934872",
   "metadata": {},
   "outputs": [
    {
     "name": "stdout",
     "output_type": "stream",
     "text": [
      "Total number of nodes in the binary tree: 6\n"
     ]
    }
   ],
   "source": [
    "# Definition for a binary tree node.\n",
    "class TreeNode(object):\n",
    "    def __init__(self, val=0, left=None, right=None):\n",
    "        self.val = val\n",
    "        self.left = left\n",
    "        self.right = right\n",
    "\n",
    "class Solution(object):\n",
    "    def countNodes(self, root):\n",
    "        \"\"\"\n",
    "        :type root: TreeNode\n",
    "        :rtype: int\n",
    "        \"\"\"\n",
    "        # Approach 1: DFS - O(N) time\n",
    "        if not root:\n",
    "            return 0\n",
    "\n",
    "        return self.countNodes(root.left) + self.countNodes(root.right) + 1\n",
    "    \n",
    "#Time: O(N) - to recursively traverse all N nodes of tree top down to count N nodes\n",
    "# space: O(N) - worst case balanced having N nodes else will be O(H) where H is height/max depth of tree\n",
    "    \n",
    "# Example usage:\n",
    "# Create a binary tree\n",
    "root = TreeNode(1)\n",
    "root.left = TreeNode(2)\n",
    "root.right = TreeNode(3)\n",
    "root.left.left = TreeNode(4)\n",
    "root.left.right = TreeNode(5)\n",
    "root.right.left = TreeNode(6)\n",
    "\n",
    "# Create an instance of the Solution class\n",
    "sol = Solution()\n",
    "\n",
    "# Call the countNodes method and print the output\n",
    "output = sol.countNodes(root)\n",
    "print(\"Total number of nodes in the binary tree:\", output)"
   ]
  },
  {
   "cell_type": "code",
   "execution_count": 4,
   "id": "55d08d7c",
   "metadata": {},
   "outputs": [
    {
     "name": "stdout",
     "output_type": "stream",
     "text": [
      "Total number of nodes in the binary tree: 6\n"
     ]
    }
   ],
   "source": [
    "# Apprach 2: DFS - O(log n *log n) time\n",
    "\n",
    "# Definition for a binary tree node.\n",
    "class TreeNode(object):\n",
    "    def __init__(self, val=0, left=None, right=None):\n",
    "        self.val = val\n",
    "        self.left = left\n",
    "        self.right = right\n",
    "\n",
    "class Solution(object):\n",
    "    def countNodes(self, root):\n",
    "        \"\"\"\n",
    "        :type root: TreeNode\n",
    "        :rtype: int\n",
    "        \"\"\"     \n",
    "        if not root: return 0\n",
    "\n",
    "        def lheight(node):\n",
    "            if not node: return 0\n",
    "            return 1 + lheight(node.left)\n",
    "\n",
    "        def rheight(node):\n",
    "            if not node: return 0\n",
    "            return 1 + rheight(node.right)\n",
    "\n",
    "        left, right = lheight(root), rheight(root)\n",
    "\n",
    "        if left > right:\n",
    "            return 1 + self.countNodes(root.left) + self.countNodes(root.right)\n",
    "        else:\n",
    "            # nodes formula - 2 * height -1\n",
    "            return 2**left - 1\n",
    "\n",
    "# TIME\n",
    "#Time: O(log n * log n) - The time complexity of this approach is O(log n * log n), \n",
    "#where n is the number of nodes in the binary tree.\n",
    "#The height of the binary tree is calculated in O(log n) time for both the left and right subtrees.\n",
    "#The number of nodes is counted recursively in O(log n) time for each level of the tree.\n",
    "\n",
    "# SPACE\n",
    "#Space: O(log n) - The space complexity mainly consists of the recursion stack space, \n",
    "#which is proportional to the height of the tree. \n",
    "#Therefore, the space complexity is O(log n) as well.\n",
    "\n",
    "# Example usage:\n",
    "# Create a binary tree\n",
    "root = TreeNode(1)\n",
    "root.left = TreeNode(2)\n",
    "root.right = TreeNode(3)\n",
    "root.left.left = TreeNode(4)\n",
    "root.left.right = TreeNode(5)\n",
    "root.right.left = TreeNode(6)\n",
    "\n",
    "# Create an instance of the Solution class\n",
    "sol = Solution()\n",
    "\n",
    "# Call the countNodes method and print the output\n",
    "output = sol.countNodes(root)\n",
    "print(\"Total number of nodes in the binary tree:\", output)"
   ]
  }
 ],
 "metadata": {
  "kernelspec": {
   "display_name": "Python 3",
   "language": "python",
   "name": "python3"
  },
  "language_info": {
   "codemirror_mode": {
    "name": "ipython",
    "version": 3
   },
   "file_extension": ".py",
   "mimetype": "text/x-python",
   "name": "python",
   "nbconvert_exporter": "python",
   "pygments_lexer": "ipython3",
   "version": "3.8.8"
  }
 },
 "nbformat": 4,
 "nbformat_minor": 5
}
