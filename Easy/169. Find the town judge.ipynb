{
 "cells": [
  {
   "cell_type": "code",
   "execution_count": 15,
   "id": "7f4ae29b-84fe-49c3-91c7-d160400d1e41",
   "metadata": {},
   "outputs": [],
   "source": [
    "from collections import defaultdict\n",
    "class Solution(object):\n",
    "    def findJudge(self, n, trust):\n",
    "        \"\"\"\n",
    "        :type n: int\n",
    "        :type trust: List[List[int]]\n",
    "        :rtype: int\n",
    "        \"\"\"\n",
    "        if len(trust) < n-1:\n",
    "            return -1\n",
    "\n",
    "        outdegree = defaultdict(int)\n",
    "        indegree = defaultdict(int)\n",
    "\n",
    "        for a,b in trust:\n",
    "            outdegree[a] += 1\n",
    "            indegree[b] += 1\n",
    "\n",
    "        for i in range(1, n+1):\n",
    "            if indegree[i] == n-1 and outdegree[i] == 0:\n",
    "                return i\n",
    "\n",
    "        return -1\n",
    "        \n",
    "\n",
    "#Time: O(E+N) - where N is number of nodes or vertices and E is number of edges to traverse\n",
    "#Space: O(N) - to store N nodes or vertices in the hashmap"
   ]
  },
  {
   "cell_type": "code",
   "execution_count": 17,
   "id": "13890f89-1eab-4418-8019-99c9f034faf6",
   "metadata": {},
   "outputs": [
    {
     "name": "stdout",
     "output_type": "stream",
     "text": [
      "The town judge is:  3\n"
     ]
    }
   ],
   "source": [
    "# Example usage:\n",
    "N = 3\n",
    "trust = [[1, 3], [2, 3]]\n",
    "\n",
    "ob = Solution()\n",
    "print(\"The town judge is: \", ob.findJudge(N, trust))  # Output: 3"
   ]
  },
  {
   "cell_type": "code",
   "execution_count": null,
   "id": "985270d8-b97f-4a19-8ec5-546387d08ab0",
   "metadata": {},
   "outputs": [],
   "source": []
  }
 ],
 "metadata": {
  "kernelspec": {
   "display_name": "Python 3 (ipykernel)",
   "language": "python",
   "name": "python3"
  },
  "language_info": {
   "codemirror_mode": {
    "name": "ipython",
    "version": 3
   },
   "file_extension": ".py",
   "mimetype": "text/x-python",
   "name": "python",
   "nbconvert_exporter": "python",
   "pygments_lexer": "ipython3",
   "version": "3.12.4"
  }
 },
 "nbformat": 4,
 "nbformat_minor": 5
}
