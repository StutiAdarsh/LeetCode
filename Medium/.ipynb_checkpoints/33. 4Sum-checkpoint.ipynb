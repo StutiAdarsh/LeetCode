{
 "cells": [
  {
   "cell_type": "code",
   "execution_count": 41,
   "id": "1a59528e-e34d-4bff-b55b-bfb128a8813c",
   "metadata": {},
   "outputs": [],
   "source": [
    "class Solution(object):\n",
    "    def fourSum(self, nums, target):\n",
    "        \"\"\"\n",
    "        :type nums: List[int]\n",
    "        :type target: int\n",
    "        :rtype: List[List[int]]\n",
    "        \"\"\"\n",
    "        res, quad = [], []\n",
    "        nums.sort()\n",
    "\n",
    "        def kSum(k, start, target):\n",
    "            if k != 2:\n",
    "                for i in range(start, len(nums)-k+1):\n",
    "                    if i > start and nums[i] == nums[i-1]:\n",
    "                        continue\n",
    "                    quad.append(nums[i])\n",
    "                    kSum(k-1, i+1, target-nums[i])\n",
    "                    quad.pop()\n",
    "                return \n",
    "        \n",
    "            l, r = start, len(nums)-1\n",
    "            while l < r:\n",
    "                if nums[l] + nums[r] > target:\n",
    "                    r -= 1\n",
    "                elif nums[l] + nums[r] < target:\n",
    "                    l += 1\n",
    "                else:\n",
    "                    res.append(quad + [nums[l], nums[r]])\n",
    "                    l += 1\n",
    "                    while l < r and nums[l] == nums[l-1]:\n",
    "                        l += 1\n",
    "\n",
    "        kSum(4, 0, target)\n",
    "        return res\n",
    "                \n",
    "\n",
    "#Time: O(N^3) \n",
    "#twoSumII is O(n), and we call it n times.\n",
    "#Sorting the array takes O(nlogn), so overall complexity is O(nlogn+n^3). therefore, O(n^2)\n",
    "        \n",
    "#Space: O(N) - to store the N elements sorted for array"
   ]
  },
  {
   "cell_type": "code",
   "execution_count": 43,
   "id": "2b0e49d5-34e2-4b60-b466-79e61cd7e4df",
   "metadata": {},
   "outputs": [
    {
     "name": "stdout",
     "output_type": "stream",
     "text": [
      "4Sum:  [[-2, -1, 1, 2], [-2, 0, 0, 2], [-1, 0, 0, 1]]\n"
     ]
    }
   ],
   "source": [
    "ob = Solution()\n",
    "\n",
    "print(\"4Sum: \", ob.fourSum(nums = [1,0,-1,0,-2,2], target = 0))"
   ]
  },
  {
   "cell_type": "code",
   "execution_count": null,
   "id": "6113e1ae-7aad-4b99-bb88-bc9291b37a74",
   "metadata": {},
   "outputs": [],
   "source": []
  }
 ],
 "metadata": {
  "kernelspec": {
   "display_name": "Python 3 (ipykernel)",
   "language": "python",
   "name": "python3"
  },
  "language_info": {
   "codemirror_mode": {
    "name": "ipython",
    "version": 3
   },
   "file_extension": ".py",
   "mimetype": "text/x-python",
   "name": "python",
   "nbconvert_exporter": "python",
   "pygments_lexer": "ipython3",
   "version": "3.12.4"
  }
 },
 "nbformat": 4,
 "nbformat_minor": 5
}
