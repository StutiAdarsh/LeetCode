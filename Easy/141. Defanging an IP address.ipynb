{
 "cells": [
  {
   "cell_type": "code",
   "execution_count": 1,
   "id": "4ec58620",
   "metadata": {},
   "outputs": [],
   "source": [
    "class Solution(object):\n",
    "    def defangIPaddr(self, address):\n",
    "        \"\"\"\n",
    "        :type address: str\n",
    "        :rtype: str\n",
    "        \"\"\"\n",
    "        return address.replace('.','[.]')\n",
    "    \n",
    "#Time: O(N)\n",
    "#for N lenght of the input address to iterate over each and replace\n",
    "\n",
    "#Space: O(N)\n",
    "#This is because the function returns a new string that is \n",
    "#the same length as the input string address, except with '[.]' replacing each '.'."
   ]
  },
  {
   "cell_type": "code",
   "execution_count": 2,
   "id": "34cb2da1",
   "metadata": {},
   "outputs": [
    {
     "name": "stdout",
     "output_type": "stream",
     "text": [
      "IP:  1[.]1[.]1[.]1\n"
     ]
    }
   ],
   "source": [
    "sol = Solution()\n",
    "print(\"IP: \", sol.defangIPaddr(\"1.1.1.1\"))"
   ]
  },
  {
   "cell_type": "code",
   "execution_count": 6,
   "id": "6e3d1f37",
   "metadata": {},
   "outputs": [
    {
     "name": "stdout",
     "output_type": "stream",
     "text": [
      "IP:  1[.]1[.]1[.]1\n"
     ]
    }
   ],
   "source": [
    "class Solution(object):\n",
    "    def defangIPaddr(self, address):\n",
    "        \"\"\"\n",
    "        :type address: str\n",
    "        :rtype: str\n",
    "        \"\"\"\n",
    "        return \"[.]\".join(address.split('.'))\n",
    "    \n",
    "#Time: O(N) - for n length of address\n",
    "#Space: O(N) - for new string replaced to store after join \n",
    "\n",
    "sol = Solution()\n",
    "print(\"IP: \", sol.defangIPaddr(\"1.1.1.1\"))"
   ]
  },
  {
   "cell_type": "code",
   "execution_count": 7,
   "id": "1592bc49",
   "metadata": {},
   "outputs": [
    {
     "name": "stdout",
     "output_type": "stream",
     "text": [
      "IP:  1[.]1[.]1[.]1\n"
     ]
    }
   ],
   "source": [
    "class Solution(object):\n",
    "    def defangIPaddr(self, address):\n",
    "        \"\"\"\n",
    "        :type address: str\n",
    "        :rtype: str\n",
    "        \"\"\"\n",
    "        output=\"\";\n",
    "        for i in address:\n",
    "            if i =='.':\n",
    "                output += \"[.]\"\n",
    "            else:\n",
    "                output += i\n",
    "        return output\n",
    "    \n",
    "#Time: O(N) - for n length of address\n",
    "#Space: O(N) - for new string replaced to store after join\n",
    "\n",
    "sol = Solution()\n",
    "print(\"IP: \", sol.defangIPaddr(\"1.1.1.1\"))"
   ]
  },
  {
   "cell_type": "code",
   "execution_count": null,
   "id": "bf6fcda3",
   "metadata": {},
   "outputs": [],
   "source": []
  }
 ],
 "metadata": {
  "kernelspec": {
   "display_name": "Python 3",
   "language": "python",
   "name": "python3"
  },
  "language_info": {
   "codemirror_mode": {
    "name": "ipython",
    "version": 3
   },
   "file_extension": ".py",
   "mimetype": "text/x-python",
   "name": "python",
   "nbconvert_exporter": "python",
   "pygments_lexer": "ipython3",
   "version": "3.8.8"
  }
 },
 "nbformat": 4,
 "nbformat_minor": 5
}
