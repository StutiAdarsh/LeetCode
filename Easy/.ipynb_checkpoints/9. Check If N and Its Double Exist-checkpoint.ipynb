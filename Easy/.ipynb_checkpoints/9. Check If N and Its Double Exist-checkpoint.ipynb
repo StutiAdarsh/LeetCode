{
 "cells": [
  {
   "cell_type": "code",
   "execution_count": 7,
   "id": "f31e6a80",
   "metadata": {},
   "outputs": [
    {
     "name": "stdout",
     "output_type": "stream",
     "text": [
      "Case 1:  True\n",
      "Case 2:  False\n"
     ]
    }
   ],
   "source": [
    "class Solution(object):\n",
    "    def checkIfExist(self, arr):\n",
    "        \"\"\"\n",
    "        :type arr: List[int]\n",
    "        :rtype: bool\n",
    "        \"\"\"\n",
    "        for i in range(len(arr)):\n",
    "            if arr[i]*2 in (arr[:i] + arr[i+1:]):\n",
    "                return True\n",
    "        return False\n",
    "    \n",
    "    \n",
    "ob = Solution()\n",
    "print(\"Case 1: \", ob.checkIfExist([10,2,5,3]))\n",
    "print(\"Case 2: \", ob.checkIfExist([3,1,7,11]))\n",
    "\n",
    "\n",
    "\n"
   ]
  },
  {
   "cell_type": "markdown",
   "id": "7551c45c",
   "metadata": {},
   "source": [
    "Time Complexity:\n",
    "\n",
    "The code uses a for loop to iterate through each element arr[i] in the arr list, which results in a linear time operation.\n",
    "Inside the loop, it performs a slice operation to create a new list arr[:i] + arr[i+1:], which combines all elements except the current element arr[i]. This slice operation creates a new list, and its time complexity is O(n), where \"n\" is the length of the arr list.\n",
    "After creating the new list, it checks if arr[i] * 2 is present in this new list using the in operator. This operation involves scanning through the new list to find the element, which can take up to O(n) time in the worst case.\n",
    "Since the loop and the slice operation are performed for each element, the overall time complexity of the code is O(n^2), where \"n\" is the length of the arr list.\n",
    "\n",
    "\n",
    "\n",
    "\n",
    "Space Complexity:\n",
    "\n",
    "The code creates a new list arr[:i] + arr[i+1:] inside the loop, which can consume additional memory.\n",
    "The space complexity of this code depends on the size of this new list. In the worst case, the new list can be nearly the same size as the original arr list.\n",
    "Therefore, the space complexity is O(n), where \"n\" is the length of the arr list.\n",
    "\n",
    "\n",
    "\n",
    "\n",
    "In summary:\n",
    "\n",
    "Time Complexity: O(n^2), where \"n\" is the length of the arr list.\n",
    "\n",
    "\n",
    "Space Complexity: O(n), where \"n\" is the length of the arr list.\n",
    "\n",
    "\n"
   ]
  },
  {
   "cell_type": "markdown",
   "id": "51297db3",
   "metadata": {},
   "source": [
    "Approach 2: Better space complexity"
   ]
  },
  {
   "cell_type": "code",
   "execution_count": 13,
   "id": "6c86fa36",
   "metadata": {},
   "outputs": [
    {
     "name": "stdout",
     "output_type": "stream",
     "text": [
      "Case 1:  True\n",
      "Case 2:  False\n"
     ]
    }
   ],
   "source": [
    "class Solution(object):\n",
    "    def checkIfExist(self, arr):\n",
    "        \"\"\"\n",
    "        :type arr: List[int]\n",
    "        :rtype: bool\n",
    "        \"\"\"\n",
    "        for i in range(len(arr)):\n",
    "            if arr[i]*2 in arr and arr.index(arr[i]*2) != i:\n",
    "                return True\n",
    "        return False\n",
    "    \n",
    "ob = Solution()\n",
    "print(\"Case 1: \", ob.checkIfExist([10,2,5,3]))\n",
    "print(\"Case 2: \", ob.checkIfExist([3,1,7,11]))\n",
    "\n",
    "#Time: O(n^2), as for each iteration of n elements and in is done to check which takes N time. \n",
    "#Space: O(1), constant space\n"
   ]
  },
  {
   "cell_type": "code",
   "execution_count": 2,
   "id": "d770521e",
   "metadata": {},
   "outputs": [
    {
     "name": "stdout",
     "output_type": "stream",
     "text": [
      "Case 1:  True\n",
      "Case 2:  False\n"
     ]
    }
   ],
   "source": [
    "class Solution(object):\n",
    "    def checkIfExist(self, arr):\n",
    "        \"\"\"\n",
    "        :type arr: List[int]\n",
    "        :rtype: bool\n",
    "        \"\"\"\n",
    "        if arr.count(0) > 1: return True\n",
    "        s = set(arr) - {0}\n",
    "        \n",
    "        for i in arr:\n",
    "            if i*2 in s:\n",
    "                return True\n",
    "        return False\n",
    "    \n",
    "ob = Solution()\n",
    "print(\"Case 1: \", ob.checkIfExist([10,2,5,3]))\n",
    "print(\"Case 2: \", ob.checkIfExist([3,1,7,11]))\n",
    "\n",
    "#Time: O(n^2), as for each iteration of n elements and in is done to check which takes N time. \n",
    "#Space: O(1), constant space\n"
   ]
  },
  {
   "cell_type": "code",
   "execution_count": null,
   "id": "9ad2f874",
   "metadata": {},
   "outputs": [],
   "source": []
  }
 ],
 "metadata": {
  "kernelspec": {
   "display_name": "Python 3",
   "language": "python",
   "name": "python3"
  },
  "language_info": {
   "codemirror_mode": {
    "name": "ipython",
    "version": 3
   },
   "file_extension": ".py",
   "mimetype": "text/x-python",
   "name": "python",
   "nbconvert_exporter": "python",
   "pygments_lexer": "ipython3",
   "version": "3.8.8"
  }
 },
 "nbformat": 4,
 "nbformat_minor": 5
}
