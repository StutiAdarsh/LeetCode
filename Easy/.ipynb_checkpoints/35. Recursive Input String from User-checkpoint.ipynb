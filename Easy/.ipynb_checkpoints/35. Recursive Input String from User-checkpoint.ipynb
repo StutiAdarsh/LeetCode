{
 "cells": [
  {
   "cell_type": "code",
   "execution_count": 4,
   "id": "d8680ac9",
   "metadata": {},
   "outputs": [
    {
     "name": "stdout",
     "output_type": "stream",
     "text": [
      "Enter a string: stuti\n",
      "Reversed string is:  ituts\n"
     ]
    }
   ],
   "source": [
    "# Recursive\n",
    "\n",
    "def recursiveStr(s):\n",
    "    if len(s) == 0:\n",
    "        return s\n",
    "    else:\n",
    "        return recursiveStr(s[1:]) + s[0]\n",
    "    \n",
    "s = input(\"Enter a string: \")   \n",
    "print(\"Reversed string is: \", recursiveStr(s))"
   ]
  },
  {
   "cell_type": "code",
   "execution_count": 5,
   "id": "fafda02d",
   "metadata": {},
   "outputs": [
    {
     "name": "stdout",
     "output_type": "stream",
     "text": [
      "Revsersed:  skeeg rof skeeG\n"
     ]
    }
   ],
   "source": [
    "# Iterative\n",
    "\n",
    "def iterative(s):\n",
    "    rev_s = \"\"\n",
    "    for i in s:\n",
    "        rev_s = i + rev_s\n",
    "    return rev_s\n",
    "\n",
    "print(\"Revsersed: \", iterative(\"Geeks for geeks\"))\n",
    "\n",
    "# Time: O(N), where n is len of string\n",
    "# Space: O(1), no extra space used, auxillary space"
   ]
  },
  {
   "cell_type": "code",
   "execution_count": 7,
   "id": "ce926687",
   "metadata": {},
   "outputs": [
    {
     "name": "stdout",
     "output_type": "stream",
     "text": [
      "The original string  is :  Geeksforgeeks\n",
      "The reversed string(using reversed) is :  skeegrofskeeG\n"
     ]
    }
   ],
   "source": [
    "# Function to reverse a string\n",
    "def reverse(string):\n",
    "    return \"\".join([string[i] for i in range(len(string)-1, -1, -1)])\n",
    " \n",
    "s = \"Geeksforgeeks\"\n",
    "print(\"The original string  is : \", s)\n",
    "print(\"The reversed string(using reversed) is : \", reverse(s))\n",
    "\n",
    "#Time: O(n)\n",
    "#Space: O(1)"
   ]
  },
  {
   "cell_type": "code",
   "execution_count": 9,
   "id": "d6a6211e",
   "metadata": {},
   "outputs": [
    {
     "name": "stdout",
     "output_type": "stream",
     "text": [
      "The original string  is :  Geeksforgeeks\n",
      "The reversed string(using reversed) is :  skeegrofskeeG\n"
     ]
    }
   ],
   "source": [
    "# Function to reverse a string\n",
    "def reverse(string):\n",
    "    return string[::-1]\n",
    "\n",
    " \n",
    "s = \"Geeksforgeeks\"\n",
    "print(\"The original string  is : \", s)\n",
    "print(\"The reversed string(using reversed) is : \", reverse(s))\n",
    "\n",
    "#Time: O(n)\n",
    "#Space: O(1)"
   ]
  },
  {
   "cell_type": "code",
   "execution_count": null,
   "id": "f26e5fd4",
   "metadata": {},
   "outputs": [],
   "source": []
  }
 ],
 "metadata": {
  "kernelspec": {
   "display_name": "Python 3",
   "language": "python",
   "name": "python3"
  },
  "language_info": {
   "codemirror_mode": {
    "name": "ipython",
    "version": 3
   },
   "file_extension": ".py",
   "mimetype": "text/x-python",
   "name": "python",
   "nbconvert_exporter": "python",
   "pygments_lexer": "ipython3",
   "version": "3.8.8"
  }
 },
 "nbformat": 4,
 "nbformat_minor": 5
}
