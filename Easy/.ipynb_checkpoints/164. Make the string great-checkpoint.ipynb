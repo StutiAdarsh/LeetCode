{
 "cells": [
  {
   "cell_type": "code",
   "execution_count": 1,
   "id": "6028c14a",
   "metadata": {},
   "outputs": [],
   "source": [
    "class Solution(object):\n",
    "    def makeGood(self, s):\n",
    "        \"\"\"\n",
    "        :type s: str\n",
    "        :rtype: str\n",
    "        \"\"\"\n",
    "        stack = []\n",
    "\n",
    "        for i in range(len(s)):\n",
    "            if stack and stack[-1]==s[i].swapcase():\n",
    "                stack.pop()\n",
    "            else:\n",
    "                stack.append(s[i])\n",
    "        return ''.join(stack)\n",
    "                \n",
    "#Time: iterating over each N character of input string\n",
    "#Space: the stack could store all characters of the string s, resulting in O(n) space."
   ]
  },
  {
   "cell_type": "code",
   "execution_count": 2,
   "id": "3e60bd4e",
   "metadata": {},
   "outputs": [
    {
     "name": "stdout",
     "output_type": "stream",
     "text": [
      "The resulting string after making it good is: leetcode\n"
     ]
    }
   ],
   "source": [
    "# Example usage:\n",
    "s = \"leEeetcode\"\n",
    "solution = Solution()\n",
    "output = solution.makeGood(s)\n",
    "print(f'The resulting string after making it good is: {output}')"
   ]
  },
  {
   "cell_type": "code",
   "execution_count": null,
   "id": "dcd40b75",
   "metadata": {},
   "outputs": [],
   "source": []
  }
 ],
 "metadata": {
  "kernelspec": {
   "display_name": "Python 3",
   "language": "python",
   "name": "python3"
  },
  "language_info": {
   "codemirror_mode": {
    "name": "ipython",
    "version": 3
   },
   "file_extension": ".py",
   "mimetype": "text/x-python",
   "name": "python",
   "nbconvert_exporter": "python",
   "pygments_lexer": "ipython3",
   "version": "3.8.8"
  }
 },
 "nbformat": 4,
 "nbformat_minor": 5
}
