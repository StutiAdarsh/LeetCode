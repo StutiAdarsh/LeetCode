{
 "cells": [
  {
   "cell_type": "code",
   "execution_count": 1,
   "id": "e198d00f",
   "metadata": {},
   "outputs": [],
   "source": [
    "# Definition for a binary tree node.\n",
    "class TreeNode(object):\n",
    "    def __init__(self, val=0, left=None, right=None):\n",
    "        self.val = val\n",
    "        self.left = left\n",
    "        self.right = right\n",
    "\n",
    "class Solution(object):\n",
    "    def sumRootToLeaf(self, root):\n",
    "        \"\"\"\n",
    "        :type root: TreeNode\n",
    "        :rtype: int\n",
    "        \"\"\"\n",
    "        def dfs(root, res):\n",
    "            if not root:\n",
    "                return 0\n",
    "\n",
    "            res = (2 *  res) + root.val\n",
    "            if not root.left and not root.right:\n",
    "                return res\n",
    "\n",
    "            return dfs(root.left, res) + dfs(root.right, res)\n",
    "\n",
    "        return dfs(root, 0)\n",
    "    \n",
    "#Time: O(N) -  time to traverse each node once tp down DFS\n",
    "#Space: O(N) -  worst case store each N node of tree during traversal for height of tree in recursive stack"
   ]
  },
  {
   "cell_type": "code",
   "execution_count": 2,
   "id": "dbc75835",
   "metadata": {},
   "outputs": [
    {
     "name": "stdout",
     "output_type": "stream",
     "text": [
      "Sum of root to leaf binary numbers:  22\n"
     ]
    }
   ],
   "source": [
    "root = TreeNode(1)\n",
    "root.left = TreeNode(0)\n",
    "root.right = TreeNode(1)\n",
    "root.left.left = TreeNode(0)\n",
    "root.left.right = TreeNode(1)\n",
    "root.right.left = TreeNode(0)\n",
    "root.right.right = TreeNode(1)\n",
    "\n",
    "sol = Solution()\n",
    "\n",
    "print(\"Sum of root to leaf binary numbers: \", sol.sumRootToLeaf(root))"
   ]
  },
  {
   "cell_type": "code",
   "execution_count": null,
   "id": "16d29c0b",
   "metadata": {},
   "outputs": [],
   "source": []
  }
 ],
 "metadata": {
  "kernelspec": {
   "display_name": "Python 3",
   "language": "python",
   "name": "python3"
  },
  "language_info": {
   "codemirror_mode": {
    "name": "ipython",
    "version": 3
   },
   "file_extension": ".py",
   "mimetype": "text/x-python",
   "name": "python",
   "nbconvert_exporter": "python",
   "pygments_lexer": "ipython3",
   "version": "3.8.8"
  }
 },
 "nbformat": 4,
 "nbformat_minor": 5
}
