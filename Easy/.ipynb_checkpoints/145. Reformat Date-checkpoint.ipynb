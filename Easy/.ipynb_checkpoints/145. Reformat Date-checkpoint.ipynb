{
 "cells": [
  {
   "cell_type": "code",
   "execution_count": 1,
   "id": "c41feb14",
   "metadata": {},
   "outputs": [],
   "source": [
    "class Solution(object):\n",
    "    def reformatDate(self, date):\n",
    "        \"\"\"\n",
    "        :type date: str\n",
    "        :rtype: str\n",
    "        \"\"\"\n",
    "        parts = date.split()\n",
    "\n",
    "        monthDict = {'Jan': '01', 'Feb': '02', \n",
    "                     'Mar': '03', 'Apr': '04', \n",
    "                     'May': '05', 'Jun': '06', \n",
    "                     'Jul': '07', 'Aug': '08', \n",
    "                     'Sep': '09', 'Oct': '10', \n",
    "                     'Nov': '11', 'Dec': '12'}\n",
    "        \n",
    "        day = parts[0][:-2] # Removes the last 2 elements of the day\n",
    "        month = parts[1] \n",
    "        year = parts[2]\n",
    "\n",
    "        if int(day) < 10:\n",
    "            day = '0' + day\n",
    "\n",
    "        return '{}-{}-{}'.format(year, monthDict[month], day)                          \n",
    "        \n",
    "#Time: O(1) - constant time\n",
    "#Space: O(1) - constant space"
   ]
  },
  {
   "cell_type": "code",
   "execution_count": 2,
   "id": "2d74154d",
   "metadata": {},
   "outputs": [
    {
     "name": "stdout",
     "output_type": "stream",
     "text": [
      "2052-10-20\n"
     ]
    }
   ],
   "source": [
    "# Create an instance of the Solution class\n",
    "sol = Solution()\n",
    "\n",
    "# Example usage\n",
    "date = \"20th Oct 2052\"\n",
    "result = sol.reformatDate(date)\n",
    "print(result)  # This should print \"2052-10-20\""
   ]
  },
  {
   "cell_type": "code",
   "execution_count": null,
   "id": "989b895e",
   "metadata": {},
   "outputs": [],
   "source": []
  }
 ],
 "metadata": {
  "kernelspec": {
   "display_name": "Python 3",
   "language": "python",
   "name": "python3"
  },
  "language_info": {
   "codemirror_mode": {
    "name": "ipython",
    "version": 3
   },
   "file_extension": ".py",
   "mimetype": "text/x-python",
   "name": "python",
   "nbconvert_exporter": "python",
   "pygments_lexer": "ipython3",
   "version": "3.8.8"
  }
 },
 "nbformat": 4,
 "nbformat_minor": 5
}
