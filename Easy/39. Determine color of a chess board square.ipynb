{
 "cells": [
  {
   "cell_type": "code",
   "execution_count": 1,
   "id": "314d8c54",
   "metadata": {},
   "outputs": [],
   "source": [
    "class Solution(object):\n",
    "    def squareIsWhite(self, coordinates):        \n",
    "        #Black - false\n",
    "        if coordinates[0] in \"aceg\" and int(coordinates[1]) % 2 != 0:\n",
    "            return False\n",
    "        \n",
    "        #Black -false\n",
    "        elif coordinates[0] in \"bdfh\" and int(coordinates[1]) % 2 == 0:\n",
    "            return False\n",
    "\n",
    "        #White -true\n",
    "        else:\n",
    "            return True\n",
    "        \n",
    "#Time: O(1), no extra time used\n",
    "#Space: O(1), no extra space used"
   ]
  },
  {
   "cell_type": "code",
   "execution_count": 2,
   "id": "a55b5bd6",
   "metadata": {},
   "outputs": [
    {
     "name": "stdout",
     "output_type": "stream",
     "text": [
      "Case 1:  False\n",
      "Case 2:  True\n",
      "Case 3:  False\n"
     ]
    }
   ],
   "source": [
    "ob = Solution()\n",
    "\n",
    "print(\"Case 1: \", ob.squareIsWhite(\"a1\"))\n",
    "print(\"Case 2: \", ob.squareIsWhite(\"h3\"))\n",
    "print(\"Case 3: \", ob.squareIsWhite(\"c7\"))"
   ]
  },
  {
   "cell_type": "code",
   "execution_count": null,
   "id": "5c46f550",
   "metadata": {},
   "outputs": [],
   "source": []
  }
 ],
 "metadata": {
  "kernelspec": {
   "display_name": "Python 3",
   "language": "python",
   "name": "python3"
  },
  "language_info": {
   "codemirror_mode": {
    "name": "ipython",
    "version": 3
   },
   "file_extension": ".py",
   "mimetype": "text/x-python",
   "name": "python",
   "nbconvert_exporter": "python",
   "pygments_lexer": "ipython3",
   "version": "3.8.8"
  }
 },
 "nbformat": 4,
 "nbformat_minor": 5
}
