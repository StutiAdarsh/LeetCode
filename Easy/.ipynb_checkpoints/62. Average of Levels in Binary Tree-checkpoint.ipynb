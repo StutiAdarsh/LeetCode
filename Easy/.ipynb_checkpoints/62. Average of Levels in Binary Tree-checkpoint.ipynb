{
 "cells": [
  {
   "cell_type": "code",
   "execution_count": 1,
   "id": "94644cfe",
   "metadata": {},
   "outputs": [],
   "source": [
    "# Definition for a binary tree node.\n",
    "class TreeNode(object):\n",
    "    def __init__(self, val=0, left=None, right=None):\n",
    "        self.val = val\n",
    "        self.left = left\n",
    "        self.right = right\n",
    "\n",
    "class Solution(object):\n",
    "    def averageOfLevels(self, root):\n",
    "        \"\"\"\n",
    "        :type root: TreeNode\n",
    "        :rtype: List[float]\n",
    "        \"\"\"\n",
    "        queue, result = deque([root]), []\n",
    "        \n",
    "        while queue:\n",
    "            level = []\n",
    "            for i in range(len(queue)):\n",
    "                node = queue.popleft()\n",
    "                level.append(node.val)\n",
    "                if node.left:  queue.append(node.left)\n",
    "                if node.right: queue.append(node.right)\n",
    "            result.append(sum(level)*1.0/len(level))\n",
    "        return result\n",
    "    \n",
    "#Time: O(N) - The function performs a Breadth-First Search (BFS) traversal of the binary tree, visiting each node once.\n",
    "#Space: O(N) - The space complexity is dominated by the space required to store nodes in the queue during BFS traversal.\n",
    "# where N is the number of nodes in the binary tree."
   ]
  },
  {
   "cell_type": "code",
   "execution_count": 2,
   "id": "fec74ae7",
   "metadata": {},
   "outputs": [
    {
     "name": "stdout",
     "output_type": "stream",
     "text": [
      "Average value of nodes at each level: [3.0, 14.5, 11.0]\n"
     ]
    }
   ],
   "source": [
    "from collections import deque\n",
    "\n",
    "# Example usage:\n",
    "if __name__ == \"__main__\":\n",
    "    # Create a binary tree\n",
    "    root = TreeNode(3)\n",
    "    root.left = TreeNode(9)\n",
    "    root.right = TreeNode(20)\n",
    "    root.right.left = TreeNode(15)\n",
    "    root.right.right = TreeNode(7)\n",
    "    \n",
    "    # Create an instance of the Solution class\n",
    "    sol = Solution()\n",
    "\n",
    "    # Call the averageOfLevels method and print the output\n",
    "    output = sol.averageOfLevels(root)\n",
    "    print(\"Average value of nodes at each level:\", output)"
   ]
  }
 ],
 "metadata": {
  "kernelspec": {
   "display_name": "Python 3",
   "language": "python",
   "name": "python3"
  },
  "language_info": {
   "codemirror_mode": {
    "name": "ipython",
    "version": 3
   },
   "file_extension": ".py",
   "mimetype": "text/x-python",
   "name": "python",
   "nbconvert_exporter": "python",
   "pygments_lexer": "ipython3",
   "version": "3.8.8"
  }
 },
 "nbformat": 4,
 "nbformat_minor": 5
}
