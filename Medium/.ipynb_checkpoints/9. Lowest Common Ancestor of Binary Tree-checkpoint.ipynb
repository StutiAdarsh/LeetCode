{
 "cells": [
  {
   "cell_type": "code",
   "execution_count": 1,
   "id": "42c45ce6",
   "metadata": {},
   "outputs": [],
   "source": [
    "# Definition for a binary tree node.\n",
    "class TreeNode(object):\n",
    "    def __init__(self, x):\n",
    "        self.val = x\n",
    "        self.left = None\n",
    "        self.right = None\n",
    "\n",
    "class Solution(object):\n",
    "    def lowestCommonAncestor(self, root, p, q):\n",
    "        \"\"\"\n",
    "        :type root: TreeNode\n",
    "        :type p: TreeNode\n",
    "        :type q: TreeNode\n",
    "        :rtype: TreeNode\n",
    "        \"\"\"        \n",
    "        if not root:\n",
    "            return root\n",
    "        \n",
    "        if root == p or root == q:\n",
    "            return root\n",
    "\n",
    "        left = self.lowestCommonAncestor(root.left, p, q)\n",
    "        right = self.lowestCommonAncestor(root.right, p, q)\n",
    "        \n",
    "        if left and right:\n",
    "            return root\n",
    "        else:\n",
    "            return left or right\n",
    "        \n",
    "#Time: O(N), we may need to visit all nodes in the binary tree to find the lowest common ancestor in worst case\n",
    "#Space: O(N), worst case-  due to the recursive calls made for each node in the tree, \n",
    "#which can lead to a maximum of O(N) recursive calls on the call stack."
   ]
  },
  {
   "cell_type": "code",
   "execution_count": 2,
   "id": "a44beba7",
   "metadata": {},
   "outputs": [
    {
     "name": "stdout",
     "output_type": "stream",
     "text": [
      "Lowest Common Ancestor of 5 and 1 : 3\n"
     ]
    }
   ],
   "source": [
    "root = TreeNode(3)\n",
    "root.left = TreeNode(5)\n",
    "root.right = TreeNode(1)\n",
    "root.left.left = TreeNode(6)\n",
    "root.left.right = TreeNode(2)\n",
    "root.right.left = TreeNode(0)\n",
    "root.right.right = TreeNode(8)\n",
    "root.left.right.left = TreeNode(7)\n",
    "root.left.right.right = TreeNode(4)\n",
    "\n",
    "# Define the nodes p and q\n",
    "p = root.left\n",
    "q = root.right\n",
    "\n",
    "# Create an instance of the Solution class\n",
    "sol = Solution()\n",
    "\n",
    "# Call the lowestCommonAncestor method\n",
    "ancestor = sol.lowestCommonAncestor(root, p, q)\n",
    "\n",
    "# Print and check the result\n",
    "print(\"Lowest Common Ancestor of\", p.val, \"and\", q.val, \":\", ancestor.val)"
   ]
  },
  {
   "cell_type": "code",
   "execution_count": null,
   "id": "c7eeefb6",
   "metadata": {},
   "outputs": [],
   "source": []
  }
 ],
 "metadata": {
  "kernelspec": {
   "display_name": "Python 3",
   "language": "python",
   "name": "python3"
  },
  "language_info": {
   "codemirror_mode": {
    "name": "ipython",
    "version": 3
   },
   "file_extension": ".py",
   "mimetype": "text/x-python",
   "name": "python",
   "nbconvert_exporter": "python",
   "pygments_lexer": "ipython3",
   "version": "3.8.8"
  }
 },
 "nbformat": 4,
 "nbformat_minor": 5
}
