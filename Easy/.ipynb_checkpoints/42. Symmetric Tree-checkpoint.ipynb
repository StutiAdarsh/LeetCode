{
 "cells": [
  {
   "cell_type": "code",
   "execution_count": 1,
   "id": "9c925caa",
   "metadata": {},
   "outputs": [],
   "source": [
    "# Definition for a binary tree node.\n",
    "class TreeNode(object):\n",
    "    def __init__(self, val=0, left=None, right=None):\n",
    "        self.val = val\n",
    "        self.left = left\n",
    "        self.right = right\n",
    "        \n",
    "class Solution(object):\n",
    "    def isSymmetric(self, root):\n",
    "        \"\"\"\n",
    "        :type root: TreeNode\n",
    "        :rtype: bool\n",
    "        \"\"\"\n",
    "        if not root:\n",
    "            return True\n",
    "        return self.isMirror(root.left, root.right)\n",
    "    \n",
    "    def isMirror(self, left, right):\n",
    "        if left and right:\n",
    "            return left.val == right.val and self.isMirror(left.left, right.right) and self.isMirror(left.right, right.left)\n",
    "\n",
    "        return left==right\n",
    "    \n",
    "\n",
    "#Time: O(N), time to traverse each node\n",
    "#Space: O(N), space for recursive stack for each node and in worst case would be height of tree which would be N"
   ]
  },
  {
   "cell_type": "code",
   "execution_count": 2,
   "id": "e3464135",
   "metadata": {},
   "outputs": [],
   "source": [
    "root = TreeNode(1)\n",
    "root.left = TreeNode(2)\n",
    "root.right = TreeNode(2)\n",
    "root.left.left = TreeNode(3)\n",
    "root.left.right = TreeNode(4)\n",
    "root.right.left = TreeNode(4)\n",
    "root.right.right = TreeNode(3)"
   ]
  },
  {
   "cell_type": "code",
   "execution_count": 3,
   "id": "9309bed4",
   "metadata": {},
   "outputs": [
    {
     "name": "stdout",
     "output_type": "stream",
     "text": [
      "Is tree symmentric? Ans:  True\n"
     ]
    }
   ],
   "source": [
    "solution = Solution()\n",
    "print(\"Is tree symmentric? Ans: \", solution.isSymmetric(root))"
   ]
  },
  {
   "cell_type": "code",
   "execution_count": 4,
   "id": "cedac7c7",
   "metadata": {},
   "outputs": [
    {
     "name": "stdout",
     "output_type": "stream",
     "text": [
      "Is tree symmentric? Ans:  False\n"
     ]
    }
   ],
   "source": [
    "root = TreeNode(1)\n",
    "root.left = TreeNode(2)\n",
    "root.right = TreeNode(2)\n",
    "root.left.left = TreeNode(3)\n",
    "root.left.right = TreeNode(4)\n",
    "root.right.left = TreeNode(4)\n",
    "root.right.right = TreeNode(5)\n",
    "\n",
    "solution = Solution()\n",
    "print(\"Is tree symmentric? Ans: \", solution.isSymmetric(root))"
   ]
  },
  {
   "cell_type": "code",
   "execution_count": null,
   "id": "c938ceec",
   "metadata": {},
   "outputs": [],
   "source": []
  }
 ],
 "metadata": {
  "kernelspec": {
   "display_name": "Python 3",
   "language": "python",
   "name": "python3"
  },
  "language_info": {
   "codemirror_mode": {
    "name": "ipython",
    "version": 3
   },
   "file_extension": ".py",
   "mimetype": "text/x-python",
   "name": "python",
   "nbconvert_exporter": "python",
   "pygments_lexer": "ipython3",
   "version": "3.8.8"
  }
 },
 "nbformat": 4,
 "nbformat_minor": 5
}
