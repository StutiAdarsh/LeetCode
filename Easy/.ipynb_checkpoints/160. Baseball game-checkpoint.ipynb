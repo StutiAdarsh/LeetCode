{
 "cells": [
  {
   "cell_type": "code",
   "execution_count": 1,
   "id": "ef6915c0",
   "metadata": {},
   "outputs": [],
   "source": [
    "class Solution(object):\n",
    "    def calPoints(self, operations):\n",
    "        \"\"\"\n",
    "        :type operations: List[str]\n",
    "        :rtype: int\n",
    "        \"\"\"\n",
    "        stack = []\n",
    "        for op in operations:\n",
    "            if op == '+':\n",
    "                stack.append(stack[-1] + stack[-2])\n",
    "            elif op =='C':\n",
    "                stack.pop()\n",
    "            elif op == 'D':\n",
    "                stack.append(2 * stack[-1])\n",
    "            else:\n",
    "                stack.append(int(op))\n",
    "        return sum(stack)\n",
    "    \n",
    "#Time: O(N) - iterate over n operations element\n",
    "#Space: O(N) - store n elements in stack"
   ]
  },
  {
   "cell_type": "code",
   "execution_count": 2,
   "id": "a23b7aba",
   "metadata": {},
   "outputs": [
    {
     "name": "stdout",
     "output_type": "stream",
     "text": [
      "Baseball game score:  30\n"
     ]
    }
   ],
   "source": [
    "sol = Solution()\n",
    "print(\"Baseball game score: \", sol.calPoints([\"5\", \"2\", \"C\", \"D\", \"+\"]))"
   ]
  }
 ],
 "metadata": {
  "kernelspec": {
   "display_name": "Python 3",
   "language": "python",
   "name": "python3"
  },
  "language_info": {
   "codemirror_mode": {
    "name": "ipython",
    "version": 3
   },
   "file_extension": ".py",
   "mimetype": "text/x-python",
   "name": "python",
   "nbconvert_exporter": "python",
   "pygments_lexer": "ipython3",
   "version": "3.8.8"
  }
 },
 "nbformat": 4,
 "nbformat_minor": 5
}
