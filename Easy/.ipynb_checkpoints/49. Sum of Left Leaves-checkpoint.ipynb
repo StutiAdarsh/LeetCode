{
 "cells": [
  {
   "cell_type": "code",
   "execution_count": 3,
   "id": "90a2ff0b",
   "metadata": {},
   "outputs": [],
   "source": [
    "# Definition for a binary tree node.\n",
    "class TreeNode(object):\n",
    "    def __init__(self, val=0, left=None, right=None):\n",
    "        self.val = val\n",
    "        self.left = left\n",
    "        self.right = right\n",
    "\n",
    "class Solution(object):\n",
    "    def sumOfLeftLeaves(self, root):\n",
    "        \"\"\"\n",
    "        :type root: TreeNode\n",
    "        :rtype: int\n",
    "        \"\"\"\n",
    "        def sum_left(root, is_left):\n",
    "            if not root:\n",
    "                return 0\n",
    "\n",
    "            if root.left and not root.left.left and not root.left.right:\n",
    "                sum[0] += root.left.val\n",
    "\n",
    "            if root.left: sum_left(root.left, sum)\n",
    "            if root.right: sum_left(root.right, sum)\n",
    "\n",
    "        sum = [0]\n",
    "        sum_left(root, sum)\n",
    "        return sum[0]\n",
    "    \n",
    "#Time: O(N), time to recurse to visiting each node exactly once.\n",
    "#Space: O(N), recursion stack space, which is proportional to the height of the tree."
   ]
  },
  {
   "cell_type": "code",
   "execution_count": 2,
   "id": "c8bc64f4",
   "metadata": {},
   "outputs": [
    {
     "name": "stdout",
     "output_type": "stream",
     "text": [
      "Sum of left leaves in the binary tree: 24\n"
     ]
    }
   ],
   "source": [
    "# Create a binary tree\n",
    "root = TreeNode(3)\n",
    "root.left = TreeNode(9)\n",
    "root.right = TreeNode(20)\n",
    "root.right.left = TreeNode(15)\n",
    "root.right.right = TreeNode(7)\n",
    "\n",
    "# Create an instance of the Solution class\n",
    "sol = Solution()\n",
    "\n",
    "# Call the sumOfLeftLeaves method and print the output\n",
    "output = sol.sumOfLeftLeaves(root)\n",
    "print(\"Sum of left leaves in the binary tree:\", output)"
   ]
  },
  {
   "cell_type": "code",
   "execution_count": null,
   "id": "653e5923",
   "metadata": {},
   "outputs": [],
   "source": []
  }
 ],
 "metadata": {
  "kernelspec": {
   "display_name": "Python 3",
   "language": "python",
   "name": "python3"
  },
  "language_info": {
   "codemirror_mode": {
    "name": "ipython",
    "version": 3
   },
   "file_extension": ".py",
   "mimetype": "text/x-python",
   "name": "python",
   "nbconvert_exporter": "python",
   "pygments_lexer": "ipython3",
   "version": "3.8.8"
  }
 },
 "nbformat": 4,
 "nbformat_minor": 5
}
