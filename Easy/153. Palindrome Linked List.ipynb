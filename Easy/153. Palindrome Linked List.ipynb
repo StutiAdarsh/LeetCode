{
 "cells": [
  {
   "cell_type": "code",
   "execution_count": 2,
   "id": "da3b6ac1",
   "metadata": {},
   "outputs": [],
   "source": [
    "# Definition for singly-linked list.\n",
    "class ListNode(object):\n",
    "    def __init__(self, val=0, next=None):\n",
    "        self.val = val\n",
    "        self.next = next\n",
    "\n",
    "class Solution(object):\n",
    "    def isPalindrome(self, head):\n",
    "        \"\"\"\n",
    "        :type head: ListNode\n",
    "        :rtype: bool\n",
    "        \"\"\"      \n",
    "        cur = head\n",
    "        vals = []\n",
    "        while cur:\n",
    "            vals.append(cur.val)\n",
    "            cur = cur.next            \n",
    "        return vals == vals[::-1] \n",
    "\n",
    "#Time: O(N) - where n is number of nodes in LL\n",
    "#Space: O(N) - where N is number of nodes in LL to be stored in list."
   ]
  },
  {
   "cell_type": "code",
   "execution_count": 4,
   "id": "e2ce1a80",
   "metadata": {},
   "outputs": [
    {
     "name": "stdout",
     "output_type": "stream",
     "text": [
      "False\n",
      "True\n"
     ]
    }
   ],
   "source": [
    "# Helper function to create a linked list from a list\n",
    "def create_linked_list(lst):\n",
    "    if not lst:\n",
    "        return None\n",
    "    head = ListNode(lst[0])\n",
    "    current = head\n",
    "    for val in lst[1:]:\n",
    "        current.next = ListNode(val)\n",
    "        current = current.next\n",
    "    return head\n",
    "\n",
    "# Example 1\n",
    "# Input: 1->2\n",
    "# Output: False\n",
    "\n",
    "# Create linked list\n",
    "head = create_linked_list([1, 2])\n",
    "# Create Solution object\n",
    "solution = Solution()\n",
    "# Check if the linked list is a palindrome\n",
    "print(solution.isPalindrome(head))  # Output: False\n",
    "\n",
    "# Example 2\n",
    "# Input: 1->2->2->1\n",
    "# Output: True\n",
    "\n",
    "# Create linked list\n",
    "head2 = create_linked_list([1, 2, 2, 1])\n",
    "# Check if the linked list is a palindrome\n",
    "print(solution.isPalindrome(head2))  # Output: True\n"
   ]
  },
  {
   "cell_type": "code",
   "execution_count": null,
   "id": "4510370e",
   "metadata": {},
   "outputs": [],
   "source": []
  }
 ],
 "metadata": {
  "kernelspec": {
   "display_name": "Python 3",
   "language": "python",
   "name": "python3"
  },
  "language_info": {
   "codemirror_mode": {
    "name": "ipython",
    "version": 3
   },
   "file_extension": ".py",
   "mimetype": "text/x-python",
   "name": "python",
   "nbconvert_exporter": "python",
   "pygments_lexer": "ipython3",
   "version": "3.8.8"
  }
 },
 "nbformat": 4,
 "nbformat_minor": 5
}
