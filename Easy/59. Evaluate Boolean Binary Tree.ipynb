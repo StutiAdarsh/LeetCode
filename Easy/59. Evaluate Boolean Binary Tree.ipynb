{
 "cells": [
  {
   "cell_type": "code",
   "execution_count": 9,
   "id": "95bd9106",
   "metadata": {},
   "outputs": [
    {
     "name": "stdout",
     "output_type": "stream",
     "text": [
      "Result of evaluating the binary tree: True\n"
     ]
    }
   ],
   "source": [
    "#Definition for a binary tree node.\n",
    "# APPROACH 1: with helper function - bottom up DFS\n",
    "\n",
    "class TreeNode(object):\n",
    "    def __init__(self, val=0, left=None, right=None):\n",
    "        self.val = val\n",
    "        self.left = left\n",
    "        self.right = right\n",
    "\n",
    "class Solution(object):\n",
    "    def evaluateTree(self, root):\n",
    "        \"\"\"\n",
    "        :type root: Optional[TreeNode]\n",
    "        :rtype: bool\n",
    "        \"\"\"\n",
    "        def dfs(root):\n",
    "            if not root.left and not root.right:\n",
    "                return root.val\n",
    "            left = dfs(root.left)\n",
    "            right = dfs(root.right)\n",
    "            if root.val == 2:\n",
    "                return left or right\n",
    "            if root.val == 3:\n",
    "                return left and right\n",
    "        return dfs(root)\n",
    "\n",
    "#Time: O(N) - time to traverse each node of tree bottom up DFS to evaluate boolean expression\n",
    "#Space: O(N) - space in recursive call satck to store nodes during traversal. the binary tree is linear (skewed), \n",
    "#and the depth of the recursive call stack is equal to the number of nodes N in the tree.\n",
    "\n",
    "# Create a binary tree\n",
    "root = TreeNode(2)\n",
    "root.left = TreeNode(1)\n",
    "root.right = TreeNode(3)\n",
    "\n",
    "# Create an instance of the Solution class\n",
    "sol = Solution()\n",
    "\n",
    "# Call the evaluateTree method and print the output\n",
    "output = sol.evaluateTree(root)\n",
    "print(\"Result of evaluating the binary tree:\", bool(output))"
   ]
  },
  {
   "cell_type": "code",
   "execution_count": 10,
   "id": "93d2a3a1",
   "metadata": {},
   "outputs": [
    {
     "name": "stdout",
     "output_type": "stream",
     "text": [
      "Result of evaluating the binary tree: True\n"
     ]
    }
   ],
   "source": [
    "#Definition for a binary tree node.\n",
    "# APPROACH 2: without helper function - TOP DOWN DFS\n",
    "\n",
    "class TreeNode(object):\n",
    "    def __init__(self, val=0, left=None, right=None):\n",
    "        self.val = val\n",
    "        self.left = left\n",
    "        self.right = right\n",
    "\n",
    "class Solution(object):\n",
    "    def evaluateTree(self, root):\n",
    "        \"\"\"\n",
    "        :type root: Optional[TreeNode]\n",
    "        :rtype: bool\n",
    "        \"\"\"\n",
    "        if not root.left and not root.right:\n",
    "            return root.val\n",
    "        if root.val==2:\n",
    "            return self.evaluateTree(root.left) or self.evaluateTree(root.right)\n",
    "        else:\n",
    "            return self.evaluateTree(root.left) and self.evaluateTree(root.right)\n",
    "        \n",
    "#Time: O(N) - time to traverse each node of tree bottom up DFS to evaluate boolean expression\n",
    "#Space: O(N) - space in recursive call satck to store nodes during traversal. the binary tree is linear (skewed), \n",
    "#and the depth of the recursive call stack is equal to the number of nodes N in the tree.\n",
    "\n",
    "# Create a binary tree\n",
    "root = TreeNode(2)\n",
    "root.left = TreeNode(1)\n",
    "root.right = TreeNode(3)\n",
    "\n",
    "# Create an instance of the Solution class\n",
    "sol = Solution()\n",
    "\n",
    "# Call the evaluateTree method and print the output\n",
    "output = sol.evaluateTree(root)\n",
    "print(\"Result of evaluating the binary tree:\", bool(output))"
   ]
  },
  {
   "cell_type": "code",
   "execution_count": null,
   "id": "07b38d06",
   "metadata": {},
   "outputs": [],
   "source": []
  }
 ],
 "metadata": {
  "kernelspec": {
   "display_name": "Python 3",
   "language": "python",
   "name": "python3"
  },
  "language_info": {
   "codemirror_mode": {
    "name": "ipython",
    "version": 3
   },
   "file_extension": ".py",
   "mimetype": "text/x-python",
   "name": "python",
   "nbconvert_exporter": "python",
   "pygments_lexer": "ipython3",
   "version": "3.8.8"
  }
 },
 "nbformat": 4,
 "nbformat_minor": 5
}
