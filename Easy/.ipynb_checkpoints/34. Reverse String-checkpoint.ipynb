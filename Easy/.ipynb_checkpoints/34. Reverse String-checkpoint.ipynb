{
 "cells": [
  {
   "cell_type": "code",
   "execution_count": 9,
   "id": "a00a99d2",
   "metadata": {},
   "outputs": [],
   "source": [
    "# Iterative:\n",
    "\n",
    "class Solution(object):\n",
    "    def reverseString(self, s):\n",
    "        left, right = 0, len(s)-1\n",
    "        while left < right:\n",
    "            s[left], s[right] = s[right], s[left]\n",
    "            left, right = left + 1, right - 1 \n",
    "        #return s, not needed as it is done in-place\n",
    "        \n",
    "# Time: O(N), where N is len of array for iteration till  mid\n",
    "# Spaces: O(1), No extra spaces used, constant space"
   ]
  },
  {
   "cell_type": "code",
   "execution_count": 7,
   "id": "cbc69485",
   "metadata": {},
   "outputs": [
    {
     "name": "stdout",
     "output_type": "stream",
     "text": [
      "Case 1:  ['o', 'l', 'l', 'e', 'h']\n",
      "Case 2:  ['h', 'a', 'n', 'n', 'a', 'H']\n",
      "Case 3:  ['u', 't', 's']\n"
     ]
    }
   ],
   "source": [
    "ob = Solution()\n",
    "print(\"Case 1: \", ob.reverseString([\"h\",\"e\",\"l\",\"l\",\"o\"]))\n",
    "print(\"Case 2: \", ob.reverseString([\"H\",\"a\",\"n\",\"n\",\"a\",\"h\"]))\n",
    "print(\"Case 3: \", ob.reverseString([\"s\", \"t\", \"u\"]))"
   ]
  },
  {
   "cell_type": "code",
   "execution_count": 19,
   "id": "8e3a324f",
   "metadata": {},
   "outputs": [],
   "source": [
    "#Recursive: \n",
    "\n",
    "class Solution(object):\n",
    "    def reverseString(self, s):\n",
    "        def reverse(left, right):\n",
    "            if left < right:\n",
    "                s[left], s[right] = s[right], s[left]\n",
    "                reverse(left + 1, right - 1)\n",
    "                \n",
    "        reverse(0, len(s)-1)\n",
    "        #return s ,not needed as it is done in-place\n",
    "        \n",
    "#Time: O(n), recursive call to the input string of length N\n",
    "#Space: O(n), recursive call stack space"
   ]
  },
  {
   "cell_type": "code",
   "execution_count": 18,
   "id": "543130fb",
   "metadata": {},
   "outputs": [
    {
     "name": "stdout",
     "output_type": "stream",
     "text": [
      "Case 4:  ['o', 'l', 'l', 'e', 'h']\n",
      "Case 5:  ['h', 'a', 'n', 'n', 'a', 'H']\n",
      "Case 6:  ['u', 't', 's']\n"
     ]
    }
   ],
   "source": [
    "ob = Solution()\n",
    "print(\"Case 4: \", ob.reverseString([\"h\",\"e\",\"l\",\"l\",\"o\"]))\n",
    "print(\"Case 5: \", ob.reverseString([\"H\",\"a\",\"n\",\"n\",\"a\",\"h\"]))\n",
    "print(\"Case 6: \", ob.reverseString([\"s\", \"t\", \"u\"]))"
   ]
  },
  {
   "cell_type": "code",
   "execution_count": null,
   "id": "f09168fc",
   "metadata": {},
   "outputs": [],
   "source": []
  }
 ],
 "metadata": {
  "kernelspec": {
   "display_name": "Python 3",
   "language": "python",
   "name": "python3"
  },
  "language_info": {
   "codemirror_mode": {
    "name": "ipython",
    "version": 3
   },
   "file_extension": ".py",
   "mimetype": "text/x-python",
   "name": "python",
   "nbconvert_exporter": "python",
   "pygments_lexer": "ipython3",
   "version": "3.8.8"
  }
 },
 "nbformat": 4,
 "nbformat_minor": 5
}
