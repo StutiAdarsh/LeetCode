{
 "cells": [
  {
   "cell_type": "code",
   "execution_count": 26,
   "id": "f5f54be6",
   "metadata": {},
   "outputs": [],
   "source": [
    "class TreeNode(object):\n",
    "    def __init__(self, val = 0, left = None, right = None):\n",
    "        self.val = val\n",
    "        self.left = left\n",
    "        self.right = right\n",
    "\n",
    "class Solution(object):\n",
    "    # Iterative Approach\n",
    "    def inorderIterative(self, root):\n",
    "        if not root: return []\n",
    "        \n",
    "        stack, res = [(root, False)], []\n",
    "        while stack:\n",
    "            root, visited = stack.pop()\n",
    "            if visited:\n",
    "                res.append(root.val)\n",
    "            else:\n",
    "                if root.right:\n",
    "                    stack.append((root.right, False))\n",
    "                stack.append((root, True))\n",
    "                if root.left:\n",
    "                    stack.append((root.left, False))\n",
    "                    \n",
    "        return res\n",
    "    \n",
    "    # Recursive Approach\n",
    "    def inorderRecursive(self, root):\n",
    "        return self.inorderRecursive(root.left) + [root.val] + self.inorderRecursive(root.right) if root else []\n",
    "    \n",
    "    \n",
    "# Complexity Analysis\n",
    "#Time: O(N) in both cases since it visits all N nodes of the tree\n",
    "#Space: O(N) in bith case since worst height and depth of the tree will be the N nodes of the tree"
   ]
  },
  {
   "cell_type": "code",
   "execution_count": 27,
   "id": "a7053526",
   "metadata": {},
   "outputs": [
    {
     "name": "stdout",
     "output_type": "stream",
     "text": [
      "Iterative result:  [4, 2, 5, 1, 3]\n",
      "Recursive result:  [4, 2, 5, 1, 3]\n"
     ]
    }
   ],
   "source": [
    "root = TreeNode(1)\n",
    "root.left = TreeNode(2)\n",
    "root.right = TreeNode(3)\n",
    "root.left.left = TreeNode(4)\n",
    "root.left.right = TreeNode(5)\n",
    "\n",
    "# Create an instance of the Solution class\n",
    "solution = Solution()\n",
    "\n",
    "# Call the inorderTraversal iterative method\n",
    "iter_result = solution.inorderIterative(root)\n",
    "# Print the result\n",
    "print(\"Iterative result: \", iter_result)\n",
    "\n",
    "# Call the inorderTraversal iterative method\n",
    "recursive_result = solution.inorderRecursive(root)\n",
    "# Print the result\n",
    "print(\"Recursive result: \", recursive_result)"
   ]
  },
  {
   "cell_type": "code",
   "execution_count": null,
   "id": "063c6884",
   "metadata": {},
   "outputs": [],
   "source": []
  }
 ],
 "metadata": {
  "kernelspec": {
   "display_name": "Python 3",
   "language": "python",
   "name": "python3"
  },
  "language_info": {
   "codemirror_mode": {
    "name": "ipython",
    "version": 3
   },
   "file_extension": ".py",
   "mimetype": "text/x-python",
   "name": "python",
   "nbconvert_exporter": "python",
   "pygments_lexer": "ipython3",
   "version": "3.8.8"
  }
 },
 "nbformat": 4,
 "nbformat_minor": 5
}
