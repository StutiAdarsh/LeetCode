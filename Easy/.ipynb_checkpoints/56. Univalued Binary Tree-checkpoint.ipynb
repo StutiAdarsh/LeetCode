{
 "cells": [
  {
   "cell_type": "code",
   "execution_count": 1,
   "id": "60554cd1",
   "metadata": {},
   "outputs": [],
   "source": [
    "# Definition for a binary tree node.\n",
    "class TreeNode(object):\n",
    "    def __init__(self, val=0, left=None, right=None):\n",
    "        self.val = val\n",
    "        self.left = left\n",
    "        self.right = right\n",
    "\n",
    "class Solution(object):\n",
    "    def isUnivalTree(self, root):\n",
    "        \"\"\"\n",
    "        :type root: TreeNode\n",
    "        :rtype: bool\n",
    "        \"\"\"\n",
    "        if not root:\n",
    "            return True\n",
    "\n",
    "        if (root.right and root.val != root.right.val) or (root.left and root.val != root.left.val):\n",
    "            return False\n",
    "\n",
    "        return self.isUnivalTree(root.left) and self.isUnivalTree(root.right)\n",
    "    \n",
    "#Time: O(N) -  traverse each node exactly once during - top down DFS\n",
    "#Space: O(H) or O(N) - store each node in recursive stack during traversal for worst case height of tree which is N nodes"
   ]
  },
  {
   "cell_type": "code",
   "execution_count": 2,
   "id": "c03fe6f8",
   "metadata": {},
   "outputs": [
    {
     "name": "stdout",
     "output_type": "stream",
     "text": [
      "Is the tree a univalued tree? True\n"
     ]
    }
   ],
   "source": [
    "# Create a binary tree\n",
    "root = TreeNode(2)\n",
    "root.left = TreeNode(2)\n",
    "root.right = TreeNode(2)\n",
    "root.left.left = TreeNode(2)\n",
    "root.left.right = TreeNode(2)\n",
    "root.right.right = TreeNode(2)\n",
    "\n",
    "# Create an instance of the Solution class\n",
    "sol = Solution()\n",
    "\n",
    "# Call the isUnivalTree method and print the output\n",
    "output = sol.isUnivalTree(root)\n",
    "print(\"Is the tree a univalued tree?\", output)  # Output: True"
   ]
  },
  {
   "cell_type": "code",
   "execution_count": null,
   "id": "86f80c7d",
   "metadata": {},
   "outputs": [],
   "source": []
  }
 ],
 "metadata": {
  "kernelspec": {
   "display_name": "Python 3",
   "language": "python",
   "name": "python3"
  },
  "language_info": {
   "codemirror_mode": {
    "name": "ipython",
    "version": 3
   },
   "file_extension": ".py",
   "mimetype": "text/x-python",
   "name": "python",
   "nbconvert_exporter": "python",
   "pygments_lexer": "ipython3",
   "version": "3.8.8"
  }
 },
 "nbformat": 4,
 "nbformat_minor": 5
}
