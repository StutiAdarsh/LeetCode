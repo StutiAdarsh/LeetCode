{
 "cells": [
  {
   "cell_type": "code",
   "execution_count": 1,
   "id": "d9c9f9f9",
   "metadata": {},
   "outputs": [],
   "source": [
    "class Solution(object):\n",
    "    def rotateString(self, s, goal):\n",
    "        \"\"\"\n",
    "        :type s: str\n",
    "        :type goal: str\n",
    "        :rtype: bool\n",
    "        \"\"\"\n",
    "\n",
    "        return len(s) == len(goal) and (goal in s+s)\n",
    "        \n",
    "#Time: O(N^2) - where n is the length of the input strings s and goal.\n",
    "#in operator used to check if goal is in the concatenated string also takes O(n) time in the worst case.\n",
    "#Therefore, the overall time complexity is O(n^2).\n",
    "\n",
    "#Space: O(N) - the function creates a new string by concatenating s+s, which requires additional space of size 2n which is n."
   ]
  },
  {
   "cell_type": "code",
   "execution_count": 2,
   "id": "15b7a554",
   "metadata": {},
   "outputs": [
    {
     "name": "stdout",
     "output_type": "stream",
     "text": [
      "True\n"
     ]
    }
   ],
   "source": [
    "# Create an instance of the Solution class\n",
    "sol = Solution()\n",
    "\n",
    "# Example usage\n",
    "s = \"abcde\"\n",
    "goal = \"cdeab\"\n",
    "result = sol.rotateString(s, goal)\n",
    "print(result)  # This should print True\n"
   ]
  },
  {
   "cell_type": "code",
   "execution_count": 3,
   "id": "87a4cd9a",
   "metadata": {},
   "outputs": [
    {
     "name": "stdout",
     "output_type": "stream",
     "text": [
      "False\n"
     ]
    }
   ],
   "source": [
    "print(sol.rotateString(s = \"abcde\", goal = \"abced\"))"
   ]
  },
  {
   "cell_type": "code",
   "execution_count": null,
   "id": "4ddea565",
   "metadata": {},
   "outputs": [],
   "source": []
  }
 ],
 "metadata": {
  "kernelspec": {
   "display_name": "Python 3",
   "language": "python",
   "name": "python3"
  },
  "language_info": {
   "codemirror_mode": {
    "name": "ipython",
    "version": 3
   },
   "file_extension": ".py",
   "mimetype": "text/x-python",
   "name": "python",
   "nbconvert_exporter": "python",
   "pygments_lexer": "ipython3",
   "version": "3.8.8"
  }
 },
 "nbformat": 4,
 "nbformat_minor": 5
}
