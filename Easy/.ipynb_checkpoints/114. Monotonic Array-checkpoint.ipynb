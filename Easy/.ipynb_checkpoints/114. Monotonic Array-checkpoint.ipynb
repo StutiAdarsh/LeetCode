{
 "cells": [
  {
   "cell_type": "code",
   "execution_count": 1,
   "id": "051f5e8e",
   "metadata": {},
   "outputs": [],
   "source": [
    "class Solution(object):\n",
    "    def isMonotonic(self, nums):\n",
    "        \"\"\"\n",
    "        :type nums: List[int]\n",
    "        :rtype: bool\n",
    "        \"\"\"\n",
    "        increase = decrease = True\n",
    "        \n",
    "        for i in range(len(nums)-1):\n",
    "            if nums[i] > nums[i+1]:\n",
    "                increase = False\n",
    "            if nums[i] < nums[i+1]:\n",
    "                decrease = False\n",
    "        return increase or decrease\n",
    "            \n",
    "#Time: O(N) for N array elements\n",
    "#Space: O(1) constant space"
   ]
  },
  {
   "cell_type": "code",
   "execution_count": 3,
   "id": "d9d8ac6a",
   "metadata": {},
   "outputs": [
    {
     "name": "stdout",
     "output_type": "stream",
     "text": [
      "Is monotonoc:  True\n",
      "Is monotonoc:  False\n"
     ]
    }
   ],
   "source": [
    "sol = Solution()\n",
    "print(\"Is monotonoc: \", sol.isMonotonic([1,2,2,3]))\n",
    "print(\"Is monotonoc: \", sol.isMonotonic([1,3,2]))"
   ]
  },
  {
   "cell_type": "code",
   "execution_count": null,
   "id": "1a7574f5",
   "metadata": {},
   "outputs": [],
   "source": []
  }
 ],
 "metadata": {
  "kernelspec": {
   "display_name": "Python 3",
   "language": "python",
   "name": "python3"
  },
  "language_info": {
   "codemirror_mode": {
    "name": "ipython",
    "version": 3
   },
   "file_extension": ".py",
   "mimetype": "text/x-python",
   "name": "python",
   "nbconvert_exporter": "python",
   "pygments_lexer": "ipython3",
   "version": "3.8.8"
  }
 },
 "nbformat": 4,
 "nbformat_minor": 5
}
