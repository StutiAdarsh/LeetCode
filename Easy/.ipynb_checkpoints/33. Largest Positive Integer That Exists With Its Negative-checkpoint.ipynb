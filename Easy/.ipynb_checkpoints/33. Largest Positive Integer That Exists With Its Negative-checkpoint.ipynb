{
 "cells": [
  {
   "cell_type": "code",
   "execution_count": 4,
   "id": "7aa427c9",
   "metadata": {},
   "outputs": [],
   "source": [
    "class Solution(object):\n",
    "    def findMaxK(self, nums):\n",
    "        nums.sort()\n",
    "        for i in nums[::-1]:\n",
    "            if -i in nums:\n",
    "                return i\n",
    "        return -1\n",
    "        \n",
    "#Time: O(NlogN), time required to sort array of size N        \n",
    "#Space: O(1), no additonal space used, done in constant time"
   ]
  },
  {
   "cell_type": "code",
   "execution_count": 5,
   "id": "72cfcc10",
   "metadata": {},
   "outputs": [
    {
     "name": "stdout",
     "output_type": "stream",
     "text": [
      "Case 1:  3\n",
      "Case 2:  7\n",
      "Case 3:  -1\n"
     ]
    }
   ],
   "source": [
    "ob = Solution()\n",
    "\n",
    "print(\"Case 1: \", ob.findMaxK([-1,2,-3,3]))\n",
    "print(\"Case 2: \", ob.findMaxK([-1,10,6,7,-7,1]))\n",
    "print(\"Case 3: \", ob.findMaxK([-10,8,6,7,-2,-3]))"
   ]
  },
  {
   "cell_type": "code",
   "execution_count": null,
   "id": "bde8703a",
   "metadata": {},
   "outputs": [],
   "source": []
  }
 ],
 "metadata": {
  "kernelspec": {
   "display_name": "Python 3",
   "language": "python",
   "name": "python3"
  },
  "language_info": {
   "codemirror_mode": {
    "name": "ipython",
    "version": 3
   },
   "file_extension": ".py",
   "mimetype": "text/x-python",
   "name": "python",
   "nbconvert_exporter": "python",
   "pygments_lexer": "ipython3",
   "version": "3.8.8"
  }
 },
 "nbformat": 4,
 "nbformat_minor": 5
}
