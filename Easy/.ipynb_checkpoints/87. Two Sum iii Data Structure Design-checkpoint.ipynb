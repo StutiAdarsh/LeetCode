{
 "cells": [
  {
   "cell_type": "code",
   "execution_count": 1,
   "id": "b6d80e5f",
   "metadata": {},
   "outputs": [],
   "source": [
    "class TwoSum(object):\n",
    "    def __init__(self):\n",
    "        self.nums = {}\n",
    "\n",
    "    def add(self, number):\n",
    "        \"\"\"\n",
    "        :type number: int\n",
    "        :rtype: None\n",
    "        \"\"\"\n",
    "        if number in self.nums:\n",
    "            self.nums[number] += 1\n",
    "        else:\n",
    "            self.nums[number] = 1\n",
    "        \n",
    "\n",
    "    def find(self, value):\n",
    "        \"\"\"\n",
    "        :type value: int\n",
    "        :rtype: bool\n",
    "        \"\"\"\n",
    "        for num in self.nums:\n",
    "            diff = value - num\n",
    "            if diff in self.nums and (diff != num or self.nums[num] > 1):\n",
    "                return True\n",
    "        return False\n",
    "        \n",
    "# Your TwoSum object will be instantiated and called as such:\n",
    "# obj = TwoSum()\n",
    "# obj.add(number)\n",
    "# param_2 = obj.find(value)\n",
    "\n",
    "#Time: \n",
    "#1.find: O(N), where N is the total number of unique numbers. \n",
    "#In the worst case, we would iterate through the entire table to store in disctionary and calculate difference.\n",
    "#2.Add :O(1) because it involves inserting or updating the \n",
    "#value in a dictionary (self.nums), which typically has constant-time complexity for insertion and retrieval.\n",
    "\n",
    "#Space: O(N)\n",
    "#for storing numbers in the dictionary self.nums is O(n), where n is the number of unique elements stored. \n",
    "#This is because the dictionary stores each unique number along with its count."
   ]
  },
  {
   "cell_type": "code",
   "execution_count": 2,
   "id": "39cddc1e",
   "metadata": {},
   "outputs": [
    {
     "name": "stdout",
     "output_type": "stream",
     "text": [
      "True\n",
      "False\n",
      "True\n"
     ]
    }
   ],
   "source": [
    "# Example usage:\n",
    "two_sum = TwoSum()\n",
    "two_sum.add(1)\n",
    "two_sum.add(3)\n",
    "two_sum.add(5)\n",
    "\n",
    "print(two_sum.find(4))  # Output: True (1 + 3 = 4)\n",
    "print(two_sum.find(7))  # Output: False \n",
    "print(two_sum.find(6))  # Output: True (1 + 5 = 6)"
   ]
  },
  {
   "cell_type": "code",
   "execution_count": null,
   "id": "b5cadc26",
   "metadata": {},
   "outputs": [],
   "source": []
  }
 ],
 "metadata": {
  "kernelspec": {
   "display_name": "Python 3",
   "language": "python",
   "name": "python3"
  },
  "language_info": {
   "codemirror_mode": {
    "name": "ipython",
    "version": 3
   },
   "file_extension": ".py",
   "mimetype": "text/x-python",
   "name": "python",
   "nbconvert_exporter": "python",
   "pygments_lexer": "ipython3",
   "version": "3.8.8"
  }
 },
 "nbformat": 4,
 "nbformat_minor": 5
}
