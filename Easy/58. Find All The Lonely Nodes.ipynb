{
 "cells": [
  {
   "cell_type": "code",
   "execution_count": 1,
   "id": "aa294cd1",
   "metadata": {},
   "outputs": [],
   "source": [
    "# Definition for a binary tree node.\n",
    "class TreeNode(object):\n",
    "    def __init__(self, val=0, left=None, right=None):\n",
    "        self.val = val\n",
    "        self.left = left\n",
    "        self.right = right\n",
    "\n",
    "class Solution(object):\n",
    "    def __init__(self):\n",
    "        self.res = []\n",
    "\n",
    "    def getLonelyNodes(self, root):\n",
    "        \"\"\"\n",
    "        :type root: TreeNode\n",
    "        :rtype: List[int]\n",
    "        \"\"\"\n",
    "        if not root:\n",
    "            return\n",
    "  \n",
    "        if (root.right and not root.left) or (root.left and not root.right):\n",
    "            self.res.append(root.right.val) if root.right else self.res.append(root.left.val)\n",
    "\n",
    "        self.getLonelyNodes(root.left)\n",
    "        self.getLonelyNodes(root.right)\n",
    "        return self.res\n",
    "\n",
    "#Time: O(N) traverse each node till end DFS top down\n",
    "#Space: O(N) worst case store all N nodes in recursive call stack for traversal"
   ]
  },
  {
   "cell_type": "code",
   "execution_count": 2,
   "id": "f74dd80b",
   "metadata": {},
   "outputs": [
    {
     "name": "stdout",
     "output_type": "stream",
     "text": [
      "Lonely nodes in the binary tree: [5, 6, 4]\n"
     ]
    }
   ],
   "source": [
    "# Create a binary tree\n",
    "root = TreeNode(1)\n",
    "root.left = TreeNode(2)\n",
    "root.right = TreeNode(3)\n",
    "root.right.right = TreeNode(4)\n",
    "root.left.left = TreeNode(5)\n",
    "root.left.left.left = TreeNode(6)\n",
    "\n",
    "# Create an instance of the Solution class\n",
    "sol = Solution()\n",
    "\n",
    "# Call the getLonelyNodes method and print the output\n",
    "output = sol.getLonelyNodes(root)\n",
    "print(\"Lonely nodes in the binary tree:\", output)"
   ]
  },
  {
   "cell_type": "code",
   "execution_count": null,
   "id": "83fbe66b",
   "metadata": {},
   "outputs": [],
   "source": []
  }
 ],
 "metadata": {
  "kernelspec": {
   "display_name": "Python 3",
   "language": "python",
   "name": "python3"
  },
  "language_info": {
   "codemirror_mode": {
    "name": "ipython",
    "version": 3
   },
   "file_extension": ".py",
   "mimetype": "text/x-python",
   "name": "python",
   "nbconvert_exporter": "python",
   "pygments_lexer": "ipython3",
   "version": "3.8.8"
  }
 },
 "nbformat": 4,
 "nbformat_minor": 5
}
