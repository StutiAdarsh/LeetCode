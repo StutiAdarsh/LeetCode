{
 "cells": [
  {
   "cell_type": "code",
   "execution_count": 1,
   "id": "d159b057",
   "metadata": {},
   "outputs": [],
   "source": [
    "# Definition for a binary tree node.\n",
    "class TreeNode(object):\n",
    "    def __init__(self, val=0, left=None, right=None):\n",
    "        self.val = val\n",
    "        self.left = left\n",
    "        self.right = right\n",
    "\n",
    "class Solution(object):\n",
    "    def sumNumbers(self, root):\n",
    "        \"\"\"\n",
    "        :type root: TreeNode\n",
    "        :rtype: int\n",
    "        \"\"\"\n",
    "        def dfs(root, num):\n",
    "            if not root:\n",
    "                return 0\n",
    "            \n",
    "            num = num * 10 + root.val\n",
    "            if not root.left and not root.right:\n",
    "                return num            \n",
    "            return dfs(root.left, num)+dfs(root.right, num)\n",
    "        \n",
    "        return dfs(root, 0)\n",
    "\n",
    "#Time: O(N), each node traversed once\n",
    "#Spce: O(N), store each node value in recusrive call stack for height of tree"
   ]
  },
  {
   "cell_type": "code",
   "execution_count": 2,
   "id": "b76a9e5b",
   "metadata": {},
   "outputs": [
    {
     "name": "stdout",
     "output_type": "stream",
     "text": [
      "Sum root to leaf is:  25\n"
     ]
    }
   ],
   "source": [
    "root = TreeNode(1)\n",
    "root.left = TreeNode(2)\n",
    "root.right = TreeNode(3)\n",
    "\n",
    "sol = Solution()\n",
    "\n",
    "print(\"Sum root to leaf is: \", sol.sumNumbers(root))"
   ]
  },
  {
   "cell_type": "code",
   "execution_count": null,
   "id": "b908a81e",
   "metadata": {},
   "outputs": [],
   "source": []
  }
 ],
 "metadata": {
  "kernelspec": {
   "display_name": "Python 3",
   "language": "python",
   "name": "python3"
  },
  "language_info": {
   "codemirror_mode": {
    "name": "ipython",
    "version": 3
   },
   "file_extension": ".py",
   "mimetype": "text/x-python",
   "name": "python",
   "nbconvert_exporter": "python",
   "pygments_lexer": "ipython3",
   "version": "3.8.8"
  }
 },
 "nbformat": 4,
 "nbformat_minor": 5
}
