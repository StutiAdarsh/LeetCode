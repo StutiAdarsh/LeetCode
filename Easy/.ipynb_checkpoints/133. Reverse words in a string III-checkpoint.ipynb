{
 "cells": [
  {
   "cell_type": "code",
   "execution_count": 1,
   "id": "1428231f",
   "metadata": {},
   "outputs": [],
   "source": [
    "class Solution(object):\n",
    "    def reverseWords(self, s):\n",
    "        \"\"\"\n",
    "        :type s: str\n",
    "        :rtype: str\n",
    "        \"\"\"\n",
    "        \n",
    "        return \" \".join((s.split()[::-1]))[::-1]\n",
    "\n",
    "#Time: O(n) -  where n is the length of the input string s.\n",
    "#Space: O(n) - creates a list of words after splitting s, which could have a maximum size of n."
   ]
  },
  {
   "cell_type": "code",
   "execution_count": 3,
   "id": "663f411a",
   "metadata": {},
   "outputs": [
    {
     "name": "stdout",
     "output_type": "stream",
     "text": [
      "eht yks si eulb\n",
      "s'teL ekat edoCteeL tsetnoc\n"
     ]
    }
   ],
   "source": [
    "# Create an instance of the Solution class\n",
    "sol = Solution()\n",
    "\n",
    "# Example usage\n",
    "s = \"the sky is blue\"\n",
    "result = sol.reverseWords(s)\n",
    "print(result)  # This should print \"blue is sky the\"\n",
    "\n",
    "s = \"Let's take LeetCode contest\"\n",
    "result = sol.reverseWords(s)\n",
    "print(result)"
   ]
  },
  {
   "cell_type": "code",
   "execution_count": null,
   "id": "58bd8649",
   "metadata": {},
   "outputs": [],
   "source": []
  }
 ],
 "metadata": {
  "kernelspec": {
   "display_name": "Python 3",
   "language": "python",
   "name": "python3"
  },
  "language_info": {
   "codemirror_mode": {
    "name": "ipython",
    "version": 3
   },
   "file_extension": ".py",
   "mimetype": "text/x-python",
   "name": "python",
   "nbconvert_exporter": "python",
   "pygments_lexer": "ipython3",
   "version": "3.8.8"
  }
 },
 "nbformat": 4,
 "nbformat_minor": 5
}
