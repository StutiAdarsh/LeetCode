{
 "cells": [
  {
   "cell_type": "code",
   "execution_count": 3,
   "id": "950de506",
   "metadata": {},
   "outputs": [
    {
     "name": "stdout",
     "output_type": "stream",
     "text": [
      "[[1], [3, 2, 4], [5, 6]]\n"
     ]
    }
   ],
   "source": [
    "#Approach 1 - RECURSIVE CALL STACK\n",
    "\n",
    "# Definition for a Node.\n",
    "class Node(object):\n",
    "    def __init__(self, val=None, children=None):\n",
    "        self.val = val\n",
    "        self.children = children\n",
    "\n",
    "class Solution(object):\n",
    "    def levelOrder(self, root):\n",
    "        \"\"\"\n",
    "        :type root: Node\n",
    "        :rtype: List[List[int]]\n",
    "        \"\"\"\n",
    "        res = []\n",
    "        self.dfs(root, 0, res)\n",
    "        return res\n",
    "\n",
    "    def dfs(self, root, level, res):\n",
    "        if not root:\n",
    "            return\n",
    "\n",
    "        if len(res) <= level:\n",
    "            res.append([])\n",
    "\n",
    "        res[level].append(root.val)\n",
    "        if root.children:\n",
    "            for child in root.children:\n",
    "                self.dfs(child, level+1, res)\n",
    "\n",
    "#Time: O(N) -DFS traversal to visit each node once\n",
    "#Space: O(N) - recursive call stack to store DFS traversal node in worst case\n",
    "\n",
    "# Example usage:\n",
    "# Create a tree: [1, 3, 2, 4, 5, 6]\n",
    "root = Node(1, [Node(3, [Node(5), Node(6)]), Node(2), Node(4)])\n",
    "solution = Solution()\n",
    "print(solution.levelOrder(root))  # Output: [[1], [3, 2, 4], [5, 6]]"
   ]
  },
  {
   "cell_type": "code",
   "execution_count": 7,
   "id": "94c2f26d",
   "metadata": {},
   "outputs": [
    {
     "name": "stdout",
     "output_type": "stream",
     "text": [
      "[[1], [3, 2, 4], [5, 6]]\n"
     ]
    }
   ],
   "source": [
    "#Approach 2 - Iteration\n",
    "\n",
    "import collections\n",
    "# Definition for a Node.\n",
    "class Node(object):\n",
    "    def __init__(self, val=None, children=None):\n",
    "        self.val = val\n",
    "        self.children = children\n",
    "\n",
    "\n",
    "class Solution(object):\n",
    "    def levelOrder(self, root):\n",
    "        \"\"\"\n",
    "        :type root: Node\n",
    "        :rtype: List[List[int]]\n",
    "        \"\"\"\n",
    "        if not root:\n",
    "            return []\n",
    "\n",
    "        queue, res = collections.deque([root]), []\n",
    "        \n",
    "        while queue:\n",
    "            level = []\n",
    "            for _ in range(len(queue)):\n",
    "                node = queue.popleft()\n",
    "                level.append(node.val)\n",
    "                if node.children:\n",
    "                    queue.extend(node.children)\n",
    "            res.append(level)\n",
    "        return res\n",
    "    \n",
    "#Time: O(N) -DFS traversal to visit each node once\n",
    "#Space: O(N) - using a queue to keep track of nodes we still need to visit the children of. \n",
    "#In the worst case, this is all of the nodes.\n",
    "\n",
    "# Example usage:\n",
    "# Create a tree: [1, 3, 2, 4, 5, 6]\n",
    "root = Node(1, [Node(3, [Node(5), Node(6)]), Node(2), Node(4)])\n",
    "solution = Solution()\n",
    "print(solution.levelOrder(root))  # Output: [[1], [3, 2, 4], [5, 6]]"
   ]
  },
  {
   "cell_type": "code",
   "execution_count": null,
   "id": "4b568584",
   "metadata": {},
   "outputs": [],
   "source": []
  }
 ],
 "metadata": {
  "kernelspec": {
   "display_name": "Python 3",
   "language": "python",
   "name": "python3"
  },
  "language_info": {
   "codemirror_mode": {
    "name": "ipython",
    "version": 3
   },
   "file_extension": ".py",
   "mimetype": "text/x-python",
   "name": "python",
   "nbconvert_exporter": "python",
   "pygments_lexer": "ipython3",
   "version": "3.8.8"
  }
 },
 "nbformat": 4,
 "nbformat_minor": 5
}
