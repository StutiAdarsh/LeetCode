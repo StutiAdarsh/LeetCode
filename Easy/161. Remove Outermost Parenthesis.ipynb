{
 "cells": [
  {
   "cell_type": "code",
   "execution_count": 1,
   "id": "b49666d4",
   "metadata": {},
   "outputs": [],
   "source": [
    "class Solution(object):\n",
    "    def removeOuterParentheses(self, s):\n",
    "        \"\"\"\n",
    "        :type s: str\n",
    "        :rtype: str\n",
    "        \"\"\"\n",
    "        res = ''\n",
    "        stack = []\n",
    "        \n",
    "        # basket is used to store previous value\n",
    "        basket = ''\n",
    "        \n",
    "        for p in s:\n",
    "            if p == '(':\n",
    "                stack.append(p)\n",
    "            else:\n",
    "                stack.pop()\n",
    "            basket += p\n",
    "            \n",
    "            # if the stack is empty it means we have a valid\n",
    "            # decomposition. remove the outer parentheses\n",
    "            # and put it in the result/res.\n",
    "            # clean up the basket!\n",
    "            if not stack:\n",
    "                res += basket[1:-1]\n",
    "                basket = ''\n",
    "                \n",
    "        return res\n",
    "    \n",
    "#Time: O(N) - to iterate over N elements of S\n",
    "#Space: O(N) - worst case res, stack and basket stores all N values"
   ]
  },
  {
   "cell_type": "code",
   "execution_count": 2,
   "id": "fcab79ba",
   "metadata": {},
   "outputs": [
    {
     "name": "stdout",
     "output_type": "stream",
     "text": [
      "The result after removing outer parentheses is: ()()()\n"
     ]
    }
   ],
   "source": [
    "# Example usage:\n",
    "s = \"(()())(())\"\n",
    "solution = Solution()\n",
    "output = solution.removeOuterParentheses(s)\n",
    "print(f'The result after removing outer parentheses is: {output}')"
   ]
  },
  {
   "cell_type": "code",
   "execution_count": null,
   "id": "8117c0ac",
   "metadata": {},
   "outputs": [],
   "source": []
  }
 ],
 "metadata": {
  "kernelspec": {
   "display_name": "Python 3",
   "language": "python",
   "name": "python3"
  },
  "language_info": {
   "codemirror_mode": {
    "name": "ipython",
    "version": 3
   },
   "file_extension": ".py",
   "mimetype": "text/x-python",
   "name": "python",
   "nbconvert_exporter": "python",
   "pygments_lexer": "ipython3",
   "version": "3.8.8"
  }
 },
 "nbformat": 4,
 "nbformat_minor": 5
}
