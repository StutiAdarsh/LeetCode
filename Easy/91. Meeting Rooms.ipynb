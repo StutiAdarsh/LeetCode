{
 "cells": [
  {
   "cell_type": "code",
   "execution_count": 1,
   "id": "10927003",
   "metadata": {},
   "outputs": [],
   "source": [
    "class Solution(object):\n",
    "    def canAttendMeetings(self, intervals):\n",
    "        \"\"\"\n",
    "        :type intervals: List[List[int]]\n",
    "        :rtype: bool\n",
    "        \"\"\"\n",
    "        intervals.sort()\n",
    "        for i in range(len(intervals)-1):\n",
    "            if intervals[i][1] > intervals[i+1][0]:\n",
    "                return False\n",
    "        return True\n",
    "    \n",
    "#Time: O(NlogN) - time to sort array dominates the time to iterate O(N)\n",
    "#Space:O(1) - constant space used"
   ]
  },
  {
   "cell_type": "code",
   "execution_count": 2,
   "id": "120a3f0d",
   "metadata": {},
   "outputs": [
    {
     "name": "stdout",
     "output_type": "stream",
     "text": [
      "Can attend all meetings?:  False\n",
      "Can attend all meetings?:  True\n"
     ]
    }
   ],
   "source": [
    "sol = Solution()\n",
    "print(\"Can attend all meetings?: \", sol.canAttendMeetings([[0,30],[5,10],[15,20]]))\n",
    "print(\"Can attend all meetings?: \", sol.canAttendMeetings([[7,10],[2,4]]))"
   ]
  },
  {
   "cell_type": "code",
   "execution_count": null,
   "id": "f6de729f",
   "metadata": {},
   "outputs": [],
   "source": []
  }
 ],
 "metadata": {
  "kernelspec": {
   "display_name": "Python 3",
   "language": "python",
   "name": "python3"
  },
  "language_info": {
   "codemirror_mode": {
    "name": "ipython",
    "version": 3
   },
   "file_extension": ".py",
   "mimetype": "text/x-python",
   "name": "python",
   "nbconvert_exporter": "python",
   "pygments_lexer": "ipython3",
   "version": "3.8.8"
  }
 },
 "nbformat": 4,
 "nbformat_minor": 5
}
