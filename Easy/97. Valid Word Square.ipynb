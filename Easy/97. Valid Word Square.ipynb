{
 "cells": [
  {
   "cell_type": "code",
   "execution_count": 1,
   "id": "e15908ca",
   "metadata": {},
   "outputs": [],
   "source": [
    "class Solution(object):\n",
    "    def validWordSquare(self, words):\n",
    "        \"\"\"\n",
    "        :type words: List[str]\n",
    "        :rtype: bool\n",
    "        \"\"\"\n",
    "        for word in range(len(words)):\n",
    "            for char in range(len(words[word])):\n",
    "                # cur row word is bigger than column word or\n",
    "                # if cur col word is bigger than row word or\n",
    "                # if cur index char of row and col not equal\n",
    "                if char >= len(words) or word >= len(words[char]) or words[word][char] != words[char][word]:\n",
    "                    return False\n",
    "        return True\n",
    "\n",
    "#Time: O(N * M)- iterate nested over N rows and M columns\n",
    "#Space: O(1) - constant space"
   ]
  },
  {
   "cell_type": "code",
   "execution_count": 2,
   "id": "8f580f63",
   "metadata": {},
   "outputs": [
    {
     "name": "stdout",
     "output_type": "stream",
     "text": [
      "Is valid word square : True\n",
      "Is valid word square : False\n"
     ]
    }
   ],
   "source": [
    "sol = Solution()\n",
    "print(\"Is valid word square :\", sol.validWordSquare([\"abcd\", \"bnrt\", \"crmy\", \"dtye\"]))\n",
    "print(\"Is valid word square :\", sol.validWordSquare([\"ball\", \"area\", \"read\", \"lady\"]))"
   ]
  },
  {
   "cell_type": "code",
   "execution_count": null,
   "id": "29517736",
   "metadata": {},
   "outputs": [],
   "source": []
  }
 ],
 "metadata": {
  "kernelspec": {
   "display_name": "Python 3",
   "language": "python",
   "name": "python3"
  },
  "language_info": {
   "codemirror_mode": {
    "name": "ipython",
    "version": 3
   },
   "file_extension": ".py",
   "mimetype": "text/x-python",
   "name": "python",
   "nbconvert_exporter": "python",
   "pygments_lexer": "ipython3",
   "version": "3.8.8"
  }
 },
 "nbformat": 4,
 "nbformat_minor": 5
}
