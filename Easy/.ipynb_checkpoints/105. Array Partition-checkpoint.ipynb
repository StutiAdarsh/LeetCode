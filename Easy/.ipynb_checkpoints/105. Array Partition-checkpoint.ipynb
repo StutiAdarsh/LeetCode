{
 "cells": [
  {
   "cell_type": "code",
   "execution_count": 1,
   "id": "5d185540",
   "metadata": {},
   "outputs": [],
   "source": [
    "class Solution(object):\n",
    "    def arrayPairSum(self, nums):\n",
    "        \"\"\"\n",
    "        :type nums: List[int]\n",
    "        :rtype: int\n",
    "        \"\"\"\n",
    "        if not nums:\n",
    "            return\n",
    "        \n",
    "        return sum(sorted(nums)[::2])\n",
    "            \n",
    "            \n",
    "#Time: O(NlogN) - to sort the nums list \n",
    "#Space: O(N) - store the sorted list elements "
   ]
  },
  {
   "cell_type": "code",
   "execution_count": 2,
   "id": "3dae1abc",
   "metadata": {},
   "outputs": [
    {
     "name": "stdout",
     "output_type": "stream",
     "text": [
      "Array partition sum:  4\n"
     ]
    }
   ],
   "source": [
    "sol = Solution()\n",
    "print(\"Array partition sum: \", sol.arrayPairSum([1,4,3,2]))"
   ]
  },
  {
   "cell_type": "code",
   "execution_count": null,
   "id": "a1bb48d2",
   "metadata": {},
   "outputs": [],
   "source": []
  }
 ],
 "metadata": {
  "kernelspec": {
   "display_name": "Python 3",
   "language": "python",
   "name": "python3"
  },
  "language_info": {
   "codemirror_mode": {
    "name": "ipython",
    "version": 3
   },
   "file_extension": ".py",
   "mimetype": "text/x-python",
   "name": "python",
   "nbconvert_exporter": "python",
   "pygments_lexer": "ipython3",
   "version": "3.8.8"
  }
 },
 "nbformat": 4,
 "nbformat_minor": 5
}
