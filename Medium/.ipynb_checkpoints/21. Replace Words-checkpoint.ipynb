{
 "cells": [
  {
   "cell_type": "code",
   "execution_count": 1,
   "id": "b9c71143",
   "metadata": {},
   "outputs": [],
   "source": [
    "class TrieNode:\n",
    "    def __init__(self):\n",
    "        self.children = {}\n",
    "        self.end = False\n",
    "\n",
    "class Trie:\n",
    "    def __init__(self):\n",
    "        self.root = TrieNode()\n",
    "\n",
    "    def insert(self, word):\n",
    "        cur = self.root\n",
    "        for c in word:\n",
    "            if c not in cur.children:\n",
    "                cur.children[c] = TrieNode()\n",
    "            cur = cur.children[c]\n",
    "        cur.end = True\n",
    "\n",
    "    def search(self, word):\n",
    "        cur = self.root\n",
    "        res = ''\n",
    "        for c in word:\n",
    "            if c not in cur.children:\n",
    "                return word\n",
    "            res += c\n",
    "            cur = cur.children[c]\n",
    "            if cur.end:\n",
    "                return res\n",
    "        return word\n",
    "            \n",
    "\n",
    "class Solution(object):\n",
    "    def replaceWords(self, dictionary, sentence):\n",
    "        \"\"\"\n",
    "        :type dictionary: List[str]\n",
    "        :type sentence: str\n",
    "        :rtype: str\n",
    "        \"\"\"\n",
    "        trie = Trie()\n",
    "\n",
    "        for word in dictionary:\n",
    "            trie.insert(word)\n",
    "        \n",
    "        return \" \".join([trie.search(x) for x in sentence.split()])"
   ]
  },
  {
   "cell_type": "code",
   "execution_count": 2,
   "id": "fdb157da",
   "metadata": {},
   "outputs": [
    {
     "name": "stdout",
     "output_type": "stream",
     "text": [
      "the cat was rat by the bat\n"
     ]
    }
   ],
   "source": [
    "# Initialize a solution object\n",
    "sol = Solution()\n",
    "\n",
    "# Example usage\n",
    "dictionary = [\"cat\", \"bat\", \"rat\"]\n",
    "sentence = \"the cattle was rattled by the battery\"\n",
    "output = sol.replaceWords(dictionary, sentence)\n",
    "print(output)  # Output: \"the cat was rat by the bat\""
   ]
  },
  {
   "cell_type": "code",
   "execution_count": 3,
   "id": "a450b61b",
   "metadata": {},
   "outputs": [],
   "source": [
    "# Insert: \n",
    "#Time: O(N*M) - to iterate over N word lenght for average of M words\n",
    "#Space: O(N*M) - to store the N words\n",
    "\n",
    "# Search: \n",
    "#Time: O(S*M) - iterate for S word length to search\n",
    "#Space: O(S) - to store the joined result list"
   ]
  },
  {
   "cell_type": "markdown",
   "id": "6d36fa6c-4639-4377-bc97-3562887b0d1a",
   "metadata": {},
   "source": [
    "        root\n",
    "        / | \\\n",
    "       c  b  r\n",
    "       |  |  |\n",
    "       a  a  a\n",
    "       |  |  |\n",
    "       t  t  t\n"
   ]
  },
  {
   "cell_type": "code",
   "execution_count": null,
   "id": "a289aa1a-7b0e-435e-b421-d594ccea2645",
   "metadata": {},
   "outputs": [],
   "source": []
  }
 ],
 "metadata": {
  "kernelspec": {
   "display_name": "Python 3 (ipykernel)",
   "language": "python",
   "name": "python3"
  },
  "language_info": {
   "codemirror_mode": {
    "name": "ipython",
    "version": 3
   },
   "file_extension": ".py",
   "mimetype": "text/x-python",
   "name": "python",
   "nbconvert_exporter": "python",
   "pygments_lexer": "ipython3",
   "version": "3.12.4"
  }
 },
 "nbformat": 4,
 "nbformat_minor": 5
}
