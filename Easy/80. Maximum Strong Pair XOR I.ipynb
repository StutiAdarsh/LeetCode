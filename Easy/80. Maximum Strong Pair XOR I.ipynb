{
 "cells": [
  {
   "cell_type": "code",
   "execution_count": 11,
   "id": "3fcee546",
   "metadata": {},
   "outputs": [],
   "source": [
    "class Solution(object):\n",
    "    def maximumStrongPairXor(self, nums):\n",
    "        \"\"\"\n",
    "        :type nums: List[int]\n",
    "        :rtype: int\n",
    "        \"\"\"\n",
    "        best = 0\n",
    "        for x in nums:\n",
    "            for y in nums:\n",
    "                if abs(x - y) <= min(x, y):\n",
    "                    best = max(best, x ^ y)\n",
    "        return best\n",
    "    \n",
    "#Time: O(N**2) -  algorithm has nested loops iterating through all pairs of integers in nums.\n",
    "#For each pair, it calculates the XOR value, which has constant time complexity.\n",
    "#Therefore, the overall time complexity is O(N^2), where N is the length of the list nums\n",
    "\n",
    "#Space: O(1) - algorithm uses only a constant amount of extra space"
   ]
  },
  {
   "cell_type": "code",
   "execution_count": 12,
   "id": "6b83d4e0",
   "metadata": {},
   "outputs": [
    {
     "name": "stdout",
     "output_type": "stream",
     "text": [
      "15\n"
     ]
    }
   ],
   "source": [
    "solution = Solution()\n",
    "nums = [3, 10, 5]\n",
    "print(solution.maximumStrongPairXor(nums))  # Output: 15"
   ]
  },
  {
   "cell_type": "code",
   "execution_count": null,
   "id": "65afdd67",
   "metadata": {},
   "outputs": [],
   "source": []
  }
 ],
 "metadata": {
  "kernelspec": {
   "display_name": "Python 3",
   "language": "python",
   "name": "python3"
  },
  "language_info": {
   "codemirror_mode": {
    "name": "ipython",
    "version": 3
   },
   "file_extension": ".py",
   "mimetype": "text/x-python",
   "name": "python",
   "nbconvert_exporter": "python",
   "pygments_lexer": "ipython3",
   "version": "3.8.8"
  }
 },
 "nbformat": 4,
 "nbformat_minor": 5
}
