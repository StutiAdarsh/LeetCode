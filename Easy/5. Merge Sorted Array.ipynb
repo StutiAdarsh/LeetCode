{
 "cells": [
  {
   "cell_type": "code",
   "execution_count": 5,
   "id": "72130cda",
   "metadata": {},
   "outputs": [
    {
     "name": "stdout",
     "output_type": "stream",
     "text": [
      "[1, 2, 2, 3, 5, 6]\n",
      "[1]\n",
      "[1]\n"
     ]
    }
   ],
   "source": [
    "class Solution(object):\n",
    "    def merge(self, nums1, m, nums2, n):\n",
    "        \"\"\"\n",
    "        :type nums1: List[int]\n",
    "        :type m: int\n",
    "        :type nums2: List[int]\n",
    "        :type n: int\n",
    "        :rtype: None Do not return anything, modify nums1 in-place instead.\n",
    "        \"\"\"\n",
    "\n",
    "        nums1[m:] = nums2[:]\n",
    "        nums1.sort() #returns in-place\n",
    "        \n",
    "#Time: O(m+n)log(m+n), \n",
    "#The first line nums1[m:] = nums2[:] replaces the elements from index m to the end of nums1 \n",
    "#with the elements from nums2. This operation takes O(n) time, where n is the length of nums2.\n",
    "#The second line nums1.sort() sorts the nums1 array. \n",
    "#The sorting operation has an average and worst-case time complexity of \n",
    "#O(m * log(m)), where m is the total number of elements in nums1 after merging. \n",
    "#In the worst case, this is O((m+n) * log(m+n)).\n",
    "#Therefore, the overall time complexity of this code is O((m+n) * log(m+n)), dominated by the sorting step.\n",
    "\n",
    "#Space: O(1), no extra space used and done in-place\n",
    "\n",
    "\n",
    "#Input:\n",
    "ob = Solution()\n",
    "print(ob.merge(nums1 = [1,2,3,0,0,0], m = 3, nums2 = [2,5,6], n = 3))\n",
    "print(ob.merge(nums1 = [1], m = 1, nums2 = [], n = 0))\n",
    "print(ob.merge(nums1 = [0], m = 0, nums2 = [1], n = 1))"
   ]
  },
  {
   "cell_type": "markdown",
   "id": "0b28e6c9",
   "metadata": {},
   "source": [
    "Solution 2: Using NO BUILT-FUNCTION"
   ]
  },
  {
   "cell_type": "code",
   "execution_count": 12,
   "id": "5f559494",
   "metadata": {},
   "outputs": [
    {
     "name": "stdout",
     "output_type": "stream",
     "text": [
      "[1, 2, 2, 3, 5, 6]\n",
      "None\n",
      "[1]\n",
      "None\n",
      "[1]\n",
      "None\n"
     ]
    }
   ],
   "source": [
    "class Solution(object):\n",
    "    def merge(self, nums1, m, nums2, n):\n",
    "        \"\"\"\n",
    "        :type nums1: List[int]\n",
    "        :type m: int\n",
    "        :type nums2: List[int]\n",
    "        :type n: int\n",
    "        :rtype: None Do not return anything, modify nums1 in-place instead.\n",
    "        \"\"\"\n",
    "\n",
    "        while n > 0:\n",
    "            if nums1[m-1] >= nums2[n-1] and m >0:\n",
    "                nums1[m+n-1] = nums1[m-1]\n",
    "                m -= 1\n",
    "            else:\n",
    "                nums1[m+n-1] = nums2[n-1]\n",
    "                n -= 1\n",
    "        print(nums1)\n",
    "                \n",
    "\n",
    "#Input:\n",
    "ob = Solution()\n",
    "print(ob.merge(nums1 = [1,2,3,0,0,0], m = 3, nums2 = [2,5,6], n = 3))\n",
    "print(ob.merge(nums1 = [1], m = 1, nums2 = [], n = 0))\n",
    "print(ob.merge(nums1 = [0], m = 0, nums2 = [1], n = 1))\n",
    "\n",
    "\n",
    "#Time Complexity: O(n), where n is the number of elements in nums2.\n",
    "#Space Complexity: O(1) (constant space).\n",
    "\n",
    "'''\n",
    "The key idea here is to compare the last elements of both arrays and \n",
    "place the larger element at the end of the merged array. \n",
    "This approach allows for efficient merging without the need for \n",
    "additional data structures or allocating extra space.\n",
    "'''"
   ]
  },
  {
   "cell_type": "code",
   "execution_count": null,
   "id": "24ee2bc5",
   "metadata": {},
   "outputs": [],
   "source": []
  },
  {
   "cell_type": "markdown",
   "id": "58cf6dad",
   "metadata": {},
   "source": [
    "Solution 3: SMART USE OF in built. ONE - LINER"
   ]
  },
  {
   "cell_type": "code",
   "execution_count": 7,
   "id": "38ac60f5",
   "metadata": {},
   "outputs": [
    {
     "name": "stdout",
     "output_type": "stream",
     "text": [
      "[1, 2, 2, 3, 5, 6]\n",
      "None\n",
      "[1]\n",
      "None\n",
      "[1]\n",
      "None\n"
     ]
    }
   ],
   "source": [
    "class Solution(object):\n",
    "    def merge(self, nums1, m, nums2, n):\n",
    "        \"\"\"\n",
    "        :type nums1: List[int]\n",
    "        :type m: int\n",
    "        :type nums2: List[int]\n",
    "        :type n: int\n",
    "        :rtype: None Do not return anything, modify nums1 in-place instead.\n",
    "        \"\"\"\n",
    "\n",
    "        nums1[:] = sorted(nums1[:m]+nums2) #in-place\n",
    "        #print(nums1)\n",
    "        \n",
    "#Time: O(m+n)log(m+n), \n",
    "#The first line nums1[m:] = nums2[:] replaces the elements from index m to the end of nums1 \n",
    "#with the elements from nums2. This operation takes O(n) time, where n is the length of nums2.\n",
    "#The second line nums1.sort() sorts the nums1 array. \n",
    "#The sorting operation has an average and worst-case time complexity of \n",
    "#O(m * log(m)), where m is the total number of elements in nums1 after merging. \n",
    "#In the worst case, this is O((m+n) * log(m+n)).\n",
    "#Therefore, the overall time complexity of this code is O((m+n) * log(m+n)), dominated by the sorting step.\n",
    "\n",
    "#Space: O(1), no extra space used and done in-place\n",
    "\n",
    "\n",
    "#Input:\n",
    "ob = Solution()\n",
    "print(ob.merge(nums1 = [1,2,3,0,0,0], m = 3, nums2 = [2,5,6], n = 3))\n",
    "print(ob.merge(nums1 = [1], m = 1, nums2 = [], n = 0))\n",
    "print(ob.merge(nums1 = [0], m = 0, nums2 = [1], n = 1))"
   ]
  },
  {
   "cell_type": "code",
   "execution_count": null,
   "id": "995e8d7e",
   "metadata": {},
   "outputs": [],
   "source": []
  }
 ],
 "metadata": {
  "kernelspec": {
   "display_name": "Python 3 (ipykernel)",
   "language": "python",
   "name": "python3"
  },
  "language_info": {
   "codemirror_mode": {
    "name": "ipython",
    "version": 3
   },
   "file_extension": ".py",
   "mimetype": "text/x-python",
   "name": "python",
   "nbconvert_exporter": "python",
   "pygments_lexer": "ipython3",
   "version": "3.12.4"
  }
 },
 "nbformat": 4,
 "nbformat_minor": 5
}
