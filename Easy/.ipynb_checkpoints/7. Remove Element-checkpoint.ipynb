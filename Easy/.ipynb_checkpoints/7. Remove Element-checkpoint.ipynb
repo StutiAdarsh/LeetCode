{
 "cells": [
  {
   "cell_type": "code",
   "execution_count": 7,
   "id": "047ea7c3",
   "metadata": {},
   "outputs": [
    {
     "name": "stdout",
     "output_type": "stream",
     "text": [
      "[2, 2]\n"
     ]
    }
   ],
   "source": [
    "class Solution(object):\n",
    "    def removeElement(self, nums, val):\n",
    "        \"\"\"\n",
    "        :type nums: List[int]\n",
    "        :type val: int\n",
    "        :rtype: int\n",
    "        \"\"\"\n",
    "        \n",
    "        while val in nums:\n",
    "            nums.remove(val)\n",
    "            \n",
    "        \n",
    "        return nums\n",
    "\n",
    "ob = Solution()            \n",
    "print(ob.removeElement(nums = [3,2,2,3], val = 3))\n",
    "\n",
    "\n",
    "#Time Complexity: O(k * n), where \"k\" is the number of occurrences of val in the list, \n",
    "#and \"n\" is the total number of elements in the list.\n",
    "\n",
    "#Space Complexity: O(1) (constant space)."
   ]
  },
  {
   "cell_type": "markdown",
   "id": "5b997409",
   "metadata": {},
   "source": [
    "Solution 2: NO BUILT-IN FUNCTION"
   ]
  },
  {
   "cell_type": "code",
   "execution_count": 11,
   "id": "67104a1d",
   "metadata": {},
   "outputs": [
    {
     "name": "stdout",
     "output_type": "stream",
     "text": [
      "2\n"
     ]
    }
   ],
   "source": [
    "class Solution(object):\n",
    "    def removeElement(self, nums, val):\n",
    "        \"\"\"\n",
    "        :type nums: List[int]\n",
    "        :type val: int\n",
    "        :rtype: int\n",
    "        \"\"\"\n",
    "        \n",
    "        i = 0\n",
    "        for j in nums:\n",
    "            if j != val:\n",
    "                nums[i] = j\n",
    "                i += 1\n",
    "        \n",
    "        return i\n",
    "\n",
    "ob = Solution()            \n",
    "print(ob.removeElement(nums = [3,2,2,3], val = 3))\n",
    "\n",
    "\n",
    "#Time Complexity: O(n), where N is the number of elements in nums list\n",
    "\n",
    "#Space Complexity: O(1) (constant space)."
   ]
  },
  {
   "cell_type": "code",
   "execution_count": null,
   "id": "b67417d1",
   "metadata": {},
   "outputs": [],
   "source": []
  }
 ],
 "metadata": {
  "kernelspec": {
   "display_name": "Python 3",
   "language": "python",
   "name": "python3"
  },
  "language_info": {
   "codemirror_mode": {
    "name": "ipython",
    "version": 3
   },
   "file_extension": ".py",
   "mimetype": "text/x-python",
   "name": "python",
   "nbconvert_exporter": "python",
   "pygments_lexer": "ipython3",
   "version": "3.8.8"
  }
 },
 "nbformat": 4,
 "nbformat_minor": 5
}
