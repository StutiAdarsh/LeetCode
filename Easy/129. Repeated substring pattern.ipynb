{
 "cells": [
  {
   "cell_type": "code",
   "execution_count": 3,
   "id": "8492faa5",
   "metadata": {},
   "outputs": [],
   "source": [
    "class Solution:\n",
    "    def repeatedSubstringPattern(self, s: str) -> bool:\n",
    "        return s in s[1:] + s[:-1]\n",
    "    \n",
    "#Time: O(N) -Concatenating s[1:] and s[:-1] takes O(n) time, where n is the length of the string s.\n",
    "#Space: O(N) - store concatenated s string s - O(2N) which would be O(N)"
   ]
  },
  {
   "cell_type": "code",
   "execution_count": 4,
   "id": "5059035c",
   "metadata": {},
   "outputs": [
    {
     "name": "stdout",
     "output_type": "stream",
     "text": [
      "Substring pattern?:  True\n",
      "Substring pattern?:  False\n"
     ]
    }
   ],
   "source": [
    "sol =  Solution()\n",
    "print(\"Substring pattern?: \", sol.repeatedSubstringPattern(\"abab\"))\n",
    "print(\"Substring pattern?: \", sol.repeatedSubstringPattern(\"aba\"))"
   ]
  },
  {
   "cell_type": "markdown",
   "id": "24912abc",
   "metadata": {},
   "source": [
    "By removing the first and last character (t[1:-1]) before performing the check, we're only considering the middle portion of the doubled string, effectively looking for repetitions within the string excluding the first and last characters. This ensures that we're checking for the presence of the original string as a repeated substring within itself.\n",
    "\n",
    "So, by removing the first and last character while doing the check, we are eliminating false positives and focusing only on the middle portion where the true repetitions occur."
   ]
  },
  {
   "cell_type": "code",
   "execution_count": null,
   "id": "fa0d2245",
   "metadata": {},
   "outputs": [],
   "source": []
  }
 ],
 "metadata": {
  "kernelspec": {
   "display_name": "Python 3",
   "language": "python",
   "name": "python3"
  },
  "language_info": {
   "codemirror_mode": {
    "name": "ipython",
    "version": 3
   },
   "file_extension": ".py",
   "mimetype": "text/x-python",
   "name": "python",
   "nbconvert_exporter": "python",
   "pygments_lexer": "ipython3",
   "version": "3.8.8"
  }
 },
 "nbformat": 4,
 "nbformat_minor": 5
}
