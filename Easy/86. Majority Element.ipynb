{
 "cells": [
  {
   "cell_type": "code",
   "execution_count": 3,
   "id": "62ceb444",
   "metadata": {},
   "outputs": [],
   "source": [
    "import collections\n",
    "class Solution(object):\n",
    "    def majorityElement(self, nums):\n",
    "        \"\"\"\n",
    "        :type nums: List[int]\n",
    "        :rtype: int\n",
    "        \"\"\"\n",
    "        count = collections.Counter(nums)\n",
    "        for val, counter in count.items():\n",
    "            if counter > (len(nums))//2:\n",
    "                return val\n",
    "            \n",
    "#Time: O(N)- iterate over N elements and to create the dictionary\n",
    "#Space: O(N) - In the worst case, where all elements in the list are unique, the space complexity could be O(n)\n",
    "#to store in created counter"
   ]
  },
  {
   "cell_type": "code",
   "execution_count": 4,
   "id": "9397f979",
   "metadata": {},
   "outputs": [
    {
     "name": "stdout",
     "output_type": "stream",
     "text": [
      "2\n"
     ]
    }
   ],
   "source": [
    "# Example usage:\n",
    "nums = [2,2,1,1,1,2,2]\n",
    "sol = Solution()\n",
    "result = sol.majorityElement(nums)\n",
    "print(result)  # Output: 2"
   ]
  },
  {
   "cell_type": "code",
   "execution_count": null,
   "id": "ae8c720f",
   "metadata": {},
   "outputs": [],
   "source": []
  }
 ],
 "metadata": {
  "kernelspec": {
   "display_name": "Python 3",
   "language": "python",
   "name": "python3"
  },
  "language_info": {
   "codemirror_mode": {
    "name": "ipython",
    "version": 3
   },
   "file_extension": ".py",
   "mimetype": "text/x-python",
   "name": "python",
   "nbconvert_exporter": "python",
   "pygments_lexer": "ipython3",
   "version": "3.8.8"
  }
 },
 "nbformat": 4,
 "nbformat_minor": 5
}
