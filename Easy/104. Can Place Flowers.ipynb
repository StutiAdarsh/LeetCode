{
 "cells": [
  {
   "cell_type": "code",
   "execution_count": 1,
   "id": "c716c062",
   "metadata": {},
   "outputs": [],
   "source": [
    "class Solution(object):\n",
    "    def canPlaceFlowers(self, flowerbed, n):\n",
    "        \"\"\"\n",
    "        :type flowerbed: List[int]\n",
    "        :type n: int\n",
    "        :rtype: bool\n",
    "        \"\"\"\n",
    "        count = 0\n",
    "        for i in range(len(flowerbed)):\n",
    "            if flowerbed[i] == 0:\n",
    "                empty_left = (i==0) or (flowerbed[i-1] == 0)\n",
    "                empty_right = (i == len(flowerbed)-1) or (flowerbed[i+1] == 0)\n",
    "\n",
    "                if empty_left and empty_right:\n",
    "                    flowerbed[i] = 1\n",
    "                    count += 1\n",
    "\n",
    "        return count >= n\n",
    "    \n",
    "#Time: O(N) - time to iterate over N flowerbed list\n",
    "#Space: O(1) - constant space"
   ]
  },
  {
   "cell_type": "code",
   "execution_count": 2,
   "id": "e05db0d3",
   "metadata": {},
   "outputs": [
    {
     "name": "stdout",
     "output_type": "stream",
     "text": [
      "Can flowers be placed?:  True\n",
      "Can flowers be placed?:  False\n"
     ]
    }
   ],
   "source": [
    "sol  = Solution()\n",
    "print(\"Can flowers be placed?: \", sol.canPlaceFlowers(flowerbed = [1,0,0,0,1], n = 1))\n",
    "print(\"Can flowers be placed?: \", sol.canPlaceFlowers(flowerbed = [1,0,0,0,1], n = 2))"
   ]
  },
  {
   "cell_type": "code",
   "execution_count": null,
   "id": "76a458f7",
   "metadata": {},
   "outputs": [],
   "source": []
  }
 ],
 "metadata": {
  "kernelspec": {
   "display_name": "Python 3",
   "language": "python",
   "name": "python3"
  },
  "language_info": {
   "codemirror_mode": {
    "name": "ipython",
    "version": 3
   },
   "file_extension": ".py",
   "mimetype": "text/x-python",
   "name": "python",
   "nbconvert_exporter": "python",
   "pygments_lexer": "ipython3",
   "version": "3.8.8"
  }
 },
 "nbformat": 4,
 "nbformat_minor": 5
}
