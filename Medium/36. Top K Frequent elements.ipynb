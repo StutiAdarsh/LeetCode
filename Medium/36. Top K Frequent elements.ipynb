{
 "cells": [
  {
   "cell_type": "code",
   "execution_count": 10,
   "id": "99e3609b-7b6e-46f7-8c54-d03feee2dd03",
   "metadata": {},
   "outputs": [],
   "source": [
    "import collections, heapq\n",
    "class Solution(object):\n",
    "    def topKFrequent(self, nums, k):\n",
    "        \"\"\"\n",
    "        :type nums: List[int]\n",
    "        :type k: int\n",
    "        :rtype: List[int]\n",
    "        \"\"\"\n",
    "        \n",
    "        if k == len(nums):\n",
    "            return nums\n",
    "        \n",
    "        count = collections.Counter(nums)\n",
    "        \n",
    "        return heapq.nlargest(k, count.keys(), key = count.get)\n",
    "\n",
    "#Time: O(n log k), where n is the number of elements in nums and k is the number of most frequent elements to find.\n",
    "#Space: O(n + k), where n is the number of unique elements and k is the number of top frequent elements to return."
   ]
  },
  {
   "cell_type": "code",
   "execution_count": 12,
   "id": "156e9bbd-1cf2-4b0d-9342-04f13473eaa1",
   "metadata": {},
   "outputs": [
    {
     "name": "stdout",
     "output_type": "stream",
     "text": [
      "[1, 2]\n",
      "[1]\n"
     ]
    }
   ],
   "source": [
    "# Example usage:\n",
    "solution = Solution()\n",
    "\n",
    "# Example 1:\n",
    "nums = [1, 1, 1, 2, 2, 3]\n",
    "k = 2\n",
    "print(solution.topKFrequent(nums, k))  # Output: [1, 2]\n",
    "\n",
    "# Example 2:\n",
    "nums = [1]\n",
    "k = 1\n",
    "print(solution.topKFrequent(nums, k))  # Output: [1]"
   ]
  },
  {
   "cell_type": "code",
   "execution_count": null,
   "id": "41d6c280-07b9-46bc-a3db-29b99cc15314",
   "metadata": {},
   "outputs": [],
   "source": []
  }
 ],
 "metadata": {
  "kernelspec": {
   "display_name": "Python 3 (ipykernel)",
   "language": "python",
   "name": "python3"
  },
  "language_info": {
   "codemirror_mode": {
    "name": "ipython",
    "version": 3
   },
   "file_extension": ".py",
   "mimetype": "text/x-python",
   "name": "python",
   "nbconvert_exporter": "python",
   "pygments_lexer": "ipython3",
   "version": "3.12.4"
  }
 },
 "nbformat": 4,
 "nbformat_minor": 5
}
