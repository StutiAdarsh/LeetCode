{
 "cells": [
  {
   "cell_type": "code",
   "execution_count": 2,
   "id": "a36a06fd-169e-4dae-a16a-a02a76550cf0",
   "metadata": {},
   "outputs": [],
   "source": [
    "class Solution(object):\n",
    "    def threeSumClosest(self, nums, target):\n",
    "        \"\"\"\n",
    "        :type nums: List[int]\n",
    "        :type target: int\n",
    "        :rtype: int\n",
    "        \"\"\"\n",
    "        closest_sum = float('inf')\n",
    "        nums.sort()\n",
    "        \n",
    "        for i in range(len(nums)):\n",
    "            if i > 0 and nums[i] == nums[i-1]:\n",
    "                continue\n",
    "\n",
    "            lo, hi = i+1, len(nums)-1\n",
    "            while lo < hi:\n",
    "                cur_sum = nums[i] + nums[lo] + nums[hi]\n",
    "                if cur_sum == target:\n",
    "                    return cur_sum\n",
    "\n",
    "                if abs(cur_sum - target) < abs(closest_sum - target):\n",
    "                    closest_sum = cur_sum\n",
    "\n",
    "                elif cur_sum < target:\n",
    "                    lo += 1\n",
    "                else:\n",
    "                    hi -= 1\n",
    "\n",
    "        return closest_sum\n",
    "\n",
    "#Time: O(N^2): For nested for and while iteration each O(N) time \n",
    "#Space: O(N): To store N sorted elements in the array"
   ]
  },
  {
   "cell_type": "code",
   "execution_count": 6,
   "id": "fdfa7bc7-fd24-4002-8090-f5cbf935c1da",
   "metadata": {},
   "outputs": [
    {
     "name": "stdout",
     "output_type": "stream",
     "text": [
      "3Sum closest:  2\n"
     ]
    }
   ],
   "source": [
    "ob = Solution()\n",
    "\n",
    "print(\"3Sum closest: \", ob.threeSumClosest(nums=[-1, 1, 2, 4], target=1))"
   ]
  },
  {
   "cell_type": "code",
   "execution_count": null,
   "id": "4aa1c738-f307-46f0-83fa-161bbdbe2df3",
   "metadata": {},
   "outputs": [],
   "source": []
  }
 ],
 "metadata": {
  "kernelspec": {
   "display_name": "Python 3 (ipykernel)",
   "language": "python",
   "name": "python3"
  },
  "language_info": {
   "codemirror_mode": {
    "name": "ipython",
    "version": 3
   },
   "file_extension": ".py",
   "mimetype": "text/x-python",
   "name": "python",
   "nbconvert_exporter": "python",
   "pygments_lexer": "ipython3",
   "version": "3.12.4"
  }
 },
 "nbformat": 4,
 "nbformat_minor": 5
}
