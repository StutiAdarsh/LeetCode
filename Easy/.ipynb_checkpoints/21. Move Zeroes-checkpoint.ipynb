{
 "cells": [
  {
   "cell_type": "code",
   "execution_count": 4,
   "id": "06b6b13e",
   "metadata": {},
   "outputs": [
    {
     "name": "stdout",
     "output_type": "stream",
     "text": [
      "Case 1:  [1, 3, 12, 0, 0]\n",
      "Case 2:  [0]\n"
     ]
    }
   ],
   "source": [
    "class Solution(object):\n",
    "    def moveZeroes(self, nums):\n",
    "        \"\"\"\n",
    "        :type nums: List[int]\n",
    "        :rtype: None Do not return anything, modify nums in-place instead.\n",
    "        \"\"\"\n",
    "        i = 0\n",
    "        for j in range(len(nums)):\n",
    "            if (nums[j] != 0):\n",
    "                nums[i], nums[j] = nums[j], nums[i]\n",
    "                i += 1\n",
    "        #return nums # comment return as it is done in-place and does not require return, just for purpose to view output used return\n",
    "                \n",
    "print(\"Case 1: \", Solution().moveZeroes([0,1,0,3,12]))\n",
    "print(\"Case 2: \", Solution().moveZeroes([0]))\n",
    "\n",
    "#Time: O(n), for iteration over n elements of array\n",
    "#Space: O(1), done in place - constant time"
   ]
  },
  {
   "cell_type": "code",
   "execution_count": null,
   "id": "7acd0759",
   "metadata": {},
   "outputs": [],
   "source": []
  }
 ],
 "metadata": {
  "kernelspec": {
   "display_name": "Python 3",
   "language": "python",
   "name": "python3"
  },
  "language_info": {
   "codemirror_mode": {
    "name": "ipython",
    "version": 3
   },
   "file_extension": ".py",
   "mimetype": "text/x-python",
   "name": "python",
   "nbconvert_exporter": "python",
   "pygments_lexer": "ipython3",
   "version": "3.8.8"
  }
 },
 "nbformat": 4,
 "nbformat_minor": 5
}
