{
 "cells": [
  {
   "cell_type": "code",
   "execution_count": 1,
   "id": "3f163d3b",
   "metadata": {},
   "outputs": [
    {
     "name": "stdout",
     "output_type": "stream",
     "text": [
      "hello world\n"
     ]
    }
   ],
   "source": [
    "class Solution(object):\n",
    "    def toLowerCase(self, s):\n",
    "        \"\"\"\n",
    "        :type s: str\n",
    "        :rtype: str\n",
    "        \"\"\"\n",
    "        return s.lower()\n",
    "    \n",
    "#Time: O(n)\n",
    "#where n is the length of the input string s.\n",
    "\n",
    "#Space: O(n).\n",
    "#This is because the function returns a new string with the same length as the input string s.\n",
    "\n",
    "\n",
    "# Create an instance of the Solution class\n",
    "sol = Solution()\n",
    "\n",
    "# Example usage\n",
    "s = \"Hello World\"\n",
    "result = sol.toLowerCase(s)\n",
    "print(result)  # This should print \"hello world\""
   ]
  },
  {
   "cell_type": "code",
   "execution_count": 4,
   "id": "788f76ba",
   "metadata": {},
   "outputs": [
    {
     "name": "stdout",
     "output_type": "stream",
     "text": [
      "hello world stuti\n"
     ]
    }
   ],
   "source": [
    "# NO BUILT IN\n",
    "class Solution(object):\n",
    "    def toLowerCase(self, s):\n",
    "        \"\"\"\n",
    "        :type s: str\n",
    "        :rtype: str\n",
    "        \"\"\"\n",
    "        ans = \"\"\n",
    "        for c in s:\n",
    "            if 'A' <= c <= 'Z':\n",
    "                ans += chr(ord(c)+32) \n",
    "            else:\n",
    "                ans += c\n",
    "        return ans\n",
    "\n",
    "#Time Complexity: O(N) where N is the length of s\n",
    "#Space Complexity: O(N) creates a new string ans to store the result.\n",
    "\n",
    "# Create an instance of the Solution class\n",
    "sol = Solution()\n",
    "\n",
    "# Example usage\n",
    "s = \"Hello World Stuti\"\n",
    "result = sol.toLowerCase(s)\n",
    "print(result)  # This should print \"hello world\""
   ]
  },
  {
   "cell_type": "code",
   "execution_count": null,
   "id": "0fcdc529",
   "metadata": {},
   "outputs": [],
   "source": []
  }
 ],
 "metadata": {
  "kernelspec": {
   "display_name": "Python 3",
   "language": "python",
   "name": "python3"
  },
  "language_info": {
   "codemirror_mode": {
    "name": "ipython",
    "version": 3
   },
   "file_extension": ".py",
   "mimetype": "text/x-python",
   "name": "python",
   "nbconvert_exporter": "python",
   "pygments_lexer": "ipython3",
   "version": "3.8.8"
  }
 },
 "nbformat": 4,
 "nbformat_minor": 5
}
