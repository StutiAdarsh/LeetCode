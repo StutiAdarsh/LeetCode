{
 "cells": [
  {
   "cell_type": "code",
   "execution_count": 3,
   "id": "892d7cc6",
   "metadata": {},
   "outputs": [],
   "source": [
    "# Definition for a binary tree node.\n",
    "class TreeNode(object):\n",
    "    def __init__(self, val=0, left=None, right=None):\n",
    "        self.val = val\n",
    "        self.left = left\n",
    "        self.right = right\n",
    "\n",
    "class BSTIterator(object):\n",
    "\n",
    "    def __init__(self, root):\n",
    "        \"\"\"\n",
    "        :type root: TreeNode\n",
    "        \"\"\"\n",
    "        self.inorder = []\n",
    "        self.index = -1\n",
    "        self.inorderBst(root)\n",
    "        \n",
    "    def inorderBst(self, root):\n",
    "        if not root:\n",
    "            return \n",
    "        \n",
    "        self.inorderBst(root.left)\n",
    "        self.inorder.append(root.val)\n",
    "        self.inorderBst(root.right) \n",
    "        \n",
    "\n",
    "    def next(self):\n",
    "        \"\"\"\n",
    "        :rtype: int\n",
    "        \"\"\"\n",
    "        self.index += 1\n",
    "        return self.inorder[self.index]\n",
    "\n",
    "    def hasNext(self):\n",
    "        \"\"\"\n",
    "        :rtype: bool\n",
    "        \"\"\"\n",
    "        return self.index+1 < len(self.inorder)\n",
    "\n",
    "\n",
    "# Your BSTIterator object will be instantiated and called as such:\n",
    "# obj = BSTIterator(root)\n",
    "# param_1 = obj.next()\n",
    "# param_2 = obj.hasNext()\n",
    "\n",
    "#Time: O(N)\n",
    "#The time complexity of initializing the iterator in the constructor (__init__) is O(N), \n",
    "#where N is the number of nodes in the binary search tree. \n",
    "#This is because we need to perform an inorder traversal of the entire tree to populate the inorder list.\n",
    "#The time complexity of the next method is O(1), as it simply returns the next element in the inorder list.\n",
    "#The time complexity of the hasNext method is also O(1), as it checks if there are more elements in the inorder list.\n",
    "\n",
    "#Space:O(N)\n",
    "#The space complexity of initializing the iterator is O(N), \n",
    "#where N is the number of nodes in the binary search tree. This is because we store all the node values in the inorder list.\n",
    "#The space complexity of the next and hasNext methods is O(1), \n",
    "#as they do not use any additional space proportional to the size of the tree."
   ]
  },
  {
   "cell_type": "code",
   "execution_count": 4,
   "id": "48243bf6",
   "metadata": {},
   "outputs": [
    {
     "name": "stdout",
     "output_type": "stream",
     "text": [
      "3\n",
      "7\n",
      "9\n",
      "15\n",
      "20\n"
     ]
    }
   ],
   "source": [
    "# Example usage:\n",
    "# Create a binary search tree\n",
    "root = TreeNode(7)\n",
    "root.left = TreeNode(3)\n",
    "root.right = TreeNode(15)\n",
    "root.right.left = TreeNode(9)\n",
    "root.right.right = TreeNode(20)\n",
    "\n",
    "# Create a BSTIterator object\n",
    "iterator = BSTIterator(root)\n",
    "\n",
    "# Iterate over the BST using the iterator\n",
    "while iterator.hasNext():\n",
    "    print(iterator.next())"
   ]
  },
  {
   "cell_type": "code",
   "execution_count": null,
   "id": "bacb26be",
   "metadata": {},
   "outputs": [],
   "source": []
  }
 ],
 "metadata": {
  "kernelspec": {
   "display_name": "Python 3",
   "language": "python",
   "name": "python3"
  },
  "language_info": {
   "codemirror_mode": {
    "name": "ipython",
    "version": 3
   },
   "file_extension": ".py",
   "mimetype": "text/x-python",
   "name": "python",
   "nbconvert_exporter": "python",
   "pygments_lexer": "ipython3",
   "version": "3.8.8"
  }
 },
 "nbformat": 4,
 "nbformat_minor": 5
}
