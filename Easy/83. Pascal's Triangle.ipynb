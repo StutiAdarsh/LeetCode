{
 "cells": [
  {
   "cell_type": "code",
   "execution_count": 1,
   "id": "a376f251",
   "metadata": {},
   "outputs": [],
   "source": [
    "class Solution(object):\n",
    "    def generate(self, numRows):\n",
    "        \"\"\"\n",
    "        :type numRows: int\n",
    "        :rtype: List[List[int]]\n",
    "        \"\"\"\n",
    "        res = [[1]]\n",
    "        \n",
    "        for i in range(numRows-1):\n",
    "            row = []\n",
    "            temp = [0] + res[-1] + [0]\n",
    "            for j in range(len(res[-1])+1):\n",
    "                row.append(temp[j]+temp[j+1])\n",
    "            res.append(row)\n",
    "        return res              \n",
    "    \n",
    "#Time: O(N**2) where N is the no.of rows\n",
    "#Space: O(N**2) where we store all the pascal's triangle"
   ]
  },
  {
   "cell_type": "code",
   "execution_count": 2,
   "id": "693de0a7",
   "metadata": {},
   "outputs": [
    {
     "name": "stdout",
     "output_type": "stream",
     "text": [
      "[[1], [1, 1], [1, 2, 1], [1, 3, 3, 1], [1, 4, 6, 4, 1]]\n"
     ]
    }
   ],
   "source": [
    "# Example\n",
    "sol = Solution()\n",
    "numRows = 5\n",
    "print(sol.generate(numRows))"
   ]
  },
  {
   "cell_type": "code",
   "execution_count": null,
   "id": "4240d151",
   "metadata": {},
   "outputs": [],
   "source": []
  }
 ],
 "metadata": {
  "kernelspec": {
   "display_name": "Python 3",
   "language": "python",
   "name": "python3"
  },
  "language_info": {
   "codemirror_mode": {
    "name": "ipython",
    "version": 3
   },
   "file_extension": ".py",
   "mimetype": "text/x-python",
   "name": "python",
   "nbconvert_exporter": "python",
   "pygments_lexer": "ipython3",
   "version": "3.8.8"
  }
 },
 "nbformat": 4,
 "nbformat_minor": 5
}
