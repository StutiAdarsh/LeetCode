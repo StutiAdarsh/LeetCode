{
 "cells": [
  {
   "cell_type": "code",
   "execution_count": 8,
   "id": "56e59919-cf1c-429d-8380-9c6f27a3d1d4",
   "metadata": {},
   "outputs": [],
   "source": [
    "import heapq\n",
    "\n",
    "class Solution(object):\n",
    "    def findKthLargest(self, nums, k):\n",
    "        \"\"\"\n",
    "        :type nums: List[int]\n",
    "        :type k: int\n",
    "        :rtype: int\n",
    "        \"\"\"\n",
    "        #return sorted(nums)[-k]\n",
    "        print(\"Ignore this, just to check the max heap values: \", heapq.nlargest(k, nums))\n",
    "        return heapq.nlargest(k, nums)[-1]\n",
    "\n",
    "\n",
    "#Time: O(nlogk) - \n",
    "'''\n",
    "Operations on a heap cost logarithmic time relative to its size. \n",
    "Because our heap is limited to a size of k, operations cost at most O(logk). \n",
    "We iterate over nums, performing one or two heap operations at each iteration.\n",
    "We iterate n times, performing up to logk work at each iteration, giving us a time complexity of O(n⋅logk).\n",
    "Because k≤n, this is an improvement on the previous approach.\n",
    "'''\n",
    "        \n",
    "#Space: O(k) - for storing the k largest elements in a heap."
   ]
  },
  {
   "cell_type": "code",
   "execution_count": 10,
   "id": "2aa2fa26-5aa5-43a9-967c-93c3c4acaa64",
   "metadata": {},
   "outputs": [
    {
     "name": "stdout",
     "output_type": "stream",
     "text": [
      "Ignore this, just to check the max heap values:  [6, 5]\n",
      "5\n"
     ]
    }
   ],
   "source": [
    "# Example usage:\n",
    "solution = Solution()\n",
    "nums = [3, 2, 1, 5, 6, 4]\n",
    "k = 2\n",
    "print(solution.findKthLargest(nums, k))  # Output: 5"
   ]
  },
  {
   "cell_type": "code",
   "execution_count": null,
   "id": "6d5c6903-502b-48c3-b3a6-ee77aaa656b0",
   "metadata": {},
   "outputs": [],
   "source": []
  }
 ],
 "metadata": {
  "kernelspec": {
   "display_name": "Python 3 (ipykernel)",
   "language": "python",
   "name": "python3"
  },
  "language_info": {
   "codemirror_mode": {
    "name": "ipython",
    "version": 3
   },
   "file_extension": ".py",
   "mimetype": "text/x-python",
   "name": "python",
   "nbconvert_exporter": "python",
   "pygments_lexer": "ipython3",
   "version": "3.12.4"
  }
 },
 "nbformat": 4,
 "nbformat_minor": 5
}
