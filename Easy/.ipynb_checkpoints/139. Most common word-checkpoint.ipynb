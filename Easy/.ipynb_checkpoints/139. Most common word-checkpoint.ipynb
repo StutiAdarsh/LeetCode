{
 "cells": [
  {
   "cell_type": "code",
   "execution_count": 5,
   "id": "8e873b36",
   "metadata": {},
   "outputs": [],
   "source": [
    "class Solution(object):\n",
    "    def mostCommonWord(self, paragraph, banned):\n",
    "        \"\"\"\n",
    "        :type paragraph: str\n",
    "        :type banned: List[str]\n",
    "        :rtype: str\n",
    "        \"\"\"\n",
    "        # replacing each symbols, so they are not included with words\n",
    "        symbols = \"!?',;.\" \n",
    "        for s in symbols:\n",
    "            paragraph = paragraph.replace(s,\" \")\n",
    "    \n",
    "        paraList = paragraph.lower().split()\n",
    "        wordCounter = {}\n",
    "        for w in paraList:\n",
    "            if w not in banned:\n",
    "                if w not in wordCounter.keys():\n",
    "                    wordCounter[w] = 1 \n",
    "                else:\n",
    "                    wordCounter[w] += 1\n",
    "        \n",
    "        maxVal = max(wordCounter.values())\n",
    "        for k,v in wordCounter.items():\n",
    "            if v == maxVal:\n",
    "                return k\n",
    "            \n",
    "#Time: O(N)\n",
    "#for n lenght of paragraph.\n",
    "\n",
    "#Space: O(N+M)\n",
    "#wordCounter dictionary stores the count of each word, \n",
    "#which can have at most m unique keys. Thus, the space complexity of the dictionary is O(m).\n",
    "#n to store list from paragraph for symbols excluded"
   ]
  },
  {
   "cell_type": "code",
   "execution_count": 6,
   "id": "91d7c88b",
   "metadata": {},
   "outputs": [
    {
     "name": "stdout",
     "output_type": "stream",
     "text": [
      "ball\n"
     ]
    }
   ],
   "source": [
    "# Create an instance of the Solution class\n",
    "sol = Solution()\n",
    "\n",
    "# Example usage\n",
    "paragraph = \"Bob hit a ball, the hit BALL flew far after it was hit.\"\n",
    "banned = [\"hit\"]\n",
    "result = sol.mostCommonWord(paragraph, banned)\n",
    "print(result)  # This should print \"ball\""
   ]
  },
  {
   "cell_type": "code",
   "execution_count": null,
   "id": "a30a52fd",
   "metadata": {},
   "outputs": [],
   "source": []
  }
 ],
 "metadata": {
  "kernelspec": {
   "display_name": "Python 3",
   "language": "python",
   "name": "python3"
  },
  "language_info": {
   "codemirror_mode": {
    "name": "ipython",
    "version": 3
   },
   "file_extension": ".py",
   "mimetype": "text/x-python",
   "name": "python",
   "nbconvert_exporter": "python",
   "pygments_lexer": "ipython3",
   "version": "3.8.8"
  }
 },
 "nbformat": 4,
 "nbformat_minor": 5
}
