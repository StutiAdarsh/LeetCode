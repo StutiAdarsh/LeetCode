{
 "cells": [
  {
   "cell_type": "code",
   "execution_count": 1,
   "id": "59517175",
   "metadata": {},
   "outputs": [],
   "source": [
    "# Definition for a binary tree node.\n",
    "class TreeNode(object):\n",
    "    def __init__(self, val=0, left=None, right=None):\n",
    "        self.val = val\n",
    "        self.left = left\n",
    "        self.right = right\n",
    "\n",
    "class Solution(object):\n",
    "    def searchBST(self, root, val):\n",
    "        \"\"\"\n",
    "        :type root: TreeNode\n",
    "        :type val: int\n",
    "        :rtype: TreeNode\n",
    "        \"\"\"\n",
    "        if not root or root.val == val:\n",
    "            return root\n",
    "        \n",
    "        return self.searchBST(root.left, val) if val < root.val else self.searchBST(root.right, val)\n",
    "\n",
    "#Time: O(N)\n",
    "#In the worst-case scenario, the time complexity of the searchBST function is O(H), which is O(N) for N nodes for the height\n",
    "#where H is the height of the binary search tree. \n",
    "#This is because in the worst case, we may need to traverse the height of the tree from the root to the target node.\n",
    "\n",
    "#Space: O(N):\n",
    "#The space complexity of the searchBST function is O(H) which is O(N) for N nodes for the height, \n",
    "#where H is the height of the binary search tree. \n",
    "#This is because the space used by the recursive call stack is proportional to the height of the tree."
   ]
  },
  {
   "cell_type": "code",
   "execution_count": 2,
   "id": "efddf3ae",
   "metadata": {},
   "outputs": [
    {
     "name": "stdout",
     "output_type": "stream",
     "text": [
      "Node found with value: 2\n"
     ]
    }
   ],
   "source": [
    "# Create a binary search tree\n",
    "root = TreeNode(4)\n",
    "root.left = TreeNode(2)\n",
    "root.right = TreeNode(7)\n",
    "root.left.left = TreeNode(1)\n",
    "root.left.right = TreeNode(3)\n",
    "\n",
    "# Create an instance of the Solution class\n",
    "sol = Solution()\n",
    "\n",
    "# Search for a value in the binary search tree\n",
    "target_value = 2\n",
    "result_node = sol.searchBST(root, target_value)\n",
    "\n",
    "# Print the value of the resulting node\n",
    "if result_node:\n",
    "    print(\"Node found with value:\", result_node.val)\n",
    "else:\n",
    "    print(\"Node not found with value:\", target_value)"
   ]
  },
  {
   "cell_type": "code",
   "execution_count": null,
   "id": "841416bc",
   "metadata": {},
   "outputs": [],
   "source": []
  }
 ],
 "metadata": {
  "kernelspec": {
   "display_name": "Python 3",
   "language": "python",
   "name": "python3"
  },
  "language_info": {
   "codemirror_mode": {
    "name": "ipython",
    "version": 3
   },
   "file_extension": ".py",
   "mimetype": "text/x-python",
   "name": "python",
   "nbconvert_exporter": "python",
   "pygments_lexer": "ipython3",
   "version": "3.8.8"
  }
 },
 "nbformat": 4,
 "nbformat_minor": 5
}
