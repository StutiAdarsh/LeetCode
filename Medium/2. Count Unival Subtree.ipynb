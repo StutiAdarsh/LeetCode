{
 "cells": [
  {
   "cell_type": "code",
   "execution_count": 1,
   "id": "948bd05a",
   "metadata": {},
   "outputs": [],
   "source": [
    "# DFS - Recursive - Bottom Up approah ONLY (***** ONLY Bottom up solution possible for this case)\n",
    "\n",
    "class TreeNode(object):\n",
    "    def __init__(self, val=0, left=None, right=None):\n",
    "        self.val = val\n",
    "        self.left = left\n",
    "        self.right = right\n",
    "        \n",
    "class Solution(object):\n",
    "    def countUnivalSubtrees(self, root):\n",
    "        if not root:\n",
    "            return 0\n",
    "        \n",
    "        self.count = 0\n",
    "        self.isUnival(root)\n",
    "        return self.count\n",
    "    \n",
    "    def isUnival(self, root):\n",
    "        if not root:\n",
    "            return True\n",
    "        \n",
    "        left = self.isUnival(root.left)\n",
    "        right = self.isUnival(root.right)\n",
    "        \n",
    "        if (left and right) and (root.left==None or root.val == root.left.val) and (root.right == None or root.val == root.right.val):\n",
    "            self.count += 1\n",
    "            return True\n",
    "        \n",
    "        return False\n",
    "    \n",
    "#Time: O(N), to traverse each node once\n",
    "#Space: O(N), traverse from root to leaf for recursive stack for N nodes for depth of tree in worst case"
   ]
  },
  {
   "cell_type": "code",
   "execution_count": 2,
   "id": "5463c168",
   "metadata": {},
   "outputs": [
    {
     "name": "stdout",
     "output_type": "stream",
     "text": [
      "Is tree Unival? Ans:  4\n"
     ]
    }
   ],
   "source": [
    "root = TreeNode(5)\n",
    "root.left = TreeNode(1)\n",
    "root.right = TreeNode(5)\n",
    "root.left.left = TreeNode(5)\n",
    "root.left.right = TreeNode(5)\n",
    "root.right.right = TreeNode(5)\n",
    "\n",
    "solution = Solution()\n",
    "print(\"Is tree Unival? Ans: \", solution.countUnivalSubtrees(root))"
   ]
  },
  {
   "cell_type": "code",
   "execution_count": null,
   "id": "5207832a",
   "metadata": {},
   "outputs": [],
   "source": []
  }
 ],
 "metadata": {
  "kernelspec": {
   "display_name": "Python 3",
   "language": "python",
   "name": "python3"
  },
  "language_info": {
   "codemirror_mode": {
    "name": "ipython",
    "version": 3
   },
   "file_extension": ".py",
   "mimetype": "text/x-python",
   "name": "python",
   "nbconvert_exporter": "python",
   "pygments_lexer": "ipython3",
   "version": "3.8.8"
  }
 },
 "nbformat": 4,
 "nbformat_minor": 5
}
