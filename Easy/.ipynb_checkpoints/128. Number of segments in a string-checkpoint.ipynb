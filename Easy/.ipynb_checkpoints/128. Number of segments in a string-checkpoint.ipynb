{
 "cells": [
  {
   "cell_type": "code",
   "execution_count": 1,
   "id": "70af6f5f",
   "metadata": {},
   "outputs": [],
   "source": [
    "class Solution(object):\n",
    "    def countSegments(self, s):\n",
    "        \"\"\"\n",
    "        :type s: str\n",
    "        :rtype: int\n",
    "        \"\"\"\n",
    "        return len(s.split())\n",
    "    \n",
    "#Time: O(N) for N length of S\n",
    "#Space: O(N) to store N segment of S in list"
   ]
  },
  {
   "cell_type": "code",
   "execution_count": 2,
   "id": "a8bee5bd",
   "metadata": {},
   "outputs": [
    {
     "name": "stdout",
     "output_type": "stream",
     "text": [
      "No. of segments:  5\n",
      "No. of segments:  1\n"
     ]
    }
   ],
   "source": [
    "sol = Solution()\n",
    "print(\"No. of segments: \", sol.countSegments(s = \"Hello, my name is John\"))\n",
    "print(\"No. of segments: \", sol.countSegments(s = \"Hello\"))"
   ]
  },
  {
   "cell_type": "code",
   "execution_count": 3,
   "id": "eeaeace9",
   "metadata": {},
   "outputs": [
    {
     "name": "stdout",
     "output_type": "stream",
     "text": [
      "No. of segments:  5\n",
      "No. of segments:  1\n"
     ]
    }
   ],
   "source": [
    "#Approach 2: NO BUILT IN\n",
    "\n",
    "class Solution(object):\n",
    "    def countSegments(self, s):\n",
    "        count = 0\n",
    "        for i in range(len(s)):\n",
    "            if s[i] != ' ' and (i==0 or s[i-1] == ' '):\n",
    "                count += 1\n",
    "        return count\n",
    "\n",
    "#Time: O(N) for N length of S\n",
    "#Space: O(1) constant space\n",
    "\n",
    "sol = Solution()\n",
    "print(\"No. of segments: \", sol.countSegments(s = \"Hello, my name is John\"))\n",
    "print(\"No. of segments: \", sol.countSegments(s = \"Hello\"))"
   ]
  },
  {
   "cell_type": "code",
   "execution_count": null,
   "id": "09ebc87a",
   "metadata": {},
   "outputs": [],
   "source": []
  }
 ],
 "metadata": {
  "kernelspec": {
   "display_name": "Python 3",
   "language": "python",
   "name": "python3"
  },
  "language_info": {
   "codemirror_mode": {
    "name": "ipython",
    "version": 3
   },
   "file_extension": ".py",
   "mimetype": "text/x-python",
   "name": "python",
   "nbconvert_exporter": "python",
   "pygments_lexer": "ipython3",
   "version": "3.8.8"
  }
 },
 "nbformat": 4,
 "nbformat_minor": 5
}
