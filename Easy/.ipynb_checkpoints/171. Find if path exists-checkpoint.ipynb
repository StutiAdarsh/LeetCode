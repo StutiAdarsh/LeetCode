{
 "cells": [
  {
   "cell_type": "code",
   "execution_count": 8,
   "id": "bdb9a71f-28ce-435f-94cc-eb0c1a655b19",
   "metadata": {},
   "outputs": [],
   "source": [
    "from collections import defaultdict\n",
    "class Solution(object):\n",
    "    def validPath(self, n, edges, source, destination):\n",
    "        \"\"\"\n",
    "        :type n: int\n",
    "        :type edges: List[List[int]]\n",
    "        :type source: int\n",
    "        :type destination: int\n",
    "        :rtype: bool\n",
    "        \"\"\"\n",
    "        if source == destination:\n",
    "            return True\n",
    "\n",
    "        graph = defaultdict(list)\n",
    "\n",
    "        for u, v in edges:\n",
    "            graph[u].append(v)\n",
    "            graph[v].append(u)\n",
    "\n",
    "        seen = set()\n",
    "\n",
    "        def dfs(node):\n",
    "            if node == destination:\n",
    "                return True\n",
    "\n",
    "            for next_node in graph[node]:\n",
    "                if next_node not in seen:\n",
    "                    seen.add(next_node)\n",
    "                    if dfs(next_node):\n",
    "                        return True\n",
    "            return False\n",
    "            \n",
    "        return dfs(source)\n",
    "\n",
    "#Time: O(N+E) for every N nodes we traverse every E edges\n",
    "#Space: O(N+E) to store all E edges in the defualt dict and store N nodes in recursive call stack"
   ]
  },
  {
   "cell_type": "code",
   "execution_count": 10,
   "id": "24ce66bb-af1e-4bdc-ab43-5b230cc47dba",
   "metadata": {},
   "outputs": [
    {
     "name": "stdout",
     "output_type": "stream",
     "text": [
      "Path exists? : True\n"
     ]
    }
   ],
   "source": [
    "ob = Solution()\n",
    "\n",
    "print(\"Path exists? :\", ob.validPath(n = 3, edges = [[0,1],[1,2],[2,0]], source = 0, destination = 2))"
   ]
  },
  {
   "cell_type": "code",
   "execution_count": null,
   "id": "d517b91f-346f-41fc-8616-fff7567c7812",
   "metadata": {},
   "outputs": [],
   "source": []
  }
 ],
 "metadata": {
  "kernelspec": {
   "display_name": "Python 3 (ipykernel)",
   "language": "python",
   "name": "python3"
  },
  "language_info": {
   "codemirror_mode": {
    "name": "ipython",
    "version": 3
   },
   "file_extension": ".py",
   "mimetype": "text/x-python",
   "name": "python",
   "nbconvert_exporter": "python",
   "pygments_lexer": "ipython3",
   "version": "3.12.4"
  }
 },
 "nbformat": 4,
 "nbformat_minor": 5
}
