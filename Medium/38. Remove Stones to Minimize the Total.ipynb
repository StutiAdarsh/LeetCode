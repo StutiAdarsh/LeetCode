{
 "cells": [
  {
   "cell_type": "code",
   "execution_count": 14,
   "id": "a8426d35-60e1-485d-886b-16d7762b0de1",
   "metadata": {},
   "outputs": [],
   "source": [
    "import heapq\n",
    "class Solution(object):\n",
    "    def minStoneSum(self, piles, k):\n",
    "        \"\"\"\n",
    "        :type piles: List[int]\n",
    "        :type k: int\n",
    "        :rtype: int\n",
    "        \"\"\"\n",
    "        heap = [-num for num in piles]\n",
    "        heapq.heapify(heap)\n",
    "\n",
    "        for _ in range(k):\n",
    "            cur = -heapq.heappop(heap)\n",
    "            remove = cur // 2\n",
    "            heapq.heappush(heap, -(cur - remove))\n",
    "\n",
    "        return -sum(heap)\n",
    "\n",
    "#Time: O(N+k.log N) - \n",
    "        '''\n",
    "        An array can be converted to a heap in linear time (O(n)) using a method like Python's heapq.heapify(). \n",
    "        After converting the input to a heap, we perform k heap operations. \n",
    "        Each heap operation costs O(logn),\n",
    "        which gives us a time complexity of \n",
    "        O(n+k⋅logn).\n",
    "        '''\n",
    "#Space: O(N) - heap space is equals the number of elements n "
   ]
  },
  {
   "cell_type": "code",
   "execution_count": 16,
   "id": "a5945038-c0c5-49d7-b55c-025fa5fcf9af",
   "metadata": {},
   "outputs": [
    {
     "name": "stdout",
     "output_type": "stream",
     "text": [
      "Min Stone Sum:  12\n",
      "Min Stone Sum:  12\n"
     ]
    }
   ],
   "source": [
    "sol = Solution()\n",
    "print(\"Min Stone Sum: \", sol.minStoneSum(piles = [5,4,9], k = 2))\n",
    "print(\"Min Stone Sum: \", sol.minStoneSum(piles = [4,3,6,7], k = 3))"
   ]
  },
  {
   "cell_type": "code",
   "execution_count": null,
   "id": "4d9144b4-6476-4cd7-93a7-1ed794b9a6ea",
   "metadata": {},
   "outputs": [],
   "source": []
  }
 ],
 "metadata": {
  "kernelspec": {
   "display_name": "Python 3 (ipykernel)",
   "language": "python",
   "name": "python3"
  },
  "language_info": {
   "codemirror_mode": {
    "name": "ipython",
    "version": 3
   },
   "file_extension": ".py",
   "mimetype": "text/x-python",
   "name": "python",
   "nbconvert_exporter": "python",
   "pygments_lexer": "ipython3",
   "version": "3.12.4"
  }
 },
 "nbformat": 4,
 "nbformat_minor": 5
}
