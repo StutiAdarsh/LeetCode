{
 "cells": [
  {
   "cell_type": "code",
   "execution_count": 2,
   "id": "134e332e",
   "metadata": {},
   "outputs": [],
   "source": [
    "# Definition for a binary tree node.\n",
    "class TreeNode(object):\n",
    "    def __init__(self, val=0, left=None, right=None):\n",
    "        self.val = val\n",
    "        self.left = left\n",
    "        self.right = right\n",
    "\n",
    "class Solution(object):\n",
    "    def isCousins(self, root, x, y):\n",
    "        \"\"\"\n",
    "        :type root: TreeNode\n",
    "        :type x: int\n",
    "        :type y: int\n",
    "        :rtype: bool\n",
    "        \"\"\"\n",
    "        \n",
    "        res = []\n",
    "        def dfs(root, parent, depth):\n",
    "            if not root:\n",
    "                return\n",
    "            if root.val == x or root.val == y:\n",
    "                res.append((parent,depth))\n",
    "            dfs(root.left, root, depth+1)\n",
    "            dfs(root.right, root, depth+1)\n",
    "        dfs(root, None, 0)\n",
    "        \n",
    "        node_x, node_y = res\n",
    "        return node_x[0] != node_y[0] and node_x[1] == node_y[1]  \n",
    "    \n",
    "#Time: O(N) - time to traverse DFS top down each node once\n",
    "#Space: O(N) - the depth of the recursive call stack during the DFS traversal.\n",
    "#Total Space: Therefore, the space complexity is O(N), where N is the height of the binary tree."
   ]
  },
  {
   "cell_type": "code",
   "execution_count": 3,
   "id": "387f5531",
   "metadata": {},
   "outputs": [
    {
     "name": "stdout",
     "output_type": "stream",
     "text": [
      "Are nodes with values 4 and 5 cousins? True\n"
     ]
    }
   ],
   "source": [
    "# Example usage:\n",
    "if __name__ == \"__main__\":\n",
    "    # Create a binary tree\n",
    "    root = TreeNode(1)\n",
    "    root.left = TreeNode(2)\n",
    "    root.right = TreeNode(3)\n",
    "    root.left.left = TreeNode(4)\n",
    "    root.right.right = TreeNode(5)\n",
    "    x = 4\n",
    "    y = 5\n",
    "    \n",
    "    # Create an instance of the Solution class\n",
    "    sol = Solution()\n",
    "\n",
    "    # Call the isCousins method and print the output\n",
    "    output = sol.isCousins(root, x, y)\n",
    "    print(\"Are nodes with values\", x, \"and\", y, \"cousins?\", output)"
   ]
  },
  {
   "cell_type": "code",
   "execution_count": null,
   "id": "41753531",
   "metadata": {},
   "outputs": [],
   "source": []
  }
 ],
 "metadata": {
  "kernelspec": {
   "display_name": "Python 3",
   "language": "python",
   "name": "python3"
  },
  "language_info": {
   "codemirror_mode": {
    "name": "ipython",
    "version": 3
   },
   "file_extension": ".py",
   "mimetype": "text/x-python",
   "name": "python",
   "nbconvert_exporter": "python",
   "pygments_lexer": "ipython3",
   "version": "3.8.8"
  }
 },
 "nbformat": 4,
 "nbformat_minor": 5
}
