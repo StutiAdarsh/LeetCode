{
 "cells": [
  {
   "cell_type": "code",
   "execution_count": 2,
   "id": "bcf9cdf8-1ae3-4bae-9053-41f89ecf4eef",
   "metadata": {},
   "outputs": [],
   "source": [
    "class Solution(object):\n",
    "    def threeSum(self, nums):\n",
    "        \"\"\"\n",
    "        :type nums: List[int]\n",
    "        :rtype: List[List[int]]\n",
    "        \"\"\"\n",
    "        res = []\n",
    "        nums.sort()\n",
    "\n",
    "        for id, a in enumerate(nums):\n",
    "            if id > 0 and a == nums[id-1]:\n",
    "                continue\n",
    "            \n",
    "            l, r = id + 1, len(nums)-1\n",
    "            while l < r:\n",
    "                threeSum = a + nums[l] + nums[r]\n",
    "\n",
    "                if threeSum > 0:\n",
    "                    r -= 1\n",
    "                elif threeSum < 0:\n",
    "                    l += 1\n",
    "                else:\n",
    "                    res.append([a, nums[l], nums[r]])\n",
    "                    l += 1\n",
    "                    while nums[l] == nums[l-1] and l < r:\n",
    "                        l += 1\n",
    "        return res\n",
    "\n",
    "#Time: O(N^2) \n",
    "#twoSumII is O(n), and we call it n times.\n",
    "#Sorting the array takes O(nlogn), so overall complexity is O(nlogn+n^2). therefore, O(n^2)\n",
    "        \n",
    "#Space: O(N) - to store the N elements sorted for array"
   ]
  },
  {
   "cell_type": "code",
   "execution_count": 4,
   "id": "5110e84e-055e-4dfd-aca3-6ed2b00c6692",
   "metadata": {},
   "outputs": [
    {
     "name": "stdout",
     "output_type": "stream",
     "text": [
      "3Sum:  [[-1, -1, 2], [-1, 0, 1]]\n"
     ]
    }
   ],
   "source": [
    "ob = Solution()\n",
    "\n",
    "print(\"3Sum: \", ob.threeSum(nums = [-1,0,1,2,-1,-4]))"
   ]
  },
  {
   "cell_type": "code",
   "execution_count": null,
   "id": "70cac141-46d9-4bba-a3fe-9c49f67f1860",
   "metadata": {},
   "outputs": [],
   "source": []
  }
 ],
 "metadata": {
  "kernelspec": {
   "display_name": "Python 3 (ipykernel)",
   "language": "python",
   "name": "python3"
  },
  "language_info": {
   "codemirror_mode": {
    "name": "ipython",
    "version": 3
   },
   "file_extension": ".py",
   "mimetype": "text/x-python",
   "name": "python",
   "nbconvert_exporter": "python",
   "pygments_lexer": "ipython3",
   "version": "3.12.4"
  }
 },
 "nbformat": 4,
 "nbformat_minor": 5
}
