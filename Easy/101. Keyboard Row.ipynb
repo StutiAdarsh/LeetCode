{
 "cells": [
  {
   "cell_type": "code",
   "execution_count": 1,
   "id": "f5e83800",
   "metadata": {},
   "outputs": [],
   "source": [
    "class Solution(object):\n",
    "    def findWords(self, words):\n",
    "        \"\"\"\n",
    "        :type words: List[str]\n",
    "        :rtype: List[str]\n",
    "        \"\"\"\n",
    "        keyboard = [\"qwertyuiop\", \"asdfghjkl\", \"zxcvbnm\"]\n",
    "        res = []\n",
    "\n",
    "        for word in words:\n",
    "            w = set(word.lower())\n",
    "            if w <= set(keyboard[0]) or w <= set(keyboard[1]) or w <= set(keyboard[2]):\n",
    "                res.append(word)\n",
    "        return res\n",
    "    \n",
    "\n",
    "#Time: O(N*M) where N is the number of words in the list and M is the average length of words in the list\n",
    "\n",
    "#Space: O(N*M) - to convert each word to set for N words in array to store in res array plus for each word additionally store \n",
    "#set of that word indicated by M space for each word"
   ]
  },
  {
   "cell_type": "code",
   "execution_count": 2,
   "id": "7480ac15",
   "metadata": {},
   "outputs": [
    {
     "name": "stdout",
     "output_type": "stream",
     "text": [
      "Keyboard Row:  ['Alaska', 'Dad']\n",
      "Keyboard Row:  []\n"
     ]
    }
   ],
   "source": [
    "sol = Solution()\n",
    "print(\"Keyboard Row: \", sol.findWords(words = [\"Hello\",\"Alaska\",\"Dad\",\"Peace\"]))\n",
    "print(\"Keyboard Row: \", sol.findWords(words = [\"omk\"]))"
   ]
  },
  {
   "cell_type": "code",
   "execution_count": null,
   "id": "c9e83bb1",
   "metadata": {},
   "outputs": [],
   "source": []
  }
 ],
 "metadata": {
  "kernelspec": {
   "display_name": "Python 3",
   "language": "python",
   "name": "python3"
  },
  "language_info": {
   "codemirror_mode": {
    "name": "ipython",
    "version": 3
   },
   "file_extension": ".py",
   "mimetype": "text/x-python",
   "name": "python",
   "nbconvert_exporter": "python",
   "pygments_lexer": "ipython3",
   "version": "3.8.8"
  }
 },
 "nbformat": 4,
 "nbformat_minor": 5
}
