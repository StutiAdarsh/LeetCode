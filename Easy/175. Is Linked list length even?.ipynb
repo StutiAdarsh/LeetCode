{
 "cells": [
  {
   "cell_type": "markdown",
   "id": "8a1a022f-ba1b-4030-ba72-0457edca3fae",
   "metadata": {},
   "source": [
    "Given a linked list, your task is to complete the function isLengthEven() which contains the head of the linked list, and check whether the length of the linked list is even or not. Return true if it is even, otherwise false."
   ]
  },
  {
   "cell_type": "code",
   "execution_count": 7,
   "id": "7b6475ce-0de1-4eb9-a7ff-4c30cdee8545",
   "metadata": {},
   "outputs": [],
   "source": [
    "class ListNode(object):\n",
    "    def __init__(self, val=0, next=None):\n",
    "        self.val = val\n",
    "        self.next = next\n",
    "\n",
    "class Solution:\n",
    "    # your task is to complete this function\n",
    "    # function should return false if length is even\n",
    "    # else return true\n",
    "    def isLengthEven(self, head):\n",
    "        # Code here\n",
    "        while head and head.next:\n",
    "            head = head.next.next\n",
    "            \n",
    "        if not head:\n",
    "            return True\n",
    "\n",
    "        return False\n",
    "\n",
    "\n",
    "#Time: O(N) - The while loop traverses the linked list, moving two steps at a time, leading to a linear time complexity, \n",
    "        #more precisely O(n/2)\n",
    "#Space: O(1) - constant space"
   ]
  },
  {
   "cell_type": "code",
   "execution_count": 9,
   "id": "c2e121a1-9645-48a9-96f8-847cf12284c1",
   "metadata": {},
   "outputs": [
    {
     "name": "stdout",
     "output_type": "stream",
     "text": [
      "False\n",
      "True\n",
      "True\n"
     ]
    }
   ],
   "source": [
    "# Function to create a linked list from a list of values\n",
    "def createLinkedList(arr):\n",
    "    if not arr:\n",
    "        return None\n",
    "    head = ListNode(arr[0])\n",
    "    current = head\n",
    "    for value in arr[1:]:\n",
    "        current.next = ListNode(value)\n",
    "        current = current.next\n",
    "    return head\n",
    "\n",
    "# Example usage:\n",
    "solution = Solution()\n",
    "\n",
    "# Example 1: List with odd length\n",
    "arr = [1, 2, 3, 4, 5]\n",
    "head = createLinkedList(arr)\n",
    "print(solution.isLengthEven(head))  # Output: False (odd length)\n",
    "\n",
    "# Example 2: List with even length\n",
    "arr = [1, 2, 3, 4]\n",
    "head = createLinkedList(arr)\n",
    "print(solution.isLengthEven(head))  # Output: True (even length)\n",
    "\n",
    "# Example 3: Empty list\n",
    "arr = []\n",
    "head = createLinkedList(arr)\n",
    "print(solution.isLengthEven(head))  # Output: True (even length, empty list)"
   ]
  },
  {
   "cell_type": "code",
   "execution_count": null,
   "id": "b786dc56-38f3-4e9f-99df-724c9868397a",
   "metadata": {},
   "outputs": [],
   "source": []
  }
 ],
 "metadata": {
  "kernelspec": {
   "display_name": "Python 3 (ipykernel)",
   "language": "python",
   "name": "python3"
  },
  "language_info": {
   "codemirror_mode": {
    "name": "ipython",
    "version": 3
   },
   "file_extension": ".py",
   "mimetype": "text/x-python",
   "name": "python",
   "nbconvert_exporter": "python",
   "pygments_lexer": "ipython3",
   "version": "3.12.4"
  }
 },
 "nbformat": 4,
 "nbformat_minor": 5
}
