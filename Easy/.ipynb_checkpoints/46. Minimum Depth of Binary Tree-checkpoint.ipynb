{
 "cells": [
  {
   "cell_type": "code",
   "execution_count": 1,
   "id": "d6d108d1",
   "metadata": {},
   "outputs": [],
   "source": [
    "# Definition for a binary tree node.\n",
    "class TreeNode(object):\n",
    "    def __init__(self, val=0, left=None, right=None):\n",
    "        self.val = val\n",
    "        self.left = left\n",
    "        self.right = right\n",
    "\n",
    "class Solution(object):\n",
    "    def minDepth(self, root):\n",
    "        \"\"\"\n",
    "        :type root: TreeNode\n",
    "        :rtype: int\n",
    "        \"\"\"\n",
    "        if not root:\n",
    "            return 0\n",
    "        self.count = float('inf')\n",
    "\n",
    "        def dfs(root, cur_count):\n",
    "            if not root:\n",
    "                return 0\n",
    "\n",
    "            if not root.left and not root.right:\n",
    "                self.count = min(self.count, cur_count)   \n",
    "\n",
    "            if root.left:\n",
    "                dfs(root.left, cur_count+1) \n",
    "            if root.right:\n",
    "                dfs(root.right, cur_count+1)\n",
    "\n",
    "        dfs(root, 1)\n",
    "        return self.count  \n",
    "\n",
    "#Time: O(N) to traverse DFS TD for each node\n",
    "#Space: O(N) to store N nodes for height of tree in recursive stack"
   ]
  },
  {
   "cell_type": "code",
   "execution_count": 2,
   "id": "6efe44b4",
   "metadata": {},
   "outputs": [
    {
     "name": "stdout",
     "output_type": "stream",
     "text": [
      "Minimum depth of the binary tree: 2\n"
     ]
    }
   ],
   "source": [
    "# Define the binary tree\n",
    "root = TreeNode(3)\n",
    "root.left = TreeNode(9)\n",
    "root.right = TreeNode(20)\n",
    "root.right.left = TreeNode(15)\n",
    "root.right.right = TreeNode(7)\n",
    "\n",
    "# Create an instance of the Solution class\n",
    "sol = Solution()\n",
    "\n",
    "# Call the minDepth method\n",
    "output = sol.minDepth(root)\n",
    "\n",
    "# Print the output\n",
    "print(\"Minimum depth of the binary tree:\", output)"
   ]
  },
  {
   "cell_type": "code",
   "execution_count": null,
   "id": "3855cbf0",
   "metadata": {},
   "outputs": [],
   "source": []
  }
 ],
 "metadata": {
  "kernelspec": {
   "display_name": "Python 3",
   "language": "python",
   "name": "python3"
  },
  "language_info": {
   "codemirror_mode": {
    "name": "ipython",
    "version": 3
   },
   "file_extension": ".py",
   "mimetype": "text/x-python",
   "name": "python",
   "nbconvert_exporter": "python",
   "pygments_lexer": "ipython3",
   "version": "3.8.8"
  }
 },
 "nbformat": 4,
 "nbformat_minor": 5
}
