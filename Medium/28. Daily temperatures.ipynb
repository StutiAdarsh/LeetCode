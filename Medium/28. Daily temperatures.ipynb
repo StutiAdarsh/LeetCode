{
 "cells": [
  {
   "cell_type": "code",
   "execution_count": 1,
   "id": "f70510e4",
   "metadata": {},
   "outputs": [],
   "source": [
    "class Solution(object):\n",
    "    def dailyTemperatures(self, temperatures):\n",
    "        \"\"\"\n",
    "        :type temperatures: List[int]\n",
    "        :rtype: List[int]\n",
    "        \"\"\"\n",
    "        answer = [0] * len(temperatures)\n",
    "        stack = []\n",
    "        \n",
    "        for cur_day, cur_temp in enumerate(temperatures):\n",
    "            while stack and temperatures[stack[-1]] < cur_temp:\n",
    "                prev_day = stack.pop()\n",
    "                answer[prev_day] = cur_day - prev_day\n",
    "            stack.append(cur_day)\n",
    "        return answer\n",
    "    \n",
    "#Time: O(N) - every element is pushed and popped once - O(2N) = O(N)\n",
    "#Space: O(N) - stack grows to size of N elements"
   ]
  },
  {
   "cell_type": "code",
   "execution_count": 2,
   "id": "2f7db03d",
   "metadata": {},
   "outputs": [
    {
     "name": "stdout",
     "output_type": "stream",
     "text": [
      "Daily temp:  [1, 1, 4, 2, 1, 1, 0, 0]\n"
     ]
    }
   ],
   "source": [
    "sol = Solution()\n",
    "print(\"Daily temp: \", sol.dailyTemperatures([73,74,75,71,69,72,76,73]))"
   ]
  },
  {
   "cell_type": "code",
   "execution_count": null,
   "id": "fb21869f",
   "metadata": {},
   "outputs": [],
   "source": []
  }
 ],
 "metadata": {
  "kernelspec": {
   "display_name": "Python 3",
   "language": "python",
   "name": "python3"
  },
  "language_info": {
   "codemirror_mode": {
    "name": "ipython",
    "version": 3
   },
   "file_extension": ".py",
   "mimetype": "text/x-python",
   "name": "python",
   "nbconvert_exporter": "python",
   "pygments_lexer": "ipython3",
   "version": "3.8.8"
  }
 },
 "nbformat": 4,
 "nbformat_minor": 5
}
