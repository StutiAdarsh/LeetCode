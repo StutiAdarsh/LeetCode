{
 "cells": [
  {
   "cell_type": "code",
   "execution_count": 5,
   "id": "82d3be1f",
   "metadata": {},
   "outputs": [],
   "source": [
    "class Solution(object):\n",
    "    def areSentencesSimilar(self, sentence1, sentence2, similarPairs):\n",
    "        \"\"\"\n",
    "        :type sentence1: List[str]\n",
    "        :type sentence2: List[str]\n",
    "        :type similarPairs: List[List[str]]\n",
    "        :rtype: bool\n",
    "        \"\"\"\n",
    "        if len(sentence1) != len(sentence2):\n",
    "            return False\n",
    "\n",
    "        for idx in range(len(sentence1)):\n",
    "            print(sentence1[idx],sentence2[idx])\n",
    "            if not(sentence1[idx]==sentence2[idx] or [sentence1[idx],sentence2[idx]] in similarPairs or [sentence2[idx],sentence1[idx]] in similarPairs):\n",
    "                return False\n",
    "        return True\n",
    "    \n",
    "#Time: O(N * M)\n",
    "#Let n be the length of the longer sentence (sentence1 or sentence2), \n",
    "#and m be the length of the similarPairs list.\n",
    "#The time complexity of this function is O(n * m).\n",
    "\n",
    "#Space: O(1)\n",
    "#constant space"
   ]
  },
  {
   "cell_type": "code",
   "execution_count": 6,
   "id": "10fedff3",
   "metadata": {},
   "outputs": [
    {
     "name": "stdout",
     "output_type": "stream",
     "text": [
      "great fine\n",
      "acting drama\n",
      "skills talent\n",
      "True\n"
     ]
    }
   ],
   "source": [
    "# Create an instance of the Solution class\n",
    "sol = Solution()\n",
    "\n",
    "# Example usage\n",
    "sentence1 = [\"great\",\"acting\",\"skills\"]\n",
    "sentence2 = [\"fine\",\"drama\",\"talent\"]\n",
    "similarPairs = [[\"great\",\"fine\"],[\"drama\",\"acting\"],[\"skills\",\"talent\"]]\n",
    "result = sol.areSentencesSimilar(sentence1, sentence2, similarPairs)\n",
    "print(result)  # This should print True"
   ]
  },
  {
   "cell_type": "code",
   "execution_count": 7,
   "id": "5e8ab733",
   "metadata": {},
   "outputs": [
    {
     "name": "stdout",
     "output_type": "stream",
     "text": [
      "False\n"
     ]
    }
   ],
   "source": [
    "# Create an instance of the Solution class\n",
    "sol = Solution()\n",
    "result = sol.areSentencesSimilar(sentence1 = [\"great\"], sentence2 = [\"doubleplus\",\"good\"], similarPairs = [[\"great\",\"doubleplus\"]])\n",
    "print(result)  # This should print False"
   ]
  },
  {
   "cell_type": "code",
   "execution_count": null,
   "id": "4acffff8",
   "metadata": {},
   "outputs": [],
   "source": []
  }
 ],
 "metadata": {
  "kernelspec": {
   "display_name": "Python 3",
   "language": "python",
   "name": "python3"
  },
  "language_info": {
   "codemirror_mode": {
    "name": "ipython",
    "version": 3
   },
   "file_extension": ".py",
   "mimetype": "text/x-python",
   "name": "python",
   "nbconvert_exporter": "python",
   "pygments_lexer": "ipython3",
   "version": "3.8.8"
  }
 },
 "nbformat": 4,
 "nbformat_minor": 5
}
