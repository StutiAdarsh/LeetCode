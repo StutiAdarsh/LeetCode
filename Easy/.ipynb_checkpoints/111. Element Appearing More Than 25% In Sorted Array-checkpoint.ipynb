{
 "cells": [
  {
   "cell_type": "code",
   "execution_count": 3,
   "id": "953d5161",
   "metadata": {},
   "outputs": [],
   "source": [
    "from collections import Counter\n",
    "class Solution(object):\n",
    "    def findSpecialInteger(self, arr):\n",
    "        \"\"\"\n",
    "        :type arr: List[int]\n",
    "        :rtype: int\n",
    "        \"\"\"\n",
    "        count = Counter(arr)\n",
    "        for k, v in count.items():\n",
    "            if v > len(arr)/4:\n",
    "                return k\n",
    "            \n",
    "#Time: O(N) - where n is the length of the input array arr \n",
    "#Space: O(N) - store counter dictionary of arr for every N elements in arr"
   ]
  },
  {
   "cell_type": "code",
   "execution_count": 4,
   "id": "6ffaf6a1",
   "metadata": {},
   "outputs": [
    {
     "name": "stdout",
     "output_type": "stream",
     "text": [
      "6\n"
     ]
    }
   ],
   "source": [
    "# Example usage:\n",
    "sol = Solution()\n",
    "print(sol.findSpecialInteger([1, 2, 2, 6, 6, 6, 6, 7, 10]))  # Output: 6"
   ]
  },
  {
   "cell_type": "code",
   "execution_count": null,
   "id": "3d6b140e",
   "metadata": {},
   "outputs": [],
   "source": []
  }
 ],
 "metadata": {
  "kernelspec": {
   "display_name": "Python 3",
   "language": "python",
   "name": "python3"
  },
  "language_info": {
   "codemirror_mode": {
    "name": "ipython",
    "version": 3
   },
   "file_extension": ".py",
   "mimetype": "text/x-python",
   "name": "python",
   "nbconvert_exporter": "python",
   "pygments_lexer": "ipython3",
   "version": "3.8.8"
  }
 },
 "nbformat": 4,
 "nbformat_minor": 5
}
