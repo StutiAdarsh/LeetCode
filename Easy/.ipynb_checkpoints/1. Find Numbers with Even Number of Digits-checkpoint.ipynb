{
 "cells": [
  {
   "cell_type": "code",
   "execution_count": 2,
   "id": "009df0fa",
   "metadata": {},
   "outputs": [
    {
     "name": "stdout",
     "output_type": "stream",
     "text": [
      "Case 1:  2\n",
      "Case 2:  1\n"
     ]
    }
   ],
   "source": [
    "class Solution(object):\n",
    "    def findNumbers(self, nums):\n",
    "        \"\"\"\n",
    "        :type nums: List[int]\n",
    "        :rtype: int\n",
    "        \"\"\"\n",
    "        \n",
    "        count = 0\n",
    "        for i in nums:\n",
    "            if len(str(i)) % 2 == 0:\n",
    "                count += 1\n",
    "        return count\n",
    "    \n",
    "    \n",
    "#Input case\n",
    "obj = Solution()\n",
    "print(\"Case 1: \", obj.findNumbers([12,345,2,6,7896]))\n",
    "print(\"Case 2: \", obj.findNumbers([555,901,482,1771]))\n",
    "        "
   ]
  },
  {
   "cell_type": "markdown",
   "id": "d28b8020",
   "metadata": {},
   "source": [
    "'''\n",
    "Time Complexity: O(N. log M)'''\n",
    "\n",
    "N is number of elements that is looped.\n",
    "M is the maximum number in nums.\n",
    "\n",
    "We have a for loop which converts each num to a string and finds its length. \n",
    "Now, the time complexity of converting an integer to a string will depend on the language. \n",
    "However, it will be O(log⁡(num)) at most. \n",
    "Hence, the time complexity of converting an integer to a string will be O(log⁡M). \n",
    "Checking its length will take O(1) time. We do this for N integers.\n",
    "\n",
    "Hence, the time complexity of findNumbers is O(N⋅log⁡M)\n",
    "\n",
    "\n",
    "-----------------------------------------------------------------------------------------\n",
    "\n",
    "\n",
    "'''Space complexity: O(log⁡M)'''\n",
    "\n",
    "We are temporarily storing the string representation of num. \n",
    "The maximum length of the string will be of the maximum integer in nums. \n",
    "Hence, the space complexity is O(log⁡M).\n"
   ]
  },
  {
   "cell_type": "markdown",
   "id": "af272f89",
   "metadata": {},
   "source": [
    "Solution 2 - one liner"
   ]
  },
  {
   "cell_type": "code",
   "execution_count": 3,
   "id": "9171ff47",
   "metadata": {},
   "outputs": [
    {
     "name": "stdout",
     "output_type": "stream",
     "text": [
      "Case 1:  2\n",
      "Case 2:  1\n"
     ]
    }
   ],
   "source": [
    "class Solution(object):\n",
    "    def findNumbers(self, nums):\n",
    "        \"\"\"\n",
    "        :type nums: List[int]\n",
    "        :rtype: int\n",
    "        \"\"\"\n",
    "        \n",
    "        return len([x for x in nums if len(str(x)) % 2 == 0])\n",
    "    \n",
    "    \n",
    "#Input case\n",
    "obj = Solution()\n",
    "print(\"Case 1: \", obj.findNumbers([12,345,2,6,7896]))\n",
    "print(\"Case 2: \", obj.findNumbers([555,901,482,1771]))\n",
    "        "
   ]
  },
  {
   "cell_type": "code",
   "execution_count": null,
   "id": "e91ee16a",
   "metadata": {},
   "outputs": [],
   "source": [
    "#TC and SC same as above"
   ]
  }
 ],
 "metadata": {
  "kernelspec": {
   "display_name": "Python 3",
   "language": "python",
   "name": "python3"
  },
  "language_info": {
   "codemirror_mode": {
    "name": "ipython",
    "version": 3
   },
   "file_extension": ".py",
   "mimetype": "text/x-python",
   "name": "python",
   "nbconvert_exporter": "python",
   "pygments_lexer": "ipython3",
   "version": "3.8.8"
  }
 },
 "nbformat": 4,
 "nbformat_minor": 5
}
