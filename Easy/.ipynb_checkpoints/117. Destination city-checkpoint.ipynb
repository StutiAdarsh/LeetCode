{
 "cells": [
  {
   "cell_type": "code",
   "execution_count": 2,
   "id": "06bd9db5",
   "metadata": {},
   "outputs": [],
   "source": [
    "class Solution(object):\n",
    "    def destCity(self, paths):\n",
    "        \"\"\"\n",
    "        :type paths: List[List[str]]\n",
    "        :rtype: str\n",
    "        \"\"\"\n",
    "        cities = set()\n",
    "\n",
    "        # collect starting cities\n",
    "        for path in paths:\n",
    "            cities.add(path[0])\n",
    "\n",
    "        # collect destination points   \n",
    "        for path in paths:\n",
    "            dest = path[1]\n",
    "            if dest not in cities:\n",
    "                return dest\n",
    "            \n",
    "#Time: O(N) to iterate over N paths \n",
    "#Space: O(N) to save N paths in the set"
   ]
  },
  {
   "cell_type": "code",
   "execution_count": 3,
   "id": "3dee1f4f",
   "metadata": {},
   "outputs": [
    {
     "name": "stdout",
     "output_type": "stream",
     "text": [
      "Destinatio city:  Sao Paulo\n",
      "Destinatio city:  A\n"
     ]
    }
   ],
   "source": [
    "sol = Solution()\n",
    "print(\"Destinatio city: \", sol.destCity([[\"London\",\"New York\"],[\"New York\",\"Lima\"],[\"Lima\",\"Sao Paulo\"]]))\n",
    "print(\"Destinatio city: \", sol.destCity([[\"B\",\"C\"],[\"D\",\"B\"],[\"C\",\"A\"]]))"
   ]
  },
  {
   "cell_type": "code",
   "execution_count": null,
   "id": "518d559f",
   "metadata": {},
   "outputs": [],
   "source": []
  }
 ],
 "metadata": {
  "kernelspec": {
   "display_name": "Python 3",
   "language": "python",
   "name": "python3"
  },
  "language_info": {
   "codemirror_mode": {
    "name": "ipython",
    "version": 3
   },
   "file_extension": ".py",
   "mimetype": "text/x-python",
   "name": "python",
   "nbconvert_exporter": "python",
   "pygments_lexer": "ipython3",
   "version": "3.8.8"
  }
 },
 "nbformat": 4,
 "nbformat_minor": 5
}
