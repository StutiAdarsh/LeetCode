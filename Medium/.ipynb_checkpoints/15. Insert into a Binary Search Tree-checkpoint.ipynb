{
 "cells": [
  {
   "cell_type": "code",
   "execution_count": 5,
   "id": "e444f943",
   "metadata": {},
   "outputs": [],
   "source": [
    "# Definition for a binary tree node.\n",
    "class TreeNode(object):\n",
    "    def __init__(self, val=0, left=None, right=None):\n",
    "        self.val = val\n",
    "        self.left = left\n",
    "        self.right = right\n",
    "\n",
    "class Solution(object):\n",
    "    def insertIntoBST(self, root, val):\n",
    "        \"\"\"\n",
    "        :type root: TreeNode\n",
    "        :type val: int\n",
    "        :rtype: TreeNode\n",
    "        \"\"\"\n",
    "        if not root:\n",
    "            return TreeNode(val)\n",
    "        \n",
    "        if val > root.val:\n",
    "            root.right = self.insertIntoBST(root.right, val)\n",
    "        else:\n",
    "            root.left = self.insertIntoBST(root.left, val)\n",
    "        return root\n",
    "\n",
    "#Time: O(N)- the height of the tree is O(n), and insertion would take O(n).\n",
    "#Space: O(N) - the tree is skewed, and the recursion depth reaches O(n), resulting in a space complexity of O(n)."
   ]
  },
  {
   "cell_type": "code",
   "execution_count": 7,
   "id": "f2e94e1f",
   "metadata": {},
   "outputs": [
    {
     "name": "stdout",
     "output_type": "stream",
     "text": [
      "1 2 3 4 7 "
     ]
    }
   ],
   "source": [
    "# Example usage:\n",
    "# Define the root of the BST\n",
    "root = TreeNode(4)\n",
    "solution = Solution()\n",
    "\n",
    "# Insert values into the BST\n",
    "solution.insertIntoBST(root, 2)\n",
    "solution.insertIntoBST(root, 7)\n",
    "solution.insertIntoBST(root, 1)\n",
    "solution.insertIntoBST(root, 3)\n",
    "\n",
    "# Function to print the tree in inorder traversal\n",
    "def inorder_traversal(node):\n",
    "    if node:\n",
    "        inorder_traversal(node.left)\n",
    "        print(node.val, end=\" \")\n",
    "        inorder_traversal(node.right)\n",
    "\n",
    "# Print the BST after inserting nodes\n",
    "inorder_traversal(root)"
   ]
  },
  {
   "cell_type": "markdown",
   "id": "857ef3f5-d995-4e02-8f1d-4bb70b1b4fab",
   "metadata": {},
   "source": [
    "        4\n",
    "       / \\\n",
    "      2   7\n",
    "     / \\\n",
    "    1   3\n"
   ]
  },
  {
   "cell_type": "code",
   "execution_count": null,
   "id": "2a6c3e77-4229-4020-bd04-eb7041a5149c",
   "metadata": {},
   "outputs": [],
   "source": []
  }
 ],
 "metadata": {
  "kernelspec": {
   "display_name": "Python 3 (ipykernel)",
   "language": "python",
   "name": "python3"
  },
  "language_info": {
   "codemirror_mode": {
    "name": "ipython",
    "version": 3
   },
   "file_extension": ".py",
   "mimetype": "text/x-python",
   "name": "python",
   "nbconvert_exporter": "python",
   "pygments_lexer": "ipython3",
   "version": "3.12.4"
  }
 },
 "nbformat": 4,
 "nbformat_minor": 5
}
