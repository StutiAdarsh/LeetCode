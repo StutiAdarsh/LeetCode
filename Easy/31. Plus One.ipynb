{
 "cells": [
  {
   "cell_type": "code",
   "execution_count": 15,
   "id": "555dfc6c",
   "metadata": {},
   "outputs": [],
   "source": [
    "#Approach 1\n",
    "class Solution(object):\n",
    "    def plusOne(self, digits):\n",
    "        for i in range(len(digits)-1, -1, -1):\n",
    "            if digits[i] == 9:\n",
    "                digits[i] = 0\n",
    "            else:\n",
    "                digits[i] += 1\n",
    "                return digits\n",
    "            return [1]+digits\n",
    "        \n",
    "#Time Complexity: O(n) - to iterate over all elements in worst case\n",
    "#Space Complexity: O(N)\n",
    "#Although we perform the operation in-place (i.e. on the input list itself),\n",
    "#in the worst scenario, we would need to allocate an intermediate space to hold the result,\n",
    "#which contains the N+1 elements.\n",
    "#Hence the overall space complexity of the algorithm is O(N)."
   ]
  },
  {
   "cell_type": "code",
   "execution_count": 16,
   "id": "9650e725",
   "metadata": {},
   "outputs": [
    {
     "name": "stdout",
     "output_type": "stream",
     "text": [
      "Case 1:  [1, 2, 3, 5]\n",
      "Case 2:  [4, 3, 2, 2]\n",
      "Case 3:  [1, 0]\n"
     ]
    }
   ],
   "source": [
    "ob = Solution()\n",
    "print(\"Case 1: \", ob.plusOne([1,2,3,4]))\n",
    "print(\"Case 2: \", ob.plusOne([4,3,2,1]))\n",
    "print(\"Case 3: \", ob.plusOne([9]))"
   ]
  },
  {
   "cell_type": "code",
   "execution_count": 17,
   "id": "67d7a2bb",
   "metadata": {},
   "outputs": [],
   "source": [
    "#Approach 2\n",
    "class Solution(object):\n",
    "    def plusOne(self, digits):\n",
    "        return \"\".join(str(int(''.join([str(i) for i in digits]))+1))\n",
    "    \n",
    "#Time: O(N) - to iterate over elemenst to conver to integer then string and vice versa and join\n",
    "#Space: O(N) - to store converted strings "
   ]
  },
  {
   "cell_type": "code",
   "execution_count": 18,
   "id": "64bc905d",
   "metadata": {},
   "outputs": [
    {
     "name": "stdout",
     "output_type": "stream",
     "text": [
      "Case 1:  1235\n",
      "Case 2:  4322\n",
      "Case 3:  10\n"
     ]
    }
   ],
   "source": [
    "ob = Solution()\n",
    "print(\"Case 1: \", ob.plusOne([1,2,3,4]))\n",
    "print(\"Case 2: \", ob.plusOne([4,3,2,1]))\n",
    "print(\"Case 3: \", ob.plusOne([9]))"
   ]
  },
  {
   "cell_type": "code",
   "execution_count": null,
   "id": "1b5b6558",
   "metadata": {},
   "outputs": [],
   "source": [
    "#Time Complexity: O(n + d), n for the join operation for a n length array of digits and d time for \n",
    "#the integer converion of that new joined string\n",
    "#Space Complexity: O(n + d), string conversion and join takes n space and space for integer representation is O(d)"
   ]
  }
 ],
 "metadata": {
  "kernelspec": {
   "display_name": "Python 3",
   "language": "python",
   "name": "python3"
  },
  "language_info": {
   "codemirror_mode": {
    "name": "ipython",
    "version": 3
   },
   "file_extension": ".py",
   "mimetype": "text/x-python",
   "name": "python",
   "nbconvert_exporter": "python",
   "pygments_lexer": "ipython3",
   "version": "3.8.8"
  }
 },
 "nbformat": 4,
 "nbformat_minor": 5
}
