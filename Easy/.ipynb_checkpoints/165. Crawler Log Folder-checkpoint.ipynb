{
 "cells": [
  {
   "cell_type": "code",
   "execution_count": 1,
   "id": "fc1a2afa",
   "metadata": {},
   "outputs": [],
   "source": [
    "class Solution(object):\n",
    "    def minOperations(self, logs):\n",
    "        \"\"\"\n",
    "        :type logs: List[str]\n",
    "        :rtype: int\n",
    "        \"\"\"\n",
    "        stack = []\n",
    "        for i in logs:\n",
    "            if i == \"../\":\n",
    "                if stack:\n",
    "                    stack.pop()\n",
    "            elif i != \"./\":\n",
    "                stack.append(i)\n",
    "        return len(stack)\n",
    "    \n",
    "#Time: O(N) - lenght of array logs of size N\n",
    "#Space: O(N) - since we use stack which can be of size n in worst case"
   ]
  },
  {
   "cell_type": "code",
   "execution_count": 2,
   "id": "d37b20aa",
   "metadata": {},
   "outputs": [
    {
     "name": "stdout",
     "output_type": "stream",
     "text": [
      "Number of jumps to get to main folder:  2\n"
     ]
    }
   ],
   "source": [
    "sol = Solution()\n",
    "print(\"Number of jumps to get to main folder: \", sol.minOperations([\"d1/\",\"d2/\",\"../\",\"d21/\",\"./\"]))"
   ]
  },
  {
   "cell_type": "code",
   "execution_count": null,
   "id": "ef004c3e",
   "metadata": {},
   "outputs": [],
   "source": []
  }
 ],
 "metadata": {
  "kernelspec": {
   "display_name": "Python 3",
   "language": "python",
   "name": "python3"
  },
  "language_info": {
   "codemirror_mode": {
    "name": "ipython",
    "version": 3
   },
   "file_extension": ".py",
   "mimetype": "text/x-python",
   "name": "python",
   "nbconvert_exporter": "python",
   "pygments_lexer": "ipython3",
   "version": "3.8.8"
  }
 },
 "nbformat": 4,
 "nbformat_minor": 5
}
