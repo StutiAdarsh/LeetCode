{
 "cells": [
  {
   "cell_type": "code",
   "execution_count": 1,
   "id": "0760e2ac",
   "metadata": {},
   "outputs": [],
   "source": [
    "class Solution(object):\n",
    "    def countPrefixSuffixPairs(self, words):\n",
    "        \"\"\"\n",
    "        :type words: List[str]\n",
    "        :rtype: int\n",
    "        \"\"\"\n",
    "        def isPrefixSuffix(word1, word2):\n",
    "            n = len(word1)\n",
    "            return word2[:n] == word1 and word2[-n:] == word1\n",
    "\n",
    "        count = 0\n",
    "        for i in range(len(words)):\n",
    "            for j in range(i+1, len(words)):\n",
    "                count += isPrefixSuffix(words[i], words[j])\n",
    "\n",
    "        return count\n",
    "\n",
    "#Time: O(n**2*k) - where n is the number of words and k is the average length of the words.\n",
    "#the total number of iterations for the nested loops is approximately (n^2)\n",
    "# the isPrefix function is called, which compares the prefixes and suffixes of the two words. \n",
    "#This comparison takes O(k) time, where k is the length of the shorter word.\n",
    "\n",
    "#Space: O(1) - uses a constant amount of extra space "
   ]
  },
  {
   "cell_type": "code",
   "execution_count": 2,
   "id": "00f95498",
   "metadata": {},
   "outputs": [
    {
     "name": "stdout",
     "output_type": "stream",
     "text": [
      "4\n"
     ]
    }
   ],
   "source": [
    "words = [\"a\",\"aba\",\"ababa\",\"aa\"]\n",
    "sol = Solution()\n",
    "print(sol.countPrefixSuffixPairs(words))  # Output: 4"
   ]
  },
  {
   "cell_type": "code",
   "execution_count": null,
   "id": "bbcb9350",
   "metadata": {},
   "outputs": [],
   "source": []
  }
 ],
 "metadata": {
  "kernelspec": {
   "display_name": "Python 3",
   "language": "python",
   "name": "python3"
  },
  "language_info": {
   "codemirror_mode": {
    "name": "ipython",
    "version": 3
   },
   "file_extension": ".py",
   "mimetype": "text/x-python",
   "name": "python",
   "nbconvert_exporter": "python",
   "pygments_lexer": "ipython3",
   "version": "3.8.8"
  }
 },
 "nbformat": 4,
 "nbformat_minor": 5
}
