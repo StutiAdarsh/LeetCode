{
 "cells": [
  {
   "cell_type": "code",
   "execution_count": 3,
   "id": "e1498e17",
   "metadata": {},
   "outputs": [],
   "source": [
    "# Definition for a binary tree node.\n",
    "class TreeNode(object):\n",
    "    def __init__(self, val=0, left=None, right=None):\n",
    "        self.val = val\n",
    "        self.left = left\n",
    "        self.right = right\n",
    "\n",
    "class Solution(object):\n",
    "    def pathSum(self, root, targetSum):\n",
    "        \"\"\"\n",
    "        :type root: TreeNode\n",
    "        :type targetSum: int\n",
    "        :rtype: List[List[int]]\n",
    "        \"\"\"\n",
    "        return self.dfs(root, targetSum, [], [])\n",
    "\n",
    "    def dfs(self, root, sum, curPath, res):\n",
    "        if not root:\n",
    "            return \n",
    "\n",
    "        if not root.left and not root.right and sum == root.val:\n",
    "            res.append(list(curPath) + [root.val])\n",
    "        \n",
    "        else:\n",
    "            if root.left:\n",
    "                self.dfs(root.left, sum - root.val, curPath+[root.val], res)\n",
    "            if root.right:\n",
    "                self.dfs(root.right, sum - root.val, curPath+[root.val], res)\n",
    "        return res\n",
    "\n",
    "#Time: O(N), to visit all nodes in worst case of the tree during traversal\n",
    "#Space: O(N), to store N node values in list during tree traversal in worst case"
   ]
  },
  {
   "cell_type": "code",
   "execution_count": 2,
   "id": "90431f48",
   "metadata": {},
   "outputs": [
    {
     "name": "stdout",
     "output_type": "stream",
     "text": [
      "Paths with sum 22 : [[5, 4, 11, 2], [5, 8, 4, 5]]\n"
     ]
    }
   ],
   "source": [
    "# Define the binary tree\n",
    "root = TreeNode(5)\n",
    "root.left = TreeNode(4)\n",
    "root.right = TreeNode(8)\n",
    "root.left.left = TreeNode(11)\n",
    "root.left.left.left = TreeNode(7)\n",
    "root.left.left.right = TreeNode(2)\n",
    "root.right.left = TreeNode(13)\n",
    "root.right.right = TreeNode(4)\n",
    "root.right.right.left = TreeNode(5)\n",
    "root.right.right.right = TreeNode(1)\n",
    "\n",
    "# Target sum\n",
    "target_sum = 22\n",
    "\n",
    "# Create an instance of the Solution class\n",
    "sol = Solution()\n",
    "\n",
    "# Call the pathSum method\n",
    "result = sol.pathSum(root, target_sum)\n",
    "\n",
    "# Print and check the result\n",
    "print(\"Paths with sum\", target_sum, \":\", result)"
   ]
  }
 ],
 "metadata": {
  "kernelspec": {
   "display_name": "Python 3",
   "language": "python",
   "name": "python3"
  },
  "language_info": {
   "codemirror_mode": {
    "name": "ipython",
    "version": 3
   },
   "file_extension": ".py",
   "mimetype": "text/x-python",
   "name": "python",
   "nbconvert_exporter": "python",
   "pygments_lexer": "ipython3",
   "version": "3.8.8"
  }
 },
 "nbformat": 4,
 "nbformat_minor": 5
}
