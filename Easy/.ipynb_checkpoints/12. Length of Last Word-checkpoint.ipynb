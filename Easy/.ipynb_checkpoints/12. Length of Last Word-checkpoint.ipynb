{
 "cells": [
  {
   "cell_type": "code",
   "execution_count": 2,
   "id": "1e4d9912",
   "metadata": {},
   "outputs": [
    {
     "name": "stdout",
     "output_type": "stream",
     "text": [
      "Case 1:  4\n",
      "Case 2:  5\n",
      "Case 3:  6\n"
     ]
    }
   ],
   "source": [
    "class Solution(object):\n",
    "    def lengthOfLastWord(s):\n",
    "        \"\"\"\n",
    "        :type s: str\n",
    "        :rtype: int\n",
    "        \"\"\"\n",
    "        return len(s.split()[-1])\n",
    "    \n",
    "#O(N) time: where N is the length of the input string\n",
    "#O(N) space: as the split function returns a list of words in the string\n",
    "\n",
    "print(\"Case 1: \", Solution.lengthOfLastWord(\"   fly me   to   the moon  \"))\n",
    "print(\"Case 2: \", Solution.lengthOfLastWord(\"Hello World\"))\n",
    "print(\"Case 3: \", Solution.lengthOfLastWord(\"luffy is still joyboy\"))"
   ]
  },
  {
   "cell_type": "markdown",
   "id": "09e969ec",
   "metadata": {},
   "source": [
    "Solution 2: NO BUILT IN"
   ]
  },
  {
   "cell_type": "code",
   "execution_count": 5,
   "id": "7c6bd9d1",
   "metadata": {},
   "outputs": [
    {
     "name": "stdout",
     "output_type": "stream",
     "text": [
      "Case 1:  4\n",
      "Case 2:  5\n",
      "Case 3:  6\n"
     ]
    }
   ],
   "source": [
    "class Solution(object):\n",
    "    def lengthOfLastWord(s):\n",
    "        \"\"\"\n",
    "        :type s: str\n",
    "        :rtype: int\n",
    "        \"\"\"\n",
    "        lwl = 0\n",
    "        for i in range(len(s)-1,-1,-1):\n",
    "            if lwl and s[i] == ' ':\n",
    "                break\n",
    "            if s[i] != ' ':\n",
    "                lwl+=1\n",
    "        return lwl\n",
    "    \n",
    "#O(N) time: where N is the length of the input string\n",
    "#O(1) space: uses constant space. No extra space used.\n",
    "\n",
    "print(\"Case 1: \", Solution.lengthOfLastWord(\"   fly me   to   the moon  \"))\n",
    "print(\"Case 2: \", Solution.lengthOfLastWord(\"Hello World\"))\n",
    "print(\"Case 3: \", Solution.lengthOfLastWord(\"luffy is still joyboy\"))"
   ]
  },
  {
   "cell_type": "code",
   "execution_count": null,
   "id": "95dcc964",
   "metadata": {},
   "outputs": [],
   "source": []
  }
 ],
 "metadata": {
  "kernelspec": {
   "display_name": "Python 3",
   "language": "python",
   "name": "python3"
  },
  "language_info": {
   "codemirror_mode": {
    "name": "ipython",
    "version": 3
   },
   "file_extension": ".py",
   "mimetype": "text/x-python",
   "name": "python",
   "nbconvert_exporter": "python",
   "pygments_lexer": "ipython3",
   "version": "3.8.8"
  }
 },
 "nbformat": 4,
 "nbformat_minor": 5
}
