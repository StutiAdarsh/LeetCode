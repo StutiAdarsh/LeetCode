{
 "cells": [
  {
   "cell_type": "code",
   "execution_count": 38,
   "id": "e8abc581",
   "metadata": {},
   "outputs": [],
   "source": [
    "# Recursive approach\n",
    "# Definition for a binary tree node.\n",
    "class TreeNode(object):\n",
    "    def __init__(self, val=0, left=None, right=None):\n",
    "        self.val = val\n",
    "        self.left = left \n",
    "        self.right = right\n",
    "    \n",
    "class Solution(object):\n",
    "    def preorderTraversalRecursive(self, root):\n",
    "        \"\"\"\n",
    "        :type root: TreeNode\n",
    "        :rtype: List[int]\n",
    "        \"\"\"\n",
    "        return [root.val] + self.preorderTraversalRecursive(root.left) + self.preorderTraversalRecursive(root.right) if root else []"
   ]
  },
  {
   "cell_type": "code",
   "execution_count": 39,
   "id": "2bdff9ee",
   "metadata": {},
   "outputs": [
    {
     "name": "stdout",
     "output_type": "stream",
     "text": [
      "[1, 2, 3]\n"
     ]
    }
   ],
   "source": [
    "root = TreeNode(1)\n",
    "root.right = TreeNode(2)\n",
    "root.right.left = TreeNode(3)\n",
    "\n",
    "# Create an instance of the Solution class\n",
    "solution = Solution()\n",
    "\n",
    "# Call the preorderTraversal method\n",
    "result = solution.preorderTraversalRecursive(root)\n",
    "\n",
    "# Print the result\n",
    "print(result)"
   ]
  },
  {
   "cell_type": "code",
   "execution_count": 40,
   "id": "5de83e9d",
   "metadata": {},
   "outputs": [],
   "source": [
    "# Iterative approach\n",
    "class TreeNode(object):\n",
    "    def __init__(self, val=0, left=None, right=None):\n",
    "        self.val = val\n",
    "        self.left = left \n",
    "        self.right = right\n",
    "    \n",
    "class Solution(object):\n",
    "    def preorderTraversalIterative(self, root):\n",
    "        if not root:\n",
    "            return []\n",
    "        \n",
    "        stack, res = [root], []\n",
    "        \n",
    "        while stack:\n",
    "            root = stack.pop()\n",
    "            if root:\n",
    "                res.append(root.val)\n",
    "                if root.right:\n",
    "                    stack.append(root.right)\n",
    "                if root.left:\n",
    "                    stack.append(root.left)\n",
    "        return res\n",
    "    \n",
    "#Time: O(N) - to iterate over N nodes of the tree as we visit each node exactly once\n",
    "#Spcae: O(N) - depending on the tree structure, we could keep up to the entire tree, therefore, the space complexity is O(N)\n",
    "#i.e, the height of the tree"
   ]
  },
  {
   "cell_type": "code",
   "execution_count": 41,
   "id": "769455d4",
   "metadata": {},
   "outputs": [
    {
     "name": "stdout",
     "output_type": "stream",
     "text": [
      "[1, 2, 3]\n"
     ]
    }
   ],
   "source": [
    "root = TreeNode(1)\n",
    "root.right = TreeNode(2)\n",
    "root.right.left = TreeNode(3)\n",
    "\n",
    "# Create an instance of the Solution class\n",
    "solution = Solution()\n",
    "\n",
    "# Call the preorderTraversal method\n",
    "result = solution.preorderTraversalIterative(root)\n",
    "\n",
    "# Print the result\n",
    "print(result)"
   ]
  },
  {
   "cell_type": "code",
   "execution_count": null,
   "id": "2da8e59a",
   "metadata": {},
   "outputs": [],
   "source": []
  }
 ],
 "metadata": {
  "kernelspec": {
   "display_name": "Python 3",
   "language": "python",
   "name": "python3"
  },
  "language_info": {
   "codemirror_mode": {
    "name": "ipython",
    "version": 3
   },
   "file_extension": ".py",
   "mimetype": "text/x-python",
   "name": "python",
   "nbconvert_exporter": "python",
   "pygments_lexer": "ipython3",
   "version": "3.8.8"
  }
 },
 "nbformat": 4,
 "nbformat_minor": 5
}
