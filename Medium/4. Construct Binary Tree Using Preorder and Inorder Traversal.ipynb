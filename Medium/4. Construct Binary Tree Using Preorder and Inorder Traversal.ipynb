{
 "cells": [
  {
   "cell_type": "code",
   "execution_count": 1,
   "id": "2a63ae34",
   "metadata": {},
   "outputs": [
    {
     "name": "stdout",
     "output_type": "stream",
     "text": [
      "Tree:  <__main__.TreeNode object at 0x00000160689F0E20>\n"
     ]
    }
   ],
   "source": [
    "# Definition for a binary tree node.\n",
    "class TreeNode(object):\n",
    "    def __init__(self, val=0, left=None, right=None):\n",
    "        self.val = val\n",
    "        self.left = left\n",
    "        self.right = right\n",
    "\n",
    "class Solution(object):\n",
    "    def buildTree(self, preorder, inorder):\n",
    "        def helper(in_left, in_right): \n",
    "            #if there are no elements to construct subtrees\n",
    "            if in_left > in_right:\n",
    "                return None\n",
    "            \n",
    "            # pick up the last element as a root\n",
    "            val = preorder.pop(0)\n",
    "            root = TreeNode(val)\n",
    "            \n",
    "            # index of inorder\n",
    "            index = idx_map[val]\n",
    "            \n",
    "            root.left = helper(in_left, index-1)\n",
    "            root.right = helper(index+1, in_right) \n",
    "            return root\n",
    "            \n",
    "        # build a hashmap value -> its index\n",
    "        idx_map = {val:idx for idx, val in enumerate(inorder)} \n",
    "        return helper(0, len(inorder) - 1)\n",
    "\n",
    "solution = Solution()\n",
    "print(\"Tree: \", solution.buildTree(preorder = [3,9,20,15,7], inorder = [9,3,15,20,7]))\n",
    "\n",
    "#Time: O(N)  time to contruct tree of N nodes and hashmap for N values\n",
    "#Space: O(N) - storing N nodes of tree and hashmap takes O(N)space"
   ]
  },
  {
   "cell_type": "code",
   "execution_count": 2,
   "id": "6ca1a9b5",
   "metadata": {},
   "outputs": [
    {
     "name": "stdout",
     "output_type": "stream",
     "text": [
      "Tree:  <__main__.TreeNode object at 0x00000160698FB9A0>\n"
     ]
    }
   ],
   "source": [
    "class Solution(object):\n",
    "    def buildTree(self, preorder, inorder):\n",
    "        \"\"\"\n",
    "        :type preorder: List[int]\n",
    "        :type inorder: List[int]\n",
    "        :rtype: TreeNode\n",
    "        \"\"\"\n",
    "        if not preorder or not inorder:\n",
    "            return None\n",
    "        root = TreeNode(preorder.pop(0))\n",
    "        root_index = inorder.index(root.val)\n",
    "        root.left = self.buildTree(preorder, inorder[0:root_index])\n",
    "        root.right = self.buildTree(preorder, inorder[root_index+1:])\n",
    "        return root     \n",
    "        \n",
    "solution = Solution()\n",
    "print(\"Tree: \", solution.buildTree(preorder = [3,9,20,15,7], inorder = [9,3,15,20,7]))\n",
    "\n",
    "#Time: O(N)  time to contruct tree of N nodes and hashmap for N values\n",
    "#Space: O(N) - storing N nodes of tree and hashmap takes O(N)space"
   ]
  },
  {
   "cell_type": "code",
   "execution_count": null,
   "id": "f4a18be5",
   "metadata": {},
   "outputs": [],
   "source": []
  }
 ],
 "metadata": {
  "kernelspec": {
   "display_name": "Python 3",
   "language": "python",
   "name": "python3"
  },
  "language_info": {
   "codemirror_mode": {
    "name": "ipython",
    "version": 3
   },
   "file_extension": ".py",
   "mimetype": "text/x-python",
   "name": "python",
   "nbconvert_exporter": "python",
   "pygments_lexer": "ipython3",
   "version": "3.8.8"
  }
 },
 "nbformat": 4,
 "nbformat_minor": 5
}
