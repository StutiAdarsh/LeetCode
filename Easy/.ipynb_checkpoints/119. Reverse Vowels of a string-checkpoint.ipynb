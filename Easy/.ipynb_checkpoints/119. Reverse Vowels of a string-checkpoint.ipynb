{
 "cells": [
  {
   "cell_type": "code",
   "execution_count": 3,
   "id": "325c7da6",
   "metadata": {},
   "outputs": [],
   "source": [
    "class Solution(object):\n",
    "    def reverseVowels(self, s):\n",
    "        \"\"\"\n",
    "        :type s: str\n",
    "        :rtype: str\n",
    "        \"\"\"\n",
    "        s = list(s)\n",
    "        vowels = \"aAeEiIoOuU\"\n",
    "        left, right = 0, len(s)-1\n",
    "        while left < right:\n",
    "            if s[left] in vowels and s[right] in vowels:\n",
    "                s[left], s[right] = s[right], s[left]\n",
    "                left += 1\n",
    "                right -= 1\n",
    "            \n",
    "            elif s[left] not in vowels:\n",
    "                left += 1\n",
    "            \n",
    "            else:\n",
    "                right -= 1\n",
    "\n",
    "        return ''.join(s)\n",
    "        \n",
    "#Time: O(N) - time to convert to list and iterate over it using 2 pointers\n",
    "#Space: O(N) - space to store the N length string converted to list"
   ]
  },
  {
   "cell_type": "code",
   "execution_count": 4,
   "id": "5fafdc5c",
   "metadata": {},
   "outputs": [
    {
     "name": "stdout",
     "output_type": "stream",
     "text": [
      "holle\n",
      "leotcede\n",
      "ilgorathm\n"
     ]
    }
   ],
   "source": [
    "sol = Solution()\n",
    "s1 = \"hello\"\n",
    "print(sol.reverseVowels(s1))  # Output: \"holle\"\n",
    "\n",
    "s2 = \"leetcode\"\n",
    "print(sol.reverseVowels(s2))  # Output: \"leotcede\"\n",
    "\n",
    "s3 = \"algorithm\"\n",
    "print(sol.reverseVowels(s3))  # Output: \"algorithm\" (no vowels to reverse)"
   ]
  },
  {
   "cell_type": "code",
   "execution_count": null,
   "id": "cbb9753c",
   "metadata": {},
   "outputs": [],
   "source": []
  }
 ],
 "metadata": {
  "kernelspec": {
   "display_name": "Python 3",
   "language": "python",
   "name": "python3"
  },
  "language_info": {
   "codemirror_mode": {
    "name": "ipython",
    "version": 3
   },
   "file_extension": ".py",
   "mimetype": "text/x-python",
   "name": "python",
   "nbconvert_exporter": "python",
   "pygments_lexer": "ipython3",
   "version": "3.8.8"
  }
 },
 "nbformat": 4,
 "nbformat_minor": 5
}
