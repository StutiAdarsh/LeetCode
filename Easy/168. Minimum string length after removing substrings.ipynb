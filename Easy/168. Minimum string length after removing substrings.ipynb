{
 "cells": [
  {
   "cell_type": "code",
   "execution_count": 1,
   "id": "49d0e592",
   "metadata": {},
   "outputs": [],
   "source": [
    "class Solution(object):\n",
    "    def minLength(self, s):\n",
    "        \"\"\"\n",
    "        :type s: str\n",
    "        :rtype: int\n",
    "        \"\"\"\n",
    "        stack = []\n",
    "        for i in s:\n",
    "            if stack and stack[-1]+i in ['AB', 'CD']:\n",
    "                stack.pop()\n",
    "            else:\n",
    "                stack.append(i)\n",
    "        return len(stack)\n",
    "        \n",
    "#Time: O(N) - for N elements in list\n",
    "#Space: O(N) - for storing elements in stack worst case"
   ]
  },
  {
   "cell_type": "code",
   "execution_count": 2,
   "id": "b073769b",
   "metadata": {},
   "outputs": [
    {
     "name": "stdout",
     "output_type": "stream",
     "text": [
      "Minimum string length after removing substrings:  2\n"
     ]
    }
   ],
   "source": [
    "sol = Solution()\n",
    "print(\"Minimum string length after removing substrings: \", sol.minLength(s = \"ABFCACDB\"))"
   ]
  },
  {
   "cell_type": "code",
   "execution_count": null,
   "id": "c8a7c2d8",
   "metadata": {},
   "outputs": [],
   "source": []
  }
 ],
 "metadata": {
  "kernelspec": {
   "display_name": "Python 3",
   "language": "python",
   "name": "python3"
  },
  "language_info": {
   "codemirror_mode": {
    "name": "ipython",
    "version": 3
   },
   "file_extension": ".py",
   "mimetype": "text/x-python",
   "name": "python",
   "nbconvert_exporter": "python",
   "pygments_lexer": "ipython3",
   "version": "3.8.8"
  }
 },
 "nbformat": 4,
 "nbformat_minor": 5
}
