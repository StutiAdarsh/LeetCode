{
 "cells": [
  {
   "cell_type": "code",
   "execution_count": 3,
   "id": "f4ebda04",
   "metadata": {},
   "outputs": [
    {
     "name": "stdout",
     "output_type": "stream",
     "text": [
      "3\n"
     ]
    }
   ],
   "source": [
    "#Approach 1: No built in\n",
    "class Solution(object):\n",
    "    def shortestDistance(self, wordsDict, word1, word2):\n",
    "        \"\"\"\n",
    "        :type wordsDict: List[str]\n",
    "        :type word1: str\n",
    "        :type word2: str\n",
    "        :rtype: int\n",
    "        \"\"\"\n",
    "        position1 = -1\n",
    "        position2 = -1\n",
    "        dist = len(wordsDict)\n",
    "        for i in range(len(wordsDict)):\n",
    "            if wordsDict[i] == word1:\n",
    "                position1 = i\n",
    "            elif wordsDict[i] == word2:\n",
    "                position2 = i\n",
    "                \n",
    "            if position1 != -1 and position2 != -1:\n",
    "                dist = min(dist, abs(position2 - position1))\n",
    "\n",
    "        return dist\n",
    "    \n",
    "#Time: O(N) where n is the number of elements in wordsDictto iterate over it\n",
    "#Space: O(1) - constant space complexity.\n",
    "\n",
    "# Example usage:\n",
    "sol = Solution()\n",
    "wordsDict = [\"practice\", \"makes\", \"perfect\", \"coding\", \"makes\"]\n",
    "word1 = \"coding\"\n",
    "word2 = \"practice\"\n",
    "print(sol.shortestDistance(wordsDict, word1, word2))  # Output: 3 (distance between \"coding\" and \"practice\" is 3)\n"
   ]
  },
  {
   "cell_type": "code",
   "execution_count": null,
   "id": "bf32acdd",
   "metadata": {},
   "outputs": [],
   "source": []
  }
 ],
 "metadata": {
  "kernelspec": {
   "display_name": "Python 3",
   "language": "python",
   "name": "python3"
  },
  "language_info": {
   "codemirror_mode": {
    "name": "ipython",
    "version": 3
   },
   "file_extension": ".py",
   "mimetype": "text/x-python",
   "name": "python",
   "nbconvert_exporter": "python",
   "pygments_lexer": "ipython3",
   "version": "3.8.8"
  }
 },
 "nbformat": 4,
 "nbformat_minor": 5
}
