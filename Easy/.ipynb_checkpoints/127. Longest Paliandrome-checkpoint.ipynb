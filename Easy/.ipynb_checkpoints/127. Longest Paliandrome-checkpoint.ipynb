{
 "cells": [
  {
   "cell_type": "code",
   "execution_count": 6,
   "id": "bdb1b8e2",
   "metadata": {},
   "outputs": [],
   "source": [
    "from collections import Counter\n",
    "class Solution(object):\n",
    "    def longestPalindrome(self, s):\n",
    "        \"\"\"\n",
    "        :type s: str\n",
    "        :rtype: int\n",
    "        \"\"\"\n",
    "        map = Counter(s)\n",
    "        odd, ans = 0, 0\n",
    "\n",
    "        for count in map.values():\n",
    "            if count % 2 == 0:\n",
    "                ans += count\n",
    "            else:\n",
    "                odd = 1\n",
    "                ans += count - 1\n",
    "        return ans + odd\n",
    "        \n",
    "#Time:O(N) - for N elements of list s\n",
    "#Space: O(N) - space to store N unique character in dictionary counter"
   ]
  },
  {
   "cell_type": "code",
   "execution_count": 7,
   "id": "3b7801a7",
   "metadata": {},
   "outputs": [
    {
     "name": "stdout",
     "output_type": "stream",
     "text": [
      "Longest Paliandrome:  7\n",
      "Longest Paliandrome:  1\n"
     ]
    }
   ],
   "source": [
    "sol = Solution()\n",
    "print(\"Longest Paliandrome: \", sol.longestPalindrome(s = \"abccccdd\"))\n",
    "print(\"Longest Paliandrome: \", sol.longestPalindrome(s = \"a\"))"
   ]
  },
  {
   "cell_type": "code",
   "execution_count": null,
   "id": "a8de4cfe",
   "metadata": {},
   "outputs": [],
   "source": []
  }
 ],
 "metadata": {
  "kernelspec": {
   "display_name": "Python 3",
   "language": "python",
   "name": "python3"
  },
  "language_info": {
   "codemirror_mode": {
    "name": "ipython",
    "version": 3
   },
   "file_extension": ".py",
   "mimetype": "text/x-python",
   "name": "python",
   "nbconvert_exporter": "python",
   "pygments_lexer": "ipython3",
   "version": "3.8.8"
  }
 },
 "nbformat": 4,
 "nbformat_minor": 5
}
