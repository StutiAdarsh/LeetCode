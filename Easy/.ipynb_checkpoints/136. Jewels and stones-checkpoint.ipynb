{
 "cells": [
  {
   "cell_type": "code",
   "execution_count": 1,
   "id": "8f835016",
   "metadata": {},
   "outputs": [],
   "source": [
    "class Solution(object):\n",
    "    def numJewelsInStones(self, jewels, stones):\n",
    "        \"\"\"\n",
    "        :type jewels: str\n",
    "        :type stones: str\n",
    "        :rtype: int\n",
    "        \"\"\"\n",
    "        return sum(s in jewels for s in stones)\n",
    "    \n",
    "#Time: O(M * N)\n",
    "#Let m be the length of the jewels string, and n be the length of the stones string.\n",
    "#The time complexity of this function is O(m + n).\n",
    "#For each character in stones, the function checks if it's in jewels. This operation takes O(m) time.\n",
    "#Since there are n characters in stones, the total time complexity is O(m * n).\n",
    "\n",
    "#Space: O(1)\n",
    "#constant space"
   ]
  },
  {
   "cell_type": "code",
   "execution_count": 2,
   "id": "b9287751",
   "metadata": {},
   "outputs": [
    {
     "name": "stdout",
     "output_type": "stream",
     "text": [
      "3\n"
     ]
    }
   ],
   "source": [
    "# Create an instance of the Solution class\n",
    "sol = Solution()\n",
    "\n",
    "# Example usage\n",
    "jewels = \"aA\"\n",
    "stones = \"aAAbbbb\"\n",
    "result = sol.numJewelsInStones(jewels, stones)\n",
    "print(result)  # This should print 3"
   ]
  },
  {
   "cell_type": "code",
   "execution_count": null,
   "id": "cb39faf7",
   "metadata": {},
   "outputs": [],
   "source": []
  }
 ],
 "metadata": {
  "kernelspec": {
   "display_name": "Python 3",
   "language": "python",
   "name": "python3"
  },
  "language_info": {
   "codemirror_mode": {
    "name": "ipython",
    "version": 3
   },
   "file_extension": ".py",
   "mimetype": "text/x-python",
   "name": "python",
   "nbconvert_exporter": "python",
   "pygments_lexer": "ipython3",
   "version": "3.8.8"
  }
 },
 "nbformat": 4,
 "nbformat_minor": 5
}
