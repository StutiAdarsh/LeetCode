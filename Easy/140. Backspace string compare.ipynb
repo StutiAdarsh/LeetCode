{
 "cells": [
  {
   "cell_type": "code",
   "execution_count": 1,
   "id": "fb7f7d41",
   "metadata": {},
   "outputs": [],
   "source": [
    "class Solution(object):\n",
    "    def backspaceCompare(self, s, t):\n",
    "        \"\"\"\n",
    "        :type s: str\n",
    "        :type t: str\n",
    "        :rtype: bool\n",
    "        \"\"\"\n",
    "        def build(st):         \n",
    "            ans = []\n",
    "            for i in st:\n",
    "                if i != \"#\":\n",
    "                    ans.append(i)\n",
    "                elif ans:\n",
    "                    ans.pop()\n",
    "            return \"\".join(ans)                \n",
    "        return build(s) == build(t)\n",
    "        \n",
    "#Time: O(M + N) - where M,N are the lengths of S and T respectively.\n",
    "#Space: O(M + N) - to store results in list for both S and T "
   ]
  },
  {
   "cell_type": "code",
   "execution_count": 2,
   "id": "af4914ea",
   "metadata": {},
   "outputs": [
    {
     "name": "stdout",
     "output_type": "stream",
     "text": [
      "Backaspace compare:  True\n",
      "Backaspace compare:  False\n"
     ]
    }
   ],
   "source": [
    "sol = Solution()\n",
    "print(\"Backaspace compare: \", sol.backspaceCompare(s = \"ab#c\", t = \"ad#c\"))\n",
    "print(\"Backaspace compare: \", sol.backspaceCompare(s = \"a#c\", t = \"b\"))"
   ]
  },
  {
   "cell_type": "code",
   "execution_count": null,
   "id": "a23644f5",
   "metadata": {},
   "outputs": [],
   "source": []
  }
 ],
 "metadata": {
  "kernelspec": {
   "display_name": "Python 3",
   "language": "python",
   "name": "python3"
  },
  "language_info": {
   "codemirror_mode": {
    "name": "ipython",
    "version": 3
   },
   "file_extension": ".py",
   "mimetype": "text/x-python",
   "name": "python",
   "nbconvert_exporter": "python",
   "pygments_lexer": "ipython3",
   "version": "3.8.8"
  }
 },
 "nbformat": 4,
 "nbformat_minor": 5
}
