{
 "cells": [
  {
   "cell_type": "code",
   "execution_count": 1,
   "id": "7b6b27bb",
   "metadata": {},
   "outputs": [],
   "source": [
    "class Solution(object):\n",
    "    def validWordAbbreviation(self, word, abbr):\n",
    "        \"\"\"\n",
    "        :type word: str\n",
    "        :type abbr: str\n",
    "        :rtype: bool\n",
    "        \"\"\"\n",
    "        i = j = 0 \n",
    "        while j < len(abbr) and i < len(word): \n",
    "            if abbr[j].isalpha(): \n",
    "                if abbr[j] != word[i]: \n",
    "                    return False \n",
    "                i += 1 \n",
    "                j += 1 \n",
    "            else: \n",
    "                if abbr[j] == '0':  # to handle edge cases such as \"01\", which are invalid\n",
    "                    return False \n",
    "                temp = 0 \n",
    "                while j < len(abbr) and abbr[j].isdigit(): \n",
    "                    temp = temp * 10 + int(abbr[j]) \n",
    "                    j += 1 \n",
    "                i += temp  \n",
    "        \n",
    "        return j == len(abbr) and i == len(word)\n",
    "    \n",
    "#Time: O(N) - where N = max(len(word), len(abbr))\n",
    "#Space:O(1) - no extra space used"
   ]
  },
  {
   "cell_type": "code",
   "execution_count": 2,
   "id": "325e8a90",
   "metadata": {},
   "outputs": [
    {
     "name": "stdout",
     "output_type": "stream",
     "text": [
      "Valid abbreviation?:  True\n"
     ]
    }
   ],
   "source": [
    "sol = Solution()\n",
    "print(\"Valid abbreviation?: \", sol.validWordAbbreviation(word = \"internationalization\", abbr = \"i12iz4n\"))"
   ]
  },
  {
   "cell_type": "code",
   "execution_count": null,
   "id": "b12b9812",
   "metadata": {},
   "outputs": [],
   "source": []
  }
 ],
 "metadata": {
  "kernelspec": {
   "display_name": "Python 3",
   "language": "python",
   "name": "python3"
  },
  "language_info": {
   "codemirror_mode": {
    "name": "ipython",
    "version": 3
   },
   "file_extension": ".py",
   "mimetype": "text/x-python",
   "name": "python",
   "nbconvert_exporter": "python",
   "pygments_lexer": "ipython3",
   "version": "3.8.8"
  }
 },
 "nbformat": 4,
 "nbformat_minor": 5
}
