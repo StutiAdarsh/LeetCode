{
 "cells": [
  {
   "cell_type": "code",
   "execution_count": 1,
   "id": "7b6a5085",
   "metadata": {},
   "outputs": [],
   "source": [
    "class Solution(object):\n",
    "    def findContentChildren(self, g, s):\n",
    "        \"\"\"\n",
    "        :type g: List[int]\n",
    "        :type s: List[int]\n",
    "        :rtype: int\n",
    "        \"\"\"\n",
    "        g.sort()\n",
    "        s.sort()\n",
    "\n",
    "        children = cookie = 0\n",
    "\n",
    "        while cookie < len(s) and children < len(g):\n",
    "            if s[cookie] >= g[children]:\n",
    "                children += 1\n",
    "            cookie += 1\n",
    "        return children \n",
    "    \n",
    "#Time: O(NlogN + MlogM)\n",
    "#where Nis size of list s and M is size of list g and time to sort those two arrays is logarithmic\n",
    "\n",
    "#Space: O(N+M)\n",
    "#where N and M are space needed to store s and g sorted arrays"
   ]
  },
  {
   "cell_type": "code",
   "execution_count": 2,
   "id": "29467c75",
   "metadata": {},
   "outputs": [
    {
     "name": "stdout",
     "output_type": "stream",
     "text": [
      "Number of satisfied children:  1\n"
     ]
    }
   ],
   "source": [
    "sol = Solution()\n",
    "print(\"Number of satisfied children: \",sol.findContentChildren(g = [1,2,3], s = [1,1]))"
   ]
  },
  {
   "cell_type": "code",
   "execution_count": 3,
   "id": "11a2fbfe",
   "metadata": {},
   "outputs": [
    {
     "name": "stdout",
     "output_type": "stream",
     "text": [
      "Number of satisfied children:  2\n"
     ]
    }
   ],
   "source": [
    "print(\"Number of satisfied children: \",sol.findContentChildren(g = [1,2], s = [1,2,3]))"
   ]
  },
  {
   "cell_type": "code",
   "execution_count": null,
   "id": "a727b76e",
   "metadata": {},
   "outputs": [],
   "source": []
  }
 ],
 "metadata": {
  "kernelspec": {
   "display_name": "Python 3",
   "language": "python",
   "name": "python3"
  },
  "language_info": {
   "codemirror_mode": {
    "name": "ipython",
    "version": 3
   },
   "file_extension": ".py",
   "mimetype": "text/x-python",
   "name": "python",
   "nbconvert_exporter": "python",
   "pygments_lexer": "ipython3",
   "version": "3.8.8"
  }
 },
 "nbformat": 4,
 "nbformat_minor": 5
}
