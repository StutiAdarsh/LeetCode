{
 "cells": [
  {
   "cell_type": "code",
   "execution_count": 1,
   "id": "1d96c758",
   "metadata": {},
   "outputs": [],
   "source": [
    "# Definition for singly-linked list.\n",
    "class ListNode(object):\n",
    "    def __init__(self, x):\n",
    "        self.val = x\n",
    "        self.next = None\n",
    "\n",
    "class Solution(object):\n",
    "    def getIntersectionNode(self, headA, headB):\n",
    "        \"\"\"\n",
    "        :type head1, head1: ListNode\n",
    "        :rtype: ListNode\n",
    "        \"\"\"\n",
    "        node_seen_B = set()\n",
    "        \n",
    "        while headB is not None:\n",
    "            node_seen_B.add(headB)\n",
    "            headB = headB.next\n",
    "            \n",
    "        while headA is not None:\n",
    "            if headA in node_seen_B:\n",
    "                return headA\n",
    "            headA = headA.next         \n",
    "        return None\n",
    "    \n",
    "#Time: O(N+M) - where n is the number of nodes in list headA and m is the number of nodes in list headB. \n",
    "#This is because we traverse both linked lists once.\n",
    "\n",
    "#Space: O(M) - where m is the number of nodes in list headB. \n",
    "#This is because we use a set to store references to the nodes of list headB."
   ]
  },
  {
   "cell_type": "code",
   "execution_count": 2,
   "id": "b95ed899",
   "metadata": {},
   "outputs": [
    {
     "ename": "NameError",
     "evalue": "name 'create_linked_list' is not defined",
     "output_type": "error",
     "traceback": [
      "\u001b[1;31m---------------------------------------------------------------------------\u001b[0m",
      "\u001b[1;31mNameError\u001b[0m                                 Traceback (most recent call last)",
      "\u001b[1;32m<ipython-input-2-cbb6b3fc4c92>\u001b[0m in \u001b[0;36m<module>\u001b[1;34m\u001b[0m\n\u001b[0;32m      5\u001b[0m \u001b[1;33m\u001b[0m\u001b[0m\n\u001b[0;32m      6\u001b[0m \u001b[1;31m# Create lists\u001b[0m\u001b[1;33m\u001b[0m\u001b[1;33m\u001b[0m\u001b[1;33m\u001b[0m\u001b[0m\n\u001b[1;32m----> 7\u001b[1;33m \u001b[0mheadA\u001b[0m\u001b[1;33m,\u001b[0m \u001b[0mnodesA\u001b[0m \u001b[1;33m=\u001b[0m \u001b[0mcreate_linked_list\u001b[0m\u001b[1;33m(\u001b[0m\u001b[1;33m[\u001b[0m\u001b[1;36m4\u001b[0m\u001b[1;33m,\u001b[0m \u001b[1;36m1\u001b[0m\u001b[1;33m,\u001b[0m \u001b[1;36m8\u001b[0m\u001b[1;33m,\u001b[0m \u001b[1;36m4\u001b[0m\u001b[1;33m,\u001b[0m \u001b[1;36m5\u001b[0m\u001b[1;33m]\u001b[0m\u001b[1;33m)\u001b[0m\u001b[1;33m\u001b[0m\u001b[1;33m\u001b[0m\u001b[0m\n\u001b[0m\u001b[0;32m      8\u001b[0m \u001b[0mheadB\u001b[0m\u001b[1;33m,\u001b[0m \u001b[0mnodesB\u001b[0m \u001b[1;33m=\u001b[0m \u001b[0mcreate_linked_list\u001b[0m\u001b[1;33m(\u001b[0m\u001b[1;33m[\u001b[0m\u001b[1;36m5\u001b[0m\u001b[1;33m,\u001b[0m \u001b[1;36m6\u001b[0m\u001b[1;33m,\u001b[0m \u001b[1;36m1\u001b[0m\u001b[1;33m]\u001b[0m\u001b[1;33m)\u001b[0m\u001b[1;33m\u001b[0m\u001b[1;33m\u001b[0m\u001b[0m\n\u001b[0;32m      9\u001b[0m \u001b[1;31m# Connect lists at intersection node (value 8)\u001b[0m\u001b[1;33m\u001b[0m\u001b[1;33m\u001b[0m\u001b[1;33m\u001b[0m\u001b[0m\n",
      "\u001b[1;31mNameError\u001b[0m: name 'create_linked_list' is not defined"
     ]
    }
   ],
   "source": [
    "# Example 1: Two intersecting linked lists\n",
    "# List A: 4 -> 1 -> 8 -> 4 -> 5\n",
    "# List B: 5 -> 6 -> 1 -> 8 -> 4 -> 5\n",
    "# Intersection at node with value 8\n",
    "\n",
    "# Create lists\n",
    "headA, nodesA = create_linked_list([4, 1, 8, 4, 5])\n",
    "headB, nodesB = create_linked_list([5, 6, 1])\n",
    "# Connect lists at intersection node (value 8)\n",
    "headA, headB = connect_lists_at(headB, headA, nodesA[2])\n",
    "\n",
    "# Example 2: Two non-intersecting linked lists\n",
    "# List A: 2 -> 6 -> 4\n",
    "# List B: 1 -> 5\n",
    "\n",
    "# Create lists\n",
    "headA2, _ = create_linked_list([2, 6, 4])\n",
    "headB2, _ = create_linked_list([1, 5])\n",
    "\n",
    "# Create an instance of the Solution class\n",
    "solution = Solution()\n",
    "\n",
    "# Detect the intersection node\n",
    "intersection_node = solution.getIntersectionNode(headA, headB)\n",
    "print(intersection_node.val if intersection_node else \"No intersection\")  # Output: 8"
   ]
  },
  {
   "cell_type": "code",
   "execution_count": null,
   "id": "96186f7c",
   "metadata": {},
   "outputs": [],
   "source": [
    "'''\n",
    "The one thing we need to be careful of is that we're comparing objects of type Node. \n",
    "We don't want to compare the values within the nodes; \n",
    "doing this would cause our code to break when two different nodes have the same value.\n",
    "'''"
   ]
  }
 ],
 "metadata": {
  "kernelspec": {
   "display_name": "Python 3",
   "language": "python",
   "name": "python3"
  },
  "language_info": {
   "codemirror_mode": {
    "name": "ipython",
    "version": 3
   },
   "file_extension": ".py",
   "mimetype": "text/x-python",
   "name": "python",
   "nbconvert_exporter": "python",
   "pygments_lexer": "ipython3",
   "version": "3.8.8"
  }
 },
 "nbformat": 4,
 "nbformat_minor": 5
}
