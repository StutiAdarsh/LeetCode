{
 "cells": [
  {
   "cell_type": "code",
   "execution_count": 1,
   "id": "504d35c8",
   "metadata": {},
   "outputs": [],
   "source": [
    "class Solution(object):\n",
    "    def getRow(self, rowIndex):\n",
    "        \"\"\"\n",
    "        :type rowIndex: int\n",
    "        :rtype: List[int]\n",
    "        \"\"\"\n",
    "        res = [[1]]\n",
    "        for i in range(rowIndex):\n",
    "            temp = [0] + res[-1] + [0]\n",
    "            row = []\n",
    "            for j in range(len(res[-1])+1):\n",
    "                row.append(temp[j] + temp[j+1])\n",
    "            res.append(row)\n",
    "        return res[-1]\n",
    "    \n",
    "#Time: O(N**2) where N is the rowIndex\n",
    "#Space: O(N**2) where we store all the pascal's triangle"
   ]
  },
  {
   "cell_type": "code",
   "execution_count": 2,
   "id": "100ea528",
   "metadata": {},
   "outputs": [
    {
     "name": "stdout",
     "output_type": "stream",
     "text": [
      "[1, 3, 3, 1]\n"
     ]
    }
   ],
   "source": [
    "# Example\n",
    "sol = Solution()\n",
    "rowIndex = 3\n",
    "print(sol.getRow(rowIndex))"
   ]
  },
  {
   "cell_type": "code",
   "execution_count": null,
   "id": "5011c252",
   "metadata": {},
   "outputs": [],
   "source": []
  }
 ],
 "metadata": {
  "kernelspec": {
   "display_name": "Python 3",
   "language": "python",
   "name": "python3"
  },
  "language_info": {
   "codemirror_mode": {
    "name": "ipython",
    "version": 3
   },
   "file_extension": ".py",
   "mimetype": "text/x-python",
   "name": "python",
   "nbconvert_exporter": "python",
   "pygments_lexer": "ipython3",
   "version": "3.8.8"
  }
 },
 "nbformat": 4,
 "nbformat_minor": 5
}
