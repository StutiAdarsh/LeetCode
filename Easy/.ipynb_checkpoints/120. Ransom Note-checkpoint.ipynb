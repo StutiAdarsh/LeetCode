{
 "cells": [
  {
   "cell_type": "code",
   "execution_count": 3,
   "id": "29173582",
   "metadata": {},
   "outputs": [],
   "source": [
    "from collections import Counter\n",
    "class Solution(object):\n",
    "    def canConstruct(self, ransomNote, magazine):\n",
    "        \"\"\"\n",
    "        :type ransomNote: str\n",
    "        :type magazine: str\n",
    "        :rtype: bool\n",
    "        \"\"\"\n",
    "        count = Counter(magazine)\n",
    "\n",
    "        for char in ransomNote:\n",
    "            if char in count and count[char] > 0:\n",
    "                count[char] -= 1\n",
    "            else:\n",
    "                return False\n",
    "        return True\n",
    "\n",
    "#Time complexity:\n",
    "#The time complexity of the solution is O(m+n)\n",
    "#where m is the length of the magazine string and \n",
    "#n is the length of the ransom note string. \n",
    "#This is because we iterate through each character in both strings once.\n",
    "\n",
    "#Space complexity:\n",
    "#The space complexity is O(m), \n",
    "#where m is the number of unique characters in the magazine string. \n",
    "#This is because we store the character counts in the dictionary HashMap."
   ]
  },
  {
   "cell_type": "code",
   "execution_count": 4,
   "id": "77db3d12",
   "metadata": {},
   "outputs": [
    {
     "name": "stdout",
     "output_type": "stream",
     "text": [
      "Ransom Note?:  False\n",
      "Ransom Note?:  True\n"
     ]
    }
   ],
   "source": [
    "sol = Solution()\n",
    "print(\"Ransom Note?: \", sol.canConstruct(ransomNote = \"a\", magazine = \"b\"))\n",
    "print(\"Ransom Note?: \", sol.canConstruct(ransomNote = \"aa\", magazine = \"aab\"))"
   ]
  },
  {
   "cell_type": "code",
   "execution_count": null,
   "id": "fac2cd1b",
   "metadata": {},
   "outputs": [],
   "source": []
  }
 ],
 "metadata": {
  "kernelspec": {
   "display_name": "Python 3",
   "language": "python",
   "name": "python3"
  },
  "language_info": {
   "codemirror_mode": {
    "name": "ipython",
    "version": 3
   },
   "file_extension": ".py",
   "mimetype": "text/x-python",
   "name": "python",
   "nbconvert_exporter": "python",
   "pygments_lexer": "ipython3",
   "version": "3.8.8"
  }
 },
 "nbformat": 4,
 "nbformat_minor": 5
}
