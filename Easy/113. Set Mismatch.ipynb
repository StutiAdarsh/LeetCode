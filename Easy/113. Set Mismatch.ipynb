{
 "cells": [
  {
   "cell_type": "code",
   "execution_count": 3,
   "id": "263ef1b1",
   "metadata": {},
   "outputs": [],
   "source": [
    "from collections import Counter\n",
    "class Solution(object):\n",
    "    def findErrorNums(self, nums):\n",
    "        \"\"\"\n",
    "        :type nums: List[int]\n",
    "        :rtype: List[int]\n",
    "        \"\"\"\n",
    "        count, duplicate, missing = Counter(nums), 0, 0\n",
    "        for i in range(1, len(nums)+1):\n",
    "            if count[i] > 1:\n",
    "                duplicate = i\n",
    "            if i not in count:\n",
    "                missing = i\n",
    "            \n",
    "        return [duplicate, missing]\n",
    "\n",
    "#Time: O(N) for N elements in nums\n",
    "#Space: O(N) to store N nums in the counter dominated"
   ]
  },
  {
   "cell_type": "code",
   "execution_count": 5,
   "id": "4d4ed1d7",
   "metadata": {},
   "outputs": [
    {
     "name": "stdout",
     "output_type": "stream",
     "text": [
      "Set mismatch - Repeating(duplicate), missing:  [2, 3]\n"
     ]
    }
   ],
   "source": [
    "sol = Solution()\n",
    "print(\"Set mismatch - Repeating(duplicate), missing: \", sol.findErrorNums([1,2,2,4]))"
   ]
  }
 ],
 "metadata": {
  "kernelspec": {
   "display_name": "Python 3",
   "language": "python",
   "name": "python3"
  },
  "language_info": {
   "codemirror_mode": {
    "name": "ipython",
    "version": 3
   },
   "file_extension": ".py",
   "mimetype": "text/x-python",
   "name": "python",
   "nbconvert_exporter": "python",
   "pygments_lexer": "ipython3",
   "version": "3.8.8"
  }
 },
 "nbformat": 4,
 "nbformat_minor": 5
}
