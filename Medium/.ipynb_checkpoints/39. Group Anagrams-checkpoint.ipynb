{
 "cells": [
  {
   "cell_type": "code",
   "execution_count": 10,
   "id": "ae3d65d1-df06-4eeb-8a71-068a551fb3ed",
   "metadata": {},
   "outputs": [],
   "source": [
    "import collections\n",
    "class Solution(object):\n",
    "    def groupAnagrams(self, strs):\n",
    "        \"\"\"\n",
    "        :type strs: List[str]\n",
    "        :rtype: List[List[str]]\n",
    "        \"\"\"\n",
    "        res = collections.defaultdict(list)\n",
    "        for s in strs:\n",
    "            res[tuple(sorted(s))].append(s)\n",
    "        return res.values()\n",
    "\n",
    "#Time: O(NKlogK) where N is lenght of strs and K is the maximum number of string in strs\n",
    "#Time for outer loop is O(N) and Time to sort each string O(KlogK) for iteration through each string\n",
    "\n",
    "#Space: O(NK) - total information stored in the res"
   ]
  },
  {
   "cell_type": "code",
   "execution_count": 12,
   "id": "77b72777-50dd-40a6-a179-c9f61a3aa278",
   "metadata": {},
   "outputs": [
    {
     "name": "stdout",
     "output_type": "stream",
     "text": [
      "Grouped anagrams are:  dict_values([['eat', 'tea', 'ate'], ['tan', 'nat'], ['bat']])\n"
     ]
    }
   ],
   "source": [
    "sol = Solution()\n",
    "print(\"Grouped anagrams are: \", sol.groupAnagrams( strs = [\"eat\",\"tea\",\"tan\",\"ate\",\"nat\",\"bat\"]))"
   ]
  },
  {
   "cell_type": "code",
   "execution_count": null,
   "id": "ee7ac4fc-0460-4674-83d1-60ccf290af54",
   "metadata": {},
   "outputs": [],
   "source": []
  }
 ],
 "metadata": {
  "kernelspec": {
   "display_name": "Python 3 (ipykernel)",
   "language": "python",
   "name": "python3"
  },
  "language_info": {
   "codemirror_mode": {
    "name": "ipython",
    "version": 3
   },
   "file_extension": ".py",
   "mimetype": "text/x-python",
   "name": "python",
   "nbconvert_exporter": "python",
   "pygments_lexer": "ipython3",
   "version": "3.12.4"
  }
 },
 "nbformat": 4,
 "nbformat_minor": 5
}
