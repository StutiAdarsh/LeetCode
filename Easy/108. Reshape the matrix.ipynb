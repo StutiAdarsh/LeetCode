{
 "cells": [
  {
   "cell_type": "code",
   "execution_count": 1,
   "id": "b418fe63",
   "metadata": {},
   "outputs": [],
   "source": [
    "class Solution(object):\n",
    "    def matrixReshape(self, mat, r, c):\n",
    "        \"\"\"\n",
    "        :type mat: List[List[int]]\n",
    "        :type r: int\n",
    "        :type c: int\n",
    "        :rtype: List[List[int]]\n",
    "        \"\"\"\n",
    "        row, col = len(mat), len(mat[0])\n",
    "        if (r*c) != (row * col):\n",
    "            return mat\n",
    "\n",
    "        res = []\n",
    "        for _ in range(r):\n",
    "            temp = []\n",
    "            for _ in range(c):\n",
    "                temp.append(0)\n",
    "            res.append(temp)\n",
    "\n",
    "        flatten = []\n",
    "        for i in range(row):\n",
    "            for j in range(col):\n",
    "                flatten.append(mat[i][j])\n",
    "                \n",
    "        k = 0\n",
    "        for i in range(r):\n",
    "            for j in range(c):\n",
    "                res[i][j] = flatten[k]\n",
    "                k += 1\n",
    "        return res\n",
    "            \n",
    "#Time: O(N * M) -  We traverse the entire matrix of size m⋅n \n",
    "#m and n refers to the number of rows and columns in the given matrix.\n",
    "\n",
    "#Space: O(N * M) - to store row and column elements in the resultant matrix"
   ]
  },
  {
   "cell_type": "code",
   "execution_count": 2,
   "id": "8b42e8f2",
   "metadata": {},
   "outputs": [
    {
     "name": "stdout",
     "output_type": "stream",
     "text": [
      "[[1, 2, 3, 4]]\n"
     ]
    }
   ],
   "source": [
    "# Example usage:\n",
    "sol = Solution()\n",
    "mat = [[1, 2], [3, 4]]\n",
    "r = 1\n",
    "c = 4\n",
    "print(sol.matrixReshape(mat, r, c))  # Output: [[1, 2, 3, 4]]"
   ]
  },
  {
   "cell_type": "code",
   "execution_count": null,
   "id": "be36d9c4",
   "metadata": {},
   "outputs": [],
   "source": []
  }
 ],
 "metadata": {
  "kernelspec": {
   "display_name": "Python 3",
   "language": "python",
   "name": "python3"
  },
  "language_info": {
   "codemirror_mode": {
    "name": "ipython",
    "version": 3
   },
   "file_extension": ".py",
   "mimetype": "text/x-python",
   "name": "python",
   "nbconvert_exporter": "python",
   "pygments_lexer": "ipython3",
   "version": "3.8.8"
  }
 },
 "nbformat": 4,
 "nbformat_minor": 5
}
