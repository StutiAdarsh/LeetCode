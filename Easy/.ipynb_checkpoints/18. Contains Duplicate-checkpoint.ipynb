{
 "cells": [
  {
   "cell_type": "code",
   "execution_count": 2,
   "id": "9f8f3465",
   "metadata": {},
   "outputs": [
    {
     "name": "stdout",
     "output_type": "stream",
     "text": [
      "Case 1:  True\n",
      "Case 2:  False\n"
     ]
    }
   ],
   "source": [
    "class Solution(object):\n",
    "    def containsDuplicate(self, nums):\n",
    "        \"\"\"\n",
    "        :type nums: List[int]\n",
    "        :rtype: bool\n",
    "        \"\"\"\n",
    "    \n",
    "        return len(nums) > len(set(nums))\n",
    "    \n",
    "print(\"Case 1: \", Solution().containsDuplicate([1,2,3,1]))\n",
    "print(\"Case 2: \", Solution().containsDuplicate([1,2,3,4]))\n",
    "\n",
    "#Time: O(n), where n is the number of elements to create a set\n",
    "#Space: O(n), space of n elements in set"
   ]
  },
  {
   "cell_type": "code",
   "execution_count": 11,
   "id": "c45513de",
   "metadata": {},
   "outputs": [
    {
     "name": "stdout",
     "output_type": "stream",
     "text": [
      "Case 1:  True\n",
      "Case 2:  False\n"
     ]
    }
   ],
   "source": [
    "#Approach 2: Sort and iterate check\n",
    "\n",
    "class Solution(object):\n",
    "    def containsDuplicate(self, nums):\n",
    "        \"\"\"\n",
    "        :type nums: List[int]\n",
    "        :rtype: bool\n",
    "        \"\"\"\n",
    "        n = sorted(nums)\n",
    "        for i in range(len(n)-1):\n",
    "            if n[i] == n[i+1]:\n",
    "                return True\n",
    "        return False\n",
    "   \n",
    "print(\"Case 1: \", Solution().containsDuplicate([1,2,3,1]))\n",
    "print(\"Case 2: \", Solution().containsDuplicate([1,2,3,4]))\n",
    "\n",
    "#Time: O(n log n), for sorting n elements\n",
    "#Space: O(n), space of n elements in sorted list"
   ]
  },
  {
   "cell_type": "code",
   "execution_count": 13,
   "id": "3ba75acb",
   "metadata": {},
   "outputs": [
    {
     "name": "stdout",
     "output_type": "stream",
     "text": [
      "Case 1:  True\n",
      "Case 2:  False\n"
     ]
    }
   ],
   "source": [
    "#Approach 3: counter and iterate check\n",
    "import collections\n",
    "from collections import Counter\n",
    "\n",
    "class Solution(object):\n",
    "    def containsDuplicate(self, nums):\n",
    "        \"\"\"\n",
    "        :type nums: List[int]\n",
    "        :rtype: bool\n",
    "        \"\"\"\n",
    "        n = collections.Counter(nums)\n",
    "        for i in n.values():\n",
    "            if i > 1:\n",
    "                return True\n",
    "        return False\n",
    "   \n",
    "print(\"Case 1: \", Solution().containsDuplicate([1,2,3,1]))\n",
    "print(\"Case 2: \", Solution().containsDuplicate([1,2,3,4]))\n",
    "\n",
    "#Time: O(n), for iterating through list of n elements in Counter object\n",
    "#Space: O(n), space of n elements in counter dictionary"
   ]
  },
  {
   "cell_type": "code",
   "execution_count": 15,
   "id": "8efca874",
   "metadata": {},
   "outputs": [
    {
     "name": "stdout",
     "output_type": "stream",
     "text": [
      "Case 1:  True\n",
      "Case 2:  False\n"
     ]
    }
   ],
   "source": [
    "#Approach 4: using set\n",
    "class Solution(object):\n",
    "    def containsDuplicate(self, nums):\n",
    "        \"\"\"\n",
    "        :type nums: List[int]\n",
    "        :rtype: bool\n",
    "        \"\"\"\n",
    "        seen=set()\n",
    "        for i in nums:\n",
    "            if i in seen:\n",
    "                return True\n",
    "            seen.add(i)\n",
    "        return False\n",
    "    \n",
    "print(\"Case 1: \", Solution().containsDuplicate([1,2,3,1]))\n",
    "print(\"Case 2: \", Solution().containsDuplicate([1,2,3,4]))\n",
    "\n",
    "#Time: O(n), for iterating through list of n elements in array\n",
    "#Space: O(n), space of n elements in set"
   ]
  },
  {
   "cell_type": "code",
   "execution_count": null,
   "id": "be6e00d0",
   "metadata": {},
   "outputs": [],
   "source": []
  }
 ],
 "metadata": {
  "kernelspec": {
   "display_name": "Python 3",
   "language": "python",
   "name": "python3"
  },
  "language_info": {
   "codemirror_mode": {
    "name": "ipython",
    "version": 3
   },
   "file_extension": ".py",
   "mimetype": "text/x-python",
   "name": "python",
   "nbconvert_exporter": "python",
   "pygments_lexer": "ipython3",
   "version": "3.8.8"
  }
 },
 "nbformat": 4,
 "nbformat_minor": 5
}
