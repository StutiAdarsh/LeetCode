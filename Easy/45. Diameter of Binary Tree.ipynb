{
 "cells": [
  {
   "cell_type": "code",
   "execution_count": 1,
   "id": "ea1d16a8",
   "metadata": {},
   "outputs": [],
   "source": [
    "# Definition for a binary tree node.\n",
    "# Height returned since height is being used in left and right to find diameter\n",
    "\n",
    "class TreeNode(object):\n",
    "    def __init__(self, val=0, left=None, right=None):\n",
    "        self.val = val\n",
    "        self.left = left\n",
    "        self.right = right\n",
    "\n",
    "class Solution(object):\n",
    "    diameter = 0\n",
    "    def diameterOfBinaryTree(self, root):\n",
    "        \"\"\"\n",
    "        :type root: TreeNode\n",
    "        :rtype: int\n",
    "        \"\"\"\n",
    "        self.dfs(root)\n",
    "        return self.diameter\n",
    " \n",
    "    def dfs(self, root):\n",
    "        if not root:\n",
    "            return 0\n",
    "        left = self.dfs(root.left)\n",
    "        right = self.dfs(root.right)\n",
    "        self.diameter = max(self.diameter, left+right)\n",
    "        return 1 + max(left, right)\n",
    "    \n",
    "#Time: O(N), to traverse tree DFS for each node N - bottom up DFS\n",
    "#Space: O(N), where N is the depth of the recursion stack for N nodes, worst case height of tree"
   ]
  },
  {
   "cell_type": "code",
   "execution_count": 2,
   "id": "fb6b96cd",
   "metadata": {},
   "outputs": [
    {
     "name": "stdout",
     "output_type": "stream",
     "text": [
      "Diameter of the binary tree: 3\n"
     ]
    }
   ],
   "source": [
    "# Define the binary tree\n",
    "root = TreeNode(1)\n",
    "root.left = TreeNode(2)\n",
    "root.right = TreeNode(3)\n",
    "root.left.left = TreeNode(4)\n",
    "root.left.right = TreeNode(5)\n",
    "\n",
    "# Create an instance of the Solution class\n",
    "sol = Solution()\n",
    "\n",
    "# Call the diameterOfBinaryTree method\n",
    "output = sol.diameterOfBinaryTree(root)\n",
    "\n",
    "# Print the output\n",
    "print(\"Diameter of the binary tree:\", output)"
   ]
  },
  {
   "cell_type": "code",
   "execution_count": null,
   "id": "d0b160c0",
   "metadata": {},
   "outputs": [],
   "source": []
  }
 ],
 "metadata": {
  "kernelspec": {
   "display_name": "Python 3",
   "language": "python",
   "name": "python3"
  },
  "language_info": {
   "codemirror_mode": {
    "name": "ipython",
    "version": 3
   },
   "file_extension": ".py",
   "mimetype": "text/x-python",
   "name": "python",
   "nbconvert_exporter": "python",
   "pygments_lexer": "ipython3",
   "version": "3.8.8"
  }
 },
 "nbformat": 4,
 "nbformat_minor": 5
}
