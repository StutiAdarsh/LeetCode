{
 "cells": [
  {
   "cell_type": "code",
   "execution_count": 3,
   "id": "90988965",
   "metadata": {},
   "outputs": [],
   "source": [
    "# Definition for singly-linked list.\n",
    "class ListNode(object):\n",
    "    def __init__(self, val=0, next=None):\n",
    "        self.val = val\n",
    "        self.next = next\n",
    "\n",
    "class Solution(object):\n",
    "    def deleteNodes(self, head, m, n):\n",
    "        \"\"\"\n",
    "        :type head: ListNode\n",
    "        :type m: int\n",
    "        :type n: int\n",
    "        :rtype: ListNode\n",
    "        \"\"\"\n",
    "        cur = head\n",
    "        lastM = head\n",
    "\n",
    "        while cur:\n",
    "            mcount, ncount = m, n\n",
    "            while cur and mcount:\n",
    "                lastM = cur\n",
    "                cur = cur.next\n",
    "                mcount -= 1\n",
    "\n",
    "            while cur and ncount:\n",
    "                cur = cur.next\n",
    "                ncount -= 1\n",
    "            lastM.next = cur\n",
    "            \n",
    "        return head\n",
    "\n",
    "#Time: O(N) - N is the length of the linked list pointed by head. We traverse over the linked list only once.\n",
    "#Space: O(1) - constant space used"
   ]
  },
  {
   "cell_type": "code",
   "execution_count": 4,
   "id": "e234b6b2",
   "metadata": {},
   "outputs": [
    {
     "name": "stdout",
     "output_type": "stream",
     "text": [
      "[1, 2, 6, 7]\n"
     ]
    }
   ],
   "source": [
    "# Helper function to create a linked list from a list\n",
    "def create_linked_list(lst):\n",
    "    if not lst:\n",
    "        return None\n",
    "    head = ListNode(lst[0])\n",
    "    current = head\n",
    "    for val in lst[1:]:\n",
    "        current.next = ListNode(val)\n",
    "        current = current.next\n",
    "    return head\n",
    "\n",
    "# Helper function to print a linked list\n",
    "def print_linked_list(head):\n",
    "    current = head\n",
    "    result = []\n",
    "    while current:\n",
    "        result.append(current.val)\n",
    "        current = current.next\n",
    "    return result\n",
    "\n",
    "# Example 1\n",
    "# Input: head = [1, 2, 3, 4, 5, 6, 7, 8, 9, 10], m = 2, n = 3\n",
    "# Output: [1, 2, 6, 7, 10]\n",
    "\n",
    "# Create linked list\n",
    "head = create_linked_list([1, 2, 3, 4, 5, 6, 7, 8, 9, 10])\n",
    "# Create Solution object\n",
    "solution = Solution()\n",
    "# Delete nodes\n",
    "result_head = solution.deleteNodes(head, 2, 3)\n",
    "# Print the linked list\n",
    "print(print_linked_list(result_head))  # Output: [1, 2, 6, 7, 10]"
   ]
  },
  {
   "cell_type": "code",
   "execution_count": null,
   "id": "e72a7d83",
   "metadata": {},
   "outputs": [],
   "source": []
  }
 ],
 "metadata": {
  "kernelspec": {
   "display_name": "Python 3",
   "language": "python",
   "name": "python3"
  },
  "language_info": {
   "codemirror_mode": {
    "name": "ipython",
    "version": 3
   },
   "file_extension": ".py",
   "mimetype": "text/x-python",
   "name": "python",
   "nbconvert_exporter": "python",
   "pygments_lexer": "ipython3",
   "version": "3.8.8"
  }
 },
 "nbformat": 4,
 "nbformat_minor": 5
}
