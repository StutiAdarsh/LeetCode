{
 "cells": [
  {
   "cell_type": "code",
   "execution_count": 2,
   "id": "0f92319c",
   "metadata": {},
   "outputs": [],
   "source": [
    "class Solution(object):\n",
    "    def nextGreaterElement(self, nums1, nums2):\n",
    "        \"\"\"\n",
    "        :type nums1: List[int]\n",
    "        :type nums2: List[int]\n",
    "        :rtype: List[int]\n",
    "        \"\"\"\n",
    "        nums1Idx = {val:id for id, val in enumerate(nums1)}\n",
    "        res = [-1] * len(nums1)\n",
    "        stack = []\n",
    "\n",
    "        for num in nums2:\n",
    "            while stack and num > stack[-1]:\n",
    "                val = stack.pop()\n",
    "                idx = nums1Idx[val]\n",
    "                res[idx] = num\n",
    "            if num in nums1Idx:\n",
    "                stack.append(num)\n",
    "        return res\n",
    "    \n",
    "#TIME: O(M+N) - storing m elements in numsIdx array from nums1 and iterating over n elements of nums2 array \n",
    "#therefore overall - O(N+M)\n",
    "\n",
    "#SPACE: O(M) - both res, stack and numsIdx array uses m space to store m elements of nums2"
   ]
  },
  {
   "cell_type": "code",
   "execution_count": 3,
   "id": "343e3742",
   "metadata": {},
   "outputs": [
    {
     "name": "stdout",
     "output_type": "stream",
     "text": [
      "Next greater elements for [4, 1, 2] in [1, 3, 4, 2] are: [-1, 3, -1]\n"
     ]
    }
   ],
   "source": [
    "# Example usage:\n",
    "nums1 = [4, 1, 2]\n",
    "nums2 = [1, 3, 4, 2]\n",
    "\n",
    "solution = Solution()\n",
    "output = solution.nextGreaterElement(nums1, nums2)\n",
    "print(f'Next greater elements for {nums1} in {nums2} are: {output}')"
   ]
  },
  {
   "cell_type": "code",
   "execution_count": null,
   "id": "b97ea379",
   "metadata": {},
   "outputs": [],
   "source": []
  }
 ],
 "metadata": {
  "kernelspec": {
   "display_name": "Python 3",
   "language": "python",
   "name": "python3"
  },
  "language_info": {
   "codemirror_mode": {
    "name": "ipython",
    "version": 3
   },
   "file_extension": ".py",
   "mimetype": "text/x-python",
   "name": "python",
   "nbconvert_exporter": "python",
   "pygments_lexer": "ipython3",
   "version": "3.8.8"
  }
 },
 "nbformat": 4,
 "nbformat_minor": 5
}
