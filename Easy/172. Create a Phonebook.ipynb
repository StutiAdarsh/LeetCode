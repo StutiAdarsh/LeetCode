{
 "cells": [
  {
   "cell_type": "markdown",
   "id": "9afbf334-c129-4633-b969-73ca9a16cd47",
   "metadata": {},
   "source": [
    "Objective\n",
    "Today, we're learning about Key-Value pair mappings using a Map or Dictionary data structure. Check out the Tutorial tab for learning materials and an instructional video!\n",
    "\n",
    "Task\n",
    "Given  names and phone numbers, assemble a phone book that maps friends' names to their respective phone numbers. You will then be given an unknown number of names to query your phone book for. For each  queried, print the associated entry from your phone book on a new line in the form name=phoneNumber; if an entry for  is not found, print Not found instead.\n",
    "\n",
    "Note: Your phone book should be a Dictionary/Map/HashMap data structure.\n",
    "\n",
    "Input Format\n",
    "\n",
    "The first line contains an integer, , denoting the number of entries in the phone book.\n",
    "Each of the  subsequent lines describes an entry in the form of  space-separated values on a single line. The first value is a friend's name, and the second value is an -digit phone number.\n",
    "\n",
    "After the  lines of phone book entries, there are an unknown number of lines of queries. Each line (query) contains a  to look up, and you must continue reading lines until there is no more input.\n",
    "\n",
    "Note: Names consist of lowercase English alphabetic letters and are first names only.\n",
    "\n",
    "Constraints\n",
    "\n",
    "Output Format\n",
    "\n",
    "On a new line for each query, print Not found if the name has no corresponding entry in the phone book; otherwise, print the full  and  in the format name=phoneNumber."
   ]
  },
  {
   "cell_type": "code",
   "execution_count": 5,
   "id": "c0e5565b-85cb-444a-90d7-da677d941470",
   "metadata": {},
   "outputs": [
    {
     "name": "stdin",
     "output_type": "stream",
     "text": [
      " 3\n",
      " Sam 9349342423\n",
      " Ed 422142152\n",
      " Stu 343251235\n",
      " \n"
     ]
    },
    {
     "name": "stdout",
     "output_type": "stream",
     "text": [
      "Not found\n"
     ]
    },
    {
     "name": "stdin",
     "output_type": "stream",
     "text": [
      " Sam\n"
     ]
    },
    {
     "name": "stdout",
     "output_type": "stream",
     "text": [
      "Sam=9349342423\n"
     ]
    },
    {
     "name": "stdin",
     "output_type": "stream",
     "text": [
      " Ed\n"
     ]
    },
    {
     "name": "stdout",
     "output_type": "stream",
     "text": [
      "Ed=422142152\n"
     ]
    }
   ],
   "source": [
    "n = int(input())\n",
    "friends = {}\n",
    "\n",
    "for person in range(n):\n",
    "    name, phone = input().split()\n",
    "    friends[name] = phone\n",
    "\n",
    "for ask in range(n):\n",
    "    query = input()\n",
    "    if query in friends.keys():\n",
    "        print(\"{}={}\".format(query, friends[query]))\n",
    "    else:\n",
    "        print(\"Not found\")"
   ]
  },
  {
   "cell_type": "code",
   "execution_count": null,
   "id": "4e8766c9-f8a2-4366-9888-a87bd71fc416",
   "metadata": {},
   "outputs": [],
   "source": []
  }
 ],
 "metadata": {
  "kernelspec": {
   "display_name": "Python 3 (ipykernel)",
   "language": "python",
   "name": "python3"
  },
  "language_info": {
   "codemirror_mode": {
    "name": "ipython",
    "version": 3
   },
   "file_extension": ".py",
   "mimetype": "text/x-python",
   "name": "python",
   "nbconvert_exporter": "python",
   "pygments_lexer": "ipython3",
   "version": "3.12.4"
  }
 },
 "nbformat": 4,
 "nbformat_minor": 5
}
