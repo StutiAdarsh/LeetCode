{
 "cells": [
  {
   "cell_type": "code",
   "execution_count": 3,
   "id": "0c28c61f",
   "metadata": {},
   "outputs": [
    {
     "name": "stdout",
     "output_type": "stream",
     "text": [
      "Case 1:  [1, 3, 6, 10]\n",
      "Case 2:  [1, 2, 3, 4, 5, 6]\n"
     ]
    }
   ],
   "source": [
    "class Solution(object):\n",
    "    def runningSum(self, nums):\n",
    "        \"\"\"\n",
    "        :type nums: List[int]\n",
    "        :rtype: List[int]\n",
    "        \"\"\"\n",
    "        \n",
    "        for i in range(1, len(nums)):\n",
    "            nums[i] += nums[i-1]\n",
    "        return nums\n",
    "        \n",
    "print(\"Case 1: \", Solution().runningSum([1,2,3,4]))\n",
    "print(\"Case 2: \", Solution().runningSum([1,1,1,1,1,1]))\n",
    "\n",
    "#Time: O(n), to iterate for n elements of the array\n",
    "#Space: O(1), no extra space used, constant space, done in-place."
   ]
  },
  {
   "cell_type": "code",
   "execution_count": null,
   "id": "3d5bb87a",
   "metadata": {},
   "outputs": [],
   "source": []
  }
 ],
 "metadata": {
  "kernelspec": {
   "display_name": "Python 3",
   "language": "python",
   "name": "python3"
  },
  "language_info": {
   "codemirror_mode": {
    "name": "ipython",
    "version": 3
   },
   "file_extension": ".py",
   "mimetype": "text/x-python",
   "name": "python",
   "nbconvert_exporter": "python",
   "pygments_lexer": "ipython3",
   "version": "3.8.8"
  }
 },
 "nbformat": 4,
 "nbformat_minor": 5
}
