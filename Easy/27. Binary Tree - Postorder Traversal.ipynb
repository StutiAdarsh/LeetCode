{
 "cells": [
  {
   "cell_type": "code",
   "execution_count": 5,
   "id": "5b70f12e",
   "metadata": {},
   "outputs": [],
   "source": [
    "class TreeNode(object):\n",
    "    def __init__(self, val=0, left=None, right=None):\n",
    "        self.val = val\n",
    "        self.left = left\n",
    "        self.right = right\n",
    "        \n",
    "class Solution(object):\n",
    "    def postorderiteravtive(self, root):\n",
    "        if not root: return []\n",
    "        \n",
    "        stack,res = [(root, False)], []\n",
    "        \n",
    "        while stack:\n",
    "            root, visited = stack.pop()\n",
    "            if visited:\n",
    "                res.append(root.val)\n",
    "            else:\n",
    "                stack.append((root, True))\n",
    "                if root.right:\n",
    "                    stack.append((root.right, False))\n",
    "                if root.left:\n",
    "                    stack.append((root.left, False))\n",
    "        return res\n",
    "        \n",
    "    def postorderrecursive(self, root):\n",
    "        return self.postorderrecursive(root.left)+self.postorderrecursive(root.right)+[root.val] if root else []\n",
    "    \n",
    "#Complexity Analysis:\n",
    "#Time: O(N), as each N node is visited once in the tree traversal\n",
    "#Space: O(N), as in easch case height or the depth of the tree would be the N nodes"
   ]
  },
  {
   "cell_type": "code",
   "execution_count": 7,
   "id": "fa608ec5",
   "metadata": {},
   "outputs": [
    {
     "name": "stdout",
     "output_type": "stream",
     "text": [
      "Iterative:  [4, 5, 2, 3, 1]\n",
      "Recursive:  [4, 5, 2, 3, 1]\n"
     ]
    }
   ],
   "source": [
    "root = TreeNode(1)\n",
    "root.left = TreeNode(2)\n",
    "root.right = TreeNode(3)\n",
    "root.left.left = TreeNode(4)\n",
    "root.left.right = TreeNode(5)\n",
    "\n",
    "ob = Solution()\n",
    "\n",
    "res_iter = ob.postorderiteravtive(root)\n",
    "print(\"Iterative: \", res_iter)\n",
    "\n",
    "res_recur = ob.postorderrecursive(root)\n",
    "print(\"Recursive: \", res_recur)"
   ]
  },
  {
   "cell_type": "code",
   "execution_count": null,
   "id": "eb4fc712",
   "metadata": {},
   "outputs": [],
   "source": []
  }
 ],
 "metadata": {
  "kernelspec": {
   "display_name": "Python 3",
   "language": "python",
   "name": "python3"
  },
  "language_info": {
   "codemirror_mode": {
    "name": "ipython",
    "version": 3
   },
   "file_extension": ".py",
   "mimetype": "text/x-python",
   "name": "python",
   "nbconvert_exporter": "python",
   "pygments_lexer": "ipython3",
   "version": "3.8.8"
  }
 },
 "nbformat": 4,
 "nbformat_minor": 5
}
