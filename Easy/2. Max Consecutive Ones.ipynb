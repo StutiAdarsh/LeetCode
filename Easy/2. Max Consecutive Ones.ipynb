{
 "cells": [
  {
   "cell_type": "markdown",
   "id": "bec9f87c",
   "metadata": {},
   "source": [
    "Soution 1: My first attempt (Brute force)\n"
   ]
  },
  {
   "cell_type": "code",
   "execution_count": 15,
   "id": "07018960",
   "metadata": {},
   "outputs": [
    {
     "name": "stdout",
     "output_type": "stream",
     "text": [
      "Input case 1:  3\n",
      "Input case 2:  2\n"
     ]
    }
   ],
   "source": [
    "class Solution(object):\n",
    "    def findMaxConsecutiveOnes(self, nums):\n",
    "        \"\"\"\n",
    "        :type nums: List[int]\n",
    "        :rtype: int\n",
    "        \"\"\"\n",
    "        count, arr = 0, []\n",
    "        for i in nums:\n",
    "            if i == 1:\n",
    "                count += 1\n",
    "            else:\n",
    "                arr.append(count)\n",
    "                count = 0 \n",
    "        arr.append(count)\n",
    "        return max(arr)\n",
    "    \n",
    "    \n",
    "    \n",
    "    \n",
    "#Input\n",
    "obj = Solution()\n",
    "print(\"Input case 1: \", obj.findMaxConsecutiveOnes([1,1,0,1,1,1]))\n",
    "print(\"Input case 2: \", obj.findMaxConsecutiveOnes([1,0,1,1,0,1]))\n",
    "\n",
    "\n",
    "\n",
    "\n",
    "#Complexity:\n",
    "#Time Complexity: O(N), where N is number of elements\n",
    "#Space Complexity: O(N), N as worst case it might take N elements in the new array"
   ]
  },
  {
   "cell_type": "markdown",
   "id": "5a79120e",
   "metadata": {},
   "source": [
    "Solution 2: Better approach USE THIS ONE~!!!!!!!!!!!!!!!"
   ]
  },
  {
   "cell_type": "code",
   "execution_count": 13,
   "id": "951b2185",
   "metadata": {},
   "outputs": [
    {
     "name": "stdout",
     "output_type": "stream",
     "text": [
      "Input case 1:  3\n",
      "Input case 2:  2\n"
     ]
    }
   ],
   "source": [
    "class Solution(object):\n",
    "    def findMaxConsecutiveOnes(self, nums):\n",
    "        \"\"\"\n",
    "        :type nums: List[int]\n",
    "        :rtype: int\n",
    "        \"\"\"\n",
    "        max_count, ones = 0, 0\n",
    "        for i in nums:\n",
    "            if i == 1:\n",
    "                ones += 1\n",
    "                max_count = max(ones, max_count)\n",
    "            else:\n",
    "                ones = 0 \n",
    "        return max_count\n",
    "    \n",
    "    \n",
    "    \n",
    "    \n",
    "#Input\n",
    "obj = Solution()\n",
    "print(\"Input case 1: \", obj.findMaxConsecutiveOnes([1,1,0,1,1,1]))\n",
    "print(\"Input case 2: \", obj.findMaxConsecutiveOnes([1,0,1,1,0,1]))\n",
    "\n",
    "\n",
    "\n",
    "\n",
    "#Complexity:\n",
    "#Time Complexity: O(N), where N is number of elements\n",
    "#Space Complexity: O(1), 1 as we do not use any extra space"
   ]
  },
  {
   "cell_type": "code",
   "execution_count": null,
   "id": "cee04e21",
   "metadata": {},
   "outputs": [],
   "source": []
  }
 ],
 "metadata": {
  "kernelspec": {
   "display_name": "Python 3",
   "language": "python",
   "name": "python3"
  },
  "language_info": {
   "codemirror_mode": {
    "name": "ipython",
    "version": 3
   },
   "file_extension": ".py",
   "mimetype": "text/x-python",
   "name": "python",
   "nbconvert_exporter": "python",
   "pygments_lexer": "ipython3",
   "version": "3.8.8"
  }
 },
 "nbformat": 4,
 "nbformat_minor": 5
}
