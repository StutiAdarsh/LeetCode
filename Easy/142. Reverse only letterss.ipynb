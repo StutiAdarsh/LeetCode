{
 "cells": [
  {
   "cell_type": "code",
   "execution_count": 3,
   "id": "73126616",
   "metadata": {},
   "outputs": [],
   "source": [
    "class Solution(object):\n",
    "    def reverseOnlyLetters(self, s):\n",
    "        \"\"\"\n",
    "        :type s: str\n",
    "        :rtype: str\n",
    "        \"\"\"\n",
    "        res, l, r = list(s), 0, len(s)-1\n",
    "        while l < r:\n",
    "            if not res[l].isalpha():\n",
    "                l += 1\n",
    "            elif not res[r].isalpha():\n",
    "                r -= 1\n",
    "            else:\n",
    "                res[l], res[r] = res[r], res[l]\n",
    "                l += 1\n",
    "                r -= 1\n",
    "        return \"\".join(res)\n",
    "    \n",
    "#Time: O(N) - for n elements in string s\n",
    "#Space: O(N) - to store resultant reversed string of lenght N"
   ]
  },
  {
   "cell_type": "code",
   "execution_count": 4,
   "id": "410a25ce",
   "metadata": {},
   "outputs": [
    {
     "name": "stdout",
     "output_type": "stream",
     "text": [
      "dc-ba\n"
     ]
    }
   ],
   "source": [
    "# Create an instance of the Solution class\n",
    "sol = Solution()\n",
    "\n",
    "# Example usage\n",
    "input_str = \"ab-cd\"\n",
    "result = sol.reverseOnlyLetters(input_str)\n",
    "print(result)  # This should print \"dc-ba\"\n"
   ]
  },
  {
   "cell_type": "code",
   "execution_count": null,
   "id": "c4102d4d",
   "metadata": {},
   "outputs": [],
   "source": []
  }
 ],
 "metadata": {
  "kernelspec": {
   "display_name": "Python 3",
   "language": "python",
   "name": "python3"
  },
  "language_info": {
   "codemirror_mode": {
    "name": "ipython",
    "version": 3
   },
   "file_extension": ".py",
   "mimetype": "text/x-python",
   "name": "python",
   "nbconvert_exporter": "python",
   "pygments_lexer": "ipython3",
   "version": "3.8.8"
  }
 },
 "nbformat": 4,
 "nbformat_minor": 5
}
