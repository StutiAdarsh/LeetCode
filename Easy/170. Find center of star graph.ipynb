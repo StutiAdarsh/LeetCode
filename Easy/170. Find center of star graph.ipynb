{
 "cells": [
  {
   "cell_type": "code",
   "execution_count": 13,
   "id": "ed5c2c17-a9af-4144-b466-8b520a1d2466",
   "metadata": {},
   "outputs": [],
   "source": [
    "from collections import defaultdict\n",
    "class Solution(object):\n",
    "    def findCenter(self, edges):\n",
    "        \"\"\"\n",
    "        :type edges: List[List[int]]\n",
    "        :rtype: int\n",
    "        \"\"\"\n",
    "\n",
    "        degree = defaultdict(int)\n",
    "\n",
    "        for u, v in edges:\n",
    "            degree[u] += 1\n",
    "            degree[v] += 1\n",
    "\n",
    "\n",
    "        for node, count in degree.items():\n",
    "            if count == len(edges):\n",
    "                return node\n",
    "                \n",
    "        return -1\n",
    "\n",
    "#Time: O(N) - To find the degree of each node, we iterate over each of the N−1 edges. \n",
    "        #Then we check the degree of each of the N nodes. Hence, the total time complexity is equal to O(N).\n",
    "        \n",
    "#Space:O(N) - The hash map degree stores the degree of all N nodes and hence the space complexity is equal to O(N)"
   ]
  },
  {
   "cell_type": "code",
   "execution_count": 15,
   "id": "d83f9e07-3bbc-4e1a-8a46-dd2f605d9f56",
   "metadata": {},
   "outputs": [
    {
     "name": "stdout",
     "output_type": "stream",
     "text": [
      "The center of star graph is:  2\n"
     ]
    }
   ],
   "source": [
    "edges = [[1,2],[2,3],[4,2]]\n",
    "\n",
    "ob = Solution()\n",
    "print(\"The center of star graph is: \", ob.findCenter(edges))  # Output: 2"
   ]
  },
  {
   "cell_type": "code",
   "execution_count": null,
   "id": "743d3939-ecc3-471d-b3b8-6455fef111a0",
   "metadata": {},
   "outputs": [],
   "source": []
  }
 ],
 "metadata": {
  "kernelspec": {
   "display_name": "Python 3 (ipykernel)",
   "language": "python",
   "name": "python3"
  },
  "language_info": {
   "codemirror_mode": {
    "name": "ipython",
    "version": 3
   },
   "file_extension": ".py",
   "mimetype": "text/x-python",
   "name": "python",
   "nbconvert_exporter": "python",
   "pygments_lexer": "ipython3",
   "version": "3.12.4"
  }
 },
 "nbformat": 4,
 "nbformat_minor": 5
}
