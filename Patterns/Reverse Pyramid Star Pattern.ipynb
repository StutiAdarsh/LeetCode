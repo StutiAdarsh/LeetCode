{
 "cells": [
  {
   "cell_type": "code",
   "execution_count": 6,
   "id": "2e2b85a9",
   "metadata": {},
   "outputs": [
    {
     "name": "stdout",
     "output_type": "stream",
     "text": [
      "Rows: 10\n"
     ]
    }
   ],
   "source": [
    "n = int(input(\"Rows: \"))\n",
    "# space formula: remains same as i\n",
    "# star formula: 2 * (n-i) -1"
   ]
  },
  {
   "cell_type": "code",
   "execution_count": 10,
   "id": "ecdcbff3",
   "metadata": {},
   "outputs": [
    {
     "name": "stdout",
     "output_type": "stream",
     "text": [
      "*******************\n",
      " *****************\n",
      "  ***************\n",
      "   *************\n",
      "    ***********\n",
      "     *********\n",
      "      *******\n",
      "       *****\n",
      "        ***\n",
      "         *\n"
     ]
    }
   ],
   "source": [
    "# Approach 1:\n",
    "\n",
    "for i in range(n):\n",
    "    # space\n",
    "    for j in range(i):\n",
    "        print(\" \", end=\"\")\n",
    "    # star\n",
    "    for j in range(2*(n-i)-1):\n",
    "        print(\"*\", end=\"\")\n",
    "    print()"
   ]
  },
  {
   "cell_type": "code",
   "execution_count": 8,
   "id": "ebe58794",
   "metadata": {},
   "outputs": [
    {
     "name": "stdout",
     "output_type": "stream",
     "text": [
      "*******************\n",
      " *****************\n",
      "  ***************\n",
      "   *************\n",
      "    ***********\n",
      "     *********\n",
      "      *******\n",
      "       *****\n",
      "        ***\n",
      "         *\n"
     ]
    }
   ],
   "source": [
    "# Approach 2:\n",
    "\n",
    "for i in range(n):\n",
    "    print(\" \"*i + \"*\"* (2*(n-i)-1))"
   ]
  },
  {
   "cell_type": "code",
   "execution_count": null,
   "id": "399a71a2",
   "metadata": {},
   "outputs": [],
   "source": []
  }
 ],
 "metadata": {
  "kernelspec": {
   "display_name": "Python 3",
   "language": "python",
   "name": "python3"
  },
  "language_info": {
   "codemirror_mode": {
    "name": "ipython",
    "version": 3
   },
   "file_extension": ".py",
   "mimetype": "text/x-python",
   "name": "python",
   "nbconvert_exporter": "python",
   "pygments_lexer": "ipython3",
   "version": "3.8.8"
  }
 },
 "nbformat": 4,
 "nbformat_minor": 5
}
