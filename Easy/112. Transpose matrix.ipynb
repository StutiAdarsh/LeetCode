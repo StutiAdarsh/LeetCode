{
 "cells": [
  {
   "cell_type": "code",
   "execution_count": 3,
   "id": "b46dab9e",
   "metadata": {},
   "outputs": [],
   "source": [
    "class Solution(object):\n",
    "    def transpose(self, matrix):\n",
    "        \"\"\"\n",
    "        :type matrix: List[List[int]]\n",
    "        :rtype: List[List[int]]\n",
    "        \"\"\"\n",
    "        res = [[0]*len(matrix) for _ in range(len(matrix[0]))]\n",
    "        for i in range(len(matrix)):\n",
    "            for j in range(len(matrix[0])):\n",
    "                res[j][i] = matrix[i][j]\n",
    "        return res\n",
    "        \n",
    "#Time: O(R * C) - for R rows and C columns for the input matrix iterations and new res \n",
    "#Space: O(R * C) - the space used by the answer for R rows and C cols"
   ]
  },
  {
   "cell_type": "code",
   "execution_count": 5,
   "id": "5f0a2705",
   "metadata": {},
   "outputs": [
    {
     "name": "stdout",
     "output_type": "stream",
     "text": [
      "Trasnpose matrix:  [[1, 4, 7], [2, 5, 8], [3, 6, 9]]\n",
      "Trasnpose matrix:  [[1, 4], [2, 5], [3, 6]]\n"
     ]
    }
   ],
   "source": [
    "sol = Solution()\n",
    "print(\"Trasnpose matrix: \", sol.transpose([[1,2,3],[4,5,6],[7,8,9]]))\n",
    "print(\"Trasnpose matrix: \", sol.transpose([[1,2,3],[4,5,6]]))"
   ]
  },
  {
   "cell_type": "code",
   "execution_count": null,
   "id": "8832366e",
   "metadata": {},
   "outputs": [],
   "source": []
  }
 ],
 "metadata": {
  "kernelspec": {
   "display_name": "Python 3",
   "language": "python",
   "name": "python3"
  },
  "language_info": {
   "codemirror_mode": {
    "name": "ipython",
    "version": 3
   },
   "file_extension": ".py",
   "mimetype": "text/x-python",
   "name": "python",
   "nbconvert_exporter": "python",
   "pygments_lexer": "ipython3",
   "version": "3.8.8"
  }
 },
 "nbformat": 4,
 "nbformat_minor": 5
}
