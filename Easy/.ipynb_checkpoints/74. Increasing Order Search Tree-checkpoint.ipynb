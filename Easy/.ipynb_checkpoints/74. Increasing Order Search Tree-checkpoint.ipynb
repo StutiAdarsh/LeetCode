{
 "cells": [
  {
   "cell_type": "code",
   "execution_count": 1,
   "id": "8e506e60",
   "metadata": {},
   "outputs": [],
   "source": [
    "# Definition for a binary tree\n",
    "class TreeNode(object):\n",
    "    def __init__(self, val=0, left=None, right=None):\n",
    "        self.val = val\n",
    "        self.left = left\n",
    "        self.right = right\n",
    "\n",
    "class Solution(object):\n",
    "    def increasingBST(self, root):\n",
    "        \"\"\"\n",
    "        :type root: TreeNode\n",
    "        :rtype: TreeNode\n",
    "        \"\"\"\n",
    "        def inorder(root):\n",
    "            return inorder(root.left) + [root.val] + inorder(root.right) if root else []\n",
    "        \n",
    "        ans = cur = TreeNode(None)\n",
    "        for i in inorder(root):\n",
    "            cur.right = TreeNode(i)\n",
    "            cur = cur.right\n",
    "        return ans.right\n",
    "        \n",
    "#Time: O(N) - time to inorder traverse and for tree for N nodes of the tree\n",
    "#Space: O(N) -  to keep inorder traversal values in recursice call stack"
   ]
  },
  {
   "cell_type": "code",
   "execution_count": 2,
   "id": "cffd7e02",
   "metadata": {},
   "outputs": [
    {
     "name": "stdout",
     "output_type": "stream",
     "text": [
      "1\n",
      "2\n",
      "3\n",
      "4\n",
      "5\n",
      "6\n",
      "7\n",
      "8\n",
      "9\n"
     ]
    }
   ],
   "source": [
    "# Example usage\n",
    "if __name__ == \"__main__\":\n",
    "    # Create a binary search tree\n",
    "    root = TreeNode(5)\n",
    "    root.left = TreeNode(3)\n",
    "    root.right = TreeNode(6)\n",
    "    root.left.left = TreeNode(2)\n",
    "    root.left.right = TreeNode(4)\n",
    "    root.right.right = TreeNode(8)\n",
    "    root.left.left.left = TreeNode(1)\n",
    "    root.right.right.left = TreeNode(7)\n",
    "    root.right.right.right = TreeNode(9)\n",
    "\n",
    "    # Create an instance of the Solution class\n",
    "    sol = Solution()\n",
    "\n",
    "    # Obtain the new tree with nodes in increasing order\n",
    "    new_root = sol.increasingBST(root)\n",
    "\n",
    "    # Output the values of the new tree in increasing order\n",
    "    while new_root:\n",
    "        print(new_root.val)\n",
    "        new_root = new_root.right"
   ]
  },
  {
   "cell_type": "code",
   "execution_count": null,
   "id": "d148198f",
   "metadata": {},
   "outputs": [],
   "source": []
  }
 ],
 "metadata": {
  "kernelspec": {
   "display_name": "Python 3",
   "language": "python",
   "name": "python3"
  },
  "language_info": {
   "codemirror_mode": {
    "name": "ipython",
    "version": 3
   },
   "file_extension": ".py",
   "mimetype": "text/x-python",
   "name": "python",
   "nbconvert_exporter": "python",
   "pygments_lexer": "ipython3",
   "version": "3.8.8"
  }
 },
 "nbformat": 4,
 "nbformat_minor": 5
}
