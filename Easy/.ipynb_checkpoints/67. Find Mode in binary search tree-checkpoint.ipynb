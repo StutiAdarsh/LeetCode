{
 "cells": [
  {
   "cell_type": "code",
   "execution_count": 5,
   "id": "2f1e3274",
   "metadata": {},
   "outputs": [],
   "source": [
    "# Definition for a binary tree node.\n",
    "import collections\n",
    "class TreeNode(object):\n",
    "    def __init__(self, val=0, left=None, right=None):\n",
    "        self.val = val\n",
    "        self.left = left\n",
    "        self.right = right\n",
    "\n",
    "class Solution(object):\n",
    "    def findMode(self, root):\n",
    "        \"\"\"\n",
    "        :type root: TreeNode\n",
    "        :rtype: List[int]\n",
    "        \"\"\"\n",
    "        def dfs(root, counter):\n",
    "            if not root:\n",
    "                return \n",
    "\n",
    "            counter[root.val] += 1\n",
    "            dfs(root.left, counter)\n",
    "            dfs(root.right, counter)\n",
    "    \n",
    "        counter = collections.defaultdict(int)\n",
    "        dfs(root, counter)\n",
    "        max_freq = max(counter.values())\n",
    "\n",
    "        ans = []\n",
    "        for key, val in counter.items():\n",
    "            if val == max_freq:\n",
    "                ans.append(key)\n",
    "        return ans\n",
    "\n",
    "#Time: O(N)- depth-first traversal of the tree for all N node exactly once to count the occurrences of each value.\n",
    "\n",
    "#Space: O(N) - recursion is executed using the call stack. This call stack is equal to the depth of the tree, \n",
    "#which in the worst case scenario is O(n)\n",
    "#if the tree only has unique values then counter will have a size of n. Thus, counter also uses O(n) space."
   ]
  },
  {
   "cell_type": "code",
   "execution_count": 6,
   "id": "aee56420",
   "metadata": {},
   "outputs": [
    {
     "name": "stdout",
     "output_type": "stream",
     "text": [
      "Mode(s) in the binary tree: [2]\n"
     ]
    }
   ],
   "source": [
    "# Example input\n",
    "# Constructing a binary search tree\n",
    "root = TreeNode(1)\n",
    "root.right = TreeNode(2)\n",
    "root.right.left = TreeNode(2)\n",
    "\n",
    "# Create an instance of the Solution class\n",
    "sol = Solution()\n",
    "\n",
    "# Call the findMode method and print the output\n",
    "output = sol.findMode(root)\n",
    "print(\"Mode(s) in the binary tree:\", output)  # Output: [2]"
   ]
  },
  {
   "cell_type": "code",
   "execution_count": null,
   "id": "738d7ce3",
   "metadata": {},
   "outputs": [],
   "source": []
  }
 ],
 "metadata": {
  "kernelspec": {
   "display_name": "Python 3",
   "language": "python",
   "name": "python3"
  },
  "language_info": {
   "codemirror_mode": {
    "name": "ipython",
    "version": 3
   },
   "file_extension": ".py",
   "mimetype": "text/x-python",
   "name": "python",
   "nbconvert_exporter": "python",
   "pygments_lexer": "ipython3",
   "version": "3.8.8"
  }
 },
 "nbformat": 4,
 "nbformat_minor": 5
}
