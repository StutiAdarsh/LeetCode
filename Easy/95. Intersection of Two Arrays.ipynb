{
 "cells": [
  {
   "cell_type": "code",
   "execution_count": 2,
   "id": "5e225ad7",
   "metadata": {},
   "outputs": [
    {
     "name": "stdout",
     "output_type": "stream",
     "text": [
      "Intersected arrays:  [2]\n"
     ]
    }
   ],
   "source": [
    "class Solution(object):\n",
    "    def intersection(self, nums1, nums2):\n",
    "        \"\"\"\n",
    "        :type nums1: List[int]\n",
    "        :type nums2: List[int]\n",
    "        :rtype: List[int]\n",
    "        \"\"\"\n",
    "        return list(set(nums1) & set(nums2))\n",
    "    \n",
    "#Time: O(N + M) - time to convert to set1 from nums1 is O(N) and for set2 is O(M)\n",
    "#Space: O(N + M) - set to store worst case N values for set1 from nums1 and M values for set2\n",
    "\n",
    "ob = Solution()\n",
    "print(\"Intersected arrays: \", ob.intersection(nums1 = [1,2,2,1], nums2 = [2,2]))"
   ]
  },
  {
   "cell_type": "code",
   "execution_count": 3,
   "id": "ab4a8aa3",
   "metadata": {},
   "outputs": [
    {
     "name": "stdout",
     "output_type": "stream",
     "text": [
      "Intersected arrays:  [2]\n"
     ]
    }
   ],
   "source": [
    "class Solution(object):\n",
    "    def intersection(self, nums1, nums2):\n",
    "        \"\"\"\n",
    "        :type nums1: List[int]\n",
    "        :type nums2: List[int]\n",
    "        :rtype: List[int]\n",
    "        \"\"\"        \n",
    "        set1 = set(nums1)\n",
    "        set2 = set(nums2)\n",
    "        \n",
    "        if len(set1) < len(set2):\n",
    "            return [x for x in set1 if x in set2]\n",
    "        else:\n",
    "            return [x for x in set2 if x in set1]\n",
    "        \n",
    "    \n",
    "#Time: O(N + M) - time to convert to set1 from nums1 is O(N) and for set2 is O(M)\n",
    "#Space: O(N + M) - set to store worst case N values for set1 from nums1 and M values for set2\n",
    "\n",
    "ob = Solution()\n",
    "print(\"Intersected arrays: \", ob.intersection(nums1 = [1,2,2,1], nums2 = [2,2]))"
   ]
  },
  {
   "cell_type": "code",
   "execution_count": null,
   "id": "80c9fa31",
   "metadata": {},
   "outputs": [],
   "source": []
  }
 ],
 "metadata": {
  "kernelspec": {
   "display_name": "Python 3",
   "language": "python",
   "name": "python3"
  },
  "language_info": {
   "codemirror_mode": {
    "name": "ipython",
    "version": 3
   },
   "file_extension": ".py",
   "mimetype": "text/x-python",
   "name": "python",
   "nbconvert_exporter": "python",
   "pygments_lexer": "ipython3",
   "version": "3.8.8"
  }
 },
 "nbformat": 4,
 "nbformat_minor": 5
}
