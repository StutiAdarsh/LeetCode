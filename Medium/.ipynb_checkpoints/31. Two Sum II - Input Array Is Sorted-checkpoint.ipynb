{
 "cells": [
  {
   "cell_type": "code",
   "execution_count": 5,
   "id": "0316bd2e-bce4-488c-b724-164f8f93bdbb",
   "metadata": {},
   "outputs": [
    {
     "name": "stdout",
     "output_type": "stream",
     "text": [
      "Two sum ii:  [1, 2]\n"
     ]
    }
   ],
   "source": [
    "class Solution(object):\n",
    "    def twoSum(self, nums, target):\n",
    "        \"\"\"\n",
    "        :type nums: List[int]\n",
    "        :type target: int\n",
    "        :rtype: List[int]\n",
    "        \"\"\" \n",
    "\n",
    "        seen = {}\n",
    "        for id, val in enumerate(nums):\n",
    "            diff = target - val\n",
    "            if diff in seen:\n",
    "                return [seen[diff]+1, id+1]\n",
    "            seen[val] = id\n",
    "\n",
    "\n",
    "#Time: O(N) - The input array ofsize N is traversed at most once\n",
    "#Space: O(N) - Space used for seen hashmap\n",
    "\n",
    "ob = Solution()\n",
    "print(\"Two sum ii: \", ob.twoSum(nums = [2,7,11,15], target = 9))"
   ]
  },
  {
   "cell_type": "code",
   "execution_count": 10,
   "id": "8f038bdc-57cc-4761-b40d-04258ea63eb7",
   "metadata": {},
   "outputs": [],
   "source": [
    "class Solution(object):\n",
    "    def twoSum(self, numbers, target):\n",
    "        \"\"\"\n",
    "        :type numbers: List[int]\n",
    "        :type target: int\n",
    "        :rtype: List[int]\n",
    "        \"\"\"\n",
    "        l, r = 0, len(numbers)-1\n",
    "        \n",
    "        while l<r:\n",
    "            s = numbers[l]+numbers[r]\n",
    "            if s == target:\n",
    "                return [l+1, r+1]\n",
    "            elif s < target:\n",
    "                l += 1\n",
    "            else:\n",
    "                r -= 1\n",
    "\n",
    "#Time: O(N) - The input array ofsize N is traversed at most once\n",
    "#Space: O(1) - We only use additional space to store two indices and the sum, so the space complexity is O(1)"
   ]
  },
  {
   "cell_type": "code",
   "execution_count": 12,
   "id": "95327c1c-986b-4cd1-b278-4fb5b87f144e",
   "metadata": {},
   "outputs": [
    {
     "name": "stdout",
     "output_type": "stream",
     "text": [
      "Two sum ii:  [1, 2]\n"
     ]
    }
   ],
   "source": [
    "ob = Solution()\n",
    "print(\"Two sum ii: \", ob.twoSum(numbers = [2,7,11,15], target = 9))"
   ]
  },
  {
   "cell_type": "code",
   "execution_count": null,
   "id": "2da3ebf1-4106-4480-bed0-37028a491a68",
   "metadata": {},
   "outputs": [],
   "source": []
  }
 ],
 "metadata": {
  "kernelspec": {
   "display_name": "Python 3 (ipykernel)",
   "language": "python",
   "name": "python3"
  },
  "language_info": {
   "codemirror_mode": {
    "name": "ipython",
    "version": 3
   },
   "file_extension": ".py",
   "mimetype": "text/x-python",
   "name": "python",
   "nbconvert_exporter": "python",
   "pygments_lexer": "ipython3",
   "version": "3.12.4"
  }
 },
 "nbformat": 4,
 "nbformat_minor": 5
}
