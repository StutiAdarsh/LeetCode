{
 "cells": [
  {
   "cell_type": "code",
   "execution_count": 1,
   "id": "834a32ba",
   "metadata": {},
   "outputs": [],
   "source": [
    "\"\"\"\n",
    "The read4 API is already defined for you.\n",
    "\n",
    "    @param buf4, a list of characters\n",
    "    @return an integer\n",
    "    def read4(buf4):\n",
    "\n",
    "# Below is an example of how the read4 API can be called.\n",
    "file = File(\"abcdefghijk\") # File is \"abcdefghijk\", initially file pointer (fp) points to 'a'\n",
    "buf4 = [' '] * 4 # Create buffer with enough space to store characters\n",
    "read4(buf4) # read4 returns 4. Now buf = ['a','b','c','d'], fp points to 'e'\n",
    "read4(buf4) # read4 returns 4. Now buf = ['e','f','g','h'], fp points to 'i'\n",
    "read4(buf4) # read4 returns 3. Now buf = ['i','j','k',...], fp points to end of file\n",
    "\"\"\"\n",
    "\n",
    "class Solution(object):\n",
    "    def read(self, buf, n):\n",
    "        \"\"\"\n",
    "        :type buf: Destination buffer (List[str])\n",
    "        :type n: Number of characters to read (int)\n",
    "        :rtype: The number of actual characters read (int)\n",
    "        \"\"\"\n",
    "        idx = 0\n",
    "        while idx < n:\n",
    "            buf4 = [\"\"] * 4\n",
    "            read_chars = read4(buf4) # read file into buf4\n",
    "            if not read_chars: # EOF\n",
    "                break\n",
    "            read_chars = min(read_chars, n-idx)\n",
    "            buf[idx:] = buf4[:read_chars]\n",
    "            idx += read_chars\n",
    "        return idx\n",
    "\n",
    "#Time: O(N) to copy N characters.\n",
    "#Space: O(1) constant space to keep buf4 of 4 elements."
   ]
  },
  {
   "cell_type": "code",
   "execution_count": 2,
   "id": "520c68a1",
   "metadata": {},
   "outputs": [
    {
     "ename": "NameError",
     "evalue": "name 'File' is not defined",
     "output_type": "error",
     "traceback": [
      "\u001b[1;31m---------------------------------------------------------------------------\u001b[0m",
      "\u001b[1;31mNameError\u001b[0m                                 Traceback (most recent call last)",
      "\u001b[1;32m<ipython-input-2-c20937d95750>\u001b[0m in \u001b[0;36m<module>\u001b[1;34m\u001b[0m\n\u001b[1;32m----> 1\u001b[1;33m \u001b[0mfile\u001b[0m \u001b[1;33m=\u001b[0m \u001b[0mFile\u001b[0m\u001b[1;33m(\u001b[0m\u001b[1;34m\"abcdefghijk\"\u001b[0m\u001b[1;33m)\u001b[0m\u001b[1;33m\u001b[0m\u001b[1;33m\u001b[0m\u001b[0m\n\u001b[0m\u001b[0;32m      2\u001b[0m \u001b[0mbuf\u001b[0m \u001b[1;33m=\u001b[0m \u001b[1;33m[\u001b[0m\u001b[1;34m' '\u001b[0m\u001b[1;33m]\u001b[0m \u001b[1;33m*\u001b[0m \u001b[1;36m12\u001b[0m  \u001b[1;31m# Buffer to store characters\u001b[0m\u001b[1;33m\u001b[0m\u001b[1;33m\u001b[0m\u001b[0m\n\u001b[0;32m      3\u001b[0m \u001b[0msol\u001b[0m \u001b[1;33m=\u001b[0m \u001b[0mSolution\u001b[0m\u001b[1;33m(\u001b[0m\u001b[1;33m)\u001b[0m\u001b[1;33m\u001b[0m\u001b[1;33m\u001b[0m\u001b[0m\n\u001b[0;32m      4\u001b[0m \u001b[0mchars_read\u001b[0m \u001b[1;33m=\u001b[0m \u001b[0msol\u001b[0m\u001b[1;33m.\u001b[0m\u001b[0mread\u001b[0m\u001b[1;33m(\u001b[0m\u001b[0mbuf\u001b[0m\u001b[1;33m,\u001b[0m \u001b[1;36m10\u001b[0m\u001b[1;33m)\u001b[0m\u001b[1;33m\u001b[0m\u001b[1;33m\u001b[0m\u001b[0m\n\u001b[0;32m      5\u001b[0m \u001b[0mprint\u001b[0m\u001b[1;33m(\u001b[0m\u001b[1;34m\"Characters read:\"\u001b[0m\u001b[1;33m,\u001b[0m \u001b[0mchars_read\u001b[0m\u001b[1;33m)\u001b[0m\u001b[1;33m\u001b[0m\u001b[1;33m\u001b[0m\u001b[0m\n",
      "\u001b[1;31mNameError\u001b[0m: name 'File' is not defined"
     ]
    }
   ],
   "source": [
    "file = File(\"abcdefghijk\")\n",
    "buf = [' '] * 12  # Buffer to store characters\n",
    "sol = Solution()\n",
    "chars_read = sol.read(buf, 10)\n",
    "print(\"Characters read:\", chars_read)\n",
    "print(\"Buffer content:\", buf)  # Output: ['a', 'b', 'c', 'd', 'e', 'f', 'g', 'h', 'i', 'j', ' ', ' ']"
   ]
  },
  {
   "cell_type": "code",
   "execution_count": null,
   "id": "754257e0",
   "metadata": {},
   "outputs": [],
   "source": []
  }
 ],
 "metadata": {
  "kernelspec": {
   "display_name": "Python 3",
   "language": "python",
   "name": "python3"
  },
  "language_info": {
   "codemirror_mode": {
    "name": "ipython",
    "version": 3
   },
   "file_extension": ".py",
   "mimetype": "text/x-python",
   "name": "python",
   "nbconvert_exporter": "python",
   "pygments_lexer": "ipython3",
   "version": "3.8.8"
  }
 },
 "nbformat": 4,
 "nbformat_minor": 5
}
