{
 "cells": [
  {
   "cell_type": "code",
   "execution_count": 5,
   "id": "b77efb6d",
   "metadata": {},
   "outputs": [],
   "source": [
    "# Definition for a binary tree node.\n",
    "class TreeNode(object):\n",
    "    def __init__(self, val=0, left=None, right=None):\n",
    "        self.val = val\n",
    "        self.left = left\n",
    "        self.right = right\n",
    "\n",
    "class Solution(object):\n",
    "    def findTilt(self, root):\n",
    "        \"\"\"\n",
    "        :type root: TreeNode\n",
    "        :rtype: int\n",
    "        \"\"\"\n",
    "        self.sum_tilt = 0\n",
    "        def dfs(root):\n",
    "            if not root:\n",
    "                return 0\n",
    "\n",
    "            left = dfs(root.left)\n",
    "            right = dfs(root.right)\n",
    "            tilt =  abs(left - right)\n",
    "            self.sum_tilt += tilt\n",
    "            return left + right + root.val\n",
    "\n",
    "        dfs(root)\n",
    "        return self.sum_tilt\n",
    "    \n",
    "#Time: O(N) - We traverse each node once and only once. Recursive DFS - Bottom Up\n",
    "#Space: O(N) - In the worst case where the tree is not well balanced, \n",
    "#the recursion could pile up N times. As a result, the space complexity of the algorithm is O(N)."
   ]
  },
  {
   "cell_type": "code",
   "execution_count": 4,
   "id": "b80cad2c",
   "metadata": {},
   "outputs": [
    {
     "name": "stdout",
     "output_type": "stream",
     "text": [
      "Sum of tilts for all nodes in the binary tree: 3\n"
     ]
    }
   ],
   "source": [
    "# Example usage:\n",
    "if __name__ == \"__main__\":\n",
    "    # Create a binary tree\n",
    "    root = TreeNode(4)\n",
    "    root.left = TreeNode(2)\n",
    "    root.right = TreeNode(9)\n",
    "    root.left.left = TreeNode(3)\n",
    "    root.left.right = TreeNode(5)\n",
    "    \n",
    "    # Create an instance of the Solution class\n",
    "    sol = Solution()\n",
    "\n",
    "    # Call the findTilt method and print the output\n",
    "    output = sol.findTilt(root)\n",
    "    print(\"Sum of tilts for all nodes in the binary tree:\", output)"
   ]
  },
  {
   "cell_type": "code",
   "execution_count": null,
   "id": "2ae94cd5",
   "metadata": {},
   "outputs": [],
   "source": []
  }
 ],
 "metadata": {
  "kernelspec": {
   "display_name": "Python 3",
   "language": "python",
   "name": "python3"
  },
  "language_info": {
   "codemirror_mode": {
    "name": "ipython",
    "version": 3
   },
   "file_extension": ".py",
   "mimetype": "text/x-python",
   "name": "python",
   "nbconvert_exporter": "python",
   "pygments_lexer": "ipython3",
   "version": "3.8.8"
  }
 },
 "nbformat": 4,
 "nbformat_minor": 5
}
