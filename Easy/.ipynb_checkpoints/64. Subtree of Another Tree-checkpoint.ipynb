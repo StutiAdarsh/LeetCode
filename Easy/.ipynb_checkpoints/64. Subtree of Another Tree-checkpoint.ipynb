{
 "cells": [
  {
   "cell_type": "code",
   "execution_count": 1,
   "id": "f7d5cb28",
   "metadata": {},
   "outputs": [],
   "source": [
    "# Definition for a binary tree node.\n",
    "class TreeNode(object):\n",
    "    def __init__(self, val=0, left=None, right=None):\n",
    "        self.val = val\n",
    "        self.left = left\n",
    "        self.right = right\n",
    "\n",
    "class Solution(object):\n",
    "    def isSubtree(self, root, subRoot):\n",
    "        \"\"\"\n",
    "        :type root: TreeNode\n",
    "        :type subRoot: TreeNode\n",
    "        :rtype: bool\n",
    "        \"\"\"\n",
    "        if not subRoot:\n",
    "            return True\n",
    "\n",
    "        if not root:\n",
    "            return False\n",
    "\n",
    "        if self.isSameTree(root, subRoot):\n",
    "            return True\n",
    "\n",
    "        return self.isSubtree(root.left, subRoot) or self.isSubtree(root.right, subRoot)\n",
    "\n",
    "    def isSameTree(self, s, t):\n",
    "        if not s and not t:\n",
    "            return True\n",
    "\n",
    "        if not s or not t:\n",
    "            return False\n",
    "\n",
    "        return s.val==t.val and self.isSameTree(s.left, t.left) and self.isSameTree(s.right, t.right)\n",
    "    \n",
    "#Time: O(M*N): For every N node in the tree, we check if the tree rooted at node is same as subRoot. \n",
    "#This check takes O(M) time, where M is the number of nodes in subRoot. \n",
    "#Hence, the overall time complexity is O(MN).\n",
    "\n",
    "#Space: O(M+N): There will be at most N recursive call to dfs (or isSubtree). \n",
    "#Now, each of these calls will have M recursive calls to isSameTree. \n",
    "#Before calling isSameTree, our call stack has at most O(N) elements and might increase \n",
    "#to O(N+M) during the call. \n",
    "#After calling isSameTree, it will be back to at most O(N) since all elements made by \n",
    "#isSameTree are popped out. Hence, the maximum number of elements in the call stack will be M+N."
   ]
  },
  {
   "cell_type": "code",
   "execution_count": 2,
   "id": "312b167c",
   "metadata": {},
   "outputs": [
    {
     "name": "stdout",
     "output_type": "stream",
     "text": [
      "Is subtree: True\n"
     ]
    }
   ],
   "source": [
    "# Example usage:\n",
    "if __name__ == \"__main__\":\n",
    "    # Create the main binary tree\n",
    "    root = TreeNode(3)\n",
    "    root.left = TreeNode(4)\n",
    "    root.right = TreeNode(5)\n",
    "    root.left.left = TreeNode(1)\n",
    "    root.left.right = TreeNode(2)\n",
    "    \n",
    "    # Create the subtree\n",
    "    subRoot = TreeNode(4)\n",
    "    subRoot.left = TreeNode(1)\n",
    "    subRoot.right = TreeNode(2)\n",
    "    \n",
    "    # Create an instance of the Solution class\n",
    "    sol = Solution()\n",
    "\n",
    "    # Call the isSubtree method and print the output\n",
    "    output = sol.isSubtree(root, subRoot)\n",
    "    print(\"Is subtree:\", output)"
   ]
  },
  {
   "cell_type": "code",
   "execution_count": null,
   "id": "503794cd",
   "metadata": {},
   "outputs": [],
   "source": []
  }
 ],
 "metadata": {
  "kernelspec": {
   "display_name": "Python 3",
   "language": "python",
   "name": "python3"
  },
  "language_info": {
   "codemirror_mode": {
    "name": "ipython",
    "version": 3
   },
   "file_extension": ".py",
   "mimetype": "text/x-python",
   "name": "python",
   "nbconvert_exporter": "python",
   "pygments_lexer": "ipython3",
   "version": "3.8.8"
  }
 },
 "nbformat": 4,
 "nbformat_minor": 5
}
