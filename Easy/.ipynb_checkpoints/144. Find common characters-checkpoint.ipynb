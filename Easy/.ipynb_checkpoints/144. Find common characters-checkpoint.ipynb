{
 "cells": [
  {
   "cell_type": "code",
   "execution_count": 3,
   "id": "4ac3938e",
   "metadata": {},
   "outputs": [],
   "source": [
    "import collections\n",
    "class Solution(object):\n",
    "    def commonChars(self, words):\n",
    "        \"\"\"\n",
    "        :type words: List[str]\n",
    "        :rtype: List[str]\n",
    "        \"\"\"\n",
    "        res = collections.Counter(words[0])\n",
    "        for word in words:\n",
    "            count = collections.Counter(word)\n",
    "            for key in res.keys():\n",
    "                res[key] = min(res[key], count[key])\n",
    "        return res.elements()\n",
    "    \n",
    "#Time: O(N + M)\n",
    "#n be the total number of characters in all strings combined, and m be the length of the longest word.\n",
    "#The loop iterates over the keys of the Counter object created from the first word, and for each key, \n",
    "#it updates the minimum count considering all Counter objects for all words. This operation takes O(n) time in total.\n",
    "\n",
    "#Space: O(N) - creates a Counter object to store the counts of characters."
   ]
  },
  {
   "cell_type": "code",
   "execution_count": 4,
   "id": "8a4b84ac",
   "metadata": {},
   "outputs": [
    {
     "name": "stdout",
     "output_type": "stream",
     "text": [
      "common characters:  <itertools.chain object at 0x000002696C158730>\n"
     ]
    }
   ],
   "source": [
    "sol = Solution()\n",
    "print(\"common characters: \", sol.commonChars(words = [\"bella\",\"label\",\"roller\"]))\n",
    "#Output:  [\"e\", \"l\", \"l\"]"
   ]
  },
  {
   "cell_type": "code",
   "execution_count": null,
   "id": "eabaccfe",
   "metadata": {},
   "outputs": [],
   "source": []
  }
 ],
 "metadata": {
  "kernelspec": {
   "display_name": "Python 3",
   "language": "python",
   "name": "python3"
  },
  "language_info": {
   "codemirror_mode": {
    "name": "ipython",
    "version": 3
   },
   "file_extension": ".py",
   "mimetype": "text/x-python",
   "name": "python",
   "nbconvert_exporter": "python",
   "pygments_lexer": "ipython3",
   "version": "3.8.8"
  }
 },
 "nbformat": 4,
 "nbformat_minor": 5
}
