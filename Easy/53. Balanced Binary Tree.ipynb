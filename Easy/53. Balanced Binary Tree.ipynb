{
 "cells": [
  {
   "cell_type": "code",
   "execution_count": 1,
   "id": "e7927d2f",
   "metadata": {},
   "outputs": [],
   "source": [
    "# Definition for a binary tree node.\n",
    "class TreeNode(object):\n",
    "    def __init__(self, val=0, left=None, right=None):\n",
    "        self.val = val\n",
    "        self.left = left\n",
    "        self.right = right\n",
    "\n",
    "class Solution(object):\n",
    "    def isBalanced(self, root):\n",
    "        \"\"\"\n",
    "        :type root: TreeNode\n",
    "        :rtype: bool\n",
    "        \"\"\"\n",
    "        def dfs(root):\n",
    "            if not root:\n",
    "                return [True, 0]\n",
    "            \n",
    "            left = dfs(root.left)\n",
    "            right = dfs(root.right)\n",
    "            balanced = left[0] and right[0] and abs(left[1]-right[1])<=1\n",
    "            return [balanced, 1+max(left[1], right[1])]\n",
    "            \n",
    "        return dfs(root)[0]\n",
    "    \n",
    "#Time: O(N) - to traverse each node exactly once for DFS - Bottom up \n",
    "#Space:O(N) - recursive stack to store - each node during traversal"
   ]
  },
  {
   "cell_type": "code",
   "execution_count": 2,
   "id": "2e742322",
   "metadata": {},
   "outputs": [
    {
     "name": "stdout",
     "output_type": "stream",
     "text": [
      "Is the tree balanced? True\n"
     ]
    }
   ],
   "source": [
    "root = TreeNode(1)\n",
    "root.left = TreeNode(2)\n",
    "root.right = TreeNode(3)\n",
    "root.left.left = TreeNode(4)\n",
    "root.left.right = TreeNode(5)\n",
    "root.right.right = TreeNode(6)\n",
    "\n",
    "# Create an instance of the Solution class\n",
    "sol = Solution()\n",
    "\n",
    "# Call the isBalanced method and print the output\n",
    "output = sol.isBalanced(root)\n",
    "print(\"Is the tree balanced?\", output)"
   ]
  },
  {
   "cell_type": "code",
   "execution_count": null,
   "id": "98c85ada",
   "metadata": {},
   "outputs": [],
   "source": []
  }
 ],
 "metadata": {
  "kernelspec": {
   "display_name": "Python 3",
   "language": "python",
   "name": "python3"
  },
  "language_info": {
   "codemirror_mode": {
    "name": "ipython",
    "version": 3
   },
   "file_extension": ".py",
   "mimetype": "text/x-python",
   "name": "python",
   "nbconvert_exporter": "python",
   "pygments_lexer": "ipython3",
   "version": "3.8.8"
  }
 },
 "nbformat": 4,
 "nbformat_minor": 5
}
