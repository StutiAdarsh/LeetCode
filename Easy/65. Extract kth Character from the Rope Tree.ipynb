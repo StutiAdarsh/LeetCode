{
 "cells": [
  {
   "cell_type": "code",
   "execution_count": 1,
   "id": "56d8da03",
   "metadata": {},
   "outputs": [],
   "source": [
    "# Definition for a rope tree node.\n",
    "class RopeTreeNode(object):\n",
    "    def __init__(self, len=0, val=\"\", left=None, right=None):\n",
    "        self.len = len\n",
    "        self.val = val\n",
    "        self.left = left\n",
    "        self.right = right\n",
    "\n",
    "class Solution(object):\n",
    "    def getKthCharacter(self, root, k):\n",
    "        \"\"\"\n",
    "        :type root: Optional[RopeTreeNode]\n",
    "        :type k: int\n",
    "        :rtype: str\n",
    "        \"\"\" \n",
    "        def dfs(root):\n",
    "            if not root:\n",
    "                return \"\"\n",
    "\n",
    "            if not root.left and not root.right:\n",
    "                return root.val\n",
    "\n",
    "            return dfs(root.left) + dfs(root.right)\n",
    "        \n",
    "        return dfs(root)[k-1]\n",
    "    \n",
    "#Time: O(N+K) time to traverse top down DFS to visit each node once and k time to concatenate each time for the N nodes\n",
    "#Space: worst case height of tree which is N nodes during traversal for recusrve call stack"
   ]
  },
  {
   "cell_type": "code",
   "execution_count": 7,
   "id": "8d22190d",
   "metadata": {},
   "outputs": [
    {
     "name": "stdout",
     "output_type": "stream",
     "text": [
      "Character at index 4 is: m\n"
     ]
    }
   ],
   "source": [
    "# Example usage:\n",
    "if __name__ == \"__main__\":\n",
    "    # Create a rope tree\n",
    "    root = RopeTreeNode(6)\n",
    "    root.left = RopeTreeNode(3)\n",
    "    root.right = RopeTreeNode(3)\n",
    "    root.left.left = RopeTreeNode(0, \"jkl\")\n",
    "    root.right.right = RopeTreeNode(0, \"mno\")\n",
    "    \n",
    "    # Index of the character to retrieve\n",
    "    k = 4\n",
    "    \n",
    "    # Create an instance of the Solution class\n",
    "    sol = Solution()\n",
    "\n",
    "    # Call the getKthCharacter method and print the output\n",
    "    output = sol.getKthCharacter(root, k)\n",
    "    print(\"Character at index\", k, \"is:\", output)"
   ]
  },
  {
   "cell_type": "code",
   "execution_count": null,
   "id": "fb919990",
   "metadata": {},
   "outputs": [],
   "source": []
  }
 ],
 "metadata": {
  "kernelspec": {
   "display_name": "Python 3",
   "language": "python",
   "name": "python3"
  },
  "language_info": {
   "codemirror_mode": {
    "name": "ipython",
    "version": 3
   },
   "file_extension": ".py",
   "mimetype": "text/x-python",
   "name": "python",
   "nbconvert_exporter": "python",
   "pygments_lexer": "ipython3",
   "version": "3.8.8"
  }
 },
 "nbformat": 4,
 "nbformat_minor": 5
}
