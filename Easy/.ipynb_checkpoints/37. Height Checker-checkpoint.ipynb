{
 "cells": [
  {
   "cell_type": "code",
   "execution_count": 3,
   "id": "19ca2aae",
   "metadata": {},
   "outputs": [],
   "source": [
    "class Solution(object):\n",
    "    def heightChecker(self, heights):\n",
    "        count = 0\n",
    "        for i, j in zip(heights, sorted(heights)):\n",
    "            if i != j:\n",
    "                count += 1\n",
    "        return count\n",
    "    \n",
    "#Time: O(nlogn), n log n time to sort the list\n",
    "#Space: O(n), store sorted elements"
   ]
  },
  {
   "cell_type": "code",
   "execution_count": 4,
   "id": "7527e2f6",
   "metadata": {},
   "outputs": [
    {
     "name": "stdout",
     "output_type": "stream",
     "text": [
      "Case 1:  3\n",
      "Case 2:  5\n",
      "Case 3:  0\n"
     ]
    }
   ],
   "source": [
    "ob = Solution()\n",
    "\n",
    "print(\"Case 1: \", ob.heightChecker([1,1,4,2,1,3]))\n",
    "print(\"Case 2: \", ob.heightChecker([5,1,2,3,4]))\n",
    "print(\"Case 3: \", ob.heightChecker([1,2,3,4,5]))"
   ]
  },
  {
   "cell_type": "code",
   "execution_count": null,
   "id": "de78dea1",
   "metadata": {},
   "outputs": [],
   "source": []
  }
 ],
 "metadata": {
  "kernelspec": {
   "display_name": "Python 3",
   "language": "python",
   "name": "python3"
  },
  "language_info": {
   "codemirror_mode": {
    "name": "ipython",
    "version": 3
   },
   "file_extension": ".py",
   "mimetype": "text/x-python",
   "name": "python",
   "nbconvert_exporter": "python",
   "pygments_lexer": "ipython3",
   "version": "3.8.8"
  }
 },
 "nbformat": 4,
 "nbformat_minor": 5
}
