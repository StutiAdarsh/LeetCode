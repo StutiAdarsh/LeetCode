{
 "cells": [
  {
   "cell_type": "code",
   "execution_count": 2,
   "id": "74dcf98d",
   "metadata": {},
   "outputs": [],
   "source": [
    "# Definition for singly-linked list.\n",
    "class ListNode(object):\n",
    "    def __init__(self, val=0, next=None):\n",
    "        self.val = val\n",
    "        self.next = next\n",
    "\n",
    "class Solution(object):\n",
    "    def oddEvenList(self, head):\n",
    "        \"\"\"\n",
    "        :type head: ListNode\n",
    "        :rtype: ListNode\n",
    "        \"\"\"\n",
    "        if not head:\n",
    "            return None\n",
    "        \n",
    "        odd = head\n",
    "        even = head.next\n",
    "        evenHead = even\n",
    "        \n",
    "        while even and even.next:\n",
    "            odd.next = odd.next.next\n",
    "            even.next = even.next.next\n",
    "            odd = odd.next\n",
    "            even = even.next\n",
    "            \n",
    "        odd.next = evenHead\n",
    "        return head\n",
    "            \n",
    "#Time: O(N) - for one pass for all N nodes in the linkedList\n",
    "#Space: O(1) - constant space"
   ]
  },
  {
   "cell_type": "code",
   "execution_count": 3,
   "id": "ecff899c",
   "metadata": {},
   "outputs": [
    {
     "name": "stdout",
     "output_type": "stream",
     "text": [
      "[1, 3, 5, 2, 4]\n",
      "[2, 3, 6, 7, 1, 5, 4]\n"
     ]
    }
   ],
   "source": [
    "# Helper function to create a linked list from a list\n",
    "def create_linked_list(lst):\n",
    "    if not lst:\n",
    "        return None\n",
    "    head = ListNode(lst[0])\n",
    "    current = head\n",
    "    for val in lst[1:]:\n",
    "        current.next = ListNode(val)\n",
    "        current = current.next\n",
    "    return head\n",
    "\n",
    "# Helper function to convert linked list to list\n",
    "def linked_list_to_list(head):\n",
    "    result = []\n",
    "    while head:\n",
    "        result.append(head.val)\n",
    "        head = head.next\n",
    "    return result\n",
    "\n",
    "# Example 1\n",
    "# Input: 1->2->3->4->5\n",
    "# Output: 1->3->5->2->4\n",
    "\n",
    "# Create linked list\n",
    "head = create_linked_list([1, 2, 3, 4, 5])\n",
    "# Create Solution object\n",
    "solution = Solution()\n",
    "# Reorder odd and even nodes\n",
    "new_head = solution.oddEvenList(head)\n",
    "# Convert linked list to list for easy viewing\n",
    "print(linked_list_to_list(new_head))  # Output: [1, 3, 5, 2, 4]\n",
    "\n",
    "# Example 2\n",
    "# Input: 2->1->3->5->6->4->7\n",
    "# Output: 2->3->6->7->1->5->4\n",
    "\n",
    "# Create linked list\n",
    "head2 = create_linked_list([2, 1, 3, 5, 6, 4, 7])\n",
    "# Reorder odd and even nodes\n",
    "new_head2 = solution.oddEvenList(head2)\n",
    "# Convert linked list to list for easy viewing\n",
    "print(linked_list_to_list(new_head2))  # Output: [2, 3, 6, 7, 1, 5, 4]\n"
   ]
  },
  {
   "cell_type": "code",
   "execution_count": null,
   "id": "e957b2a4",
   "metadata": {},
   "outputs": [],
   "source": []
  }
 ],
 "metadata": {
  "kernelspec": {
   "display_name": "Python 3 (ipykernel)",
   "language": "python",
   "name": "python3"
  },
  "language_info": {
   "codemirror_mode": {
    "name": "ipython",
    "version": 3
   },
   "file_extension": ".py",
   "mimetype": "text/x-python",
   "name": "python",
   "nbconvert_exporter": "python",
   "pygments_lexer": "ipython3",
   "version": "3.12.4"
  }
 },
 "nbformat": 4,
 "nbformat_minor": 5
}
