{
 "cells": [
  {
   "cell_type": "code",
   "execution_count": 5,
   "id": "d408966e",
   "metadata": {},
   "outputs": [],
   "source": [
    "import collections\n",
    "class MyStack(object):\n",
    "\n",
    "    def __init__(self):\n",
    "        self.queue = collections.deque()\n",
    "\n",
    "    def push(self, x):\n",
    "        \"\"\"\n",
    "        :type x: int\n",
    "        :rtype: None\n",
    "        \"\"\"\n",
    "        self.queue.append(x)\n",
    "        for _ in range(len(self.queue)-1):\n",
    "            self.queue.append(self.queue.popleft())\n",
    "\n",
    "    def pop(self):\n",
    "        \"\"\"\n",
    "        :rtype: int\n",
    "        \"\"\"\n",
    "        return self.queue.popleft()\n",
    "\n",
    "    def top(self):\n",
    "        \"\"\"\n",
    "        :rtype: int\n",
    "        \"\"\"\n",
    "        return self.queue[0]\n",
    "\n",
    "    def empty(self):\n",
    "        \"\"\"\n",
    "        :rtype: bool\n",
    "        \"\"\"\n",
    "        return not len(self.queue)\n",
    "        \n",
    "\n",
    "\n",
    "# Your MyStack object will be instantiated and called as such:\n",
    "# obj = MyStack()\n",
    "# obj.push(x)\n",
    "# param_2 = obj.pop()\n",
    "# param_3 = obj.top()\n",
    "# param_4 = obj.empty()\n",
    "\n",
    "#Push: Time: O(N) to append elemnt but rearrange them to maintain stack order.\n",
    "    #  Space: O(1) for the push method\n",
    "#Pop: Time: O(1) for method\n",
    "    #  Space: O(1) for the pop method\n",
    "#Top: Time: O(1) for method\n",
    "    #  Space: O(1) for the top method\n",
    "#Empty: O(1) for method\n",
    "    #  Space: O(1) for the empty method\n",
    "\n",
    "#Space: O(N) - overall space complexity of deque "
   ]
  },
  {
   "cell_type": "code",
   "execution_count": 6,
   "id": "2ef27099",
   "metadata": {},
   "outputs": [
    {
     "name": "stdout",
     "output_type": "stream",
     "text": [
      "3\n",
      "2\n",
      "False\n"
     ]
    },
    {
     "data": {
      "text/plain": [
       "1"
      ]
     },
     "execution_count": 6,
     "metadata": {},
     "output_type": "execute_result"
    }
   ],
   "source": [
    "#Example usage:\n",
    "obj = MyStack()\n",
    "obj.push(1)\n",
    "obj.push(2)\n",
    "obj.push(3)\n",
    "\n",
    "print(obj.pop())  # Output: 3\n",
    "print(obj.top())  # Output: 2\n",
    "print(obj.empty())  # Output: False\n",
    "\n",
    "obj.pop()\n",
    "obj.pop()"
   ]
  },
  {
   "cell_type": "code",
   "execution_count": null,
   "id": "358e5147",
   "metadata": {},
   "outputs": [],
   "source": []
  }
 ],
 "metadata": {
  "kernelspec": {
   "display_name": "Python 3 (ipykernel)",
   "language": "python",
   "name": "python3"
  },
  "language_info": {
   "codemirror_mode": {
    "name": "ipython",
    "version": 3
   },
   "file_extension": ".py",
   "mimetype": "text/x-python",
   "name": "python",
   "nbconvert_exporter": "python",
   "pygments_lexer": "ipython3",
   "version": "3.12.4"
  }
 },
 "nbformat": 4,
 "nbformat_minor": 5
}
