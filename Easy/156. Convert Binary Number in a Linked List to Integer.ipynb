{
 "cells": [
  {
   "cell_type": "code",
   "execution_count": 1,
   "id": "3078f8ec",
   "metadata": {},
   "outputs": [],
   "source": [
    "# Definition for singly-linked list.\n",
    "class ListNode(object):\n",
    "    def __init__(self, val=0, next=None):\n",
    "        self.val = val\n",
    "        self.next = next\n",
    "\n",
    "class Solution(object):\n",
    "    def getDecimalValue(self, head):\n",
    "        \"\"\"\n",
    "        :type head: ListNode\n",
    "        :rtype: int\n",
    "        \"\"\"\n",
    "        curnum = head.val\n",
    "        while head.next:\n",
    "            curnum = curnum * 2 + head.next.val            \n",
    "            head = head.next\n",
    "        return curnum\n",
    "    \n",
    "#Time: O(N) - to traverse every N nodes in list\n",
    "#Space: O(1) - constant space"
   ]
  },
  {
   "cell_type": "code",
   "execution_count": 2,
   "id": "5e5e0a5d",
   "metadata": {},
   "outputs": [
    {
     "name": "stdout",
     "output_type": "stream",
     "text": [
      "5\n",
      "0\n",
      "29\n"
     ]
    }
   ],
   "source": [
    "# Helper function to create a linked list from a list\n",
    "def create_linked_list(lst):\n",
    "    if not lst:\n",
    "        return None\n",
    "    head = ListNode(lst[0])\n",
    "    current = head\n",
    "    for val in lst[1:]:\n",
    "        current.next = ListNode(val)\n",
    "        current = current.next\n",
    "    return head\n",
    "\n",
    "# Example 1\n",
    "# Input: head = [1, 0, 1]\n",
    "# Output: 5\n",
    "\n",
    "# Create linked list\n",
    "head1 = create_linked_list([1, 0, 1])\n",
    "# Create Solution object\n",
    "solution = Solution()\n",
    "# Get decimal value\n",
    "result1 = solution.getDecimalValue(head1)\n",
    "print(result1)  # Output: 5\n",
    "\n",
    "# Example 2\n",
    "# Input: head = [0]\n",
    "# Output: 0\n",
    "\n",
    "# Create linked list\n",
    "head2 = create_linked_list([0])\n",
    "# Get decimal value\n",
    "result2 = solution.getDecimalValue(head2)\n",
    "print(result2)  # Output: 0\n",
    "\n",
    "# Example 3\n",
    "# Input: head = [1, 1, 1, 0, 1]\n",
    "# Output: 29\n",
    "\n",
    "# Create linked list\n",
    "head3 = create_linked_list([1, 1, 1, 0, 1])\n",
    "# Get decimal value\n",
    "result3 = solution.getDecimalValue(head3)\n",
    "print(result3)  # Output: 29"
   ]
  },
  {
   "cell_type": "code",
   "execution_count": null,
   "id": "31c3d81b",
   "metadata": {},
   "outputs": [],
   "source": []
  }
 ],
 "metadata": {
  "kernelspec": {
   "display_name": "Python 3",
   "language": "python",
   "name": "python3"
  },
  "language_info": {
   "codemirror_mode": {
    "name": "ipython",
    "version": 3
   },
   "file_extension": ".py",
   "mimetype": "text/x-python",
   "name": "python",
   "nbconvert_exporter": "python",
   "pygments_lexer": "ipython3",
   "version": "3.8.8"
  }
 },
 "nbformat": 4,
 "nbformat_minor": 5
}
