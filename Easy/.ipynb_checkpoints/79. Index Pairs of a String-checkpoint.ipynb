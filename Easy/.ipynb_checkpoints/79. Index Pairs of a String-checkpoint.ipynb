{
 "cells": [
  {
   "cell_type": "code",
   "execution_count": 4,
   "id": "04448fbc",
   "metadata": {},
   "outputs": [],
   "source": [
    "class TrieNode:\n",
    "    def __init__(self):\n",
    "        self.children = {}\n",
    "        self.end = False\n",
    "\n",
    "class Trie:\n",
    "    def __init__(self):\n",
    "        self.root = TrieNode()\n",
    "    \n",
    "    def insert(self, word):\n",
    "        cur = self.root\n",
    "        for c in word:\n",
    "            if c not in cur.children:\n",
    "                cur.children[c] = TrieNode()\n",
    "            cur = cur.children[c]\n",
    "        cur.end = True\n",
    "\n",
    "class Solution(object):\n",
    "    def indexPairs(self, text, words):\n",
    "        \"\"\"\n",
    "        :type text: str\n",
    "        :type words: List[str]\n",
    "        :rtype: List[List[int]]\n",
    "        \"\"\"\n",
    "        trie = Trie()\n",
    "        for word in words:\n",
    "            trie.insert(word)\n",
    "\n",
    "        res = []\n",
    "        for i in range(len(text)):\n",
    "            cur = trie.root\n",
    "            for j in range(i, len(text)):\n",
    "                if text[j] not in cur.children:\n",
    "                    break\n",
    "                cur = cur.children[text[j]]\n",
    "                if cur.end:\n",
    "                    res.append([i,j])\n",
    "        return res"
   ]
  },
  {
   "cell_type": "code",
   "execution_count": 5,
   "id": "da8f3cdc",
   "metadata": {},
   "outputs": [
    {
     "name": "stdout",
     "output_type": "stream",
     "text": [
      "[[3, 7], [9, 13], [10, 17]]\n"
     ]
    }
   ],
   "source": [
    "solution = Solution()\n",
    "text = \"thestoryofleetcodeandme\"\n",
    "words = [\"story\",\"fleet\",\"leetcode\"]\n",
    "print(solution.indexPairs(text, words))  # Output: [[3, 7], [9, 13], [10, 17]]"
   ]
  },
  {
   "cell_type": "markdown",
   "id": "2dc35f70",
   "metadata": {},
   "source": [
    "m denote text.length, \n",
    "n denote words.length, and \n",
    "s as the average length of the words.\n",
    "\n",
    "Time complexity: O(n⋅s+m2)\n",
    "we need O(n⋅s)to build our data structure (the trie). Then, we iterate over O(m^2) index pairs. This time, instead of performing O(m) substring operations at each index pair, we only need O(1). This gives us a total time complexity of O(n⋅s+m2)\n",
    "Note that this time complexity is only in the worst case, and in reality, this algorithm will be much more efficient because most index pairs will be skipped.\n",
    "\n",
    "Space complexity: O(n⋅s)\n",
    "In the worst case scenario, each letter of each word in words will have its own node in the trie. There are n⋅stotal letters."
   ]
  },
  {
   "cell_type": "code",
   "execution_count": null,
   "id": "7318b809",
   "metadata": {},
   "outputs": [],
   "source": []
  }
 ],
 "metadata": {
  "kernelspec": {
   "display_name": "Python 3",
   "language": "python",
   "name": "python3"
  },
  "language_info": {
   "codemirror_mode": {
    "name": "ipython",
    "version": 3
   },
   "file_extension": ".py",
   "mimetype": "text/x-python",
   "name": "python",
   "nbconvert_exporter": "python",
   "pygments_lexer": "ipython3",
   "version": "3.8.8"
  }
 },
 "nbformat": 4,
 "nbformat_minor": 5
}
