{
 "cells": [
  {
   "cell_type": "code",
   "execution_count": 2,
   "id": "2174ff16-14db-4efa-87d0-45db8379e60a",
   "metadata": {},
   "outputs": [
    {
     "name": "stdout",
     "output_type": "stream",
     "text": [
      "a\n",
      "None\n",
      "None\n"
     ]
    }
   ],
   "source": [
    "class BinaryTree:\n",
    "    def __init__(self, value):\n",
    "        self.value = value\n",
    "        self.left_child = None\n",
    "        self.right_child = None\n",
    "\n",
    "tree = BinaryTree('a')\n",
    "print(tree.value) # a\n",
    "print(tree.left_child) # None\n",
    "print(tree.right_child) # None"
   ]
  },
  {
   "cell_type": "code",
   "execution_count": 6,
   "id": "1fd948cb-8167-4b61-8087-2d32ab55bd6e",
   "metadata": {},
   "outputs": [
    {
     "name": "stdout",
     "output_type": "stream",
     "text": [
      "a\n",
      "b\n",
      "c\n",
      "d\n",
      "e\n",
      "f\n"
     ]
    }
   ],
   "source": [
    "class BinaryTree:\n",
    "    def __init__(self, value):\n",
    "        self.value = value\n",
    "        self.left_child = None\n",
    "        self.right_child = None\n",
    "\n",
    "    def insert_left(self, value):\n",
    "        if self.left_child == None:\n",
    "            self.left_child = BinaryTree(value)\n",
    "        else:\n",
    "            new_node = BinaryTree(value)\n",
    "            new_node.left_child = self.left_child\n",
    "            self.left_child = new_node\n",
    "    \n",
    "    \n",
    "    def insert_right(self, value):\n",
    "        if self.right_child == None:\n",
    "            self.right_child = BinaryTree(value)\n",
    "        else:\n",
    "            new_node = BinaryTree(value)\n",
    "            new_node.right_child = self.right_child\n",
    "            self.right_child = new_node\n",
    "\n",
    "\n",
    "a_node = BinaryTree('a')\n",
    "a_node.insert_left('b')\n",
    "a_node.insert_right('c')\n",
    "\n",
    "b_node = a_node.left_child\n",
    "b_node.insert_right('d')\n",
    "\n",
    "c_node = a_node.right_child\n",
    "c_node.insert_left('e')\n",
    "c_node.insert_right('f')\n",
    "\n",
    "d_node = b_node.right_child\n",
    "e_node = c_node.left_child\n",
    "f_node = c_node.right_child\n",
    "\n",
    "print(a_node.value) # a\n",
    "print(b_node.value) # b\n",
    "print(c_node.value) # c\n",
    "print(d_node.value) # d\n",
    "print(e_node.value) # e\n",
    "print(f_node.value) # f"
   ]
  },
  {
   "cell_type": "markdown",
   "id": "a099027a-63d8-4603-88e2-cc94130b74fa",
   "metadata": {},
   "source": [
    "Summary:\n",
    "Time Complexity:\n",
    "Creating a node or inserting a node (left or right) is O(1) per operation.\n",
    "\n",
    "\n",
    "Space Complexity:\n",
    "The space complexity for each node is O(1), but the total space complexity for the tree is O(n), where n is the number of nodes in the tree.\n",
    "\n",
    "\n",
    "       a\n",
    "      / \\\n",
    "     b   c\n",
    "      \\  / \\\n",
    "       d e  f\n"
   ]
  },
  {
   "cell_type": "code",
   "execution_count": null,
   "id": "c5a3e377-2c7e-4adc-8888-347d056d892a",
   "metadata": {},
   "outputs": [],
   "source": []
  }
 ],
 "metadata": {
  "kernelspec": {
   "display_name": "Python 3 (ipykernel)",
   "language": "python",
   "name": "python3"
  },
  "language_info": {
   "codemirror_mode": {
    "name": "ipython",
    "version": 3
   },
   "file_extension": ".py",
   "mimetype": "text/x-python",
   "name": "python",
   "nbconvert_exporter": "python",
   "pygments_lexer": "ipython3",
   "version": "3.12.4"
  }
 },
 "nbformat": 4,
 "nbformat_minor": 5
}
