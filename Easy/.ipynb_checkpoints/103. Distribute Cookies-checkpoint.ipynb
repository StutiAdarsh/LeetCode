{
 "cells": [
  {
   "cell_type": "code",
   "execution_count": 1,
   "id": "d41c9a7a",
   "metadata": {},
   "outputs": [],
   "source": [
    "class Solution(object):\n",
    "    def distributeCandies(self, candyType):\n",
    "        \"\"\"\n",
    "        :type candyType: List[int]\n",
    "        :rtype: int\n",
    "        \"\"\"\n",
    "        return min(len(set(candyType)), len(candyType)//2)\n",
    "    \n",
    "#Time: O(N) -adding N items to set requires O(N) time\n",
    "#Space: O(N) - the space complexity for creating the set, worst case for all N unique elements"
   ]
  },
  {
   "cell_type": "code",
   "execution_count": 3,
   "id": "ca85fe9d",
   "metadata": {},
   "outputs": [
    {
     "name": "stdout",
     "output_type": "stream",
     "text": [
      "Candies eatable:  3\n",
      "Candies eatable:  1\n"
     ]
    }
   ],
   "source": [
    "# Example usage:\n",
    "sol = Solution()\n",
    "print(\"Candies eatable: \", sol.distributeCandies([1, 1, 2, 2, 3, 3]))  # Output: 3\n",
    "print(\"Candies eatable: \", sol.distributeCandies([6,6,6,6]))  # Output: 1"
   ]
  },
  {
   "cell_type": "code",
   "execution_count": null,
   "id": "44a5907b",
   "metadata": {},
   "outputs": [],
   "source": []
  }
 ],
 "metadata": {
  "kernelspec": {
   "display_name": "Python 3",
   "language": "python",
   "name": "python3"
  },
  "language_info": {
   "codemirror_mode": {
    "name": "ipython",
    "version": 3
   },
   "file_extension": ".py",
   "mimetype": "text/x-python",
   "name": "python",
   "nbconvert_exporter": "python",
   "pygments_lexer": "ipython3",
   "version": "3.8.8"
  }
 },
 "nbformat": 4,
 "nbformat_minor": 5
}
