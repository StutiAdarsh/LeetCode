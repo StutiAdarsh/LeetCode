{
 "cells": [
  {
   "cell_type": "code",
   "execution_count": 1,
   "id": "0de48a0e",
   "metadata": {},
   "outputs": [
    {
     "name": "stdout",
     "output_type": "stream",
     "text": [
      "Case 1:  True\n",
      "Case 2:  False\n"
     ]
    }
   ],
   "source": [
    "class Solution(object):\n",
    "    def validMountainArray(self, arr):\n",
    "        \"\"\"\n",
    "        :type arr: List[int]\n",
    "        :rtype: bool\n",
    "        \"\"\"\n",
    "        n = len(arr)\n",
    "        i = 0\n",
    "\n",
    "        if len(arr) <3 and not arr:\n",
    "            return False\n",
    "\n",
    "        # walk up\n",
    "        while i < n-1 and arr[i] < arr[i+1]:\n",
    "            i += 1\n",
    "\n",
    "        # checking the peak - peak cannot be first or last\n",
    "        if i == 0 or i == n-1:\n",
    "            return False\n",
    "\n",
    "        # walk down\n",
    "        while i < n-1 and arr[i] > arr[i+1]:\n",
    "            i += 1\n",
    "\n",
    "        return i == n-1\n",
    "\n",
    "\n",
    "#Time Complexity :- O(N), where n is length of the array and we are traversing the array only once.\n",
    "#Space Complexity :- O(1) as we are not using any extra space\n",
    "\n",
    "\n",
    "#Input\n",
    "ob = Solution()\n",
    "print(\"Case 1: \", ob.validMountainArray([0,3,2,1]))\n",
    "print(\"Case 2: \", ob.validMountainArray([2,1]))"
   ]
  },
  {
   "cell_type": "code",
   "execution_count": null,
   "id": "16dfeccf",
   "metadata": {},
   "outputs": [],
   "source": []
  }
 ],
 "metadata": {
  "kernelspec": {
   "display_name": "Python 3",
   "language": "python",
   "name": "python3"
  },
  "language_info": {
   "codemirror_mode": {
    "name": "ipython",
    "version": 3
   },
   "file_extension": ".py",
   "mimetype": "text/x-python",
   "name": "python",
   "nbconvert_exporter": "python",
   "pygments_lexer": "ipython3",
   "version": "3.8.8"
  }
 },
 "nbformat": 4,
 "nbformat_minor": 5
}
