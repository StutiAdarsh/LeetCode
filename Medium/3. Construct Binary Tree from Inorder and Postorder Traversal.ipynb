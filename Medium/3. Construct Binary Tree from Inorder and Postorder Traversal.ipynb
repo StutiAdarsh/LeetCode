{
 "cells": [
  {
   "cell_type": "code",
   "execution_count": 1,
   "id": "326c6e2e",
   "metadata": {},
   "outputs": [],
   "source": [
    "# Definition for a binary tree node.\n",
    "class TreeNode(object):\n",
    "    def __init__(self, val=0, left=None, right=None):\n",
    "        self.val = val\n",
    "        self.left = left\n",
    "        self.right = right\n",
    "\n",
    "class Solution(object):\n",
    "    def buildTree(self, inorder, postorder):\n",
    "        def helper(in_left, in_right):            \n",
    "            # if there are no elements to construct subtrees\n",
    "            if in_left > in_right:\n",
    "                return None\n",
    "            \n",
    "            # pick up the last element as a root\n",
    "            val = postorder.pop()\n",
    "            root = TreeNode(val)\n",
    "\n",
    "            # root splits inorder list\n",
    "            # into left and right subtrees\n",
    "            index = idx_map[val]\n",
    " \n",
    "            # build the right subtree\n",
    "            root.right = helper(index + 1, in_right)\n",
    "            # build the left subtree\n",
    "            root.left = helper(in_left, index - 1)\n",
    "            return root\n",
    "        \n",
    "        # build a hashmap value -> its index\n",
    "        idx_map = {val:idx for idx, val in enumerate(inorder)} \n",
    "        return helper(0, len(inorder) - 1)\n",
    "\n",
    "#Time: O(N), time to construct entire tree with N nodes\n",
    "#Space: O(N), since we store the entire tree."
   ]
  },
  {
   "cell_type": "code",
   "execution_count": 2,
   "id": "76426893",
   "metadata": {},
   "outputs": [
    {
     "name": "stdout",
     "output_type": "stream",
     "text": [
      "Tree:  <__main__.TreeNode object at 0x000001988DE28FD0>\n"
     ]
    }
   ],
   "source": [
    "solution = Solution()\n",
    "\n",
    "print(\"Tree: \", solution.buildTree([9,3,15,20,7], [9,15,7,20,3]))"
   ]
  },
  {
   "cell_type": "code",
   "execution_count": 5,
   "id": "cbae326f",
   "metadata": {},
   "outputs": [
    {
     "name": "stdout",
     "output_type": "stream",
     "text": [
      "Tree:  <__main__.TreeNode object at 0x000001988DE4D5E0>\n"
     ]
    }
   ],
   "source": [
    "#Approach 2: Neat and clean solution - same logic as above\n",
    "class Solution(object):\n",
    "    def buildTree(self, inorder, postorder):\n",
    "        \"\"\"\n",
    "        :type inorder: List[int]\n",
    "        :type postorder: List[int]\n",
    "        :rtype: TreeNode\n",
    "        \"\"\"\n",
    "        # Base case\n",
    "        if not inorder:\n",
    "            return None\n",
    "        \n",
    "        # The last element of postorder list is the root\n",
    "        root_val = postorder.pop()\n",
    "        root = TreeNode(root_val)\n",
    "        \n",
    "        # Find the position of the root in the inorder list\n",
    "        inorder_index = inorder.index(root_val)\n",
    "        \n",
    "        # Recursively build the left and right subtrees\n",
    "        root.right = self.buildTree(inorder[inorder_index+1:], postorder)\n",
    "        root.left = self.buildTree(inorder[:inorder_index], postorder)\n",
    "        \n",
    "        return root\n",
    "\n",
    "solution = Solution()\n",
    "print(\"Tree: \", solution.buildTree([9,3,15,20,7], [9,15,7,20,3]))"
   ]
  },
  {
   "cell_type": "code",
   "execution_count": null,
   "id": "e785e917",
   "metadata": {},
   "outputs": [],
   "source": []
  }
 ],
 "metadata": {
  "kernelspec": {
   "display_name": "Python 3",
   "language": "python",
   "name": "python3"
  },
  "language_info": {
   "codemirror_mode": {
    "name": "ipython",
    "version": 3
   },
   "file_extension": ".py",
   "mimetype": "text/x-python",
   "name": "python",
   "nbconvert_exporter": "python",
   "pygments_lexer": "ipython3",
   "version": "3.8.8"
  }
 },
 "nbformat": 4,
 "nbformat_minor": 5
}
