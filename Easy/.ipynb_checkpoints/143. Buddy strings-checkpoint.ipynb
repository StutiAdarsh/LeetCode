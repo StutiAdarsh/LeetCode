{
 "cells": [
  {
   "cell_type": "code",
   "execution_count": 1,
   "id": "b43dfd1a",
   "metadata": {},
   "outputs": [],
   "source": [
    "class Solution(object):\n",
    "    def buddyStrings(self, s, goal):\n",
    "        \"\"\"\n",
    "        :type s: str\n",
    "        :type goal: str\n",
    "        :rtype: bool\n",
    "        \"\"\"\n",
    "        if len(s) != len(goal):\n",
    "            return False\n",
    "        \n",
    "        if s==goal and len(set(s)) < len(s):\n",
    "            return True\n",
    "        \n",
    "        pairs = []\n",
    "        for a,b in zip(s,goal):\n",
    "            if a!=b:\n",
    "                pairs.append((a,b))\n",
    "\n",
    "        return len(pairs)==2 and pairs[0]==pairs[1][::-1]\n",
    "   \n",
    "\n",
    "#Time: O(N)\n",
    "#where n is the length of the input strings s and goal.\n",
    "\n",
    "#Space: O(N) - constructs a list pairs to store the pairs of characters that are different between s and goal. \n",
    "#WORST case N size"
   ]
  },
  {
   "cell_type": "code",
   "execution_count": 2,
   "id": "f246ed31",
   "metadata": {},
   "outputs": [
    {
     "name": "stdout",
     "output_type": "stream",
     "text": [
      "True\n"
     ]
    }
   ],
   "source": [
    "# Create an instance of the Solution class\n",
    "sol = Solution()\n",
    "\n",
    "# Example usage\n",
    "s = \"ab\"\n",
    "goal = \"ba\"\n",
    "result = sol.buddyStrings(s, goal)\n",
    "print(result)  # This should print True"
   ]
  },
  {
   "cell_type": "code",
   "execution_count": null,
   "id": "973fcf50",
   "metadata": {},
   "outputs": [],
   "source": []
  }
 ],
 "metadata": {
  "kernelspec": {
   "display_name": "Python 3",
   "language": "python",
   "name": "python3"
  },
  "language_info": {
   "codemirror_mode": {
    "name": "ipython",
    "version": 3
   },
   "file_extension": ".py",
   "mimetype": "text/x-python",
   "name": "python",
   "nbconvert_exporter": "python",
   "pygments_lexer": "ipython3",
   "version": "3.8.8"
  }
 },
 "nbformat": 4,
 "nbformat_minor": 5
}
