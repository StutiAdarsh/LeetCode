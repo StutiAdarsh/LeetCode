{
 "cells": [
  {
   "cell_type": "code",
   "execution_count": 1,
   "id": "317b9b14",
   "metadata": {},
   "outputs": [],
   "source": [
    "# Definition for a binary tree node.\n",
    "class TreeNode(object):\n",
    "    def __init__(self, val=0, left=None, right=None):\n",
    "        self.val = val\n",
    "        self.left = left\n",
    "        self.right = right\n",
    "\n",
    "class Solution(object):\n",
    "    def invertTree(self, root):\n",
    "        \"\"\"\n",
    "        :type root: TreeNode\n",
    "        :rtype: TreeNode\n",
    "        \"\"\"\n",
    "        if not root:\n",
    "            return None\n",
    "        \n",
    "        root.left, root.right = self.invertTree(root.right), self.invertTree(root.left)\n",
    "        return root\n",
    "    \n",
    "#Time: O(N) to traverse all tree DFS -TD\n",
    "#Space: O(N) to store N nodes in recursive stack"
   ]
  },
  {
   "cell_type": "code",
   "execution_count": 3,
   "id": "5f0d9621",
   "metadata": {},
   "outputs": [
    {
     "name": "stdout",
     "output_type": "stream",
     "text": [
      "Root: 4\n",
      "  Left: 7\n",
      "    Left: 9\n",
      "    Right: 6\n",
      "  Right: 2\n",
      "    Left: 3\n",
      "    Right: 1\n"
     ]
    }
   ],
   "source": [
    "# Define the binary tree\n",
    "root = TreeNode(4)\n",
    "root.left = TreeNode(2)\n",
    "root.right = TreeNode(7)\n",
    "root.left.left = TreeNode(1)\n",
    "root.left.right = TreeNode(3)\n",
    "root.right.left = TreeNode(6)\n",
    "root.right.right = TreeNode(9)\n",
    "\n",
    "# Create an instance of the Solution class\n",
    "sol = Solution()\n",
    "\n",
    "# Call the invertTree method\n",
    "inverted_root = sol.invertTree(root)\n",
    "\n",
    "def print_tree(node, level=0, label='Root'):\n",
    "    if node:\n",
    "        print('  ' * level + f'{label}: {node.val}')\n",
    "        print_tree(node.left, level + 1, 'Left')\n",
    "        print_tree(node.right, level + 1, 'Right')\n",
    "        \n",
    "print_tree(inverted_root)"
   ]
  },
  {
   "cell_type": "code",
   "execution_count": null,
   "id": "488238e8",
   "metadata": {},
   "outputs": [],
   "source": []
  }
 ],
 "metadata": {
  "kernelspec": {
   "display_name": "Python 3",
   "language": "python",
   "name": "python3"
  },
  "language_info": {
   "codemirror_mode": {
    "name": "ipython",
    "version": 3
   },
   "file_extension": ".py",
   "mimetype": "text/x-python",
   "name": "python",
   "nbconvert_exporter": "python",
   "pygments_lexer": "ipython3",
   "version": "3.8.8"
  }
 },
 "nbformat": 4,
 "nbformat_minor": 5
}
