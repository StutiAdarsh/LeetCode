{
 "cells": [
  {
   "cell_type": "code",
   "execution_count": 1,
   "id": "c60a16a6",
   "metadata": {},
   "outputs": [],
   "source": [
    "# Definition for a binary tree node.\n",
    "class TreeNode(object):\n",
    "    def __init__(self, x):\n",
    "        self.val = x\n",
    "        self.left = None\n",
    "        self.right = None\n",
    "\n",
    "class Solution(object):\n",
    "    def inorderSuccessor(self, root, p):\n",
    "        \"\"\"\n",
    "        :type root: TreeNode\n",
    "        :type p: TreeNode\n",
    "        :rtype: TreeNode\n",
    "        \"\"\"\n",
    "        successor = None\n",
    "        while root:\n",
    "            if p.val >= root.val:\n",
    "                root = root.right\n",
    "            else:\n",
    "                successor = root\n",
    "                root = root.left\n",
    "        return successor\n",
    "    \n",
    "#Time: O(N) - worst case traverse each node once hence O(N)\n",
    "#Space: O(1) -  since we don't use recursion or any other data structures for getting our successor."
   ]
  },
  {
   "cell_type": "code",
   "execution_count": 3,
   "id": "1d462d0e",
   "metadata": {},
   "outputs": [
    {
     "name": "stdout",
     "output_type": "stream",
     "text": [
      "Inorder successor of 4 is:  5\n"
     ]
    }
   ],
   "source": [
    "# Example usage:\n",
    "# Create a binary search tree\n",
    "root = TreeNode(5)\n",
    "root.left = TreeNode(3)\n",
    "root.right = TreeNode(8)\n",
    "root.left.left = TreeNode(2)\n",
    "root.left.right = TreeNode(4)\n",
    "root.right.left = TreeNode(6)\n",
    "root.right.right = TreeNode(9)\n",
    "\n",
    "# Create an instance of the Solution class\n",
    "sol = Solution()\n",
    "\n",
    "# Find the inorder successor of a target node\n",
    "p = root.left.right\n",
    "successor = sol.inorderSuccessor(root, p)\n",
    "\n",
    "# Print the value of the successor node\n",
    "if successor:\n",
    "    print(\"Inorder successor of\", p.val, \"is: \", successor.val)\n",
    "else:\n",
    "    print(\"There is no inorder successor for\", p.val)"
   ]
  },
  {
   "cell_type": "code",
   "execution_count": null,
   "id": "41c81552",
   "metadata": {},
   "outputs": [],
   "source": []
  }
 ],
 "metadata": {
  "kernelspec": {
   "display_name": "Python 3",
   "language": "python",
   "name": "python3"
  },
  "language_info": {
   "codemirror_mode": {
    "name": "ipython",
    "version": 3
   },
   "file_extension": ".py",
   "mimetype": "text/x-python",
   "name": "python",
   "nbconvert_exporter": "python",
   "pygments_lexer": "ipython3",
   "version": "3.8.8"
  }
 },
 "nbformat": 4,
 "nbformat_minor": 5
}
