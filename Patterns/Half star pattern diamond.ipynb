{
 "cells": [
  {
   "cell_type": "code",
   "execution_count": 4,
   "id": "094b5fab",
   "metadata": {},
   "outputs": [
    {
     "name": "stdout",
     "output_type": "stream",
     "text": [
      "Enter rows: 5\n",
      "*\n",
      "**\n",
      "***\n",
      "****\n",
      "*****\n",
      "****\n",
      "***\n",
      "**\n",
      "*\n"
     ]
    }
   ],
   "source": [
    "n = int(input(\"Enter rows: \"))\n",
    "#upward\n",
    "for i in range(n):\n",
    "    #star: i + 1\n",
    "    for j in range(i+1):\n",
    "        print(\"*\", end=\"\")\n",
    "    print()\n",
    "\n",
    "#downward \n",
    "for i in range(n-1):\n",
    "    #star: n-i-1\n",
    "    for j in range(n-i-1):\n",
    "        print(\"*\", end=\"\")\n",
    "    print()\n",
    "    \n",
    "#Time: O(n^2)\n",
    "#Space: O(1)"
   ]
  },
  {
   "cell_type": "code",
   "execution_count": 3,
   "id": "61fe8148",
   "metadata": {},
   "outputs": [
    {
     "name": "stdout",
     "output_type": "stream",
     "text": [
      "Enter rows: 5\n",
      "*\n",
      "**\n",
      "***\n",
      "****\n",
      "*****\n",
      "****\n",
      "***\n",
      "**\n",
      "*\n"
     ]
    }
   ],
   "source": [
    "#Approach 2\n",
    "n = int(input(\"Enter rows: \"))\n",
    "# Upward pyramid\n",
    "for i in range(n):\n",
    "    print(\"*\"*(i+1))\n",
    "# Downward pyramid\n",
    "for i in range(n-1):\n",
    "    print(\"*\"* (n-i-1))"
   ]
  },
  {
   "cell_type": "code",
   "execution_count": null,
   "id": "20717d06",
   "metadata": {},
   "outputs": [],
   "source": []
  }
 ],
 "metadata": {
  "kernelspec": {
   "display_name": "Python 3",
   "language": "python",
   "name": "python3"
  },
  "language_info": {
   "codemirror_mode": {
    "name": "ipython",
    "version": 3
   },
   "file_extension": ".py",
   "mimetype": "text/x-python",
   "name": "python",
   "nbconvert_exporter": "python",
   "pygments_lexer": "ipython3",
   "version": "3.8.8"
  }
 },
 "nbformat": 4,
 "nbformat_minor": 5
}
