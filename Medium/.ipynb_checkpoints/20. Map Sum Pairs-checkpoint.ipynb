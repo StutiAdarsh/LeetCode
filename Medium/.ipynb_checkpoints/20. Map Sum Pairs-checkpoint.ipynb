{
 "cells": [
  {
   "cell_type": "code",
   "execution_count": 1,
   "id": "620d5af9",
   "metadata": {},
   "outputs": [],
   "source": [
    "class TrieNode(object):\n",
    "    def __init__(self):\n",
    "        self.children = {}\n",
    "        self.prefix_count = 0\n",
    "\n",
    "class MapSum(object):\n",
    "    def __init__(self):\n",
    "        self.root = TrieNode()\n",
    "        self.dic = {}\n",
    "\n",
    "    def insert(self, key, val):\n",
    "        \"\"\"\n",
    "        :type key: str\n",
    "        :type val: int\n",
    "        :rtype: None\n",
    "        \"\"\"\n",
    "        delta = val\n",
    "        if key in self.dic:\n",
    "            delta = val - self.dic[key]\n",
    "        self.dic[key] = val\n",
    "\n",
    "        cur = self.root\n",
    "        for c in key:\n",
    "            if c not in cur.children:\n",
    "                cur.children[c] = TrieNode()\n",
    "            cur = cur.children[c]\n",
    "            cur.prefix_count += delta\n",
    "        \n",
    "\n",
    "    def sum(self, prefix):\n",
    "        \"\"\"\n",
    "        :type prefix: str\n",
    "        :rtype: int\n",
    "        \"\"\"\n",
    "        cur = self.root\n",
    "        for c in prefix:\n",
    "            if c not in cur.children:\n",
    "                return 0\n",
    "            cur = cur.children[c]\n",
    "        return cur.prefix_count\n",
    "        \n",
    "\n",
    "\n",
    "# Your MapSum object will be instantiated and called as such:\n",
    "# obj = MapSum()\n",
    "# obj.insert(key,val)\n",
    "# param_2 = obj.sum(prefix)"
   ]
  },
  {
   "cell_type": "markdown",
   "id": "f7684b13",
   "metadata": {},
   "source": [
    "Time Complexity: Every insert operation is O(K), where K is the length of the key. Every sum operation is O(K).\n",
    "\n",
    "Space Complexity: The space used is linear in the size of the total input."
   ]
  },
  {
   "cell_type": "code",
   "execution_count": 2,
   "id": "80232ef0",
   "metadata": {},
   "outputs": [
    {
     "name": "stdout",
     "output_type": "stream",
     "text": [
      "5\n",
      "5\n"
     ]
    }
   ],
   "source": [
    "# Create a MapSum object\n",
    "obj = MapSum()\n",
    "\n",
    "# Insert key-value pairs\n",
    "obj.insert(\"apple\", 3)\n",
    "obj.insert(\"app\", 2)\n",
    "\n",
    "# Calculate the sum of values for a given prefix\n",
    "print(obj.sum(\"app\"))    # Output: 5 (sum of values for \"apple\" and \"app\")\n",
    "print(obj.sum(\"ap\"))    # Output: 5 \n"
   ]
  },
  {
   "cell_type": "code",
   "execution_count": null,
   "id": "b62cdc5b",
   "metadata": {},
   "outputs": [],
   "source": []
  }
 ],
 "metadata": {
  "kernelspec": {
   "display_name": "Python 3",
   "language": "python",
   "name": "python3"
  },
  "language_info": {
   "codemirror_mode": {
    "name": "ipython",
    "version": 3
   },
   "file_extension": ".py",
   "mimetype": "text/x-python",
   "name": "python",
   "nbconvert_exporter": "python",
   "pygments_lexer": "ipython3",
   "version": "3.8.8"
  }
 },
 "nbformat": 4,
 "nbformat_minor": 5
}
