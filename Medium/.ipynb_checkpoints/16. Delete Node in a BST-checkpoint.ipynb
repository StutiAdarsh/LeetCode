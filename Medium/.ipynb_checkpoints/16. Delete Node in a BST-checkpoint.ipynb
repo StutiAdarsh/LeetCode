{
 "cells": [
  {
   "cell_type": "code",
   "execution_count": 1,
   "id": "f5f16418",
   "metadata": {},
   "outputs": [],
   "source": [
    "# Definition for a binary tree node.\n",
    "class TreeNode(object):\n",
    "    def __init__(self, val=0, left=None, right=None):\n",
    "        self.val = val\n",
    "        self.left = left\n",
    "        self.right = right\n",
    "\n",
    "class Solution(object):\n",
    "    def deleteNode(self, root, key):  \n",
    "        if not root:\n",
    "            return None\n",
    "        if key > root.val:\n",
    "            root.right = self.deleteNode(root.right, key)\n",
    "        elif key < root.val:\n",
    "            root.left = self.deleteNode(root.left, key)\n",
    "        else:\n",
    "            if not root.left and not root.right:\n",
    "                root = None\n",
    "            elif root.right:\n",
    "                root.val = self.successor(root)\n",
    "                root.right = self.deleteNode(root.right, root.val)\n",
    "            else:\n",
    "                root.val = self.predecessor(root)\n",
    "                root.left = self.deleteNode(root.left, root.val)\n",
    "        return root\n",
    "\n",
    "    def successor(self, root):\n",
    "        root = root.right\n",
    "        while root.left:\n",
    "            root = root.left\n",
    "        return root.val\n",
    "\n",
    "    def predecessor(self, root):\n",
    "        root = root.left\n",
    "        while root.right:\n",
    "            root = root.right\n",
    "        return root.val\n",
    "\n",
    "#Time: O(H)\n",
    "#O(H) time complexity, where H is a tree height, equal to log⁡N in the case of the balanced tree. to traverse down the height to \n",
    "#find and delete the node\n",
    "\n",
    "#Space: O(H)\n",
    "#O(H) to keep the recursion stack, where H is a tree height. \n",
    "#H=log⁡N for the balanced tree."
   ]
  },
  {
   "cell_type": "code",
   "execution_count": 10,
   "id": "b94aec02",
   "metadata": {},
   "outputs": [
    {
     "name": "stdout",
     "output_type": "stream",
     "text": [
      "New Root: \n",
      "2 4 5 6 7 "
     ]
    }
   ],
   "source": [
    "def printInorderTree(root):\n",
    "    if not root:\n",
    "        return\n",
    "    printInorderTree(root.left)\n",
    "    print(root.val, end=\" \")\n",
    "    printInorderTree(root.right)\n",
    "\n",
    "# Example usage:\n",
    "# Create a binary search tree\n",
    "root = TreeNode(5)\n",
    "root.left = TreeNode(3)\n",
    "root.right = TreeNode(6)\n",
    "root.left.left = TreeNode(2)\n",
    "root.left.right = TreeNode(4)\n",
    "root.right.right = TreeNode(7)\n",
    "\n",
    "# Create an instance of the Solution class\n",
    "sol = Solution()\n",
    "\n",
    "# Delete node with value 3\n",
    "new_root = sol.deleteNode(root, 3)\n",
    "\n",
    "# Print the modified BST\n",
    "print(\"New Root: \")\n",
    "printInorderTree(new_root)"
   ]
  },
  {
   "cell_type": "code",
   "execution_count": null,
   "id": "6485b56a",
   "metadata": {},
   "outputs": [],
   "source": []
  }
 ],
 "metadata": {
  "kernelspec": {
   "display_name": "Python 3",
   "language": "python",
   "name": "python3"
  },
  "language_info": {
   "codemirror_mode": {
    "name": "ipython",
    "version": 3
   },
   "file_extension": ".py",
   "mimetype": "text/x-python",
   "name": "python",
   "nbconvert_exporter": "python",
   "pygments_lexer": "ipython3",
   "version": "3.8.8"
  }
 },
 "nbformat": 4,
 "nbformat_minor": 5
}
