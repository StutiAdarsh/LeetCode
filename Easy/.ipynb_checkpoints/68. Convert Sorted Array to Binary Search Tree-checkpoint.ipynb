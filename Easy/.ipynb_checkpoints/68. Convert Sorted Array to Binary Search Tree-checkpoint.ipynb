{
 "cells": [
  {
   "cell_type": "code",
   "execution_count": 1,
   "id": "7a0005e6",
   "metadata": {},
   "outputs": [],
   "source": [
    "# Definition for a binary tree node.\n",
    "class TreeNode(object):\n",
    "    def __init__(self, val=0, left=None, right=None):\n",
    "        self.val = val\n",
    "        self.left = left\n",
    "        self.right = right\n",
    "\n",
    "class Solution(object):\n",
    "    def sortedArrayToBST(self, nums):\n",
    "        \"\"\"\n",
    "        :type nums: List[int]\n",
    "        :rtype: TreeNode\n",
    "        \"\"\"\n",
    "        def helper(left, right):\n",
    "            if left > right:\n",
    "                return None\n",
    "            \n",
    "            mid = (left + right) // 2\n",
    "            root = TreeNode(nums[mid])\n",
    "            root.left = helper(left, mid-1)\n",
    "            root.right = helper(mid+1,right)\n",
    "            return root\n",
    "        \n",
    "        return helper(0, len(nums)-1)\n",
    "    \n",
    "#Time: O(n) - since we visit each node exactly once - DFS TD\n",
    "#Space: O(log n) - The recursion stack requires O(log⁡N) space because the tree is height-balanced. \n",
    "#Note that the O(N) space used to store the output does not count as auxiliary space, \n",
    "#so it is not included in the space complexity."
   ]
  },
  {
   "cell_type": "code",
   "execution_count": 2,
   "id": "9edebfa7",
   "metadata": {},
   "outputs": [
    {
     "name": "stdout",
     "output_type": "stream",
     "text": [
      "-10 -3 0 5 9 "
     ]
    }
   ],
   "source": [
    "# Create an instance of the Solution class\n",
    "sol = Solution()\n",
    "\n",
    "# Input sorted array\n",
    "nums = [-10, -3, 0, 5, 9]\n",
    "\n",
    "# Call the sortedArrayToBST method\n",
    "root = sol.sortedArrayToBST(nums)\n",
    "\n",
    "# Function to print the inorder traversal of the binary tree\n",
    "def inorder_traversal(node):\n",
    "    if node:\n",
    "        inorder_traversal(node.left)\n",
    "        print(node.val, end=\" \")\n",
    "        inorder_traversal(node.right)\n",
    "\n",
    "# Print the inorder traversal of the constructed binary search tree\n",
    "inorder_traversal(root)"
   ]
  },
  {
   "cell_type": "code",
   "execution_count": null,
   "id": "9988bb69",
   "metadata": {},
   "outputs": [],
   "source": []
  }
 ],
 "metadata": {
  "kernelspec": {
   "display_name": "Python 3",
   "language": "python",
   "name": "python3"
  },
  "language_info": {
   "codemirror_mode": {
    "name": "ipython",
    "version": 3
   },
   "file_extension": ".py",
   "mimetype": "text/x-python",
   "name": "python",
   "nbconvert_exporter": "python",
   "pygments_lexer": "ipython3",
   "version": "3.8.8"
  }
 },
 "nbformat": 4,
 "nbformat_minor": 5
}
