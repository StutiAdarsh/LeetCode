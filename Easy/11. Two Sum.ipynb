{
 "cells": [
  {
   "cell_type": "code",
   "execution_count": 3,
   "id": "5a5ef3ff",
   "metadata": {
    "editable": true,
    "slideshow": {
     "slide_type": ""
    },
    "tags": []
   },
   "outputs": [
    {
     "name": "stdout",
     "output_type": "stream",
     "text": [
      "[0, 1]\n"
     ]
    }
   ],
   "source": [
    "class Solution(object):\n",
    "    def twoSum(nums, target):\n",
    "        \"\"\"\n",
    "        :type nums: List[int]\n",
    "        :type target: int\n",
    "        :rtype: List[int]\n",
    "        \"\"\" \n",
    "\n",
    "        seen = {}\n",
    "        for id, val in enumerate(nums):\n",
    "            diff = target - val\n",
    "            if diff in seen:\n",
    "                return [seen[diff], id]\n",
    "            seen[val] = id\n",
    "\n",
    "#Input\n",
    "print(Solution.twoSum(nums = [2,7,11,15], target = 9))\n",
    "\n",
    "\n",
    "\n",
    "#Time complexity: O(n)\n",
    "#We traverse the list containing n elements only once. \n",
    "#Each lookup in the table costs only O(1) time.\n",
    "\n",
    "#Space complexity: O(n)\n",
    "#The extra space required depends on the number of items \n",
    "#stored in the hash table, which stores at most n elements."
   ]
  },
  {
   "cell_type": "code",
   "execution_count": 17,
   "id": "a5bd5fbd",
   "metadata": {},
   "outputs": [
    {
     "name": "stdout",
     "output_type": "stream",
     "text": [
      "[0, 1]\n"
     ]
    }
   ],
   "source": [
    "class Solution(object):\n",
    "    def twoSum(numbers, target):\n",
    "        low = 0\n",
    "        high = len(numbers) - 1\n",
    "        while low < high:\n",
    "            sum = numbers[low] + numbers[high]\n",
    "\n",
    "            if sum == target:\n",
    "                return [low, high]\n",
    "            elif sum < target:\n",
    "                low += 1\n",
    "            else:\n",
    "                high -= 1\n",
    "        # In case there is no solution, return [-1, -1].\n",
    "        return [-1, -1]\n",
    "\n",
    "#Input\n",
    "print(Solution.twoSum(numbers = [2,7,11,15], target = 9))\n",
    "\n",
    "\n",
    "\n",
    "#Time complexity: O(n)\n",
    "#The input array is traversed at most once. Thus the time complexity is O(n).\n",
    "\n",
    "#Space complexity: O(1).\n",
    "#We only use additional space to store two indices and the sum, so the space complexity is O(1)."
   ]
  }
 ],
 "metadata": {
  "kernelspec": {
   "display_name": "Python 3 (ipykernel)",
   "language": "python",
   "name": "python3"
  },
  "language_info": {
   "codemirror_mode": {
    "name": "ipython",
    "version": 3
   },
   "file_extension": ".py",
   "mimetype": "text/x-python",
   "name": "python",
   "nbconvert_exporter": "python",
   "pygments_lexer": "ipython3",
   "version": "3.12.4"
  }
 },
 "nbformat": 4,
 "nbformat_minor": 5
}
