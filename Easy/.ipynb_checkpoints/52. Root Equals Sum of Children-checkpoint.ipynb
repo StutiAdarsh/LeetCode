{
 "cells": [
  {
   "cell_type": "code",
   "execution_count": 1,
   "id": "677e71ee",
   "metadata": {},
   "outputs": [],
   "source": [
    "# Definition for a binary tree node.\n",
    "class TreeNode(object):\n",
    "    def __init__(self, val=0, left=None, right=None):\n",
    "        self.val = val\n",
    "        self.left = left\n",
    "        self.right = right\n",
    "\n",
    "class Solution(object):\n",
    "    def checkTree(self, root):\n",
    "        \"\"\"\n",
    "        :type root: Optional[TreeNode]\n",
    "        :rtype: bool\n",
    "        \"\"\"\n",
    "        return root.val == (root.left.val + root.right.val)\n",
    "    \n",
    "#Time: O(1) - It performs a single comparison to check \n",
    "#whether the value of the root node equals the sum of values of its left and right children.\n",
    "#regardless of the size of the tree, the time complexity remains constant.\n",
    "#Hence, constant time complexity of O(1).\n",
    "\n",
    "#Space: O(1) - does not use any additional data structures that grow with the input size.\n",
    "#function only compares values and does not store any intermediate results or use recursion.\n",
    "#the space complexity remains constant regardless of the size of the tree."
   ]
  },
  {
   "cell_type": "code",
   "execution_count": 2,
   "id": "c997f41e",
   "metadata": {},
   "outputs": [
    {
     "name": "stdout",
     "output_type": "stream",
     "text": [
      "Is the tree valid? True\n"
     ]
    }
   ],
   "source": [
    "# Create a binary tree\n",
    "root = TreeNode(5)\n",
    "root.left = TreeNode(2)\n",
    "root.right = TreeNode(3)\n",
    "\n",
    "# Create an instance of the Solution class\n",
    "sol = Solution()\n",
    "\n",
    "# Call the checkTree method and print the output\n",
    "output = sol.checkTree(root)\n",
    "print(\"Is the tree valid?\", output)"
   ]
  },
  {
   "cell_type": "code",
   "execution_count": 3,
   "id": "eaf55bc8",
   "metadata": {},
   "outputs": [
    {
     "name": "stdout",
     "output_type": "stream",
     "text": [
      "Is the tree valid? False\n"
     ]
    }
   ],
   "source": [
    "# Create a binary tree\n",
    "root = TreeNode(5)\n",
    "root.left = TreeNode(1)\n",
    "root.right = TreeNode(3)\n",
    "\n",
    "# Create an instance of the Solution class\n",
    "sol = Solution()\n",
    "\n",
    "# Call the checkTree method and print the output\n",
    "output = sol.checkTree(root)\n",
    "print(\"Is the tree valid?\", output)"
   ]
  },
  {
   "cell_type": "code",
   "execution_count": null,
   "id": "00f5cb54",
   "metadata": {},
   "outputs": [],
   "source": []
  }
 ],
 "metadata": {
  "kernelspec": {
   "display_name": "Python 3",
   "language": "python",
   "name": "python3"
  },
  "language_info": {
   "codemirror_mode": {
    "name": "ipython",
    "version": 3
   },
   "file_extension": ".py",
   "mimetype": "text/x-python",
   "name": "python",
   "nbconvert_exporter": "python",
   "pygments_lexer": "ipython3",
   "version": "3.8.8"
  }
 },
 "nbformat": 4,
 "nbformat_minor": 5
}
