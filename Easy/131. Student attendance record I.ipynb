{
 "cells": [
  {
   "cell_type": "code",
   "execution_count": 1,
   "id": "7b7cb701",
   "metadata": {},
   "outputs": [],
   "source": [
    "class Solution(object):\n",
    "    def checkRecord(self, s):\n",
    "        \"\"\"\n",
    "        :type s: str\n",
    "        :rtype: bool\n",
    "        \"\"\"\n",
    "        return s.count('A') < 2 and 'LLL' not in s\n",
    "                \n",
    "        \n",
    "#Time: O(N) - for N length string\n",
    "#Space:O(1) because the function only uses a constant amount of extra space "
   ]
  },
  {
   "cell_type": "code",
   "execution_count": 2,
   "id": "f4ff0320",
   "metadata": {},
   "outputs": [
    {
     "name": "stdout",
     "output_type": "stream",
     "text": [
      "attendance:  True\n",
      "attendance:  False\n"
     ]
    }
   ],
   "source": [
    "sol = Solution()\n",
    "print(\"attendance: \", sol.checkRecord(s = \"PPALLP\"))\n",
    "print(\"attendance: \", sol.checkRecord(s = \"PPALLL\"))"
   ]
  },
  {
   "cell_type": "code",
   "execution_count": null,
   "id": "4286ebc1",
   "metadata": {},
   "outputs": [],
   "source": []
  }
 ],
 "metadata": {
  "kernelspec": {
   "display_name": "Python 3",
   "language": "python",
   "name": "python3"
  },
  "language_info": {
   "codemirror_mode": {
    "name": "ipython",
    "version": 3
   },
   "file_extension": ".py",
   "mimetype": "text/x-python",
   "name": "python",
   "nbconvert_exporter": "python",
   "pygments_lexer": "ipython3",
   "version": "3.8.8"
  }
 },
 "nbformat": 4,
 "nbformat_minor": 5
}
