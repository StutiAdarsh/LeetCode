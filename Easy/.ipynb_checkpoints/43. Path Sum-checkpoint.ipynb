{
 "cells": [
  {
   "cell_type": "code",
   "execution_count": 1,
   "id": "e3a44a5b",
   "metadata": {},
   "outputs": [],
   "source": [
    "# Definition for a binary tree node.\n",
    "class TreeNode(object):\n",
    "    def __init__(self, val=0, left=None, right=None):\n",
    "        self.val = val\n",
    "        self.left = left\n",
    "        self.right = right\n",
    "\n",
    "class Solution(object):\n",
    "    def hasPathSum(self, root, targetSum):\n",
    "        if not root:\n",
    "            return False\n",
    "\n",
    "        if not root.right and not root.left and root.val == targetSum:\n",
    "            return True\n",
    "\n",
    "        return self.hasPathSum(root.left, targetSum-root.val) or self.hasPathSum(root.right, targetSum-root.val)\n",
    "    \n",
    "#Time: O(N), to traverse each node once\n",
    "#Space: O(N), traverse from root to leaf for recursive stack for N nodes for depth of tree in worst case"
   ]
  },
  {
   "cell_type": "code",
   "execution_count": 3,
   "id": "32892c55",
   "metadata": {},
   "outputs": [
    {
     "name": "stdout",
     "output_type": "stream",
     "text": [
      "Path Sum? Ans:  True\n",
      "Path Sum? Ans:  False\n"
     ]
    }
   ],
   "source": [
    "root = TreeNode(1)\n",
    "root.left = TreeNode(2)\n",
    "root.right = TreeNode(2)\n",
    "root.left.left = TreeNode(3)\n",
    "root.left.right = TreeNode(4)\n",
    "root.right.left = TreeNode(4)\n",
    "root.right.right = TreeNode(5)\n",
    "\n",
    "solution = Solution()\n",
    "print(\"Path Sum? Ans: \", solution.hasPathSum(root, 6))\n",
    "print(\"Path Sum? Ans: \", solution.hasPathSum(root, 5))"
   ]
  },
  {
   "cell_type": "code",
   "execution_count": null,
   "id": "acbe652d",
   "metadata": {},
   "outputs": [],
   "source": []
  }
 ],
 "metadata": {
  "kernelspec": {
   "display_name": "Python 3",
   "language": "python",
   "name": "python3"
  },
  "language_info": {
   "codemirror_mode": {
    "name": "ipython",
    "version": 3
   },
   "file_extension": ".py",
   "mimetype": "text/x-python",
   "name": "python",
   "nbconvert_exporter": "python",
   "pygments_lexer": "ipython3",
   "version": "3.8.8"
  }
 },
 "nbformat": 4,
 "nbformat_minor": 5
}
