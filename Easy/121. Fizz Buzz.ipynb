{
 "cells": [
  {
   "cell_type": "code",
   "execution_count": 1,
   "id": "cf6bf9f3",
   "metadata": {},
   "outputs": [],
   "source": [
    "class Solution(object):\n",
    "    def fizzBuzz(self, n):\n",
    "        \"\"\"\n",
    "        :type n: int\n",
    "        :rtype: List[str]\n",
    "        \"\"\"\n",
    "        answer = []\n",
    "        for i in range(1,n+1):\n",
    "            if i%3 == 0 and i%5 == 0:\n",
    "                answer.append(\"FizzBuzz\")\n",
    "            elif i%3==0:\n",
    "                answer.append(\"Fizz\")\n",
    "            elif i%5==0:\n",
    "                answer.append(\"Buzz\")\n",
    "            else:\n",
    "                answer.append(str(i))\n",
    "        return answer   \n",
    "    \n",
    "#Time: O(n) - to iterate n times over input\n",
    "#Space: O(n) - grows to size n with input size growth"
   ]
  },
  {
   "cell_type": "code",
   "execution_count": 2,
   "id": "662cb9d5",
   "metadata": {},
   "outputs": [
    {
     "name": "stdout",
     "output_type": "stream",
     "text": [
      "['1', '2', 'Fizz', '4', 'Buzz', 'Fizz', '7', '8', 'Fizz', 'Buzz', '11', 'Fizz', '13', '14', 'FizzBuzz']\n"
     ]
    }
   ],
   "source": [
    "# Create an instance of the Solution class\n",
    "sol = Solution()\n",
    "\n",
    "# Call the fizzBuzz function with an input n = 15\n",
    "result = sol.fizzBuzz(15)\n",
    "\n",
    "# Print the result\n",
    "print(result)"
   ]
  },
  {
   "cell_type": "code",
   "execution_count": 3,
   "id": "5d7a462c",
   "metadata": {},
   "outputs": [
    {
     "name": "stdout",
     "output_type": "stream",
     "text": [
      "['1', '2', 'Fizz']\n"
     ]
    }
   ],
   "source": [
    "# Create an instance of the Solution class\n",
    "sol = Solution()\n",
    "\n",
    "# Call the fizzBuzz function with an input n = 15\n",
    "result = sol.fizzBuzz(3)\n",
    "\n",
    "# Print the result\n",
    "print(result)\n"
   ]
  },
  {
   "cell_type": "code",
   "execution_count": null,
   "id": "f090f2f8",
   "metadata": {},
   "outputs": [],
   "source": []
  }
 ],
 "metadata": {
  "kernelspec": {
   "display_name": "Python 3",
   "language": "python",
   "name": "python3"
  },
  "language_info": {
   "codemirror_mode": {
    "name": "ipython",
    "version": 3
   },
   "file_extension": ".py",
   "mimetype": "text/x-python",
   "name": "python",
   "nbconvert_exporter": "python",
   "pygments_lexer": "ipython3",
   "version": "3.8.8"
  }
 },
 "nbformat": 4,
 "nbformat_minor": 5
}
