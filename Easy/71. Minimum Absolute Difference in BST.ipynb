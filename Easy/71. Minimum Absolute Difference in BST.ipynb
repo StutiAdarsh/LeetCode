{
 "cells": [
  {
   "cell_type": "code",
   "execution_count": 1,
   "id": "da1da351",
   "metadata": {},
   "outputs": [],
   "source": [
    "# Definition for a binary tree node.\n",
    "class TreeNode(object):\n",
    "    def __init__(self, val=0, left=None, right=None):\n",
    "        self.val = val\n",
    "        self.left = left\n",
    "        self.right = right\n",
    "\n",
    "class Solution(object):\n",
    "    pre = None\n",
    "    res = float('inf')\n",
    "    def getMinimumDifference(self, root):\n",
    "        \"\"\"\n",
    "        :type root: TreeNode\n",
    "        :rtype: int\n",
    "        \"\"\"\n",
    "        if not root:\n",
    "            return\n",
    "\n",
    "        if root.left:\n",
    "            self.getMinimumDifference(root.left)\n",
    "\n",
    "        if self.pre:\n",
    "            self.res = min(self.res, abs(root.val - self.pre.val))\n",
    "        self.pre = root\n",
    "\n",
    "        if root.right:\n",
    "            self.getMinimumDifference(root.right)\n",
    "        \n",
    "        return self.res\n",
    "\n",
    "#Time: O(N) - We traverse once over each node of the BST using in-order traversal which takes O(n) time.\n",
    "#Space: O(N) - The maximum number of active stack calls at a time would be the tree's height, \n",
    "#which in the worst case would be O(n) when the tree is a straight line."
   ]
  },
  {
   "cell_type": "code",
   "execution_count": 2,
   "id": "8fb023fc",
   "metadata": {},
   "outputs": [
    {
     "name": "stdout",
     "output_type": "stream",
     "text": [
      "1\n"
     ]
    }
   ],
   "source": [
    "# Example usage\n",
    "if __name__ == \"__main__\":\n",
    "    # Create a binary search tree\n",
    "    root = TreeNode(4)\n",
    "    root.left = TreeNode(2)\n",
    "    root.right = TreeNode(6)\n",
    "    root.left.left = TreeNode(1)\n",
    "    root.left.right = TreeNode(3)\n",
    "\n",
    "    # Create an instance of the Solution class\n",
    "    sol = Solution()\n",
    "\n",
    "    # Compute the minimum difference in the BST\n",
    "    print(sol.getMinimumDifference(root))  # Output: 1"
   ]
  }
 ],
 "metadata": {
  "kernelspec": {
   "display_name": "Python 3",
   "language": "python",
   "name": "python3"
  },
  "language_info": {
   "codemirror_mode": {
    "name": "ipython",
    "version": 3
   },
   "file_extension": ".py",
   "mimetype": "text/x-python",
   "name": "python",
   "nbconvert_exporter": "python",
   "pygments_lexer": "ipython3",
   "version": "3.8.8"
  }
 },
 "nbformat": 4,
 "nbformat_minor": 5
}
