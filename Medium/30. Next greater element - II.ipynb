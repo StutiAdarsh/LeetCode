{
 "cells": [
  {
   "cell_type": "code",
   "execution_count": 1,
   "id": "74f4e09e",
   "metadata": {},
   "outputs": [],
   "source": [
    "class Solution(object):\n",
    "    def nextGreaterElements(self, nums):\n",
    "        \"\"\"\n",
    "        :type nums: List[int]\n",
    "        :rtype: List[int]\n",
    "        \"\"\"\n",
    "        ans = [-1] * len(nums)\n",
    "        stack = []\n",
    "\n",
    "        for id, val in enumerate(nums):\n",
    "            while stack and nums[stack[-1]] < val:\n",
    "                prev = stack.pop()\n",
    "                ans[prev] = val\n",
    "            stack.append(id)\n",
    "\n",
    "        for id, val in enumerate(nums):\n",
    "            while stack and nums[stack[-1]] < val:\n",
    "                prev = stack.pop()\n",
    "                ans[prev] = val\n",
    "            stack.append(id)\n",
    "\n",
    "        return ans\n",
    "        \n",
    "#Time: O(N) - iterate over N elements \n",
    "#Space: O(N) - to store N elements twice resulting in O(N)"
   ]
  },
  {
   "cell_type": "code",
   "execution_count": 2,
   "id": "e52b9262",
   "metadata": {},
   "outputs": [
    {
     "name": "stdout",
     "output_type": "stream",
     "text": [
      "[2, -1, 2]\n"
     ]
    }
   ],
   "source": [
    "# Example usage:\n",
    "sol = Solution()\n",
    "\n",
    "# Input list\n",
    "nums = [1, 2, 1]\n",
    "\n",
    "# Finding the next greater elements in a circular array\n",
    "result = sol.nextGreaterElements(nums)\n",
    "print(result)  # Output: [2, -1, 2]"
   ]
  },
  {
   "cell_type": "markdown",
   "id": "3a75ad89",
   "metadata": {},
   "source": [
    "First Pass ensures that each element gets compared with elements to its right.\n",
    "\n",
    "Second Pass ensures that each element at the end of the list gets compared with elements at the beginning of the list, \n",
    "handling the circular nature."
   ]
  },
  {
   "cell_type": "code",
   "execution_count": null,
   "id": "0b6419a1",
   "metadata": {},
   "outputs": [],
   "source": []
  }
 ],
 "metadata": {
  "kernelspec": {
   "display_name": "Python 3",
   "language": "python",
   "name": "python3"
  },
  "language_info": {
   "codemirror_mode": {
    "name": "ipython",
    "version": 3
   },
   "file_extension": ".py",
   "mimetype": "text/x-python",
   "name": "python",
   "nbconvert_exporter": "python",
   "pygments_lexer": "ipython3",
   "version": "3.8.8"
  }
 },
 "nbformat": 4,
 "nbformat_minor": 5
}
