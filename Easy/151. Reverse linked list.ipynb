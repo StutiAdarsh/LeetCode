{
 "cells": [
  {
   "cell_type": "code",
   "execution_count": 1,
   "id": "226f43cb",
   "metadata": {},
   "outputs": [],
   "source": [
    "# Definition for singly-linked list.\n",
    "class ListNode(object):\n",
    "    def __init__(self, val=0, next=None):\n",
    "        self.val = val\n",
    "        self.next = next\n",
    "\n",
    "class Solution(object):\n",
    "    def reverseList(self, head):\n",
    "        \"\"\"\n",
    "        :type head: ListNode\n",
    "        :rtype: ListNode\n",
    "        \"\"\"\n",
    "       \n",
    "        if not head:\n",
    "            return None\n",
    "        \n",
    "        cur, prev = head, None\n",
    "        while cur:\n",
    "            temp = cur.next\n",
    "            cur.next = prev\n",
    "            prev = cur\n",
    "            cur = temp\n",
    "        return prev\n",
    "    \n",
    "#Time: O(N) - n is the list's length \n",
    "#Space: O(1)- constant space"
   ]
  },
  {
   "cell_type": "code",
   "execution_count": 2,
   "id": "04647ffe",
   "metadata": {},
   "outputs": [
    {
     "name": "stdout",
     "output_type": "stream",
     "text": [
      "[5, 4, 3, 2, 1]\n"
     ]
    }
   ],
   "source": [
    "# Helper function to create a linked list from a list\n",
    "def create_linked_list(lst):\n",
    "    if not lst:\n",
    "        return None\n",
    "    head = ListNode(lst[0])\n",
    "    current = head\n",
    "    for val in lst[1:]:\n",
    "        current.next = ListNode(val)\n",
    "        current = current.next\n",
    "    return head\n",
    "\n",
    "# Helper function to convert linked list to list\n",
    "def linked_list_to_list(head):\n",
    "    result = []\n",
    "    while head:\n",
    "        result.append(head.val)\n",
    "        head = head.next\n",
    "    return result\n",
    "\n",
    "\n",
    "\n",
    "# Example 1\n",
    "# Input: 1->2->3->4->5\n",
    "# Output: 5->4->3->2->1\n",
    "\n",
    "# Create linked list\n",
    "head = create_linked_list([1, 2, 3, 4, 5])\n",
    "# Create Solution object\n",
    "solution = Solution()\n",
    "# Reverse the linked list\n",
    "new_head = solution.reverseList(head)\n",
    "# Convert linked list to list for easy viewing\n",
    "print(linked_list_to_list(new_head))  # Output: [5, 4, 3, 2, 1]"
   ]
  },
  {
   "cell_type": "code",
   "execution_count": null,
   "id": "9ca96e1f",
   "metadata": {},
   "outputs": [],
   "source": []
  }
 ],
 "metadata": {
  "kernelspec": {
   "display_name": "Python 3 (ipykernel)",
   "language": "python",
   "name": "python3"
  },
  "language_info": {
   "codemirror_mode": {
    "name": "ipython",
    "version": 3
   },
   "file_extension": ".py",
   "mimetype": "text/x-python",
   "name": "python",
   "nbconvert_exporter": "python",
   "pygments_lexer": "ipython3",
   "version": "3.12.4"
  }
 },
 "nbformat": 4,
 "nbformat_minor": 5
}
