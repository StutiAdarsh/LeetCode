{
 "cells": [
  {
   "cell_type": "code",
   "execution_count": 3,
   "id": "ce4d9210",
   "metadata": {},
   "outputs": [],
   "source": [
    "class Solution(object):\n",
    "    def missingNumber(self, nums):\n",
    "        \"\"\"\n",
    "        :type nums: List[int]\n",
    "        :rtype: int\n",
    "        \"\"\"\n",
    "        nums_set = set(nums)\n",
    "        n = len(nums)+1\n",
    "        for i in range(n):\n",
    "            if i not in nums_set:\n",
    "                return i\n",
    "            \n",
    "#Time: O(N) - to iterate over N elements of the nums list\n",
    "#Space: O(N) - set to store N-1 distinct elements"
   ]
  },
  {
   "cell_type": "code",
   "execution_count": 4,
   "id": "794f2a5b",
   "metadata": {},
   "outputs": [
    {
     "name": "stdout",
     "output_type": "stream",
     "text": [
      "Missing Number:  2\n"
     ]
    }
   ],
   "source": [
    "sol = Solution()\n",
    "print(\"Missing Number: \", sol.missingNumber([3,0,1]))"
   ]
  },
  {
   "cell_type": "code",
   "execution_count": null,
   "id": "070139cb",
   "metadata": {},
   "outputs": [],
   "source": []
  }
 ],
 "metadata": {
  "kernelspec": {
   "display_name": "Python 3",
   "language": "python",
   "name": "python3"
  },
  "language_info": {
   "codemirror_mode": {
    "name": "ipython",
    "version": 3
   },
   "file_extension": ".py",
   "mimetype": "text/x-python",
   "name": "python",
   "nbconvert_exporter": "python",
   "pygments_lexer": "ipython3",
   "version": "3.8.8"
  }
 },
 "nbformat": 4,
 "nbformat_minor": 5
}
