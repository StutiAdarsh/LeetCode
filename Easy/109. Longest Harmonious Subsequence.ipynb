{
 "cells": [
  {
   "cell_type": "code",
   "execution_count": 4,
   "id": "3c6be69a",
   "metadata": {},
   "outputs": [],
   "source": [
    "import collections\n",
    "class Solution(object):\n",
    "    def findLHS(self, nums):\n",
    "        \"\"\"\n",
    "        :type nums: List[int]\n",
    "        :rtype: int\n",
    "        \"\"\"\n",
    "        c = collections.Counter(nums)\n",
    "        res = 0\n",
    "        for k, v in c.items():\n",
    "            if k+1 in c:\n",
    "                res = max(res, v+c[k+1])\n",
    "        return res\n",
    "    \n",
    "#Time = O(N) to iterate over N elements of list\n",
    "#Space = O(N) to store the map for N elements"
   ]
  },
  {
   "cell_type": "code",
   "execution_count": 5,
   "id": "a72788e7",
   "metadata": {},
   "outputs": [
    {
     "name": "stdout",
     "output_type": "stream",
     "text": [
      "Longest Harmonious Subsequence:  5\n",
      "Longest Harmonious Subsequence:  2\n",
      "Longest Harmonious Subsequence:  0\n"
     ]
    }
   ],
   "source": [
    "sol = Solution()\n",
    "print(\"Longest Harmonious Subsequence: \", sol.findLHS([1,3,2,2,5,2,3,7]))\n",
    "print(\"Longest Harmonious Subsequence: \", sol.findLHS([1,2,3,4]))\n",
    "print(\"Longest Harmonious Subsequence: \", sol.findLHS([1,1,1,1]))"
   ]
  },
  {
   "cell_type": "code",
   "execution_count": null,
   "id": "59bc0550",
   "metadata": {},
   "outputs": [],
   "source": []
  }
 ],
 "metadata": {
  "kernelspec": {
   "display_name": "Python 3",
   "language": "python",
   "name": "python3"
  },
  "language_info": {
   "codemirror_mode": {
    "name": "ipython",
    "version": 3
   },
   "file_extension": ".py",
   "mimetype": "text/x-python",
   "name": "python",
   "nbconvert_exporter": "python",
   "pygments_lexer": "ipython3",
   "version": "3.8.8"
  }
 },
 "nbformat": 4,
 "nbformat_minor": 5
}
