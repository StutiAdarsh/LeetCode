{
 "cells": [
  {
   "cell_type": "code",
   "execution_count": 3,
   "id": "0c710874",
   "metadata": {},
   "outputs": [],
   "source": [
    "# Definition for singly-linked list.\n",
    "class ListNode(object):\n",
    "    def __init__(self, val=0, next=None):\n",
    "        self.val = val\n",
    "        self.next = next\n",
    "\n",
    "class Solution(object):\n",
    "    def nextLargerNodes(self, head):\n",
    "        \"\"\"\n",
    "        :type head: ListNode\n",
    "        :rtype: List[int]\n",
    "        \"\"\"\n",
    "        values = []\n",
    "        while head:\n",
    "            values.append(head.val)\n",
    "            head = head.next\n",
    "\n",
    "        ans = [0] * len(values)\n",
    "        stack = []\n",
    "\n",
    "        for id, val in enumerate(values):\n",
    "            while stack and values[stack[-1]] < val:\n",
    "                prev = stack.pop()\n",
    "                ans[prev] = val\n",
    "            stack.append(id)\n",
    "        return ans\n",
    "    \n",
    "#Time: O(N) - to iterate over all nodes once to append and remove \n",
    "#Space: O(N) - to store N elements in array and stack for nodes"
   ]
  },
  {
   "cell_type": "code",
   "execution_count": 4,
   "id": "50b15bd0",
   "metadata": {},
   "outputs": [
    {
     "name": "stdout",
     "output_type": "stream",
     "text": [
      "[5, 5, 0]\n"
     ]
    }
   ],
   "source": [
    "# Example usage:\n",
    "# Creating a linked list: 2 -> 1 -> 5\n",
    "head = ListNode(2)\n",
    "head.next = ListNode(1)\n",
    "head.next.next = ListNode(5)\n",
    "\n",
    "# Creating the solution object\n",
    "sol = Solution()\n",
    "\n",
    "# Finding the next larger nodes\n",
    "result = sol.nextLargerNodes(head)\n",
    "print(result)  # Output: [5, 5, 0]"
   ]
  },
  {
   "cell_type": "code",
   "execution_count": null,
   "id": "385a9618",
   "metadata": {},
   "outputs": [],
   "source": []
  }
 ],
 "metadata": {
  "kernelspec": {
   "display_name": "Python 3",
   "language": "python",
   "name": "python3"
  },
  "language_info": {
   "codemirror_mode": {
    "name": "ipython",
    "version": 3
   },
   "file_extension": ".py",
   "mimetype": "text/x-python",
   "name": "python",
   "nbconvert_exporter": "python",
   "pygments_lexer": "ipython3",
   "version": "3.8.8"
  }
 },
 "nbformat": 4,
 "nbformat_minor": 5
}
