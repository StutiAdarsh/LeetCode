{
 "cells": [
  {
   "cell_type": "code",
   "execution_count": 2,
   "id": "f0f26720-32ec-4ee6-8594-f3798cd1d345",
   "metadata": {},
   "outputs": [],
   "source": [
    "class Solution(object):\n",
    "    def arithmeticTriplets(self, nums, diff):\n",
    "        \"\"\"\n",
    "        :type nums: List[int]\n",
    "        :type diff: int\n",
    "        :rtype: int\n",
    "        \"\"\"\n",
    "        triplets = 0\n",
    "        for elem in range(len(nums)-1, -1, -1):\n",
    "            if (nums[elem] - diff) in nums and (nums[elem] - (diff*2)) in nums:\n",
    "                triplets += 1\n",
    "        return triplets\n",
    "\n",
    "#Time: O(N^2) - \n",
    "#The method iterates over the list nums in reverse order (from last to first element), which takes O(N) time, \n",
    "# where N is the number of elements in nums.\n",
    "# For each element nums[elem], two membership checks are performed: (nums[elem] - diff) and (nums[elem] - (diff * 2)). \n",
    "# Each membership check is done in O(N) time, since it involves searching in the list nums.\n",
    "# Thus, for each element, it takes O(N) time for the two membership checks. Therefore, the overall time complexity becomes O(N^2).\n",
    "\n",
    "#Space: O(1) - constant space"
   ]
  },
  {
   "cell_type": "code",
   "execution_count": 4,
   "id": "c5a39496-770f-4ab1-9914-dcf3a8136070",
   "metadata": {},
   "outputs": [
    {
     "name": "stdout",
     "output_type": "stream",
     "text": [
      "2\n"
     ]
    }
   ],
   "source": [
    "# Example usage:\n",
    "nums = [0, 1, 4, 6, 7, 10]\n",
    "diff = 3\n",
    "solution = Solution()\n",
    "print(solution.arithmeticTriplets(nums, diff))  # Output: 2"
   ]
  },
  {
   "cell_type": "markdown",
   "id": "23a6da38-a176-4633-8976-ecd42d693377",
   "metadata": {},
   "source": [
    "Explanation:\n",
    "(1, 2, 4) is an arithmetic triplet because both 7 - 4 == 3 and 4 - 1 == 3.\n",
    "(2, 4, 5) is an arithmetic triplet because both 10 - 7 == 3 and 7 - 4 == 3. \n"
   ]
  }
 ],
 "metadata": {
  "kernelspec": {
   "display_name": "Python 3 (ipykernel)",
   "language": "python",
   "name": "python3"
  },
  "language_info": {
   "codemirror_mode": {
    "name": "ipython",
    "version": 3
   },
   "file_extension": ".py",
   "mimetype": "text/x-python",
   "name": "python",
   "nbconvert_exporter": "python",
   "pygments_lexer": "ipython3",
   "version": "3.12.4"
  }
 },
 "nbformat": 4,
 "nbformat_minor": 5
}
