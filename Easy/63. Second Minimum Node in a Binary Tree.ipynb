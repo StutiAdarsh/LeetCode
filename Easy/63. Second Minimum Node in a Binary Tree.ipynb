{
 "cells": [
  {
   "cell_type": "code",
   "execution_count": 1,
   "id": "e868a7c1",
   "metadata": {},
   "outputs": [],
   "source": [
    "# Definition for a binary tree node.\n",
    "class TreeNode(object):\n",
    "    def __init__(self, val=0, left=None, right=None):\n",
    "        self.val = val\n",
    "        self.left = left\n",
    "        self.right = right\n",
    "\n",
    "class Solution(object):\n",
    "    def findSecondMinimumValue(self, root):\n",
    "        \"\"\"\n",
    "        :type root: TreeNode\n",
    "        :rtype: int\n",
    "        \"\"\"\n",
    "        res = []\n",
    "        def preorder(root):\n",
    "            if root:\n",
    "                if root.val not in res:\n",
    "                    res.append(root.val)\n",
    "                preorder(root.left)\n",
    "                preorder(root.right)\n",
    "\n",
    "        preorder(root)\n",
    "        return sorted(res)[1] if len(res) > 1 else -1\n",
    "    \n",
    "#Time: O(NlogN) - time dominated by sorting the res which is O(NlogN)\n",
    "#Space: O(N) - space to store N unique values"
   ]
  },
  {
   "cell_type": "code",
   "execution_count": 2,
   "id": "c14ba443",
   "metadata": {},
   "outputs": [
    {
     "name": "stdout",
     "output_type": "stream",
     "text": [
      "Second minimum value: 5\n"
     ]
    }
   ],
   "source": [
    "# Example usage:\n",
    "if __name__ == \"__main__\":\n",
    "    # Create a binary tree\n",
    "    root = TreeNode(2)\n",
    "    root.left = TreeNode(2)\n",
    "    root.right = TreeNode(5)\n",
    "    root.right.left = TreeNode(5)\n",
    "    root.right.right = TreeNode(7)\n",
    "    \n",
    "    # Create an instance of the Solution class\n",
    "    sol = Solution()\n",
    "\n",
    "    # Call the findSecondMinimumValue method and print the output\n",
    "    output = sol.findSecondMinimumValue(root)\n",
    "    print(\"Second minimum value:\", output)"
   ]
  },
  {
   "cell_type": "code",
   "execution_count": null,
   "id": "a7f89089",
   "metadata": {},
   "outputs": [],
   "source": []
  }
 ],
 "metadata": {
  "kernelspec": {
   "display_name": "Python 3",
   "language": "python",
   "name": "python3"
  },
  "language_info": {
   "codemirror_mode": {
    "name": "ipython",
    "version": 3
   },
   "file_extension": ".py",
   "mimetype": "text/x-python",
   "name": "python",
   "nbconvert_exporter": "python",
   "pygments_lexer": "ipython3",
   "version": "3.8.8"
  }
 },
 "nbformat": 4,
 "nbformat_minor": 5
}
