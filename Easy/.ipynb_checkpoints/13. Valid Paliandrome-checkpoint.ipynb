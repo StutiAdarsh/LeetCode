{
 "cells": [
  {
   "cell_type": "code",
   "execution_count": 5,
   "id": "4b6dc2d0",
   "metadata": {},
   "outputs": [
    {
     "name": "stdout",
     "output_type": "stream",
     "text": [
      "Case 1:  True\n",
      "Case 2:  False\n"
     ]
    }
   ],
   "source": [
    "class Solution(object):\n",
    "    def isPalindrome(self, s):\n",
    "        \"\"\"\n",
    "        :type s: str\n",
    "        :rtype: bool\n",
    "        \"\"\"\n",
    "        s = [i for i in s.lower() if i.isalnum()]\n",
    "        return s==s[::-1]\n",
    "\n",
    "    \n",
    "print(\"Case 1: \", Solution().isPalindrome(\"A man, a plan, a canal: Panama\"))\n",
    "print(\"Case 2: \", Solution().isPalindrome(\"race a car\"))\n",
    "\n",
    "#Time: O(N) where N is number of elements in the string s\n",
    "#Space: O(N), where N is the size of the reversed list "
   ]
  },
  {
   "cell_type": "code",
   "execution_count": null,
   "id": "761b8e4c",
   "metadata": {},
   "outputs": [],
   "source": []
  }
 ],
 "metadata": {
  "kernelspec": {
   "display_name": "Python 3",
   "language": "python",
   "name": "python3"
  },
  "language_info": {
   "codemirror_mode": {
    "name": "ipython",
    "version": 3
   },
   "file_extension": ".py",
   "mimetype": "text/x-python",
   "name": "python",
   "nbconvert_exporter": "python",
   "pygments_lexer": "ipython3",
   "version": "3.8.8"
  }
 },
 "nbformat": 4,
 "nbformat_minor": 5
}
