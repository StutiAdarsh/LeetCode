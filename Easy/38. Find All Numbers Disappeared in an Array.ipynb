{
 "cells": [
  {
   "cell_type": "code",
   "execution_count": 9,
   "id": "1fdefe7f",
   "metadata": {},
   "outputs": [],
   "source": [
    "class Solution(object):\n",
    "    def findAllNumbersDisappeared(self, nums):\n",
    "        return list(set(range(1, len(nums)+1)) - set(nums))\n",
    "    \n",
    "#Time: O(n), where n is the length of the input list for range to form set\n",
    "#Space: O(n), worst case space for set"
   ]
  },
  {
   "cell_type": "code",
   "execution_count": 10,
   "id": "2d54ed0c",
   "metadata": {},
   "outputs": [
    {
     "name": "stdout",
     "output_type": "stream",
     "text": [
      "Case 1:  [2]\n",
      "Case 2:  [5, 6]\n"
     ]
    }
   ],
   "source": [
    "ob = Solution()\n",
    "\n",
    "print(\"Case 1: \", ob.findAllNumbersDisappeared([1,1]))\n",
    "print(\"Case 2: \", ob.findAllNumbersDisappeared([4,3,2,7,8,2,3,1]))"
   ]
  }
 ],
 "metadata": {
  "kernelspec": {
   "display_name": "Python 3",
   "language": "python",
   "name": "python3"
  },
  "language_info": {
   "codemirror_mode": {
    "name": "ipython",
    "version": 3
   },
   "file_extension": ".py",
   "mimetype": "text/x-python",
   "name": "python",
   "nbconvert_exporter": "python",
   "pygments_lexer": "ipython3",
   "version": "3.8.8"
  }
 },
 "nbformat": 4,
 "nbformat_minor": 5
}
