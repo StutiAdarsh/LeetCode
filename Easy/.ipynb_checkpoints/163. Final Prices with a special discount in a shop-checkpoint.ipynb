{
 "cells": [
  {
   "cell_type": "code",
   "execution_count": 1,
   "id": "e08e57c7",
   "metadata": {},
   "outputs": [],
   "source": [
    "class Solution(object):\n",
    "    def finalPrices(self, prices):\n",
    "        \"\"\"\n",
    "        :type prices: List[int]\n",
    "        :rtype: List[int]\n",
    "        \"\"\"\n",
    "        stack = []\n",
    "        for id, val in enumerate(prices):\n",
    "            while stack and prices[stack[-1]] >= val:\n",
    "                prices[stack.pop()] -= val\n",
    "            stack.append(id)\n",
    "        return prices\n",
    "    \n",
    "#Time: O(N) - iterate over N prices list elements\n",
    "#Space: O(N) - store N elements in stack for output"
   ]
  },
  {
   "cell_type": "code",
   "execution_count": null,
   "id": "0677b27a",
   "metadata": {},
   "outputs": [],
   "source": [
    "# Example usage:\n",
    "prices = [8, 4, 6, 2, 3]\n",
    "solution = Solution()\n",
    "output = solution.finalPrices(prices)\n",
    "print(f'The final prices with discounts applied are: {output}')"
   ]
  }
 ],
 "metadata": {
  "kernelspec": {
   "display_name": "Python 3",
   "language": "python",
   "name": "python3"
  },
  "language_info": {
   "codemirror_mode": {
    "name": "ipython",
    "version": 3
   },
   "file_extension": ".py",
   "mimetype": "text/x-python",
   "name": "python",
   "nbconvert_exporter": "python",
   "pygments_lexer": "ipython3",
   "version": "3.8.8"
  }
 },
 "nbformat": 4,
 "nbformat_minor": 5
}
