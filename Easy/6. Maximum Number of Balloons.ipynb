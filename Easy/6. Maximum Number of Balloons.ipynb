{
 "cells": [
  {
   "cell_type": "code",
   "execution_count": 2,
   "id": "2ebefe20",
   "metadata": {},
   "outputs": [
    {
     "name": "stdout",
     "output_type": "stream",
     "text": [
      "Number of balloons formed:  1\n",
      "Number of balloons formed:  2\n",
      "Number of balloons formed:  0\n"
     ]
    }
   ],
   "source": [
    "class Solution(object):\n",
    "    def maxNumberOfBalloons(self, text):\n",
    "        \"\"\"\n",
    "        :type text: str\n",
    "        :rtype: int\n",
    "        \"\"\"\n",
    "        return min(text.count('b'), text.count('a'), text.count('l') // 2, text.count('o') // 2, text.count('n'))\n",
    "    \n",
    "    \n",
    "#Time: O(n), count takes O(n) time for 5 times i.e. 5*O(n) which is O(n)\n",
    "#Space: O(1), constant space - no extra space used\n",
    "\n",
    "#Input:\n",
    "ob = Solution()\n",
    "print(\"Number of balloons formed: \", ob.maxNumberOfBalloons(\"nlaebolko\"))\n",
    "print(\"Number of balloons formed: \", ob.maxNumberOfBalloons(\"loonbalxballpoon\"))\n",
    "print(\"Number of balloons formed: \", ob.maxNumberOfBalloons(\"leetcode\"))"
   ]
  },
  {
   "cell_type": "code",
   "execution_count": 4,
   "id": "fb7140f2",
   "metadata": {},
   "outputs": [
    {
     "name": "stdout",
     "output_type": "stream",
     "text": [
      "Number of balloons formed:  1\n",
      "Number of balloons formed:  2\n",
      "Number of balloons formed:  0\n"
     ]
    }
   ],
   "source": [
    "class Solution(object):\n",
    "    def maxNumberOfBalloons(self, text):\n",
    "        hashmap = {}\n",
    "        for char in text:\n",
    "            if char in hashmap:\n",
    "                hashmap[char] += 1\n",
    "            else:\n",
    "                hashmap[char] = 1\n",
    "        return min(hashmap.get('b', 0), hashmap.get('a', 0), hashmap.get('l', 0) // 2, \n",
    "                   hashmap.get('o', 0) // 2, hashmap.get('n', 0))\n",
    "\n",
    "    \n",
    "#Input:\n",
    "ob = Solution()\n",
    "print(\"Number of balloons formed: \", ob.maxNumberOfBalloons(\"nlaebolko\"))\n",
    "print(\"Number of balloons formed: \", ob.maxNumberOfBalloons(\"loonbalxballpoon\"))\n",
    "print(\"Number of balloons formed: \", ob.maxNumberOfBalloons(\"leetcode\"))\n",
    "\n",
    "\n",
    "#Time: O(n), where n is the length of the input string text.\n",
    "\n",
    "#Space: O(1), constant space - no extra space used. \n",
    "#because the size of the dictionary is fixed and independent of the input size.\n"
   ]
  },
  {
   "cell_type": "code",
   "execution_count": null,
   "id": "1616427e",
   "metadata": {},
   "outputs": [],
   "source": []
  }
 ],
 "metadata": {
  "kernelspec": {
   "display_name": "Python 3",
   "language": "python",
   "name": "python3"
  },
  "language_info": {
   "codemirror_mode": {
    "name": "ipython",
    "version": 3
   },
   "file_extension": ".py",
   "mimetype": "text/x-python",
   "name": "python",
   "nbconvert_exporter": "python",
   "pygments_lexer": "ipython3",
   "version": "3.8.8"
  }
 },
 "nbformat": 4,
 "nbformat_minor": 5
}
