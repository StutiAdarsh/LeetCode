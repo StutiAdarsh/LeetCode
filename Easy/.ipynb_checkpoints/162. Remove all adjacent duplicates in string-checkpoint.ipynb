{
 "cells": [
  {
   "cell_type": "code",
   "execution_count": 1,
   "id": "89fbd9e9",
   "metadata": {},
   "outputs": [],
   "source": [
    "class Solution(object):\n",
    "    def removeDuplicates(self, s):\n",
    "        \"\"\"\n",
    "        :type s: str\n",
    "        :rtype: str\n",
    "        \"\"\"\n",
    "        stack = []\n",
    "        for i in s:\n",
    "            if stack and i == stack[-1]:\n",
    "                stack.pop()\n",
    "            else:\n",
    "                stack.append(i)\n",
    "        return \"\".join(stack)\n",
    "        \n",
    "#Time O(N): To iterate over n elements of s\n",
    "#Space: O(N-D) to store N elements of except the total D duplicates"
   ]
  },
  {
   "cell_type": "code",
   "execution_count": 2,
   "id": "b60b2e66",
   "metadata": {},
   "outputs": [
    {
     "name": "stdout",
     "output_type": "stream",
     "text": [
      "The result after removing all adjacent duplicates in string is: ca\n"
     ]
    }
   ],
   "source": [
    "# Example usage:\n",
    "s = \"abbaca\"\n",
    "solution = Solution()\n",
    "output = solution.removeDuplicates(s)\n",
    "print(f'The result after removing all adjacent duplicates in string is: {output}')"
   ]
  },
  {
   "cell_type": "code",
   "execution_count": null,
   "id": "5d6de223",
   "metadata": {},
   "outputs": [],
   "source": []
  }
 ],
 "metadata": {
  "kernelspec": {
   "display_name": "Python 3",
   "language": "python",
   "name": "python3"
  },
  "language_info": {
   "codemirror_mode": {
    "name": "ipython",
    "version": 3
   },
   "file_extension": ".py",
   "mimetype": "text/x-python",
   "name": "python",
   "nbconvert_exporter": "python",
   "pygments_lexer": "ipython3",
   "version": "3.8.8"
  }
 },
 "nbformat": 4,
 "nbformat_minor": 5
}
