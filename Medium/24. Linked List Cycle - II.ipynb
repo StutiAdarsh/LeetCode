{
 "cells": [
  {
   "cell_type": "code",
   "execution_count": 3,
   "id": "226c34dd",
   "metadata": {},
   "outputs": [],
   "source": [
    "# Definition for singly-linked list.\n",
    "class ListNode(object):\n",
    "    def __init__(self, x):\n",
    "        self.val = x\n",
    "        self.next = None\n",
    "\n",
    "class Solution(object):\n",
    "    def detectCycle(self, head):\n",
    "        \"\"\"\n",
    "        :type head: ListNode\n",
    "        :rtype: ListNode\n",
    "        \"\"\"\n",
    "        node_visited= set()      \n",
    "        while head is not None:\n",
    "            if head in node_visited:\n",
    "                return head\n",
    "            node_visited.add(head)\n",
    "            head = head.next          \n",
    "        return None\n",
    "    \n",
    "#Time: O(N), We have to visit all nodes once.\n",
    "#Space: O(N), For storing all the nodes in the hashset."
   ]
  },
  {
   "cell_type": "code",
   "execution_count": 4,
   "id": "08c66169",
   "metadata": {},
   "outputs": [
    {
     "name": "stdout",
     "output_type": "stream",
     "text": [
      "2\n",
      "No cycle\n"
     ]
    }
   ],
   "source": [
    "# Nodes\n",
    "node1 = ListNode(3)\n",
    "node2 = ListNode(2)\n",
    "node3 = ListNode(0)\n",
    "node4 = ListNode(-4)\n",
    "\n",
    "# Connecting nodes\n",
    "node1.next = node2\n",
    "node2.next = node3\n",
    "node3.next = node4\n",
    "node4.next = node2  # Cycle here\n",
    "\n",
    "# Create an instance of the Solution class\n",
    "solution = Solution()\n",
    "\n",
    "# Detect the cycle\n",
    "cycle_node = solution.detectCycle(node1)\n",
    "print(cycle_node.val if cycle_node else \"No cycle\")  # Output: 2\n",
    "\n",
    "# Creating a linked list without a cycle for testing:\n",
    "# 1 -> 2\n",
    "# No cycle\n",
    "\n",
    "# Nodes\n",
    "node1 = ListNode(1)\n",
    "node2 = ListNode(2)\n",
    "\n",
    "# Connecting nodes\n",
    "node1.next = node2\n",
    "\n",
    "# Detect the cycle\n",
    "cycle_node = solution.detectCycle(node1)\n",
    "print(cycle_node.val if cycle_node else \"No cycle\")  # Output: No cycle"
   ]
  },
  {
   "cell_type": "code",
   "execution_count": null,
   "id": "413d4030",
   "metadata": {},
   "outputs": [],
   "source": []
  }
 ],
 "metadata": {
  "kernelspec": {
   "display_name": "Python 3",
   "language": "python",
   "name": "python3"
  },
  "language_info": {
   "codemirror_mode": {
    "name": "ipython",
    "version": 3
   },
   "file_extension": ".py",
   "mimetype": "text/x-python",
   "name": "python",
   "nbconvert_exporter": "python",
   "pygments_lexer": "ipython3",
   "version": "3.8.8"
  }
 },
 "nbformat": 4,
 "nbformat_minor": 5
}
