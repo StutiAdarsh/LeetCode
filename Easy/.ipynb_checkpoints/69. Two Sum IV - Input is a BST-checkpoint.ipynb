{
 "cells": [
  {
   "cell_type": "code",
   "execution_count": 1,
   "id": "1c08f115",
   "metadata": {},
   "outputs": [],
   "source": [
    "# Definition for a binary tree node.\n",
    "class TreeNode(object):\n",
    "    def __init__(self, val=0, left=None, right=None):\n",
    "        self.val = val\n",
    "        self.left = left\n",
    "        self.right = right\n",
    "\n",
    "class Solution(object):\n",
    "    def findTarget(self, root, k):\n",
    "        \"\"\"\n",
    "        :type root: TreeNode\n",
    "        :type k: int\n",
    "        :rtype: bool\n",
    "        \"\"\"\n",
    "        def dfs(root, k, seen):\n",
    "            if not root:\n",
    "                return False\n",
    "\n",
    "            if (k - root.val) in seen:\n",
    "                return True\n",
    "\n",
    "            seen.add(root.val)\n",
    "            return dfs(root.left, k, seen) or dfs(root.right, k, seen)\n",
    "\n",
    "        return dfs(root, k, set())\n",
    "    \n",
    "#Time: O(N) - worst case traverse each node once to find the target sum top down DFS\n",
    "#Space: O(N) - recursive call stack for tree traveral for N nodes of binary tree. \n",
    "#This is because we use a set (seen) to store the values of the nodes as we traverse the tree, \n",
    "#and in the worst case, the set may contain all distinct values of the nodes."
   ]
  },
  {
   "cell_type": "code",
   "execution_count": 2,
   "id": "ba2e84b4",
   "metadata": {},
   "outputs": [
    {
     "name": "stdout",
     "output_type": "stream",
     "text": [
      "True\n"
     ]
    }
   ],
   "source": [
    "# Example usage\n",
    "if __name__ == \"__main__\":\n",
    "    # Create a binary search tree\n",
    "    root = TreeNode(5)\n",
    "    root.left = TreeNode(3)\n",
    "    root.right = TreeNode(6)\n",
    "    root.left.left = TreeNode(2)\n",
    "    root.left.right = TreeNode(4)\n",
    "    root.right.right = TreeNode(7)\n",
    "\n",
    "    # Target sum\n",
    "    k = 9\n",
    "\n",
    "    # Create an instance of the Solution class\n",
    "    sol = Solution()\n",
    "\n",
    "    # Check if there exists a pair of nodes with sum equal to k\n",
    "    print(sol.findTarget(root, k))  # Output: True"
   ]
  },
  {
   "cell_type": "code",
   "execution_count": null,
   "id": "6fa81c91",
   "metadata": {},
   "outputs": [],
   "source": []
  }
 ],
 "metadata": {
  "kernelspec": {
   "display_name": "Python 3",
   "language": "python",
   "name": "python3"
  },
  "language_info": {
   "codemirror_mode": {
    "name": "ipython",
    "version": 3
   },
   "file_extension": ".py",
   "mimetype": "text/x-python",
   "name": "python",
   "nbconvert_exporter": "python",
   "pygments_lexer": "ipython3",
   "version": "3.8.8"
  }
 },
 "nbformat": 4,
 "nbformat_minor": 5
}
