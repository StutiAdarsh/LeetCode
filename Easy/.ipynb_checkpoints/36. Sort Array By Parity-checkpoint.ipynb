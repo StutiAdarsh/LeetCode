{
 "cells": [
  {
   "cell_type": "code",
   "execution_count": 5,
   "id": "5a93152f",
   "metadata": {},
   "outputs": [],
   "source": [
    "# 1. Approach using sorted with key for even numbers (which would take sorting for even then concatente odd by default)\n",
    "\n",
    "class Solution(object):\n",
    "    def sortByParity(self, arr):\n",
    "        return sorted(arr, key = lambda x: x%2)\n",
    "    \n",
    "#Time:O(NlogN), time to sort elements\n",
    "#Space: O(N), space to store sorted elements"
   ]
  },
  {
   "cell_type": "code",
   "execution_count": 6,
   "id": "0c6fe2d4",
   "metadata": {},
   "outputs": [
    {
     "name": "stdout",
     "output_type": "stream",
     "text": [
      "Case 1:  [2, 4, 3, 1]\n",
      "Case 2:  [0]\n",
      "Case 3:  [2, 0, 4, 9, 1, 3, 7, 5, 1]\n"
     ]
    }
   ],
   "source": [
    "ob = Solution()\n",
    "print(\"Case 1: \", ob.sortByParity([3,1,2,4]))\n",
    "print(\"Case 2: \", ob.sortByParity([0]))\n",
    "print(\"Case 3: \", ob.sortByParity([9,1,3,7,5,2,1,0,4]))"
   ]
  },
  {
   "cell_type": "code",
   "execution_count": 9,
   "id": "cc516809",
   "metadata": {},
   "outputs": [],
   "source": [
    "# 2. Approach 2: list comprehension - even odd concatenatio\n",
    "\n",
    "class SolutionTwo(object):\n",
    "    def sortByParity(self, arr):\n",
    "        return [x for x in arr if x % 2 == 0] + [x for x in arr if x % 2 != 0]\n",
    "    \n",
    "    \n",
    "#Time:O(N), time to iterate over array of length N\n",
    "#Space: O(N), space to store N elements"
   ]
  },
  {
   "cell_type": "code",
   "execution_count": 10,
   "id": "174d4125",
   "metadata": {},
   "outputs": [
    {
     "name": "stdout",
     "output_type": "stream",
     "text": [
      "Case 1:  [2, 4, 3, 1]\n",
      "Case 2:  [0]\n",
      "Case 3:  [2, 0, 4, 9, 1, 3, 7, 5, 1]\n"
     ]
    }
   ],
   "source": [
    "ob = SolutionTwo()\n",
    "print(\"Case 1: \", ob.sortByParity([3,1,2,4]))\n",
    "print(\"Case 2: \", ob.sortByParity([0]))\n",
    "print(\"Case 3: \", ob.sortByParity([9,1,3,7,5,2,1,0,4]))"
   ]
  },
  {
   "cell_type": "code",
   "execution_count": 20,
   "id": "01df9e85",
   "metadata": {},
   "outputs": [],
   "source": [
    "#BEST ONE (because of space)\n",
    "# 3. Approach 3: Inplace array operation\n",
    "\n",
    "class SolutionThree(object):\n",
    "    def sortByParity(self, nums):\n",
    "        i = 0\n",
    "        for j in range(len(nums)):\n",
    "            if nums[j] % 2 == 0:\n",
    "                nums[i], nums[j] = nums[j], nums[i]\n",
    "                i += 1\n",
    "        return nums\n",
    "    \n",
    "    \n",
    "#Time:O(N), time to iterate over array of length N\n",
    "#Space: O(1), constant space used "
   ]
  },
  {
   "cell_type": "code",
   "execution_count": 21,
   "id": "cbf791ea",
   "metadata": {},
   "outputs": [
    {
     "name": "stdout",
     "output_type": "stream",
     "text": [
      "Case 1:  [2, 4, 3, 1]\n",
      "Case 2:  [0]\n",
      "Case 3:  [2, 0, 4, 7, 5, 9, 1, 1, 3]\n"
     ]
    }
   ],
   "source": [
    "ob = SolutionThree()\n",
    "print(\"Case 1: \", ob.sortByParity([3,1,2,4]))\n",
    "print(\"Case 2: \", ob.sortByParity([0]))\n",
    "print(\"Case 3: \", ob.sortByParity([9,1,3,7,5,2,1,0,4]))"
   ]
  },
  {
   "cell_type": "code",
   "execution_count": null,
   "id": "c26961b2",
   "metadata": {},
   "outputs": [],
   "source": []
  }
 ],
 "metadata": {
  "kernelspec": {
   "display_name": "Python 3",
   "language": "python",
   "name": "python3"
  },
  "language_info": {
   "codemirror_mode": {
    "name": "ipython",
    "version": 3
   },
   "file_extension": ".py",
   "mimetype": "text/x-python",
   "name": "python",
   "nbconvert_exporter": "python",
   "pygments_lexer": "ipython3",
   "version": "3.8.8"
  }
 },
 "nbformat": 4,
 "nbformat_minor": 5
}
