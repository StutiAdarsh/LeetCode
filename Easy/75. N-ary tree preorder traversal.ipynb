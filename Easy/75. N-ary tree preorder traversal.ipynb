{
 "cells": [
  {
   "cell_type": "code",
   "execution_count": 17,
   "id": "dabd0d32",
   "metadata": {},
   "outputs": [],
   "source": [
    "# Definition for a Node.\n",
    "class Node(object):\n",
    "    def __init__(self, val=None, children=None):\n",
    "        self.val = val\n",
    "        self.children = children\n",
    "\n",
    "class Solution(object):\n",
    "    def preorder(self, root):\n",
    "        \"\"\"\n",
    "        :type root: Node\n",
    "        :rtype: List[int]\n",
    "        \"\"\"\n",
    "        res = []\n",
    "        self.dfs(root, res)\n",
    "        return res\n",
    "    \n",
    "    def dfs(self, root, res):\n",
    "        if not root: \n",
    "            return\n",
    "        \n",
    "        res.append(root.val)\n",
    "        \n",
    "        if root.children:\n",
    "            for child in root.children:\n",
    "                self.dfs(child, res)\n",
    "\n",
    "#Time:O(N): the DFS traversal is O(N), where N is the number of nodes in the N-ary treeto visit each node exactly once\n",
    "#Space: O(N): In N-ary tree, the height of the tree can be at most O(N), where N is the number of nodes in the tree for \n",
    "#recursive call stack duing DFS traversal."
   ]
  },
  {
   "cell_type": "code",
   "execution_count": 18,
   "id": "c717f20f",
   "metadata": {},
   "outputs": [
    {
     "name": "stdout",
     "output_type": "stream",
     "text": [
      "[1, 3, 5, 6, 2, 4]\n"
     ]
    }
   ],
   "source": [
    "# Create a tree: [1, 3, 2, 4, 5, 6]\n",
    "root = Node(1, [Node(3, [Node(5), Node(6)]), Node(2), Node(4)])\n",
    "solution = Solution()\n",
    "print(solution.preorder(root))  # Output: [1, 3, 5, 6, 2, 4]"
   ]
  },
  {
   "cell_type": "code",
   "execution_count": null,
   "id": "48831bfb",
   "metadata": {},
   "outputs": [],
   "source": []
  }
 ],
 "metadata": {
  "kernelspec": {
   "display_name": "Python 3",
   "language": "python",
   "name": "python3"
  },
  "language_info": {
   "codemirror_mode": {
    "name": "ipython",
    "version": 3
   },
   "file_extension": ".py",
   "mimetype": "text/x-python",
   "name": "python",
   "nbconvert_exporter": "python",
   "pygments_lexer": "ipython3",
   "version": "3.8.8"
  }
 },
 "nbformat": 4,
 "nbformat_minor": 5
}
