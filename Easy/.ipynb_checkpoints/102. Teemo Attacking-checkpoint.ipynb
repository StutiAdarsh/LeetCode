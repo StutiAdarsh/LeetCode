{
 "cells": [
  {
   "cell_type": "code",
   "execution_count": 4,
   "id": "ee224d36",
   "metadata": {},
   "outputs": [],
   "source": [
    "class Solution(object):\n",
    "    def findPoisonedDuration(self, timeSeries, duration):\n",
    "        \"\"\"\n",
    "        :type timeSeries: List[int]\n",
    "        :type duration: int\n",
    "        :rtype: int\n",
    "        \"\"\"\n",
    "        n = len(timeSeries)\n",
    "        if n == 0:\n",
    "            return 0\n",
    "\n",
    "        poison_time = 0\n",
    "        for i in range(n-1):\n",
    "            poison_time += min(duration, timeSeries[i+1]-timeSeries[i])\n",
    "        return poison_time + duration\n",
    "    \n",
    "#Time: O(N) - time to iterate over N elements of timeSeries array\n",
    "#Space: O(1) - constant space"
   ]
  },
  {
   "cell_type": "code",
   "execution_count": 5,
   "id": "7a723390",
   "metadata": {},
   "outputs": [],
   "source": [
    "sol = Solution()"
   ]
  },
  {
   "cell_type": "code",
   "execution_count": 7,
   "id": "074b0a55",
   "metadata": {},
   "outputs": [
    {
     "name": "stdout",
     "output_type": "stream",
     "text": [
      "Teemo attack:  4\n",
      "Teemo attack:  3\n"
     ]
    }
   ],
   "source": [
    "print(\"Teemo attack: \", sol.findPoisonedDuration([1,4], 2))\n",
    "print(\"Teemo attack: \", sol.findPoisonedDuration([1,2], 2))"
   ]
  },
  {
   "cell_type": "code",
   "execution_count": null,
   "id": "149e0531",
   "metadata": {},
   "outputs": [],
   "source": []
  }
 ],
 "metadata": {
  "kernelspec": {
   "display_name": "Python 3",
   "language": "python",
   "name": "python3"
  },
  "language_info": {
   "codemirror_mode": {
    "name": "ipython",
    "version": 3
   },
   "file_extension": ".py",
   "mimetype": "text/x-python",
   "name": "python",
   "nbconvert_exporter": "python",
   "pygments_lexer": "ipython3",
   "version": "3.8.8"
  }
 },
 "nbformat": 4,
 "nbformat_minor": 5
}
