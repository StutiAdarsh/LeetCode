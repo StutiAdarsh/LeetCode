{
 "cells": [
  {
   "cell_type": "code",
   "execution_count": 1,
   "id": "2a4d1f7d",
   "metadata": {},
   "outputs": [],
   "source": [
    "class MinStack(object):\n",
    "\n",
    "    def __init__(self):\n",
    "        self.stack = []\n",
    "        \n",
    "\n",
    "    def push(self, x):\n",
    "        \"\"\"\n",
    "        :type val: int\n",
    "        :rtype: None\n",
    "        \"\"\"\n",
    "        if not self.stack:\n",
    "            self.stack.append((x,x))\n",
    "            return\n",
    "        \n",
    "        currentMin = self.stack[-1][1]\n",
    "        self.stack.append((x,min(x, currentMin)))\n",
    "        \n",
    "\n",
    "    def pop(self):\n",
    "        \"\"\"\n",
    "        :rtype: None\n",
    "        \"\"\"\n",
    "        self.stack.pop()\n",
    "        \n",
    "\n",
    "    def top(self):\n",
    "        \"\"\"\n",
    "        :rtype: int\n",
    "        \"\"\"\n",
    "        return self.stack[-1][0]\n",
    "\n",
    "    def getMin(self):\n",
    "        \"\"\"\n",
    "        :rtype: int\n",
    "        \"\"\"\n",
    "        return self.stack[-1][1]\n",
    "\n",
    "\n",
    "# Your MinStack object will be instantiated and called as such:\n",
    "# obj = MinStack()\n",
    "# obj.push(val)\n",
    "# obj.pop()\n",
    "# param_3 = obj.top()\n",
    "# param_4 = obj.getMin()\n",
    "\n",
    "#Time: O(1) - for all operations\n",
    "\n",
    "#Space: O(N) - Worst case is that all the operations are push. \n",
    "#In this case, there will be O(2⋅n)=O(n) space used."
   ]
  },
  {
   "cell_type": "code",
   "execution_count": 2,
   "id": "03d6876e",
   "metadata": {},
   "outputs": [
    {
     "name": "stdout",
     "output_type": "stream",
     "text": [
      "-3\n",
      "0\n",
      "-2\n"
     ]
    }
   ],
   "source": [
    "# Instantiate MinStack object\n",
    "minStack = MinStack()\n",
    "\n",
    "# Push elements onto the stack\n",
    "minStack.push(-2)\n",
    "minStack.push(0)\n",
    "minStack.push(-3)\n",
    "\n",
    "# Get minimum element\n",
    "print(minStack.getMin())  # Output: -3\n",
    "\n",
    "# Pop the top element\n",
    "minStack.pop()\n",
    "\n",
    "# Get the top element\n",
    "print(minStack.top())     # Output: 0\n",
    "\n",
    "# Get the minimum element again\n",
    "print(minStack.getMin())  # Output: -2"
   ]
  },
  {
   "cell_type": "code",
   "execution_count": null,
   "id": "d1b969bd",
   "metadata": {},
   "outputs": [],
   "source": []
  }
 ],
 "metadata": {
  "kernelspec": {
   "display_name": "Python 3",
   "language": "python",
   "name": "python3"
  },
  "language_info": {
   "codemirror_mode": {
    "name": "ipython",
    "version": 3
   },
   "file_extension": ".py",
   "mimetype": "text/x-python",
   "name": "python",
   "nbconvert_exporter": "python",
   "pygments_lexer": "ipython3",
   "version": "3.8.8"
  }
 },
 "nbformat": 4,
 "nbformat_minor": 5
}
