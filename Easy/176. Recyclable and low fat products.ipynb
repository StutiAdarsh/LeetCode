{
 "cells": [
  {
   "cell_type": "code",
   "execution_count": 2,
   "id": "de850f3b-9044-41b2-bbe7-210568674307",
   "metadata": {},
   "outputs": [],
   "source": [
    "import pandas as pd\n",
    "\n",
    "def find_products(products: pd.DataFrame) -> pd.DataFrame:\n",
    "    df = products[(products['low_fats'] == 'Y') & (products['recyclable']== 'Y')]\n",
    "    return df[['product_id']]\n",
    "\n",
    "\n",
    "#Time: O(N) - to traverse N rows of dataframe \n",
    "#Space: O(N) - to store N values in the new DF created which would be N rows in worst case."
   ]
  },
  {
   "cell_type": "code",
   "execution_count": 4,
   "id": "760ac649-42ea-4424-a9e5-d5fb2a7cea25",
   "metadata": {},
   "outputs": [
    {
     "name": "stdout",
     "output_type": "stream",
     "text": [
      "   product_id\n",
      "0         101\n",
      "3         104\n"
     ]
    }
   ],
   "source": [
    "#---------output----------------\n",
    "\n",
    "import pandas as pd\n",
    "\n",
    "# Example data\n",
    "data = {\n",
    "    'product_id': [101, 102, 103, 104],\n",
    "    'low_fats': ['Y', 'N', 'Y', 'Y'],\n",
    "    'recyclable': ['Y', 'Y', 'N', 'Y']\n",
    "}\n",
    "\n",
    "# Create DataFrame\n",
    "products = pd.DataFrame(data)\n",
    "\n",
    "# Function to find products that are both low-fat and recyclable\n",
    "def find_products(products: pd.DataFrame) -> pd.DataFrame:\n",
    "    df = products[(products['low_fats'] == 'Y') & (products['recyclable'] == 'Y')]\n",
    "    return df[['product_id']]\n",
    "\n",
    "# Example usage\n",
    "result = find_products(products)\n",
    "print(result)"
   ]
  },
  {
   "cell_type": "code",
   "execution_count": 8,
   "id": "8f1657d5-e623-406d-8e5e-bb670aa2c6f7",
   "metadata": {},
   "outputs": [
    {
     "data": {
      "text/plain": [
       "'\\n   product_id\\n0         101\\n3         104\\n'"
      ]
     },
     "execution_count": 8,
     "metadata": {},
     "output_type": "execute_result"
    }
   ],
   "source": [
    "#Approach 2 : MySQL\n",
    "\n",
    "'''\n",
    "# Write your MySQL query statement below\n",
    "select product_id from Products where \n",
    "low_fats = 'Y' AND\n",
    "recyclable = 'Y'\n",
    "'''\n",
    "\n",
    "#Output:\n",
    "'''\n",
    "   product_id\n",
    "0         101\n",
    "3         104\n",
    "'''"
   ]
  },
  {
   "cell_type": "code",
   "execution_count": null,
   "id": "654fbf1f-6224-4001-8ffc-65423b10d20d",
   "metadata": {},
   "outputs": [],
   "source": []
  }
 ],
 "metadata": {
  "kernelspec": {
   "display_name": "Python 3 (ipykernel)",
   "language": "python",
   "name": "python3"
  },
  "language_info": {
   "codemirror_mode": {
    "name": "ipython",
    "version": 3
   },
   "file_extension": ".py",
   "mimetype": "text/x-python",
   "name": "python",
   "nbconvert_exporter": "python",
   "pygments_lexer": "ipython3",
   "version": "3.12.4"
  }
 },
 "nbformat": 4,
 "nbformat_minor": 5
}
