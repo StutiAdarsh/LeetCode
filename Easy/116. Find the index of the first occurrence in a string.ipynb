{
 "cells": [
  {
   "cell_type": "code",
   "execution_count": 1,
   "id": "df239806",
   "metadata": {},
   "outputs": [],
   "source": [
    "class Solution(object):\n",
    "    def strStr(self, haystack, needle):\n",
    "        \"\"\"\n",
    "        :type haystack: str\n",
    "        :type needle: str\n",
    "        :rtype: int\n",
    "        \"\"\"\n",
    "        for id, char in enumerate(haystack):\n",
    "            if haystack[id: id+len(needle)] == needle:\n",
    "                return id\n",
    "        return -1\n",
    "    \n",
    "#Time: O(N * M)\n",
    "#The time complexity is O(n * m), \n",
    "#where n is the length of the haystack string and \n",
    "#m is the length of the needle string. \n",
    "#This is because the function iterates through each character of the haystack string, \n",
    "#and for each character, \n",
    "#it performs a comparison operation with a substring of length m (the length of the needle string).\n",
    "\n",
    "#Space: O(1) - constant space"
   ]
  },
  {
   "cell_type": "code",
   "execution_count": 3,
   "id": "11b64233",
   "metadata": {},
   "outputs": [
    {
     "name": "stdout",
     "output_type": "stream",
     "text": [
      "0\n",
      "-1\n"
     ]
    }
   ],
   "source": [
    "sol = Solution()\n",
    "haystack1 = \"sadbutsad\"\n",
    "needle1 = \"sad\"\n",
    "print(sol.strStr(haystack1, needle1))  # Output: 0\n",
    "\n",
    "haystack2 = \"aaaaa\"\n",
    "needle2 = \"bba\"\n",
    "print(sol.strStr(haystack2, needle2))  # Output: -1"
   ]
  },
  {
   "cell_type": "code",
   "execution_count": null,
   "id": "04a1b7ad",
   "metadata": {},
   "outputs": [],
   "source": []
  }
 ],
 "metadata": {
  "kernelspec": {
   "display_name": "Python 3",
   "language": "python",
   "name": "python3"
  },
  "language_info": {
   "codemirror_mode": {
    "name": "ipython",
    "version": 3
   },
   "file_extension": ".py",
   "mimetype": "text/x-python",
   "name": "python",
   "nbconvert_exporter": "python",
   "pygments_lexer": "ipython3",
   "version": "3.8.8"
  }
 },
 "nbformat": 4,
 "nbformat_minor": 5
}
