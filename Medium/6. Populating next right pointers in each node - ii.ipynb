{
 "cells": [
  {
   "cell_type": "code",
   "execution_count": 1,
   "id": "2355a473",
   "metadata": {},
   "outputs": [],
   "source": [
    "# BFS - Level order\n",
    "\n",
    "from collections import deque\n",
    "class TreeNode(object):\n",
    "    def __init__(self, val=0, left=None, right=None, next=None):\n",
    "        self.val = val\n",
    "        self.left = left\n",
    "        self.right = right\n",
    "        self.next = next\n",
    "        \n",
    "class Solution(object):\n",
    "    def connect(self, root):\n",
    "        if not root: \n",
    "            return root\n",
    "        \n",
    "        Q = deque([root])\n",
    "        \n",
    "        while Q:\n",
    "            size = len(Q)\n",
    "            for i in range(size):\n",
    "                curnode = Q.popleft()\n",
    "                if i == size - 1:\n",
    "                    curnode.next = None\n",
    "                else:\n",
    "                    curnode.next = Q[0]\n",
    "                    \n",
    "                if curnode.left:\n",
    "                    Q.append(curnode.left)\n",
    "                if curnode.right:\n",
    "                    Q.append(curnode.right)\n",
    "        return root\n",
    "    \n",
    "#Time: O(N), to traverse each node  of tree\n",
    "#Space: O(N), to store the N nodes of tree for the queue"
   ]
  },
  {
   "cell_type": "code",
   "execution_count": 4,
   "id": "f11cf6ba",
   "metadata": {},
   "outputs": [
    {
     "name": "stdout",
     "output_type": "stream",
     "text": [
      "Level: 1\n",
      "1 -> \n",
      "Level: 2\n",
      "2 -> 3 -> \n",
      "Level: 4\n",
      "4 -> 5 -> 7 -> \n"
     ]
    }
   ],
   "source": [
    "# Define the tree\n",
    "# Input: [1,2,3,4,5,None,7]\n",
    "root = TreeNode(1)\n",
    "root.left = TreeNode(2)\n",
    "root.right = TreeNode(3)\n",
    "root.left.left = TreeNode(4)\n",
    "root.left.right = TreeNode(5)\n",
    "root.right.right = TreeNode(7)\n",
    "\n",
    "# Create an instance of the Solution class\n",
    "sol = Solution()\n",
    "\n",
    "# Call the connect method\n",
    "sol.connect(root)\n",
    "\n",
    "# Traverse the tree to check the next pointers\n",
    "current = root\n",
    "while current:\n",
    "    print(\"Level:\", current.val)\n",
    "    node = current\n",
    "    while node:\n",
    "        print(node.val, end=\" -> \")\n",
    "        node = node.next\n",
    "    print()\n",
    "    current = current.left"
   ]
  },
  {
   "cell_type": "code",
   "execution_count": null,
   "id": "60df72d1",
   "metadata": {},
   "outputs": [],
   "source": []
  }
 ],
 "metadata": {
  "kernelspec": {
   "display_name": "Python 3",
   "language": "python",
   "name": "python3"
  },
  "language_info": {
   "codemirror_mode": {
    "name": "ipython",
    "version": 3
   },
   "file_extension": ".py",
   "mimetype": "text/x-python",
   "name": "python",
   "nbconvert_exporter": "python",
   "pygments_lexer": "ipython3",
   "version": "3.8.8"
  }
 },
 "nbformat": 4,
 "nbformat_minor": 5
}
