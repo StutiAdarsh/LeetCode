{
 "cells": [
  {
   "cell_type": "code",
   "execution_count": 1,
   "id": "8ae2335d",
   "metadata": {},
   "outputs": [],
   "source": [
    "# Definition for a Node.\n",
    "class Node(object):\n",
    "    def __init__(self, val=None, children=None):\n",
    "        self.val = val\n",
    "        self.children = children\n",
    "\n",
    "class Solution(object):\n",
    "    def maxDepth(self, root):\n",
    "        \"\"\"\n",
    "        :type root: Node\n",
    "        :rtype: int\n",
    "        \"\"\"\n",
    "        if not root:\n",
    "            return 0\n",
    "        elif not root.children:\n",
    "            return 1\n",
    "        else:\n",
    "            height = []\n",
    "            for child in root.children:\n",
    "                height.append(self.maxDepth(child))\n",
    "            return max(height)+1\n",
    "        \n",
    "#Time: O(N) - visits each node exactly once in a bottom-up DFS manner.\n",
    "#Space: O(N) -  where N is the number of nodes in the tree. This space is used to store the call stack during recursive calls \n",
    "#and the height list to store the depths of children nodes."
   ]
  },
  {
   "cell_type": "code",
   "execution_count": 4,
   "id": "173267a7",
   "metadata": {},
   "outputs": [
    {
     "name": "stdout",
     "output_type": "stream",
     "text": [
      "Result - max depth is:  3\n"
     ]
    }
   ],
   "source": [
    "root = Node(1, [\n",
    "    Node(3, [\n",
    "        Node(5),\n",
    "        Node(6)\n",
    "    ]),\n",
    "    Node(2),\n",
    "    Node(4)\n",
    "])\n",
    "\n",
    "sol = Solution()\n",
    "\n",
    "print(\"Result - max depth is: \", sol.maxDepth(root))"
   ]
  },
  {
   "cell_type": "code",
   "execution_count": null,
   "id": "615d5659",
   "metadata": {},
   "outputs": [],
   "source": []
  }
 ],
 "metadata": {
  "kernelspec": {
   "display_name": "Python 3",
   "language": "python",
   "name": "python3"
  },
  "language_info": {
   "codemirror_mode": {
    "name": "ipython",
    "version": 3
   },
   "file_extension": ".py",
   "mimetype": "text/x-python",
   "name": "python",
   "nbconvert_exporter": "python",
   "pygments_lexer": "ipython3",
   "version": "3.8.8"
  }
 },
 "nbformat": 4,
 "nbformat_minor": 5
}
