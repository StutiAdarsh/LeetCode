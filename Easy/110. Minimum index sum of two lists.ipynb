{
 "cells": [
  {
   "cell_type": "code",
   "execution_count": 1,
   "id": "f32c5080",
   "metadata": {},
   "outputs": [],
   "source": [
    "class Solution(object):\n",
    "    def findRestaurant(self, list1, list2):\n",
    "        \"\"\"\n",
    "        :type list1: List[str]\n",
    "        :type list2: List[str]\n",
    "        :rtype: List[str]\n",
    "        \"\"\"\n",
    "        dict1, dict2 = {}, {}\n",
    "        for id, val in enumerate(list1):\n",
    "            dict1[val] = id\n",
    "        \n",
    "        for id, val in enumerate(list2):\n",
    "            if val in dict1:\n",
    "                dict2[val] = id+dict1[val]\n",
    "\n",
    "        return [k for k, v in dict2.items() if v == min(dict2.values())]\n",
    "    \n",
    "#Time: O(N + M) to iterate over n list1 and m list2 elements respectively\n",
    "#Space: O(N * X) - N is lenght of the maximum size word, X is the average string length of the resultant list"
   ]
  },
  {
   "cell_type": "code",
   "execution_count": 2,
   "id": "9984513c",
   "metadata": {},
   "outputs": [
    {
     "name": "stdout",
     "output_type": "stream",
     "text": [
      "['Shogun']\n"
     ]
    }
   ],
   "source": [
    "# Example usage:\n",
    "sol = Solution()\n",
    "list1 = [\"Shogun\", \"Tapioca Express\", \"Burger King\", \"KFC\"]\n",
    "list2 = [\"KFC\", \"Shogun\", \"Burger King\"]\n",
    "print(sol.findRestaurant(list1, list2))  # Output: ['KFC', 'Shogun']"
   ]
  },
  {
   "cell_type": "code",
   "execution_count": null,
   "id": "20179c5f",
   "metadata": {},
   "outputs": [],
   "source": []
  }
 ],
 "metadata": {
  "kernelspec": {
   "display_name": "Python 3",
   "language": "python",
   "name": "python3"
  },
  "language_info": {
   "codemirror_mode": {
    "name": "ipython",
    "version": 3
   },
   "file_extension": ".py",
   "mimetype": "text/x-python",
   "name": "python",
   "nbconvert_exporter": "python",
   "pygments_lexer": "ipython3",
   "version": "3.8.8"
  }
 },
 "nbformat": 4,
 "nbformat_minor": 5
}
