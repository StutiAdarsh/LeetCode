{
 "cells": [
  {
   "cell_type": "code",
   "execution_count": 2,
   "id": "6cab575d",
   "metadata": {},
   "outputs": [],
   "source": [
    "class Solution(object):\n",
    "    def restoreString(self, s, indices):\n",
    "        \"\"\"\n",
    "        :type s: str\n",
    "        :type indices: List[int]\n",
    "        :rtype: str\n",
    "        \"\"\"\n",
    "        shuffledStr = [0] * len(s)\n",
    "        for i in range(len(s)):\n",
    "            shuffledStr[indices[i]] = s[i]\n",
    "        return ''.join(shuffledStr)\n",
    "    \n",
    "#Time: O(N) for n elements in array\n",
    "#Space: O(N) to store result shuffled string of length N"
   ]
  },
  {
   "cell_type": "code",
   "execution_count": 3,
   "id": "dea130d9",
   "metadata": {},
   "outputs": [
    {
     "name": "stdout",
     "output_type": "stream",
     "text": [
      "Suffled string:  leetcode\n"
     ]
    }
   ],
   "source": [
    "sol = Solution()\n",
    "print(\"Suffled string: \", sol.restoreString(s = \"codeleet\", indices = [4,5,6,7,0,2,1,3]))"
   ]
  },
  {
   "cell_type": "code",
   "execution_count": null,
   "id": "246dc13e",
   "metadata": {},
   "outputs": [],
   "source": []
  }
 ],
 "metadata": {
  "kernelspec": {
   "display_name": "Python 3",
   "language": "python",
   "name": "python3"
  },
  "language_info": {
   "codemirror_mode": {
    "name": "ipython",
    "version": 3
   },
   "file_extension": ".py",
   "mimetype": "text/x-python",
   "name": "python",
   "nbconvert_exporter": "python",
   "pygments_lexer": "ipython3",
   "version": "3.8.8"
  }
 },
 "nbformat": 4,
 "nbformat_minor": 5
}
